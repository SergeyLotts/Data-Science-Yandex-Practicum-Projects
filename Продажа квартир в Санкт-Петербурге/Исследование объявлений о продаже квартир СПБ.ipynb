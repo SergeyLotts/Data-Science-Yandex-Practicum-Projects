{
 "cells": [
  {
   "cell_type": "markdown",
   "metadata": {},
   "source": [
    "# Исследование объявлений о продаже квартир\n",
    "\n",
    "В вашем распоряжении данные сервиса Яндекс.Недвижимость — архив объявлений о продаже квартир в Санкт-Петербурге и соседних населённых пунктов за несколько лет. Нужно научиться определять рыночную стоимость объектов недвижимости. Ваша задача — установить параметры. Это позволит построить автоматизированную систему: она отследит аномалии и мошенническую деятельность. \n",
    "\n",
    "По каждой квартире на продажу доступны два вида данных. Первые вписаны пользователем, вторые — получены автоматически на основе картографических данных. Например, расстояние до центра, аэропорта, ближайшего парка и водоёма. "
   ]
  },
  {
   "cell_type": "code",
   "execution_count": 1,
   "metadata": {},
   "outputs": [],
   "source": [
    "import pandas as pd\n",
    "import matplotlib.pyplot as plt"
   ]
  },
  {
   "cell_type": "code",
   "execution_count": 2,
   "metadata": {},
   "outputs": [
    {
     "name": "stdout",
     "output_type": "stream",
     "text": [
      "<class 'pandas.core.frame.DataFrame'>\n",
      "RangeIndex: 23699 entries, 0 to 23698\n",
      "Data columns (total 22 columns):\n",
      " #   Column                Non-Null Count  Dtype  \n",
      "---  ------                --------------  -----  \n",
      " 0   total_images          23699 non-null  int64  \n",
      " 1   last_price            23699 non-null  float64\n",
      " 2   total_area            23699 non-null  float64\n",
      " 3   first_day_exposition  23699 non-null  object \n",
      " 4   rooms                 23699 non-null  int64  \n",
      " 5   ceiling_height        14504 non-null  float64\n",
      " 6   floors_total          23613 non-null  float64\n",
      " 7   living_area           21796 non-null  float64\n",
      " 8   floor                 23699 non-null  int64  \n",
      " 9   is_apartment          2775 non-null   object \n",
      " 10  studio                23699 non-null  bool   \n",
      " 11  open_plan             23699 non-null  bool   \n",
      " 12  kitchen_area          21421 non-null  float64\n",
      " 13  balcony               12180 non-null  float64\n",
      " 14  locality_name         23650 non-null  object \n",
      " 15  airports_nearest      18157 non-null  float64\n",
      " 16  cityCenters_nearest   18180 non-null  float64\n",
      " 17  parks_around3000      18181 non-null  float64\n",
      " 18  parks_nearest         8079 non-null   float64\n",
      " 19  ponds_around3000      18181 non-null  float64\n",
      " 20  ponds_nearest         9110 non-null   float64\n",
      " 21  days_exposition       20518 non-null  float64\n",
      "dtypes: bool(2), float64(14), int64(3), object(3)\n",
      "memory usage: 3.7+ MB\n"
     ]
    },
    {
     "data": {
      "text/html": [
       "<div>\n",
       "<style scoped>\n",
       "    .dataframe tbody tr th:only-of-type {\n",
       "        vertical-align: middle;\n",
       "    }\n",
       "\n",
       "    .dataframe tbody tr th {\n",
       "        vertical-align: top;\n",
       "    }\n",
       "\n",
       "    .dataframe thead th {\n",
       "        text-align: right;\n",
       "    }\n",
       "</style>\n",
       "<table border=\"1\" class=\"dataframe\">\n",
       "  <thead>\n",
       "    <tr style=\"text-align: right;\">\n",
       "      <th></th>\n",
       "      <th>total_images</th>\n",
       "      <th>last_price</th>\n",
       "      <th>total_area</th>\n",
       "      <th>first_day_exposition</th>\n",
       "      <th>rooms</th>\n",
       "      <th>ceiling_height</th>\n",
       "      <th>floors_total</th>\n",
       "      <th>living_area</th>\n",
       "      <th>floor</th>\n",
       "      <th>is_apartment</th>\n",
       "      <th>...</th>\n",
       "      <th>kitchen_area</th>\n",
       "      <th>balcony</th>\n",
       "      <th>locality_name</th>\n",
       "      <th>airports_nearest</th>\n",
       "      <th>cityCenters_nearest</th>\n",
       "      <th>parks_around3000</th>\n",
       "      <th>parks_nearest</th>\n",
       "      <th>ponds_around3000</th>\n",
       "      <th>ponds_nearest</th>\n",
       "      <th>days_exposition</th>\n",
       "    </tr>\n",
       "  </thead>\n",
       "  <tbody>\n",
       "    <tr>\n",
       "      <th>0</th>\n",
       "      <td>20</td>\n",
       "      <td>13000000.0</td>\n",
       "      <td>108.0</td>\n",
       "      <td>2019-03-07T00:00:00</td>\n",
       "      <td>3</td>\n",
       "      <td>2.70</td>\n",
       "      <td>16.0</td>\n",
       "      <td>51.0</td>\n",
       "      <td>8</td>\n",
       "      <td>NaN</td>\n",
       "      <td>...</td>\n",
       "      <td>25.0</td>\n",
       "      <td>NaN</td>\n",
       "      <td>Санкт-Петербург</td>\n",
       "      <td>18863.0</td>\n",
       "      <td>16028.0</td>\n",
       "      <td>1.0</td>\n",
       "      <td>482.0</td>\n",
       "      <td>2.0</td>\n",
       "      <td>755.0</td>\n",
       "      <td>NaN</td>\n",
       "    </tr>\n",
       "    <tr>\n",
       "      <th>1</th>\n",
       "      <td>7</td>\n",
       "      <td>3350000.0</td>\n",
       "      <td>40.4</td>\n",
       "      <td>2018-12-04T00:00:00</td>\n",
       "      <td>1</td>\n",
       "      <td>NaN</td>\n",
       "      <td>11.0</td>\n",
       "      <td>18.6</td>\n",
       "      <td>1</td>\n",
       "      <td>NaN</td>\n",
       "      <td>...</td>\n",
       "      <td>11.0</td>\n",
       "      <td>2.0</td>\n",
       "      <td>посёлок Шушары</td>\n",
       "      <td>12817.0</td>\n",
       "      <td>18603.0</td>\n",
       "      <td>0.0</td>\n",
       "      <td>NaN</td>\n",
       "      <td>0.0</td>\n",
       "      <td>NaN</td>\n",
       "      <td>81.0</td>\n",
       "    </tr>\n",
       "    <tr>\n",
       "      <th>2</th>\n",
       "      <td>10</td>\n",
       "      <td>5196000.0</td>\n",
       "      <td>56.0</td>\n",
       "      <td>2015-08-20T00:00:00</td>\n",
       "      <td>2</td>\n",
       "      <td>NaN</td>\n",
       "      <td>5.0</td>\n",
       "      <td>34.3</td>\n",
       "      <td>4</td>\n",
       "      <td>NaN</td>\n",
       "      <td>...</td>\n",
       "      <td>8.3</td>\n",
       "      <td>0.0</td>\n",
       "      <td>Санкт-Петербург</td>\n",
       "      <td>21741.0</td>\n",
       "      <td>13933.0</td>\n",
       "      <td>1.0</td>\n",
       "      <td>90.0</td>\n",
       "      <td>2.0</td>\n",
       "      <td>574.0</td>\n",
       "      <td>558.0</td>\n",
       "    </tr>\n",
       "    <tr>\n",
       "      <th>3</th>\n",
       "      <td>0</td>\n",
       "      <td>64900000.0</td>\n",
       "      <td>159.0</td>\n",
       "      <td>2015-07-24T00:00:00</td>\n",
       "      <td>3</td>\n",
       "      <td>NaN</td>\n",
       "      <td>14.0</td>\n",
       "      <td>NaN</td>\n",
       "      <td>9</td>\n",
       "      <td>NaN</td>\n",
       "      <td>...</td>\n",
       "      <td>NaN</td>\n",
       "      <td>0.0</td>\n",
       "      <td>Санкт-Петербург</td>\n",
       "      <td>28098.0</td>\n",
       "      <td>6800.0</td>\n",
       "      <td>2.0</td>\n",
       "      <td>84.0</td>\n",
       "      <td>3.0</td>\n",
       "      <td>234.0</td>\n",
       "      <td>424.0</td>\n",
       "    </tr>\n",
       "    <tr>\n",
       "      <th>4</th>\n",
       "      <td>2</td>\n",
       "      <td>10000000.0</td>\n",
       "      <td>100.0</td>\n",
       "      <td>2018-06-19T00:00:00</td>\n",
       "      <td>2</td>\n",
       "      <td>3.03</td>\n",
       "      <td>14.0</td>\n",
       "      <td>32.0</td>\n",
       "      <td>13</td>\n",
       "      <td>NaN</td>\n",
       "      <td>...</td>\n",
       "      <td>41.0</td>\n",
       "      <td>NaN</td>\n",
       "      <td>Санкт-Петербург</td>\n",
       "      <td>31856.0</td>\n",
       "      <td>8098.0</td>\n",
       "      <td>2.0</td>\n",
       "      <td>112.0</td>\n",
       "      <td>1.0</td>\n",
       "      <td>48.0</td>\n",
       "      <td>121.0</td>\n",
       "    </tr>\n",
       "  </tbody>\n",
       "</table>\n",
       "<p>5 rows × 22 columns</p>\n",
       "</div>"
      ],
      "text/plain": [
       "   total_images  last_price  total_area first_day_exposition  rooms  \\\n",
       "0            20  13000000.0       108.0  2019-03-07T00:00:00      3   \n",
       "1             7   3350000.0        40.4  2018-12-04T00:00:00      1   \n",
       "2            10   5196000.0        56.0  2015-08-20T00:00:00      2   \n",
       "3             0  64900000.0       159.0  2015-07-24T00:00:00      3   \n",
       "4             2  10000000.0       100.0  2018-06-19T00:00:00      2   \n",
       "\n",
       "   ceiling_height  floors_total  living_area  floor is_apartment  ...  \\\n",
       "0            2.70          16.0         51.0      8          NaN  ...   \n",
       "1             NaN          11.0         18.6      1          NaN  ...   \n",
       "2             NaN           5.0         34.3      4          NaN  ...   \n",
       "3             NaN          14.0          NaN      9          NaN  ...   \n",
       "4            3.03          14.0         32.0     13          NaN  ...   \n",
       "\n",
       "   kitchen_area  balcony    locality_name  airports_nearest  \\\n",
       "0          25.0      NaN  Санкт-Петербург           18863.0   \n",
       "1          11.0      2.0   посёлок Шушары           12817.0   \n",
       "2           8.3      0.0  Санкт-Петербург           21741.0   \n",
       "3           NaN      0.0  Санкт-Петербург           28098.0   \n",
       "4          41.0      NaN  Санкт-Петербург           31856.0   \n",
       "\n",
       "  cityCenters_nearest  parks_around3000  parks_nearest  ponds_around3000  \\\n",
       "0             16028.0               1.0          482.0               2.0   \n",
       "1             18603.0               0.0            NaN               0.0   \n",
       "2             13933.0               1.0           90.0               2.0   \n",
       "3              6800.0               2.0           84.0               3.0   \n",
       "4              8098.0               2.0          112.0               1.0   \n",
       "\n",
       "   ponds_nearest  days_exposition  \n",
       "0          755.0              NaN  \n",
       "1            NaN             81.0  \n",
       "2          574.0            558.0  \n",
       "3          234.0            424.0  \n",
       "4           48.0            121.0  \n",
       "\n",
       "[5 rows x 22 columns]"
      ]
     },
     "execution_count": 2,
     "metadata": {},
     "output_type": "execute_result"
    }
   ],
   "source": [
    "data = pd.read_csv('/datasets/real_estate_data.csv', sep='\\t')\n",
    "data.info()\n",
    "data.head()"
   ]
  },
  {
   "cell_type": "code",
   "execution_count": 3,
   "metadata": {},
   "outputs": [],
   "source": [
    "# Пропущенные значения бары\n",
    "\n",
    "def pass_value_barh(df):\n",
    "    try:\n",
    "        (\n",
    "            (df.isna().mean()*100)\n",
    "            .to_frame()\n",
    "            .rename(columns = {0:'space'})\n",
    "            .query('space > 0')\n",
    "            .sort_values(by = 'space', ascending = True)\n",
    "            .plot(kind= 'barh', figsize=(19,6), rot = -5, legend = False, fontsize = 16)\n",
    "            .set_title('Пример' + \"\\n\", fontsize = 22, color = 'SteelBlue')    \n",
    "        );    \n",
    "    except:\n",
    "        print('пропусков не осталось :) ')"
   ]
  },
  {
   "cell_type": "code",
   "execution_count": 4,
   "metadata": {},
   "outputs": [
    {
     "data": {
      "image/png": "[encoded data removed]",
      "text/plain": [
       "<Figure size 1368x432 with 1 Axes>"
      ]
     },
     "metadata": {
      "needs_background": "light"
     },
     "output_type": "display_data"
    }
   ],
   "source": [
    "pass_value_barh(data)"
   ]
  },
  {
   "cell_type": "markdown",
   "metadata": {},
   "source": [
    "Первый осмотр.\n",
    "- Столбец first_day_exposition тип object - должен быть datetime\n",
    "- Столбец ceiling_height много пропущенных значений\n",
    "- Столбец living_area так же присутсвуют NaN\n",
    "- Столбец is_apartment тип object - замена на boll\n",
    "- Столбец kitchen_area - так же присутсвуют NaN\n",
    "- Столбец balcony - так же присутсвуют NaN\n",
    "- Столбец parks_nearest - есть NaN\n",
    "- Столбцы parks_around3000, ponds_around3000, days_exposition - изменить тип на int. Пропущенные значения\n"
   ]
  },
  {
   "cell_type": "markdown",
   "metadata": {},
   "source": [
    "### Предобработка данных"
   ]
  },
  {
   "cell_type": "code",
   "execution_count": 5,
   "metadata": {},
   "outputs": [
    {
     "data": {
      "text/plain": [
       "Index(['total_images', 'last_price', 'total_area', 'first_day_exposition',\n",
       "       'rooms', 'ceiling_height', 'floors_total', 'living_area', 'floor',\n",
       "       'is_apartment', 'studio', 'open_plan', 'kitchen_area', 'balcony',\n",
       "       'locality_name', 'airports_nearest', 'cityCenters_nearest',\n",
       "       'parks_around3000', 'parks_nearest', 'ponds_around3000',\n",
       "       'ponds_nearest', 'days_exposition'],\n",
       "      dtype='object')"
      ]
     },
     "metadata": {},
     "output_type": "display_data"
    },
    {
     "data": {
      "text/plain": [
       "0.0    9071\n",
       "1.0    5717\n",
       "2.0    1892\n",
       "3.0    1501\n",
       "Name: ponds_around3000, dtype: int64"
      ]
     },
     "execution_count": 5,
     "metadata": {},
     "output_type": "execute_result"
    }
   ],
   "source": [
    "#посмотрим значения в столбцах на предмет количества совпадений всех уникальных значений.\n",
    "display(data.columns)\n",
    "data['total_images'].value_counts()\n",
    "data['ceiling_height'].value_counts()\n",
    "data['floor'].value_counts()\n",
    "data['is_apartment'].value_counts()\n",
    "data['total_area'].value_counts()\n",
    "data['rooms'].value_counts()\n",
    "data['airports_nearest'].value_counts()\n",
    "data['cityCenters_nearest'].value_counts()\n",
    "data['parks_around3000'].value_counts()\n",
    "data['parks_nearest'].value_counts()\n",
    "data['ponds_around3000'].value_counts()\n",
    "\n",
    "\n",
    "\n",
    "\n"
   ]
  },
  {
   "cell_type": "code",
   "execution_count": 6,
   "metadata": {},
   "outputs": [
    {
     "data": {
      "image/png": "[encoded data removed]",
      "text/plain": [
       "<Figure size 432x288 with 1 Axes>"
      ]
     },
     "metadata": {
      "needs_background": "light"
     },
     "output_type": "display_data"
    }
   ],
   "source": [
    "#изменим на тип int, так цены удобнее смотреть\n",
    "data['last_price'] = data['last_price'].astype('int')\n",
    "data['last_price']\n",
    "\n",
    "# время не указано, поэтому переведем столбец в формат даты без времени\n",
    "data['first_day_exposition'] = pd.to_datetime(data['first_day_exposition'], format = '%Y-%m-%d')\n",
    "\n",
    "#применим метод plot() для столбца data['ceiling_height'], оценим значения в нем\n",
    "#имеются большие значения судя из гистограммы\n",
    "#медиана от среднего не сильно отличается(скорей всего из-за выбросов по всей выборке)\n",
    "\n",
    "data['ceiling_height'].sort_values().plot(y = 'ceiling_height', kind = 'hist', bins = 30, range=(2,5))\n",
    "data['ceiling_height'].describe()\n",
    "data[data['ceiling_height'] > 4].sort_values('ceiling_height').head(20)\n",
    "# можно заменить все пустые значения на медиану 2,65\n",
    "#data['ceiling_height'] = data['ceiling_height'].fillna('2.65')\n",
    "\n",
    "# в floors_total- не вижу связи пропущенных значений, пока не трогаю столбец\n",
    "data[data['floors_total'].isna()]\n",
    "\n",
    "#столбец апартаменты очень странный, похоже начали его вести гораздо позже,изменю пропуски на False, \n",
    "data['is_apartment'] = data['is_apartment'].fillna(False)\n",
    "\n",
    "#living_area есть пропущенные значения, возможно нужно будет убрать знаки посл запятой \n",
    "#можно посчитать средний процент жилой площади от всей площади по всей выборке\n",
    "data['living_area'].value_counts()\n",
    "data['living_area'].describe()\n",
    "\n",
    "#заменим пропуски в balcony на 0 и поменяем тип данных на int\n",
    "data['balcony'].value_counts()\n",
    "data['balcony'] = data['balcony'].fillna(0)\n",
    "data['balcony'] = data['balcony'].astype('int')\n",
    "\n",
    "#не понимаю причину пропусков пока не трогаю столбец\n",
    "data['locality_name'].value_counts()\n",
    "\n",
    "#заменим пропуски в days_exposition и заменим тип данных\n",
    "data['days_exposition'] = data['days_exposition'].fillna(0).astype('int')\n",
    "\n"
   ]
  },
  {
   "cell_type": "code",
   "execution_count": 7,
   "metadata": {
    "scrolled": true
   },
   "outputs": [
    {
     "data": {
      "text/plain": [
       "array(['Санкт-Петербург', 'Шушары', 'Янино-1', 'Парголово', 'Мурино',\n",
       "       'Ломоносов', 'Сертолово', 'Петергоф', 'Пушкин', 'Кудрово',\n",
       "       'Коммунар', 'Колпино', 'Красный Бор', 'Гатчина', 'Фёдоровское',\n",
       "       'Выборг', 'Кронштадт', 'Кировск', 'Новое Девяткино',\n",
       "       'Металлострой', 'Лебяжье', 'Сиверский', 'Молодцово',\n",
       "       'Кузьмоловский', 'Новая Ропша', 'Павловск', 'Пикколово',\n",
       "       'Всеволожск', 'Волхов', 'Кингисепп', 'Приозерск', 'Сестрорецк',\n",
       "       'Куттузи', 'Аннино', 'Ефимовский', 'Плодовое', 'Заклинье',\n",
       "       'Торковичи', 'Первомайское', 'Красное Село', 'Понтонный',\n",
       "       'Сясьстрой', 'Старая', 'Лесколово', 'Новый Свет', 'Сланцы',\n",
       "       'Путилово', 'Ивангород', 'Шлиссельбург', 'Никольское',\n",
       "       'Зеленогорск', 'Сосновый Бор', 'Оржицы', 'Кальтино', 'Романовка',\n",
       "       'Бугры', 'Рощино', 'Кириши', 'Луга', 'Волосово', 'Отрадное',\n",
       "       'Павлово', 'Оредеж', 'Копорье', 'Молодёжное', 'Тихвин', 'Победа',\n",
       "       'Нурма', 'Синявино', 'Тосно', 'Стрельна', 'Бокситогорск',\n",
       "       'Александровская', 'Лопухинка', 'Пикалёво', 'Терволово',\n",
       "       'Советский', 'Подпорожье', 'Петровское', 'Токсово', 'Сельцо',\n",
       "       'Вырица', 'Кипень', 'Келози', 'Вартемяги', 'Тельмана',\n",
       "       'Севастьяново', 'Большая Ижора', 'Агалатово', 'Новогорелово',\n",
       "       'Лесогорский', 'Лаголово', 'Цвелодубово', 'Рахья', 'Белогорка',\n",
       "       'Заводской', 'Новоселье', 'Большие Колпаны', 'Горбунки', 'Батово',\n",
       "       'Заневка', 'Иссад', 'Приморск', 'Мистолово', 'Новая Ладога',\n",
       "       'Зимитицы', 'Барышево', 'Разметелево', 'Свердлова', 'Пеники',\n",
       "       'Рябово', 'Пудомяги', 'Корнево', 'Низино', 'Бегуницы', 'Поляны',\n",
       "       'Мга', 'Елизаветино', 'Кузнечное', 'Колтуши', 'Запорожское',\n",
       "       'Гостилицы', 'Малое Карлино', 'Мичуринское', 'Морозова',\n",
       "       'Песочный', 'Сосново', 'Аро', 'Ильичёво', 'Тайцы', 'Малое Верево',\n",
       "       'Извара', 'Вещево', 'Паша', 'Калитино', 'Ульяновка', 'Чудской Бор',\n",
       "       'Дубровка', 'Мины', 'Войсковицы', 'Коркино', 'Ропша',\n",
       "       'Приладожский', 'Щеглово', 'Гаврилово', 'Лодейное Поле',\n",
       "       'Рабитицы', 'Никольский', 'Кузьмолово', 'Малые Колпаны',\n",
       "       'Петро-Славянка', 'Назия', 'Репино', 'Углово', 'Старая Малукса',\n",
       "       'Меньково', 'Старые Бегуницы', 'Сапёрный', 'Семрино', 'Глажево',\n",
       "       'Кобринское', 'Гарболово', 'Юкки', 'Приветнинское', 'Мануйлово',\n",
       "       'Пчева', 'Цвылёво', 'Мельниково', 'Пудость', 'Усть-Луга',\n",
       "       'Светогорск', 'Любань', 'Селезнёво', 'Каменногорск', 'Кривко',\n",
       "       'Глебычево', 'Парицы', 'Жилпосёлок', 'Войскорово', 'Стеклянный',\n",
       "       'Важины', 'Мыза-Ивановка', 'Русско-Высоцкое', 'Форносово',\n",
       "       'Старая Ладога', 'Житково', 'Виллози', 'Лампово', 'Шпаньково',\n",
       "       'Лаврики', 'Сумино', 'Возрождение', 'Старосиверская', 'Кикерино',\n",
       "       'Старое Хинколово', 'Пригородный', 'Торфяное', 'Будогощь',\n",
       "       'Суходолье', 'Красная Долина', 'Хапо-Ое', 'Дружная Горка',\n",
       "       'Лисий Нос', 'Яльгелево', 'Рождествено', 'Старополье', 'Левашово',\n",
       "       'Сяськелево', 'Камышовка', 'Лесная Поляна', 'Хязельки',\n",
       "       'Жилгородок', 'Ялгино', 'Новый Учхоз', 'Гончарово', 'Почап',\n",
       "       'Сапёрное', 'Платформа', 'Каложицы', 'Фалилеево', 'Пельгора',\n",
       "       'Торошковичи', 'Белоостров', 'Алексеевка', 'Серебрянский',\n",
       "       'Лукаши', 'Тарасово', 'Кингисеппский', 'Ушаки', 'Котлы', 'Сижно',\n",
       "       'Торосово', 'Форт Красная Горка', 'Новолисино', 'Громово',\n",
       "       'Глинка', 'Старая Пустошь', 'Коммунары', 'Починок', 'Вознесенье',\n",
       "       'Разбегаево', 'Гладкое', 'Тёсово-4', 'Бор', 'Коробицыно',\n",
       "       'Большая Вруда', 'Курковицы', 'Кобралово', 'Суоранда',\n",
       "       'Кондратьево', 'Счастье', 'Реброво', 'Тойворово', 'Семиозерье',\n",
       "       'Лесное', 'Совхозный', 'Ленинское', 'Суйда', 'Нижние Осельки',\n",
       "       'Свирь', 'Перово', 'Высоцк', 'Шум', 'Котельский', 'Лужайка',\n",
       "       'Большая Пустомержа', 'Красносельское', 'Вахнова Кара', 'Пижма',\n",
       "       'Кивеннапа Север', 'Ромашки', 'Каськово', 'Куровицы', 'Плоское',\n",
       "       'Кирпичное', 'Ям-Тесово', 'Раздолье', 'Терпилицы', 'Шугозеро',\n",
       "       'Ваганово', 'Пушное', 'Садко', 'Усть-Ижора', 'Выскатка',\n",
       "       'Свирьстрой', 'Кисельня', 'Трубников Бор', 'Высокоключевой',\n",
       "       'Пансионат Зелёный Бор', 'Ненимяки', 'Снегирёвка', 'Рапполово',\n",
       "       'Пустынка', 'Большой Сабск', 'Русско', 'Лупполово',\n",
       "       'Большое Рейзино', 'Малая Романовка', 'Дружноселье', 'Пчевжа',\n",
       "       'Володарское', 'Нижняя', 'Тихковицы', 'Борисова Грива',\n",
       "       'Дзержинского'], dtype=object)"
      ]
     },
     "execution_count": 7,
     "metadata": {},
     "output_type": "execute_result"
    }
   ],
   "source": [
    "# вроде разобрался с этим столбцом, сделал по-другому через функцию, без поселков и деревень. \n",
    "# Как мне кажется вид лучше и понятнее\n",
    "\n",
    "# привел столбец locality_name к одному виду\n",
    "\n",
    "data['locality_name'].value_counts()\n",
    "data['locality_name'].unique()\n",
    "\n",
    "bad_locality_name = data[data['locality_name'].isna()]\n",
    "\n",
    "bad_index = bad_locality_name.index\n",
    "\n",
    "data.drop(bad_index, inplace=True)\n",
    "\n",
    "def short_name(row):\n",
    "    split_name = row.split()\n",
    "    new_name = []\n",
    "    for word in split_name:\n",
    "        if word[0].isupper():\n",
    "            new_name.append(word)\n",
    "    new_name = ' '.join(word for word in new_name)\n",
    "    return new_name\n",
    "\n",
    "    \n",
    "data['short_locality_name'] = data['locality_name'].apply(short_name)\n",
    "\n",
    "short_locality_names = data['short_locality_name'].unique()\n",
    "short_locality_names\n"
   ]
  },
  {
   "cell_type": "code",
   "execution_count": 8,
   "metadata": {},
   "outputs": [
    {
     "data": {
      "text/html": [
       "<div>\n",
       "<style scoped>\n",
       "    .dataframe tbody tr th:only-of-type {\n",
       "        vertical-align: middle;\n",
       "    }\n",
       "\n",
       "    .dataframe tbody tr th {\n",
       "        vertical-align: top;\n",
       "    }\n",
       "\n",
       "    .dataframe thead th {\n",
       "        text-align: right;\n",
       "    }\n",
       "</style>\n",
       "<table border=\"1\" class=\"dataframe\">\n",
       "  <thead>\n",
       "    <tr style=\"text-align: right;\">\n",
       "      <th></th>\n",
       "      <th>median</th>\n",
       "      <th>count</th>\n",
       "    </tr>\n",
       "    <tr>\n",
       "      <th>floors_total</th>\n",
       "      <th></th>\n",
       "      <th></th>\n",
       "    </tr>\n",
       "  </thead>\n",
       "  <tbody>\n",
       "    <tr>\n",
       "      <th>1.0</th>\n",
       "      <td>2.80</td>\n",
       "      <td>10</td>\n",
       "    </tr>\n",
       "    <tr>\n",
       "      <th>2.0</th>\n",
       "      <td>2.70</td>\n",
       "      <td>213</td>\n",
       "    </tr>\n",
       "    <tr>\n",
       "      <th>3.0</th>\n",
       "      <td>2.80</td>\n",
       "      <td>399</td>\n",
       "    </tr>\n",
       "    <tr>\n",
       "      <th>4.0</th>\n",
       "      <td>3.00</td>\n",
       "      <td>787</td>\n",
       "    </tr>\n",
       "    <tr>\n",
       "      <th>5.0</th>\n",
       "      <td>2.55</td>\n",
       "      <td>3662</td>\n",
       "    </tr>\n",
       "  </tbody>\n",
       "</table>\n",
       "</div>"
      ],
      "text/plain": [
       "              median  count\n",
       "floors_total               \n",
       "1.0             2.80     10\n",
       "2.0             2.70    213\n",
       "3.0             2.80    399\n",
       "4.0             3.00    787\n",
       "5.0             2.55   3662"
      ]
     },
     "execution_count": 8,
     "metadata": {},
     "output_type": "execute_result"
    }
   ],
   "source": [
    "#высота потолков\n",
    "ceiling_medians = data.pivot_table(index='floors_total', values='ceiling_height', aggfunc=['median', 'count'])\n",
    "ceiling_medians.columns = ['median', 'count']\n",
    "ceiling_medians.head()"
   ]
  },
  {
   "cell_type": "code",
   "execution_count": 9,
   "metadata": {},
   "outputs": [],
   "source": [
    "#заменим отсутствующие значения высоты потолков на медиану\n",
    "for floor in ceiling_medians.index:\n",
    "    data.loc[(data['floors_total'].isna()) | \n",
    "             ((data['floors_total'] == floor) & (ceiling_medians.loc[floor, 'count'] == 0)), \n",
    "             'ceiling_height'] = data['ceiling_height'].describe()[5]\n",
    "    \n",
    "for floor in ceiling_medians.index:\n",
    "    data.loc[(data['ceiling_height'].isna()) & \n",
    "             (data['floors_total'] == floor), \n",
    "             'ceiling_height'] = ceiling_medians.loc[floor, 'median']"
   ]
  },
  {
   "cell_type": "code",
   "execution_count": 10,
   "metadata": {},
   "outputs": [
    {
     "data": {
      "text/html": [
       "<style  type=\"text/css\" >\n",
       "</style><table id=\"T_9e479_\" ><thead>    <tr>        <th class=\"blank level0\" ></th>        <th class=\"col_heading level0 col0\" >rooms</th>        <th class=\"col_heading level0 col1\" >total_area</th>        <th class=\"col_heading level0 col2\" >ceiling_height</th>        <th class=\"col_heading level0 col3\" >days_exposition</th>        <th class=\"col_heading level0 col4\" >last_price</th>        <th class=\"col_heading level0 col5\" >living_area</th>        <th class=\"col_heading level0 col6\" >kitchen_area</th>        <th class=\"col_heading level0 col7\" >floor</th>        <th class=\"col_heading level0 col8\" >floors_total</th>    </tr></thead><tbody>\n",
       "                <tr>\n",
       "                        <th id=\"T_9e479_level0_row0\" class=\"row_heading level0 row0\" >count</th>\n",
       "                        <td id=\"T_9e479_row0_col0\" class=\"data row0 col0\" >23,650.00</td>\n",
       "                        <td id=\"T_9e479_row0_col1\" class=\"data row0 col1\" >23,650.00</td>\n",
       "                        <td id=\"T_9e479_row0_col2\" class=\"data row0 col2\" >23,650.00</td>\n",
       "                        <td id=\"T_9e479_row0_col3\" class=\"data row0 col3\" >23,650.00</td>\n",
       "                        <td id=\"T_9e479_row0_col4\" class=\"data row0 col4\" >23,650.00</td>\n",
       "                        <td id=\"T_9e479_row0_col5\" class=\"data row0 col5\" >21,752.00</td>\n",
       "                        <td id=\"T_9e479_row0_col6\" class=\"data row0 col6\" >21,381.00</td>\n",
       "                        <td id=\"T_9e479_row0_col7\" class=\"data row0 col7\" >23,650.00</td>\n",
       "                        <td id=\"T_9e479_row0_col8\" class=\"data row0 col8\" >23,565.00</td>\n",
       "            </tr>\n",
       "            <tr>\n",
       "                        <th id=\"T_9e479_level0_row1\" class=\"row_heading level0 row1\" >min</th>\n",
       "                        <td id=\"T_9e479_row1_col0\" class=\"data row1 col0\" >0.00</td>\n",
       "                        <td id=\"T_9e479_row1_col1\" class=\"data row1 col1\" >12.00</td>\n",
       "                        <td id=\"T_9e479_row1_col2\" class=\"data row1 col2\" >1.00</td>\n",
       "                        <td id=\"T_9e479_row1_col3\" class=\"data row1 col3\" >0.00</td>\n",
       "                        <td id=\"T_9e479_row1_col4\" class=\"data row1 col4\" >12,190.00</td>\n",
       "                        <td id=\"T_9e479_row1_col5\" class=\"data row1 col5\" >2.00</td>\n",
       "                        <td id=\"T_9e479_row1_col6\" class=\"data row1 col6\" >1.30</td>\n",
       "                        <td id=\"T_9e479_row1_col7\" class=\"data row1 col7\" >1.00</td>\n",
       "                        <td id=\"T_9e479_row1_col8\" class=\"data row1 col8\" >1.00</td>\n",
       "            </tr>\n",
       "            <tr>\n",
       "                        <th id=\"T_9e479_level0_row2\" class=\"row_heading level0 row2\" >max</th>\n",
       "                        <td id=\"T_9e479_row2_col0\" class=\"data row2 col0\" >19.00</td>\n",
       "                        <td id=\"T_9e479_row2_col1\" class=\"data row2 col1\" >900.00</td>\n",
       "                        <td id=\"T_9e479_row2_col2\" class=\"data row2 col2\" >100.00</td>\n",
       "                        <td id=\"T_9e479_row2_col3\" class=\"data row2 col3\" >1,580.00</td>\n",
       "                        <td id=\"T_9e479_row2_col4\" class=\"data row2 col4\" >763,000,000.00</td>\n",
       "                        <td id=\"T_9e479_row2_col5\" class=\"data row2 col5\" >409.70</td>\n",
       "                        <td id=\"T_9e479_row2_col6\" class=\"data row2 col6\" >112.00</td>\n",
       "                        <td id=\"T_9e479_row2_col7\" class=\"data row2 col7\" >33.00</td>\n",
       "                        <td id=\"T_9e479_row2_col8\" class=\"data row2 col8\" >60.00</td>\n",
       "            </tr>\n",
       "    </tbody></table>"
      ],
      "text/plain": [
       "<pandas.io.formats.style.Styler at 0x7f0f10eee7f0>"
      ]
     },
     "execution_count": 10,
     "metadata": {},
     "output_type": "execute_result"
    }
   ],
   "source": [
    "# check\n",
    "# проверим какие аномалии остались таблица ниже\n",
    "# Показатели о кол-ве объявлений в датасете, минимальных и максимальных значениях \n",
    "# в выбранных параметрах о продаже квартир\n",
    "# сырые данные\n",
    "\n",
    "(\n",
    "    data[['rooms', 'total_area', 'ceiling_height', 'days_exposition', 'last_price', 'living_area',  \n",
    "          'kitchen_area', 'floor', 'floors_total']]\n",
    "    .apply (['count', 'min', 'max'])   \n",
    "    .style.format(\"{:,.2f}\")\n",
    ")"
   ]
  },
  {
   "cell_type": "code",
   "execution_count": 11,
   "metadata": {},
   "outputs": [
    {
     "data": {
      "text/plain": [
       "count    23650.000000\n",
       "mean         2.708313\n",
       "std          0.244783\n",
       "min          2.000000\n",
       "25%          2.550000\n",
       "50%          2.650000\n",
       "75%          2.750000\n",
       "max          8.300000\n",
       "Name: ceiling_height, dtype: float64"
      ]
     },
     "execution_count": 11,
     "metadata": {},
     "output_type": "execute_result"
    }
   ],
   "source": [
    "data['ceiling_height'] = data['ceiling_height'].replace(25, 2.5)\n",
    "data['ceiling_height'] = data['ceiling_height'].replace(32, 3.2)\n",
    "data['ceiling_height'].where(~(data.ceiling_height > 10), other=2.65, inplace=True)\n",
    "data['ceiling_height'].where(~(data.ceiling_height < 2), other=2.65, inplace=True)\n",
    "data.ceiling_height.describe()\n",
    "#data.ceiling_height.unique()"
   ]
  },
  {
   "cell_type": "code",
   "execution_count": 12,
   "metadata": {},
   "outputs": [],
   "source": [
    "data['rooms'] = data['rooms'].fillna(0)\n",
    "data['rooms']= data.query('rooms <14')['rooms']\n"
   ]
  },
  {
   "cell_type": "code",
   "execution_count": 13,
   "metadata": {},
   "outputs": [
    {
     "data": {
      "text/html": [
       "<div>\n",
       "<style scoped>\n",
       "    .dataframe tbody tr th:only-of-type {\n",
       "        vertical-align: middle;\n",
       "    }\n",
       "\n",
       "    .dataframe tbody tr th {\n",
       "        vertical-align: top;\n",
       "    }\n",
       "\n",
       "    .dataframe thead th {\n",
       "        text-align: right;\n",
       "    }\n",
       "</style>\n",
       "<table border=\"1\" class=\"dataframe\">\n",
       "  <thead>\n",
       "    <tr style=\"text-align: right;\">\n",
       "      <th></th>\n",
       "      <th>rooms</th>\n",
       "    </tr>\n",
       "  </thead>\n",
       "  <tbody>\n",
       "    <tr>\n",
       "      <th>1.0</th>\n",
       "      <td>8036</td>\n",
       "    </tr>\n",
       "    <tr>\n",
       "      <th>2.0</th>\n",
       "      <td>7924</td>\n",
       "    </tr>\n",
       "    <tr>\n",
       "      <th>3.0</th>\n",
       "      <td>5797</td>\n",
       "    </tr>\n",
       "    <tr>\n",
       "      <th>4.0</th>\n",
       "      <td>1175</td>\n",
       "    </tr>\n",
       "    <tr>\n",
       "      <th>5.0</th>\n",
       "      <td>326</td>\n",
       "    </tr>\n",
       "    <tr>\n",
       "      <th>0.0</th>\n",
       "      <td>197</td>\n",
       "    </tr>\n",
       "    <tr>\n",
       "      <th>6.0</th>\n",
       "      <td>105</td>\n",
       "    </tr>\n",
       "    <tr>\n",
       "      <th>7.0</th>\n",
       "      <td>59</td>\n",
       "    </tr>\n",
       "    <tr>\n",
       "      <th>8.0</th>\n",
       "      <td>12</td>\n",
       "    </tr>\n",
       "    <tr>\n",
       "      <th>9.0</th>\n",
       "      <td>8</td>\n",
       "    </tr>\n",
       "    <tr>\n",
       "      <th>10.0</th>\n",
       "      <td>3</td>\n",
       "    </tr>\n",
       "    <tr>\n",
       "      <th>11.0</th>\n",
       "      <td>2</td>\n",
       "    </tr>\n",
       "    <tr>\n",
       "      <th>12.0</th>\n",
       "      <td>1</td>\n",
       "    </tr>\n",
       "  </tbody>\n",
       "</table>\n",
       "</div>"
      ],
      "text/plain": [
       "      rooms\n",
       "1.0    8036\n",
       "2.0    7924\n",
       "3.0    5797\n",
       "4.0    1175\n",
       "5.0     326\n",
       "0.0     197\n",
       "6.0     105\n",
       "7.0      59\n",
       "8.0      12\n",
       "9.0       8\n",
       "10.0      3\n",
       "11.0      2\n",
       "12.0      1"
      ]
     },
     "execution_count": 13,
     "metadata": {},
     "output_type": "execute_result"
    }
   ],
   "source": [
    "# check\n",
    "data.rooms.value_counts().to_frame()\n"
   ]
  },
  {
   "cell_type": "code",
   "execution_count": 14,
   "metadata": {},
   "outputs": [
    {
     "data": {
      "text/plain": [
       "0        25\n",
       "1        11\n",
       "2         8\n",
       "3         5\n",
       "4        41\n",
       "         ..\n",
       "23694    13\n",
       "23695     8\n",
       "23696     5\n",
       "23697    23\n",
       "23698     9\n",
       "Name: kitchen_area, Length: 23650, dtype: int64"
      ]
     },
     "execution_count": 14,
     "metadata": {},
     "output_type": "execute_result"
    }
   ],
   "source": [
    "data['kitchen_area'] = data['kitchen_area'].fillna(0)\n",
    "data['kitchen_area'].where(~(data.kitchen_area < 5), other=5, inplace=True)\n",
    "data['kitchen_area'].astype('int')"
   ]
  },
  {
   "cell_type": "code",
   "execution_count": 15,
   "metadata": {},
   "outputs": [],
   "source": [
    "data['living_area'] = data['living_area'].fillna(0)\n",
    "data['living_area'] = data['living_area'].astype('int')\n"
   ]
  },
  {
   "cell_type": "code",
   "execution_count": 16,
   "metadata": {
    "scrolled": true
   },
   "outputs": [
    {
     "data": {
      "text/html": [
       "<div>\n",
       "<style scoped>\n",
       "    .dataframe tbody tr th:only-of-type {\n",
       "        vertical-align: middle;\n",
       "    }\n",
       "\n",
       "    .dataframe tbody tr th {\n",
       "        vertical-align: top;\n",
       "    }\n",
       "\n",
       "    .dataframe thead th {\n",
       "        text-align: right;\n",
       "    }\n",
       "</style>\n",
       "<table border=\"1\" class=\"dataframe\">\n",
       "  <thead>\n",
       "    <tr style=\"text-align: right;\">\n",
       "      <th></th>\n",
       "      <th>rooms</th>\n",
       "    </tr>\n",
       "  </thead>\n",
       "  <tbody>\n",
       "    <tr>\n",
       "      <th>1.0</th>\n",
       "      <td>8036</td>\n",
       "    </tr>\n",
       "    <tr>\n",
       "      <th>2.0</th>\n",
       "      <td>7924</td>\n",
       "    </tr>\n",
       "    <tr>\n",
       "      <th>3.0</th>\n",
       "      <td>5797</td>\n",
       "    </tr>\n",
       "    <tr>\n",
       "      <th>4.0</th>\n",
       "      <td>1175</td>\n",
       "    </tr>\n",
       "    <tr>\n",
       "      <th>5.0</th>\n",
       "      <td>326</td>\n",
       "    </tr>\n",
       "    <tr>\n",
       "      <th>0.0</th>\n",
       "      <td>197</td>\n",
       "    </tr>\n",
       "    <tr>\n",
       "      <th>6.0</th>\n",
       "      <td>105</td>\n",
       "    </tr>\n",
       "    <tr>\n",
       "      <th>7.0</th>\n",
       "      <td>59</td>\n",
       "    </tr>\n",
       "    <tr>\n",
       "      <th>8.0</th>\n",
       "      <td>12</td>\n",
       "    </tr>\n",
       "    <tr>\n",
       "      <th>9.0</th>\n",
       "      <td>8</td>\n",
       "    </tr>\n",
       "    <tr>\n",
       "      <th>10.0</th>\n",
       "      <td>3</td>\n",
       "    </tr>\n",
       "    <tr>\n",
       "      <th>11.0</th>\n",
       "      <td>2</td>\n",
       "    </tr>\n",
       "    <tr>\n",
       "      <th>12.0</th>\n",
       "      <td>1</td>\n",
       "    </tr>\n",
       "  </tbody>\n",
       "</table>\n",
       "</div>"
      ],
      "text/plain": [
       "      rooms\n",
       "1.0    8036\n",
       "2.0    7924\n",
       "3.0    5797\n",
       "4.0    1175\n",
       "5.0     326\n",
       "0.0     197\n",
       "6.0     105\n",
       "7.0      59\n",
       "8.0      12\n",
       "9.0       8\n",
       "10.0      3\n",
       "11.0      2\n",
       "12.0      1"
      ]
     },
     "execution_count": 16,
     "metadata": {},
     "output_type": "execute_result"
    }
   ],
   "source": [
    "# check\n",
    "data.rooms.value_counts().to_frame()"
   ]
  },
  {
   "cell_type": "code",
   "execution_count": 17,
   "metadata": {},
   "outputs": [
    {
     "data": {
      "image/png": "[encoded data removed]",
      "text/plain": [
       "<Figure size 1080x216 with 1 Axes>"
      ]
     },
     "metadata": {
      "needs_background": "light"
     },
     "output_type": "display_data"
    }
   ],
   "source": [
    "# check\n",
    "data.total_area.hist(bins = 150, figsize = (15,3));\n"
   ]
  },
  {
   "cell_type": "code",
   "execution_count": 18,
   "metadata": {
    "scrolled": true
   },
   "outputs": [
    {
     "data": {
      "image/png": "[encoded data removed]",
      "text/plain": [
       "<Figure size 1080x216 with 1 Axes>"
      ]
     },
     "metadata": {
      "needs_background": "light"
     },
     "output_type": "display_data"
    }
   ],
   "source": [
    "# check\n",
    "data.total_area.hist(bins = 150, figsize = (15,3), range = (180,500));"
   ]
  },
  {
   "cell_type": "markdown",
   "metadata": {},
   "source": [
    "Все квартиры более двухсот квадратных метров можно считать редкостями\n",
    "        \n",
    "особенно это заметно на втором графике, где мы подробно рассматриваем промежуток от 180 кв. метров до 500"
   ]
  },
  {
   "cell_type": "code",
   "execution_count": 19,
   "metadata": {},
   "outputs": [
    {
     "name": "stdout",
     "output_type": "stream",
     "text": [
      "<class 'pandas.core.frame.DataFrame'>\n",
      "Int64Index: 23334 entries, 0 to 23698\n",
      "Data columns (total 23 columns):\n",
      " #   Column                Non-Null Count  Dtype         \n",
      "---  ------                --------------  -----         \n",
      " 0   total_images          23334 non-null  int64         \n",
      " 1   last_price            23334 non-null  int64         \n",
      " 2   total_area            23334 non-null  float64       \n",
      " 3   first_day_exposition  23334 non-null  datetime64[ns]\n",
      " 4   rooms                 23334 non-null  float64       \n",
      " 5   ceiling_height        23334 non-null  float64       \n",
      " 6   floors_total          23250 non-null  float64       \n",
      " 7   living_area           23334 non-null  int64         \n",
      " 8   floor                 23334 non-null  int64         \n",
      " 9   is_apartment          23334 non-null  bool          \n",
      " 10  studio                23334 non-null  bool          \n",
      " 11  open_plan             23334 non-null  bool          \n",
      " 12  kitchen_area          23334 non-null  float64       \n",
      " 13  balcony               23334 non-null  int64         \n",
      " 14  locality_name         23334 non-null  object        \n",
      " 15  airports_nearest      17810 non-null  float64       \n",
      " 16  cityCenters_nearest   17830 non-null  float64       \n",
      " 17  parks_around3000      17831 non-null  float64       \n",
      " 18  parks_nearest         7859 non-null   float64       \n",
      " 19  ponds_around3000      17831 non-null  float64       \n",
      " 20  ponds_nearest         8869 non-null   float64       \n",
      " 21  days_exposition       23334 non-null  int64         \n",
      " 22  short_locality_name   23334 non-null  object        \n",
      "dtypes: bool(3), datetime64[ns](1), float64(11), int64(6), object(2)\n",
      "memory usage: 3.8+ MB\n"
     ]
    },
    {
     "data": {
      "text/plain": [
       "None"
      ]
     },
     "metadata": {},
     "output_type": "display_data"
    },
    {
     "data": {
      "text/plain": [
       "count    23250.000000\n",
       "mean        10.725978\n",
       "std          6.606490\n",
       "min          1.000000\n",
       "25%          5.000000\n",
       "50%          9.000000\n",
       "75%         16.000000\n",
       "max         60.000000\n",
       "Name: floors_total, dtype: float64"
      ]
     },
     "execution_count": 19,
     "metadata": {},
     "output_type": "execute_result"
    }
   ],
   "source": [
    "\n",
    "# data['total_area'] = data.query('total_area < 180')\n",
    "\n",
    "data = data.query('total_area < 180')\n",
    "\n",
    "\n",
    "display(data.info())\n",
    "data['total_area'] = data['total_area'].astype('int')\n",
    "data['floors_total'].describe()"
   ]
  },
  {
   "cell_type": "code",
   "execution_count": 20,
   "metadata": {
    "scrolled": true
   },
   "outputs": [
    {
     "data": {
      "text/plain": [
       "0    20\n",
       "1     7\n",
       "2    10\n",
       "3     0\n",
       "4     2\n",
       "Name: floors_total, dtype: int64"
      ]
     },
     "execution_count": 20,
     "metadata": {},
     "output_type": "execute_result"
    }
   ],
   "source": [
    "data['floors_total'] = data.query('floors_total < 60')\n",
    "data.dropna(subset=['floors_total'], inplace=True)\n",
    "data['floors_total'] = data['floors_total'].astype('int')\n",
    "data['floors_total'].head()"
   ]
  },
  {
   "cell_type": "markdown",
   "metadata": {},
   "source": [
    "#### check r.3.1"
   ]
  },
  {
   "cell_type": "code",
   "execution_count": 21,
   "metadata": {},
   "outputs": [
    {
     "name": "stdout",
     "output_type": "stream",
     "text": [
      "<class 'pandas.core.frame.DataFrame'>\n",
      "Int64Index: 23249 entries, 0 to 23698\n",
      "Data columns (total 23 columns):\n",
      " #   Column                Non-Null Count  Dtype         \n",
      "---  ------                --------------  -----         \n",
      " 0   total_images          23249 non-null  int64         \n",
      " 1   last_price            23249 non-null  int64         \n",
      " 2   total_area            23249 non-null  int64         \n",
      " 3   first_day_exposition  23249 non-null  datetime64[ns]\n",
      " 4   rooms                 23249 non-null  float64       \n",
      " 5   ceiling_height        23249 non-null  float64       \n",
      " 6   floors_total          23249 non-null  int64         \n",
      " 7   living_area           23249 non-null  int64         \n",
      " 8   floor                 23249 non-null  int64         \n",
      " 9   is_apartment          23249 non-null  bool          \n",
      " 10  studio                23249 non-null  bool          \n",
      " 11  open_plan             23249 non-null  bool          \n",
      " 12  kitchen_area          23249 non-null  float64       \n",
      " 13  balcony               23249 non-null  int64         \n",
      " 14  locality_name         23249 non-null  object        \n",
      " 15  airports_nearest      17735 non-null  float64       \n",
      " 16  cityCenters_nearest   17755 non-null  float64       \n",
      " 17  parks_around3000      17756 non-null  float64       \n",
      " 18  parks_nearest         7824 non-null   float64       \n",
      " 19  ponds_around3000      17756 non-null  float64       \n",
      " 20  ponds_nearest         8819 non-null   float64       \n",
      " 21  days_exposition       23249 non-null  int64         \n",
      " 22  short_locality_name   23249 non-null  object        \n",
      "dtypes: bool(3), datetime64[ns](1), float64(9), int64(8), object(2)\n",
      "memory usage: 3.8+ MB\n"
     ]
    }
   ],
   "source": [
    "# check\n",
    "data.info()"
   ]
  },
  {
   "cell_type": "code",
   "execution_count": 22,
   "metadata": {},
   "outputs": [
    {
     "data": {
      "text/html": [
       "<style  type=\"text/css\" >\n",
       "</style><table id=\"T_c82f5_\" ><thead>    <tr>        <th class=\"blank level0\" ></th>        <th class=\"col_heading level0 col0\" >rooms</th>        <th class=\"col_heading level0 col1\" >total_area</th>        <th class=\"col_heading level0 col2\" >ceiling_height</th>        <th class=\"col_heading level0 col3\" >days_exposition</th>        <th class=\"col_heading level0 col4\" >last_price</th>        <th class=\"col_heading level0 col5\" >living_area</th>        <th class=\"col_heading level0 col6\" >kitchen_area</th>        <th class=\"col_heading level0 col7\" >floor</th>        <th class=\"col_heading level0 col8\" >floors_total</th>    </tr></thead><tbody>\n",
       "                <tr>\n",
       "                        <th id=\"T_c82f5_level0_row0\" class=\"row_heading level0 row0\" >0.01</th>\n",
       "                        <td id=\"T_c82f5_row0_col0\" class=\"data row0 col0\" >1.00</td>\n",
       "                        <td id=\"T_c82f5_row0_col1\" class=\"data row0 col1\" >25.00</td>\n",
       "                        <td id=\"T_c82f5_row0_col2\" class=\"data row0 col2\" >2.50</td>\n",
       "                        <td id=\"T_c82f5_row0_col3\" class=\"data row0 col3\" >0.00</td>\n",
       "                        <td id=\"T_c82f5_row0_col4\" class=\"data row0 col4\" >1,000,000.00</td>\n",
       "                        <td id=\"T_c82f5_row0_col5\" class=\"data row0 col5\" >0.00</td>\n",
       "                        <td id=\"T_c82f5_row0_col6\" class=\"data row0 col6\" >5.00</td>\n",
       "                        <td id=\"T_c82f5_row0_col7\" class=\"data row0 col7\" >1.00</td>\n",
       "                        <td id=\"T_c82f5_row0_col8\" class=\"data row0 col8\" >0.00</td>\n",
       "            </tr>\n",
       "            <tr>\n",
       "                        <th id=\"T_c82f5_level0_row1\" class=\"row_heading level0 row1\" >0.5</th>\n",
       "                        <td id=\"T_c82f5_row1_col0\" class=\"data row1 col0\" >2.00</td>\n",
       "                        <td id=\"T_c82f5_row1_col1\" class=\"data row1 col1\" >51.00</td>\n",
       "                        <td id=\"T_c82f5_row1_col2\" class=\"data row1 col2\" >2.65</td>\n",
       "                        <td id=\"T_c82f5_row1_col3\" class=\"data row1 col3\" >73.00</td>\n",
       "                        <td id=\"T_c82f5_row1_col4\" class=\"data row1 col4\" >4,600,000.00</td>\n",
       "                        <td id=\"T_c82f5_row1_col5\" class=\"data row1 col5\" >29.00</td>\n",
       "                        <td id=\"T_c82f5_row1_col6\" class=\"data row1 col6\" >8.90</td>\n",
       "                        <td id=\"T_c82f5_row1_col7\" class=\"data row1 col7\" >4.00</td>\n",
       "                        <td id=\"T_c82f5_row1_col8\" class=\"data row1 col8\" >9.00</td>\n",
       "            </tr>\n",
       "            <tr>\n",
       "                        <th id=\"T_c82f5_level0_row2\" class=\"row_heading level0 row2\" >0.9</th>\n",
       "                        <td id=\"T_c82f5_row2_col0\" class=\"data row2 col0\" >3.00</td>\n",
       "                        <td id=\"T_c82f5_row2_col1\" class=\"data row2 col1\" >90.00</td>\n",
       "                        <td id=\"T_c82f5_row2_col2\" class=\"data row2 col2\" >3.00</td>\n",
       "                        <td id=\"T_c82f5_row2_col3\" class=\"data row2 col3\" >422.00</td>\n",
       "                        <td id=\"T_c82f5_row2_col4\" class=\"data row2 col4\" >10,300,000.00</td>\n",
       "                        <td id=\"T_c82f5_row2_col5\" class=\"data row2 col5\" >52.00</td>\n",
       "                        <td id=\"T_c82f5_row2_col6\" class=\"data row2 col6\" >15.00</td>\n",
       "                        <td id=\"T_c82f5_row2_col7\" class=\"data row2 col7\" >13.00</td>\n",
       "                        <td id=\"T_c82f5_row2_col8\" class=\"data row2 col8\" >18.00</td>\n",
       "            </tr>\n",
       "            <tr>\n",
       "                        <th id=\"T_c82f5_level0_row3\" class=\"row_heading level0 row3\" >0.976</th>\n",
       "                        <td id=\"T_c82f5_row3_col0\" class=\"data row3 col0\" >4.00</td>\n",
       "                        <td id=\"T_c82f5_row3_col1\" class=\"data row3 col1\" >128.00</td>\n",
       "                        <td id=\"T_c82f5_row3_col2\" class=\"data row3 col2\" >3.30</td>\n",
       "                        <td id=\"T_c82f5_row3_col3\" class=\"data row3 col3\" >803.05</td>\n",
       "                        <td id=\"T_c82f5_row3_col4\" class=\"data row3 col4\" >18,500,000.00</td>\n",
       "                        <td id=\"T_c82f5_row3_col5\" class=\"data row3 col5\" >76.00</td>\n",
       "                        <td id=\"T_c82f5_row3_col6\" class=\"data row3 col6\" >23.30</td>\n",
       "                        <td id=\"T_c82f5_row3_col7\" class=\"data row3 col7\" >20.00</td>\n",
       "                        <td id=\"T_c82f5_row3_col8\" class=\"data row3 col8\" >20.00</td>\n",
       "            </tr>\n",
       "    </tbody></table>"
      ],
      "text/plain": [
       "<pandas.io.formats.style.Styler at 0x7f0f10e51ac0>"
      ]
     },
     "execution_count": 22,
     "metadata": {},
     "output_type": "execute_result"
    }
   ],
   "source": [
    "# check\n",
    "\n",
    "# Значения параметров объектов недвижимости на разных квантилях\n",
    "\n",
    "(\n",
    "    data[['rooms', 'total_area', 'ceiling_height', 'days_exposition', 'last_price', 'living_area',  \n",
    "        'kitchen_area', 'floor',   'floors_total']]\n",
    "    .quantile([0.01, .5, .90, .976])  \n",
    "    .style.format(\"{:,.2f}\")\n",
    ")"
   ]
  },
  {
   "cell_type": "markdown",
   "metadata": {},
   "source": [
    "### Посчитайте и добавьте в таблицу новые столбцы"
   ]
  },
  {
   "cell_type": "code",
   "execution_count": 23,
   "metadata": {},
   "outputs": [
    {
     "data": {
      "text/plain": [
       "count      23249.000000\n",
       "mean       98524.412878\n",
       "std        43006.854819\n",
       "min          111.000000\n",
       "25%        76785.000000\n",
       "50%        95238.000000\n",
       "75%       114285.000000\n",
       "max      1000000.000000\n",
       "Name: price_per_square_meter, dtype: float64"
      ]
     },
     "execution_count": 23,
     "metadata": {},
     "output_type": "execute_result"
    }
   ],
   "source": [
    "#посчитаем цену квадратного метра и переведем к типу int удобнее станет\n",
    "\n",
    "data['price_per_square_meter'] = data['last_price'] / data['total_area']\n",
    "\n",
    "data['price_per_square_meter'] = data['price_per_square_meter'].fillna(0).astype('int')\n",
    "data['price_per_square_meter'].describe()\n",
    "# data['price_per_square_meter']"
   ]
  },
  {
   "cell_type": "code",
   "execution_count": 24,
   "metadata": {},
   "outputs": [],
   "source": [
    "#делаем столбцы день месяц и год\n",
    "data['weekday_exposition'] = data['first_day_exposition'].dt.weekday\n",
    "\n",
    "data['month_exposition'] = data['first_day_exposition'].dt.month\n",
    "\n",
    "data['year_exposition'] = data['first_day_exposition'].dt.year"
   ]
  },
  {
   "cell_type": "code",
   "execution_count": 25,
   "metadata": {},
   "outputs": [],
   "source": [
    "#напишем функцию для типа этажа квартиры, используя метод apply применимо к каждой строке датафрейма через axis = 1\n",
    "def floor_category(row):\n",
    "    floors_total = row['floors_total']\n",
    "    floor = row['floor']\n",
    "    if floor == 1:\n",
    "        return 'первый'\n",
    "    elif floor == floors_total:\n",
    "        return 'последний'\n",
    "    elif 1 < floor < floors_total:\n",
    "        return 'другой'\n",
    "    \n",
    "#категоризуем этажи с помощью функции  \n",
    "data['floor_category'] = data.apply(floor_category, axis = 1)"
   ]
  },
  {
   "cell_type": "code",
   "execution_count": 26,
   "metadata": {},
   "outputs": [
    {
     "data": {
      "text/plain": [
       "0        16\n",
       "1        18\n",
       "2        13\n",
       "3         6\n",
       "4         8\n",
       "         ..\n",
       "23694     4\n",
       "23695     0\n",
       "23696     0\n",
       "23697    10\n",
       "23698     0\n",
       "Name: cityCenters_nearest_km, Length: 23249, dtype: int64"
      ]
     },
     "execution_count": 26,
     "metadata": {},
     "output_type": "execute_result"
    }
   ],
   "source": [
    "#столбец расстояния до центра города в км и округлим до целых значений тип Int\n",
    "data['cityCenters_nearest_km'] = data['cityCenters_nearest']/1000\n",
    "data['cityCenters_nearest_km'] = data['cityCenters_nearest_km'].fillna(0).astype('int')\n",
    "data['cityCenters_nearest_km']"
   ]
  },
  {
   "cell_type": "markdown",
   "metadata": {},
   "source": [
    "### Проведите исследовательский анализ данных"
   ]
  },
  {
   "cell_type": "code",
   "execution_count": 27,
   "metadata": {},
   "outputs": [
    {
     "data": {
      "text/plain": [
       "count    23249.000000\n",
       "mean        57.422814\n",
       "std         25.305028\n",
       "min         12.000000\n",
       "25%         40.000000\n",
       "50%         51.000000\n",
       "75%         68.000000\n",
       "max        179.000000\n",
       "Name: total_area, dtype: float64"
      ]
     },
     "execution_count": 27,
     "metadata": {},
     "output_type": "execute_result"
    },
    {
     "data": {
      "image/png": "[encoded data removed]",
      "text/plain": [
       "<Figure size 720x360 with 1 Axes>"
      ]
     },
     "metadata": {
      "needs_background": "light"
     },
     "output_type": "display_data"
    }
   ],
   "source": [
    "#общая площадь\n",
    "data.plot(y = 'total_area', kind = 'hist', bins = 100, grid=True, figsize = (10,5), range = (0,400))\n",
    "data['total_area'].describe()\n",
    "#распределение данных нормальное, Общая площадь в нашей выборке колеблется от 12 до 900 м2, \n",
    "#среднее значение 60, а медиана 52 м2. Распределение данных Гаусса.\n",
    "#по гистограмме кроме распределения нечего больше указать\n",
    "#с помошью describe получил общее представление по площадям"
   ]
  },
  {
   "cell_type": "code",
   "execution_count": 28,
   "metadata": {},
   "outputs": [
    {
     "data": {
      "text/plain": [
       "count    23249.000000\n",
       "mean        30.158717\n",
       "std         18.307083\n",
       "min          0.000000\n",
       "25%         17.000000\n",
       "50%         29.000000\n",
       "75%         40.000000\n",
       "max        140.000000\n",
       "Name: living_area, dtype: float64"
      ]
     },
     "execution_count": 28,
     "metadata": {},
     "output_type": "execute_result"
    },
    {
     "data": {
      "image/png": "[encoded data removed]",
      "text/plain": [
       "<Figure size 720x360 with 1 Axes>"
      ]
     },
     "metadata": {
      "needs_background": "light"
     },
     "output_type": "display_data"
    }
   ],
   "source": [
    "#жилая площадь\n",
    "data.plot(y = 'living_area', kind = 'hist', bins = 100, grid=True, figsize = (10,5), range = (0,200))\n",
    "data['living_area'].describe()"
   ]
  },
  {
   "cell_type": "code",
   "execution_count": 29,
   "metadata": {},
   "outputs": [
    {
     "data": {
      "text/plain": [
       "count    23249.000000\n",
       "mean         9.836080\n",
       "std          5.245001\n",
       "min          5.000000\n",
       "25%          6.300000\n",
       "50%          8.900000\n",
       "75%         11.240000\n",
       "max         93.000000\n",
       "Name: kitchen_area, dtype: float64"
      ]
     },
     "execution_count": 29,
     "metadata": {},
     "output_type": "execute_result"
    },
    {
     "data": {
      "image/png": "[encoded data removed]",
      "text/plain": [
       "<Figure size 720x360 with 1 Axes>"
      ]
     },
     "metadata": {
      "needs_background": "light"
     },
     "output_type": "display_data"
    }
   ],
   "source": [
    "#посмотрим на площадь кухни\n",
    "data.plot(y = 'kitchen_area', kind = 'hist', bins = 30, grid=True, figsize = (10,5), range = (0,60))\n",
    "\n",
    "data['kitchen_area'].describe()"
   ]
  },
  {
   "cell_type": "code",
   "execution_count": 30,
   "metadata": {},
   "outputs": [
    {
     "data": {
      "text/plain": [
       "count    2.324900e+04\n",
       "mean     5.909462e+06\n",
       "std      5.250135e+06\n",
       "min      1.219000e+04\n",
       "25%      3.400000e+06\n",
       "50%      4.600000e+06\n",
       "75%      6.650000e+06\n",
       "max      1.350000e+08\n",
       "Name: last_price, dtype: float64"
      ]
     },
     "execution_count": 30,
     "metadata": {},
     "output_type": "execute_result"
    },
    {
     "data": {
      "image/png": "[encoded data removed]",
      "text/plain": [
       "<Figure size 360x216 with 1 Axes>"
      ]
     },
     "metadata": {
      "needs_background": "light"
     },
     "output_type": "display_data"
    }
   ],
   "source": [
    "#изучим цену\n",
    "#data['last_price'] = data['last_price']/1000000\n",
    "data.plot(y = 'last_price', kind = 'hist', bins = 100, grid=True, range = (0,15000000), figsize = (5,3))\n",
    "data['last_price'].describe()\n",
    "#с данными все впорядке но значения выводятся в экспоненциальной записи чисел"
   ]
  },
  {
   "cell_type": "code",
   "execution_count": 31,
   "metadata": {},
   "outputs": [
    {
     "data": {
      "text/plain": [
       "count    23249.000000\n",
       "mean         2.024302\n",
       "std          0.978416\n",
       "min          0.000000\n",
       "25%          1.000000\n",
       "50%          2.000000\n",
       "75%          3.000000\n",
       "max          8.000000\n",
       "Name: rooms, dtype: float64"
      ]
     },
     "execution_count": 31,
     "metadata": {},
     "output_type": "execute_result"
    },
    {
     "data": {
      "image/png": "[encoded data removed]",
      "text/plain": [
       "<Figure size 360x216 with 1 Axes>"
      ]
     },
     "metadata": {
      "needs_background": "light"
     },
     "output_type": "display_data"
    }
   ],
   "source": [
    "#посмотрим число комнат\n",
    "data.plot(y = 'rooms', kind = 'hist', bins = 20, grid=True, figsize = (5,3))\n",
    "data['rooms'].describe()\n"
   ]
  },
  {
   "cell_type": "code",
   "execution_count": 32,
   "metadata": {},
   "outputs": [
    {
     "data": {
      "text/plain": [
       "count    23249.000000\n",
       "mean         2.702298\n",
       "std          0.233230\n",
       "min          2.000000\n",
       "25%          2.550000\n",
       "50%          2.650000\n",
       "75%          2.750000\n",
       "max          8.300000\n",
       "Name: ceiling_height, dtype: float64"
      ]
     },
     "execution_count": 32,
     "metadata": {},
     "output_type": "execute_result"
    },
    {
     "data": {
      "image/png": "[encoded data removed]",
      "text/plain": [
       "<Figure size 360x216 with 1 Axes>"
      ]
     },
     "metadata": {
      "needs_background": "light"
     },
     "output_type": "display_data"
    }
   ],
   "source": [
    "#изучим высоту потолков\n",
    "data.plot(y = 'ceiling_height', kind = 'hist', bins = 30, range = (2,5), grid=True, figsize = (5,3))\n",
    "data['ceiling_height'].describe()\n",
    "#с данными все впорядке"
   ]
  },
  {
   "cell_type": "code",
   "execution_count": 33,
   "metadata": {},
   "outputs": [
    {
     "data": {
      "text/plain": [
       "count    23249.000000\n",
       "mean         5.889888\n",
       "std          4.882295\n",
       "min          1.000000\n",
       "25%          2.000000\n",
       "50%          4.000000\n",
       "75%          8.000000\n",
       "max         33.000000\n",
       "Name: floor, dtype: float64"
      ]
     },
     "execution_count": 33,
     "metadata": {},
     "output_type": "execute_result"
    },
    {
     "data": {
      "image/png": "[encoded data removed]",
      "text/plain": [
       "<Figure size 360x216 with 1 Axes>"
      ]
     },
     "metadata": {
      "needs_background": "light"
     },
     "output_type": "display_data"
    }
   ],
   "source": [
    "#изучим этаж квартиры\n",
    "data.plot(y = 'floor', kind = 'hist', bins = 30, grid=True, figsize = (5,3))\n",
    "data['floor'].describe()"
   ]
  },
  {
   "cell_type": "code",
   "execution_count": 34,
   "metadata": {},
   "outputs": [
    {
     "data": {
      "text/plain": [
       "<AxesSubplot:>"
      ]
     },
     "execution_count": 34,
     "metadata": {},
     "output_type": "execute_result"
    },
    {
     "data": {
      "image/png": "[encoded data removed]",
      "text/plain": [
       "<Figure size 432x288 with 1 Axes>"
      ]
     },
     "metadata": {
      "needs_background": "light"
     },
     "output_type": "display_data"
    }
   ],
   "source": [
    "#тип этажа квартиры\n",
    "#data['floor_category'].head()\n",
    "\n",
    "data[\"floor_category\"].value_counts().plot.bar(rot=0, grid=True)\n"
   ]
  },
  {
   "cell_type": "code",
   "execution_count": 35,
   "metadata": {},
   "outputs": [
    {
     "data": {
      "text/plain": [
       "count    23249.000000\n",
       "mean         9.845284\n",
       "std          5.658848\n",
       "min          0.000000\n",
       "25%          6.000000\n",
       "50%          9.000000\n",
       "75%         14.000000\n",
       "max         50.000000\n",
       "Name: floors_total, dtype: float64"
      ]
     },
     "execution_count": 35,
     "metadata": {},
     "output_type": "execute_result"
    },
    {
     "data": {
      "image/png": "[encoded data removed]",
      "text/plain": [
       "<Figure size 360x216 with 1 Axes>"
      ]
     },
     "metadata": {
      "needs_background": "light"
     },
     "output_type": "display_data"
    }
   ],
   "source": [
    "# общее количество этажей в доме\n",
    "data.plot(y = 'floors_total', kind = 'hist', bins = 15, range = (0,50), grid=True, figsize = (5,3))\n",
    "data['floors_total'].describe()"
   ]
  },
  {
   "cell_type": "code",
   "execution_count": 36,
   "metadata": {},
   "outputs": [
    {
     "data": {
      "text/plain": [
       "count    17755.000000\n",
       "mean     14309.803830\n",
       "std       8583.244028\n",
       "min        181.000000\n",
       "25%       9488.000000\n",
       "50%      13170.000000\n",
       "75%      16322.500000\n",
       "max      65968.000000\n",
       "Name: cityCenters_nearest, dtype: float64"
      ]
     },
     "execution_count": 36,
     "metadata": {},
     "output_type": "execute_result"
    },
    {
     "data": {
      "image/png": "[encoded data removed]",
      "text/plain": [
       "<Figure size 360x216 with 1 Axes>"
      ]
     },
     "metadata": {
      "needs_background": "light"
     },
     "output_type": "display_data"
    }
   ],
   "source": [
    "#расстояние до центра города\n",
    "data.plot(y = 'cityCenters_nearest', kind = 'hist', bins = 20, range = (0,70000), grid=True, figsize = (5,3))\n",
    "data['cityCenters_nearest'].describe()"
   ]
  },
  {
   "cell_type": "code",
   "execution_count": 37,
   "metadata": {},
   "outputs": [
    {
     "data": {
      "text/plain": [
       "count    17735.000000\n",
       "mean     28826.796617\n",
       "std      12687.376561\n",
       "min          0.000000\n",
       "25%      18488.000000\n",
       "50%      26871.000000\n",
       "75%      37366.000000\n",
       "max      84869.000000\n",
       "Name: airports_nearest, dtype: float64"
      ]
     },
     "execution_count": 37,
     "metadata": {},
     "output_type": "execute_result"
    },
    {
     "data": {
      "image/png": "[encoded data removed]",
      "text/plain": [
       "<Figure size 360x216 with 1 Axes>"
      ]
     },
     "metadata": {
      "needs_background": "light"
     },
     "output_type": "display_data"
    }
   ],
   "source": [
    "#расстояние до ближайшего аэропорта\n",
    "data.plot(y = 'airports_nearest', kind = 'hist', bins =10, range = (0,90000), grid=True, figsize = (5,3))\n",
    "data['airports_nearest'].describe()"
   ]
  },
  {
   "cell_type": "code",
   "execution_count": 38,
   "metadata": {},
   "outputs": [
    {
     "data": {
      "text/plain": [
       "count    7824.000000\n",
       "mean      491.325792\n",
       "std       340.848298\n",
       "min         1.000000\n",
       "25%       288.000000\n",
       "50%       456.000000\n",
       "75%       613.000000\n",
       "max      3190.000000\n",
       "Name: parks_nearest, dtype: float64"
      ]
     },
     "execution_count": 38,
     "metadata": {},
     "output_type": "execute_result"
    },
    {
     "data": {
      "image/png": "[encoded data removed]",
      "text/plain": [
       "<Figure size 360x216 with 1 Axes>"
      ]
     },
     "metadata": {
      "needs_background": "light"
     },
     "output_type": "display_data"
    }
   ],
   "source": [
    "#расстояние до ближайшего парка\n",
    "data.plot(y = 'parks_nearest', kind = 'hist', bins =30, range = (0,3500), grid=True, figsize = (5,3))\n",
    "data['parks_nearest'].describe()"
   ]
  },
  {
   "cell_type": "code",
   "execution_count": 39,
   "metadata": {},
   "outputs": [
    {
     "data": {
      "text/plain": [
       "count    23249.000000\n",
       "mean         6.402168\n",
       "std          3.492469\n",
       "min          1.000000\n",
       "25%          3.000000\n",
       "50%          6.000000\n",
       "75%         10.000000\n",
       "max         12.000000\n",
       "Name: month_exposition, dtype: float64"
      ]
     },
     "execution_count": 39,
     "metadata": {},
     "output_type": "execute_result"
    },
    {
     "data": {
      "image/png": "[encoded data removed]",
      "text/plain": [
       "<Figure size 360x216 with 1 Axes>"
      ]
     },
     "metadata": {
      "needs_background": "light"
     },
     "output_type": "display_data"
    },
    {
     "data": {
      "image/png": "[encoded data removed]",
      "text/plain": [
       "<Figure size 720x360 with 1 Axes>"
      ]
     },
     "metadata": {
      "needs_background": "light"
     },
     "output_type": "display_data"
    }
   ],
   "source": [
    "#день и месяц публикации объявления\n",
    "\n",
    "data.plot(y = 'weekday_exposition', kind = 'hist', bins =20, range = (0,7), grid=True, figsize = (5,3))\n",
    "data['weekday_exposition'].describe()\n",
    "\n",
    "data.plot(y = 'month_exposition', kind = 'hist', bins =50, range = (1,12), grid=True, figsize = (10,5))\n",
    "data['month_exposition'].describe()"
   ]
  },
  {
   "cell_type": "markdown",
   "metadata": {},
   "source": [
    "# Выводы по гистограммам \n",
    "- Во всех данных есть неадекватные значения, такие как 0 комнат, высоты потолков в 1 или 100 метров, цен на квартире в районе 12 тысяч. Возможно не правильная была выгрузка данных.\n",
    "\n",
    "- Общая площадь в нашей выборке колеблется от 12 до 900 м2, среднее значение 60, а медиана 52 м2. Распределение данных Гаусса.\n",
    "- Жилая площадь в диапазоне от 2 до 409 квадратов, среднее значение 34, медиана 52\n",
    "- Площадь кухни находится в дипазоне 1,3 - 112 м2. Средняя 10м2, медиана 9м2 Распределение данных Гаусса.\n",
    "- Цены на недвижимость имеют среднее значение в 6,5 млн руб., медиана 4,6 млн руб. Распределение данных Гаусса.\n",
    "- Количество комнат колеблется от 1 до 19. Больше всего однокомнатных квартир.\n",
    "- Высота потолков в среднем составляет 2,77 м, медиана 2,65 м.\n",
    "- этажи квартир максимальное количество этажей 33, среднее 5 этажей, по медиане 4.\n",
    "- Тип этажа квартиры больше \"другой\" чем первый или последний\n",
    "- количество этажей в доме до 60 этажей. Среднее значение 10. Медиана 9 этажей\n",
    "- расстояние до центра города в метрах до центра расстояние от 181 метра до 66км. В среднем 15 км. Медиана 13км\n",
    "- расстояние до ближайшего аэропорта максимально 85 км. Среднее расстояние 28 км, по медиане 26 км.\n",
    "- расстояние до ближайшего парка а вот с парками дела лучше обстоят, среднее расстояние до парка 490метров, медиана 455 метров.\n",
    "- день и месяц публикации объявления публикация обьявлений в будние дни большая часть середина недели Среда. К выходным реже, в воскресенье публикаций не было. С февраля рост публицаций, в мае спад и до ноябре снова повышение. В декабре и на январь уже ничинается снижение.\n",
    "\n"
   ]
  },
  {
   "cell_type": "code",
   "execution_count": 40,
   "metadata": {},
   "outputs": [
    {
     "data": {
      "text/plain": [
       "45      879\n",
       "60      538\n",
       "7       233\n",
       "30      206\n",
       "90      187\n",
       "       ... \n",
       "1240      1\n",
       "1112      1\n",
       "1080      1\n",
       "1064      1\n",
       "1391      1\n",
       "Name: days_exposition, Length: 1128, dtype: int64"
      ]
     },
     "execution_count": 40,
     "metadata": {},
     "output_type": "execute_result"
    },
    {
     "data": {
      "image/png": "[encoded data removed]",
      "text/plain": [
       "<Figure size 432x288 with 1 Axes>"
      ]
     },
     "metadata": {
      "needs_background": "light"
     },
     "output_type": "display_data"
    },
    {
     "data": {
      "image/png": "[encoded data removed]",
      "text/plain": [
       "<Figure size 432x288 with 1 Axes>"
      ]
     },
     "metadata": {
      "needs_background": "light"
     },
     "output_type": "display_data"
    },
    {
     "data": {
      "image/png": "[encoded data removed]",
      "text/plain": [
       "<Figure size 432x288 with 1 Axes>"
      ]
     },
     "metadata": {
      "needs_background": "light"
     },
     "output_type": "display_data"
    }
   ],
   "source": [
    "#как быстро идет продажа квартир\n",
    "plt.boxplot(data[data['days_exposition']!=0]['days_exposition'])\n",
    "plt.ylim(1,1000)\n",
    "\n",
    "data.plot(y = 'days_exposition', kind = 'hist', bins = 30, grid = True, range = (1,1600))\n",
    "data.plot(y = 'days_exposition', kind = 'hist', bins = 80, grid = True, range = (0,200))\n",
    "\n",
    "#среднее значение, медиана и межквартильный размах\n",
    "data[data['days_exposition']!=0]['days_exposition'].describe()\n",
    "data[data['days_exposition']!=0]['days_exposition'].value_counts()"
   ]
  },
  {
   "cell_type": "markdown",
   "metadata": {},
   "source": [
    "- Вывод\n",
    "- Получили распределение Пуассона. Среднее значение - 180 дней, а медиана - 95 дней. А если построить гистограмму со значениями от 0 до 200 с кол-вом корзин 80, увидим выбивающиеся значения, методом value_counts подтверждаем - у нас аномалии на 45, 60, 7, 30, 90 днях - это наиболее популярное количество дней до снятия объявления. Возможно после этих дней обьявления автоматически снимаются с продажи."
   ]
  },
  {
   "cell_type": "code",
   "execution_count": 41,
   "metadata": {},
   "outputs": [
    {
     "data": {
      "text/plain": [
       "0.7124900464937272"
      ]
     },
     "execution_count": 41,
     "metadata": {},
     "output_type": "execute_result"
    },
    {
     "data": {
      "image/png": "[encoded data removed]",
      "text/plain": [
       "<Figure size 432x288 with 1 Axes>"
      ]
     },
     "metadata": {
      "needs_background": "light"
     },
     "output_type": "display_data"
    }
   ],
   "source": [
    "#факторы влияющие на полную стоимость квартиры\n",
    "\n",
    "#посчитаем зависимость цены от общей площади\n",
    "pivot_table_total_area = data.pivot_table(index = 'total_area',\n",
    "                                          values = 'last_price',\n",
    "                                          aggfunc = ['mean', 'count', 'median'])\n",
    "pivot_table_total_area.columns = ['mean', 'count', 'median']\n",
    "pivot_table_total_area.plot(y = 'median', style = 'o')\n",
    "\n",
    "pivot_table_total_area.sort_values('median', ascending = False)\n",
    "\n",
    "data['total_area'].corr(data['last_price'])"
   ]
  },
  {
   "cell_type": "markdown",
   "metadata": {},
   "source": [
    "Корреляция Пирсона 0,65, что говорит о линейной взаимосвязи с ростом площади растет и цена.\n"
   ]
  },
  {
   "cell_type": "code",
   "execution_count": 42,
   "metadata": {},
   "outputs": [
    {
     "data": {
      "text/plain": [
       "<matplotlib.collections.PathCollection at 0x7f0f10d8ec10>"
      ]
     },
     "execution_count": 42,
     "metadata": {},
     "output_type": "execute_result"
    },
    {
     "data": {
      "image/png": "[encoded data removed]",
      "text/plain": [
       "<Figure size 432x288 with 1 Axes>"
      ]
     },
     "metadata": {
      "needs_background": "light"
     },
     "output_type": "display_data"
    }
   ],
   "source": [
    "# зависимость цены от жилой площади\n",
    "pivot_table_total_area = data.pivot_table(index = 'living_area',\n",
    "                                          values = 'last_price',\n",
    "                                          aggfunc = ['median'])\n",
    "pivot_table_total_area.columns = ['median']\n",
    "\n",
    "\n",
    "pivot_table_total_area.sort_values('median', ascending = False)\n",
    "\n",
    "#data['last_price'].corr(data['living_area'])\n",
    "plt.scatter(data['living_area'], data['last_price'], marker='o', s=3)"
   ]
  },
  {
   "cell_type": "markdown",
   "metadata": {},
   "source": [
    "Корреляция Пирсона 0,5, что говорит о линейной взаимосвязи с ростом жилой площади растет и цена."
   ]
  },
  {
   "cell_type": "code",
   "execution_count": 43,
   "metadata": {},
   "outputs": [
    {
     "data": {
      "text/plain": [
       "<matplotlib.collections.PathCollection at 0x7f0f10e05fd0>"
      ]
     },
     "execution_count": 43,
     "metadata": {},
     "output_type": "execute_result"
    },
    {
     "data": {
      "image/png": "[encoded data removed]",
      "text/plain": [
       "<Figure size 432x288 with 1 Axes>"
      ]
     },
     "metadata": {
      "needs_background": "light"
     },
     "output_type": "display_data"
    }
   ],
   "source": [
    "# зависимость цены от площади кухни\n",
    "pivot_table_total_area = data.pivot_table(index = 'kitchen_area',\n",
    "                                          values = 'last_price',\n",
    "                                          aggfunc = ['median'])\n",
    "pivot_table_total_area.columns = ['median']\n",
    "\n",
    "pivot_table_total_area.sort_values('median', ascending = False)\n",
    "\n",
    "#data['kitchen_area'].corr(data['last_price'])\n",
    "plt.scatter(data['kitchen_area'], data['last_price'], marker='o', s=3)"
   ]
  },
  {
   "cell_type": "markdown",
   "metadata": {},
   "source": [
    "Корреляция Пирсона не большая 0,5, что говорит о незначительной зависимости цены от площади кухни\n"
   ]
  },
  {
   "cell_type": "code",
   "execution_count": 44,
   "metadata": {},
   "outputs": [
    {
     "data": {
      "text/plain": [
       "<matplotlib.collections.PathCollection at 0x7f0f10df19d0>"
      ]
     },
     "execution_count": 44,
     "metadata": {},
     "output_type": "execute_result"
    },
    {
     "data": {
      "image/png": "[encoded data removed]",
      "text/plain": [
       "<Figure size 432x288 with 1 Axes>"
      ]
     },
     "metadata": {
      "needs_background": "light"
     },
     "output_type": "display_data"
    }
   ],
   "source": [
    "#количество комнат\n",
    "pivot_table_rooms = data.pivot_table(index = 'rooms', values = 'last_price', aggfunc = ['mean', 'count', 'median'])\n",
    "pivot_table_rooms.columns = ['mean', 'count', 'median']\n",
    "pivot_table_rooms.query('count > 50').plot(y = 'median')\n",
    "\n",
    "pivot_table_rooms.query('count < 50').sort_values('median', ascending = False)\n",
    "\n",
    "#data['last_price'].corr(data['rooms'])\n",
    "plt.scatter(data['rooms'], data['last_price'], marker='o', s=3)"
   ]
  },
  {
   "cell_type": "markdown",
   "metadata": {},
   "source": [
    "По данному графику видно что наибольшая цена идет от 3х до 5 комнат."
   ]
  },
  {
   "cell_type": "code",
   "execution_count": 45,
   "metadata": {
    "scrolled": false
   },
   "outputs": [
    {
     "data": {
      "text/html": [
       "<div>\n",
       "<style scoped>\n",
       "    .dataframe tbody tr th:only-of-type {\n",
       "        vertical-align: middle;\n",
       "    }\n",
       "\n",
       "    .dataframe tbody tr th {\n",
       "        vertical-align: top;\n",
       "    }\n",
       "\n",
       "    .dataframe thead th {\n",
       "        text-align: right;\n",
       "    }\n",
       "</style>\n",
       "<table border=\"1\" class=\"dataframe\">\n",
       "  <thead>\n",
       "    <tr style=\"text-align: right;\">\n",
       "      <th></th>\n",
       "      <th>mean</th>\n",
       "      <th>count</th>\n",
       "      <th>median</th>\n",
       "    </tr>\n",
       "    <tr>\n",
       "      <th>floor_category</th>\n",
       "      <th></th>\n",
       "      <th></th>\n",
       "      <th></th>\n",
       "    </tr>\n",
       "  </thead>\n",
       "  <tbody>\n",
       "    <tr>\n",
       "      <th>другой</th>\n",
       "      <td>6.207357e+06</td>\n",
       "      <td>13746</td>\n",
       "      <td>4800000</td>\n",
       "    </tr>\n",
       "    <tr>\n",
       "      <th>первый</th>\n",
       "      <td>4.603186e+06</td>\n",
       "      <td>2889</td>\n",
       "      <td>3900000</td>\n",
       "    </tr>\n",
       "    <tr>\n",
       "      <th>последний</th>\n",
       "      <td>5.743041e+06</td>\n",
       "      <td>882</td>\n",
       "      <td>4600000</td>\n",
       "    </tr>\n",
       "  </tbody>\n",
       "</table>\n",
       "</div>"
      ],
      "text/plain": [
       "                        mean  count   median\n",
       "floor_category                              \n",
       "другой          6.207357e+06  13746  4800000\n",
       "первый          4.603186e+06   2889  3900000\n",
       "последний       5.743041e+06    882  4600000"
      ]
     },
     "execution_count": 45,
     "metadata": {},
     "output_type": "execute_result"
    },
    {
     "data": {
      "image/png": "[encoded data removed]",
      "text/plain": [
       "<Figure size 432x288 with 1 Axes>"
      ]
     },
     "metadata": {
      "needs_background": "light"
     },
     "output_type": "display_data"
    }
   ],
   "source": [
    "#зависимость от этажа\n",
    "pivot_table_floor_category = data.pivot_table(index = 'floor_category', values = 'last_price',aggfunc = ['mean', 'count', 'median'])\n",
    "pivot_table_floor_category.columns = ['mean', 'count', 'median']\n",
    "pivot_table_floor_category.plot(y = 'median')\n",
    "pivot_table_floor_category\n"
   ]
  },
  {
   "cell_type": "markdown",
   "metadata": {},
   "source": [
    "Самые дорогие квартиры получаются из категории Другие, т.е первый и последний этаже дешевле. Но самый дешевый этой первый этаж."
   ]
  },
  {
   "cell_type": "code",
   "execution_count": 46,
   "metadata": {},
   "outputs": [
    {
     "data": {
      "text/html": [
       "<div>\n",
       "<style scoped>\n",
       "    .dataframe tbody tr th:only-of-type {\n",
       "        vertical-align: middle;\n",
       "    }\n",
       "\n",
       "    .dataframe tbody tr th {\n",
       "        vertical-align: top;\n",
       "    }\n",
       "\n",
       "    .dataframe thead th {\n",
       "        text-align: right;\n",
       "    }\n",
       "</style>\n",
       "<table border=\"1\" class=\"dataframe\">\n",
       "  <thead>\n",
       "    <tr style=\"text-align: right;\">\n",
       "      <th></th>\n",
       "      <th>mean</th>\n",
       "      <th>count</th>\n",
       "      <th>median</th>\n",
       "    </tr>\n",
       "    <tr>\n",
       "      <th>weekday_exposition</th>\n",
       "      <th></th>\n",
       "      <th></th>\n",
       "      <th></th>\n",
       "    </tr>\n",
       "  </thead>\n",
       "  <tbody>\n",
       "    <tr>\n",
       "      <th>1</th>\n",
       "      <td>5.951204e+06</td>\n",
       "      <td>4121</td>\n",
       "      <td>4700000</td>\n",
       "    </tr>\n",
       "    <tr>\n",
       "      <th>2</th>\n",
       "      <td>5.876213e+06</td>\n",
       "      <td>3883</td>\n",
       "      <td>4650000</td>\n",
       "    </tr>\n",
       "    <tr>\n",
       "      <th>0</th>\n",
       "      <td>5.939899e+06</td>\n",
       "      <td>3553</td>\n",
       "      <td>4600000</td>\n",
       "    </tr>\n",
       "    <tr>\n",
       "      <th>3</th>\n",
       "      <td>6.130432e+06</td>\n",
       "      <td>4203</td>\n",
       "      <td>4600000</td>\n",
       "    </tr>\n",
       "    <tr>\n",
       "      <th>4</th>\n",
       "      <td>5.795438e+06</td>\n",
       "      <td>3933</td>\n",
       "      <td>4500000</td>\n",
       "    </tr>\n",
       "    <tr>\n",
       "      <th>5</th>\n",
       "      <td>5.834390e+06</td>\n",
       "      <td>1896</td>\n",
       "      <td>4500000</td>\n",
       "    </tr>\n",
       "    <tr>\n",
       "      <th>6</th>\n",
       "      <td>5.614885e+06</td>\n",
       "      <td>1660</td>\n",
       "      <td>4500000</td>\n",
       "    </tr>\n",
       "  </tbody>\n",
       "</table>\n",
       "</div>"
      ],
      "text/plain": [
       "                            mean  count   median\n",
       "weekday_exposition                              \n",
       "1                   5.951204e+06   4121  4700000\n",
       "2                   5.876213e+06   3883  4650000\n",
       "0                   5.939899e+06   3553  4600000\n",
       "3                   6.130432e+06   4203  4600000\n",
       "4                   5.795438e+06   3933  4500000\n",
       "5                   5.834390e+06   1896  4500000\n",
       "6                   5.614885e+06   1660  4500000"
      ]
     },
     "execution_count": 46,
     "metadata": {},
     "output_type": "execute_result"
    },
    {
     "data": {
      "image/png": "[encoded data removed]",
      "text/plain": [
       "<Figure size 432x288 with 1 Axes>"
      ]
     },
     "metadata": {
      "needs_background": "light"
     },
     "output_type": "display_data"
    }
   ],
   "source": [
    "# зависимость от дня недели\n",
    "pivot_table_weekday_exposition = data.pivot_table(index = 'weekday_exposition',\n",
    "                                                  values = 'last_price',\n",
    "                                                  aggfunc = ['mean', 'count', 'median'])\n",
    "pivot_table_weekday_exposition.columns = ['mean', 'count', 'median']\n",
    "pivot_table_weekday_exposition.plot(y = 'median')\n",
    "\n",
    "pivot_table_weekday_exposition.sort_values('median', ascending = False)"
   ]
  },
  {
   "cell_type": "markdown",
   "metadata": {},
   "source": [
    "К вторнику идет рост в цене, снижение стоимости к выходным"
   ]
  },
  {
   "cell_type": "code",
   "execution_count": 47,
   "metadata": {},
   "outputs": [
    {
     "data": {
      "text/html": [
       "<div>\n",
       "<style scoped>\n",
       "    .dataframe tbody tr th:only-of-type {\n",
       "        vertical-align: middle;\n",
       "    }\n",
       "\n",
       "    .dataframe tbody tr th {\n",
       "        vertical-align: top;\n",
       "    }\n",
       "\n",
       "    .dataframe thead th {\n",
       "        text-align: right;\n",
       "    }\n",
       "</style>\n",
       "<table border=\"1\" class=\"dataframe\">\n",
       "  <thead>\n",
       "    <tr style=\"text-align: right;\">\n",
       "      <th></th>\n",
       "      <th>mean</th>\n",
       "      <th>count</th>\n",
       "      <th>median</th>\n",
       "    </tr>\n",
       "    <tr>\n",
       "      <th>month_exposition</th>\n",
       "      <th></th>\n",
       "      <th></th>\n",
       "      <th></th>\n",
       "    </tr>\n",
       "  </thead>\n",
       "  <tbody>\n",
       "    <tr>\n",
       "      <th>4</th>\n",
       "      <td>5.919376e+06</td>\n",
       "      <td>2325</td>\n",
       "      <td>4755000</td>\n",
       "    </tr>\n",
       "    <tr>\n",
       "      <th>9</th>\n",
       "      <td>5.981155e+06</td>\n",
       "      <td>1944</td>\n",
       "      <td>4650000</td>\n",
       "    </tr>\n",
       "    <tr>\n",
       "      <th>11</th>\n",
       "      <td>5.986231e+06</td>\n",
       "      <td>2330</td>\n",
       "      <td>4650000</td>\n",
       "    </tr>\n",
       "    <tr>\n",
       "      <th>12</th>\n",
       "      <td>6.106604e+06</td>\n",
       "      <td>1613</td>\n",
       "      <td>4650000</td>\n",
       "    </tr>\n",
       "    <tr>\n",
       "      <th>2</th>\n",
       "      <td>6.003955e+06</td>\n",
       "      <td>2605</td>\n",
       "      <td>4600000</td>\n",
       "    </tr>\n",
       "    <tr>\n",
       "      <th>3</th>\n",
       "      <td>5.738878e+06</td>\n",
       "      <td>2542</td>\n",
       "      <td>4600000</td>\n",
       "    </tr>\n",
       "    <tr>\n",
       "      <th>7</th>\n",
       "      <td>5.865100e+06</td>\n",
       "      <td>1656</td>\n",
       "      <td>4600000</td>\n",
       "    </tr>\n",
       "    <tr>\n",
       "      <th>1</th>\n",
       "      <td>5.944930e+06</td>\n",
       "      <td>1461</td>\n",
       "      <td>4575000</td>\n",
       "    </tr>\n",
       "    <tr>\n",
       "      <th>8</th>\n",
       "      <td>5.956904e+06</td>\n",
       "      <td>1721</td>\n",
       "      <td>4550000</td>\n",
       "    </tr>\n",
       "    <tr>\n",
       "      <th>10</th>\n",
       "      <td>5.771066e+06</td>\n",
       "      <td>2084</td>\n",
       "      <td>4550000</td>\n",
       "    </tr>\n",
       "    <tr>\n",
       "      <th>5</th>\n",
       "      <td>5.874726e+06</td>\n",
       "      <td>1243</td>\n",
       "      <td>4500000</td>\n",
       "    </tr>\n",
       "    <tr>\n",
       "      <th>6</th>\n",
       "      <td>5.793390e+06</td>\n",
       "      <td>1725</td>\n",
       "      <td>4399000</td>\n",
       "    </tr>\n",
       "  </tbody>\n",
       "</table>\n",
       "</div>"
      ],
      "text/plain": [
       "                          mean  count   median\n",
       "month_exposition                              \n",
       "4                 5.919376e+06   2325  4755000\n",
       "9                 5.981155e+06   1944  4650000\n",
       "11                5.986231e+06   2330  4650000\n",
       "12                6.106604e+06   1613  4650000\n",
       "2                 6.003955e+06   2605  4600000\n",
       "3                 5.738878e+06   2542  4600000\n",
       "7                 5.865100e+06   1656  4600000\n",
       "1                 5.944930e+06   1461  4575000\n",
       "8                 5.956904e+06   1721  4550000\n",
       "10                5.771066e+06   2084  4550000\n",
       "5                 5.874726e+06   1243  4500000\n",
       "6                 5.793390e+06   1725  4399000"
      ]
     },
     "execution_count": 47,
     "metadata": {},
     "output_type": "execute_result"
    },
    {
     "data": {
      "image/png": "[encoded data removed]",
      "text/plain": [
       "<Figure size 432x288 with 1 Axes>"
      ]
     },
     "metadata": {
      "needs_background": "light"
     },
     "output_type": "display_data"
    }
   ],
   "source": [
    "# зависимость от месяца\n",
    "pivot_table_weekday_exposition = data.pivot_table(index = 'month_exposition',\n",
    "                                                  values = 'last_price',\n",
    "                                                  aggfunc = ['mean', 'count', 'median'])\n",
    "pivot_table_weekday_exposition.columns = ['mean', 'count', 'median']\n",
    "pivot_table_weekday_exposition.plot(y = 'median')\n",
    "\n",
    "pivot_table_weekday_exposition.sort_values('median', ascending = False)"
   ]
  },
  {
   "cell_type": "markdown",
   "metadata": {},
   "source": [
    " Самая высокая стоимость апрель. Самая низкая стоимость в мае. Сезонность(количество спроса) влияет и на рынок недвижимости."
   ]
  },
  {
   "cell_type": "code",
   "execution_count": 48,
   "metadata": {},
   "outputs": [
    {
     "data": {
      "text/html": [
       "<div>\n",
       "<style scoped>\n",
       "    .dataframe tbody tr th:only-of-type {\n",
       "        vertical-align: middle;\n",
       "    }\n",
       "\n",
       "    .dataframe tbody tr th {\n",
       "        vertical-align: top;\n",
       "    }\n",
       "\n",
       "    .dataframe thead th {\n",
       "        text-align: right;\n",
       "    }\n",
       "</style>\n",
       "<table border=\"1\" class=\"dataframe\">\n",
       "  <thead>\n",
       "    <tr style=\"text-align: right;\">\n",
       "      <th></th>\n",
       "      <th>mean</th>\n",
       "      <th>count</th>\n",
       "      <th>median</th>\n",
       "    </tr>\n",
       "    <tr>\n",
       "      <th>year_exposition</th>\n",
       "      <th></th>\n",
       "      <th></th>\n",
       "      <th></th>\n",
       "    </tr>\n",
       "  </thead>\n",
       "  <tbody>\n",
       "    <tr>\n",
       "      <th>2014</th>\n",
       "      <td>1.067378e+07</td>\n",
       "      <td>131</td>\n",
       "      <td>7500000</td>\n",
       "    </tr>\n",
       "    <tr>\n",
       "      <th>2015</th>\n",
       "      <td>7.165365e+06</td>\n",
       "      <td>1131</td>\n",
       "      <td>5200000</td>\n",
       "    </tr>\n",
       "    <tr>\n",
       "      <th>2019</th>\n",
       "      <td>6.318811e+06</td>\n",
       "      <td>2844</td>\n",
       "      <td>5000000</td>\n",
       "    </tr>\n",
       "    <tr>\n",
       "      <th>2018</th>\n",
       "      <td>5.594605e+06</td>\n",
       "      <td>8403</td>\n",
       "      <td>4538000</td>\n",
       "    </tr>\n",
       "    <tr>\n",
       "      <th>2016</th>\n",
       "      <td>6.030617e+06</td>\n",
       "      <td>2703</td>\n",
       "      <td>4500000</td>\n",
       "    </tr>\n",
       "    <tr>\n",
       "      <th>2017</th>\n",
       "      <td>5.798664e+06</td>\n",
       "      <td>8037</td>\n",
       "      <td>4499000</td>\n",
       "    </tr>\n",
       "  </tbody>\n",
       "</table>\n",
       "</div>"
      ],
      "text/plain": [
       "                         mean  count   median\n",
       "year_exposition                              \n",
       "2014             1.067378e+07    131  7500000\n",
       "2015             7.165365e+06   1131  5200000\n",
       "2019             6.318811e+06   2844  5000000\n",
       "2018             5.594605e+06   8403  4538000\n",
       "2016             6.030617e+06   2703  4500000\n",
       "2017             5.798664e+06   8037  4499000"
      ]
     },
     "execution_count": 48,
     "metadata": {},
     "output_type": "execute_result"
    },
    {
     "data": {
      "image/png": "[encoded data removed]",
      "text/plain": [
       "<Figure size 432x288 with 1 Axes>"
      ]
     },
     "metadata": {
      "needs_background": "light"
     },
     "output_type": "display_data"
    }
   ],
   "source": [
    "pivot_table_year_exposition = data.pivot_table(index = 'year_exposition',\n",
    "                                               values = 'last_price',\n",
    "                                               aggfunc = ['mean', 'count', 'median'])\n",
    "pivot_table_year_exposition.columns = ['mean', 'count', 'median']\n",
    "pivot_table_year_exposition.plot(y = 'median')\n",
    "\n",
    "pivot_table_year_exposition.sort_values('median', ascending = False)"
   ]
  },
  {
   "cell_type": "markdown",
   "metadata": {},
   "source": [
    "С 2014 года идет снижение цены вплоть до 2016 года. В дальнейшем идет постепенное увеличение стоимости. В 2014 году сервисом пользовалась лишь малая часть людей, стоимость недвижимости у которых была выше средней по рынку (и медиана выше), а в последующие годы «подтянулся» массовый продавец и цена пополза вниз..."
   ]
  },
  {
   "cell_type": "code",
   "execution_count": 49,
   "metadata": {},
   "outputs": [
    {
     "data": {
      "text/html": [
       "<div>\n",
       "<style scoped>\n",
       "    .dataframe tbody tr th:only-of-type {\n",
       "        vertical-align: middle;\n",
       "    }\n",
       "\n",
       "    .dataframe tbody tr th {\n",
       "        vertical-align: top;\n",
       "    }\n",
       "\n",
       "    .dataframe thead th {\n",
       "        text-align: right;\n",
       "    }\n",
       "</style>\n",
       "<table border=\"1\" class=\"dataframe\">\n",
       "  <thead>\n",
       "    <tr style=\"text-align: right;\">\n",
       "      <th></th>\n",
       "      <th>count</th>\n",
       "      <th>mean</th>\n",
       "    </tr>\n",
       "    <tr>\n",
       "      <th>locality_name</th>\n",
       "      <th></th>\n",
       "      <th></th>\n",
       "    </tr>\n",
       "  </thead>\n",
       "  <tbody>\n",
       "    <tr>\n",
       "      <th>Санкт-Петербург</th>\n",
       "      <td>15358</td>\n",
       "      <td>113616.019273</td>\n",
       "    </tr>\n",
       "    <tr>\n",
       "      <th>посёлок Мурино</th>\n",
       "      <td>520</td>\n",
       "      <td>86298.390385</td>\n",
       "    </tr>\n",
       "    <tr>\n",
       "      <th>посёлок Шушары</th>\n",
       "      <td>439</td>\n",
       "      <td>78943.056948</td>\n",
       "    </tr>\n",
       "    <tr>\n",
       "      <th>Всеволожск</th>\n",
       "      <td>398</td>\n",
       "      <td>68984.801508</td>\n",
       "    </tr>\n",
       "    <tr>\n",
       "      <th>Пушкин</th>\n",
       "      <td>363</td>\n",
       "      <td>103540.068871</td>\n",
       "    </tr>\n",
       "    <tr>\n",
       "      <th>Колпино</th>\n",
       "      <td>337</td>\n",
       "      <td>75644.335312</td>\n",
       "    </tr>\n",
       "    <tr>\n",
       "      <th>посёлок Парголово</th>\n",
       "      <td>326</td>\n",
       "      <td>90832.819018</td>\n",
       "    </tr>\n",
       "    <tr>\n",
       "      <th>Гатчина</th>\n",
       "      <td>307</td>\n",
       "      <td>69045.068404</td>\n",
       "    </tr>\n",
       "    <tr>\n",
       "      <th>деревня Кудрово</th>\n",
       "      <td>299</td>\n",
       "      <td>93001.742475</td>\n",
       "    </tr>\n",
       "    <tr>\n",
       "      <th>Выборг</th>\n",
       "      <td>235</td>\n",
       "      <td>58230.987234</td>\n",
       "    </tr>\n",
       "  </tbody>\n",
       "</table>\n",
       "</div>"
      ],
      "text/plain": [
       "                   count           mean\n",
       "locality_name                          \n",
       "Санкт-Петербург    15358  113616.019273\n",
       "посёлок Мурино       520   86298.390385\n",
       "посёлок Шушары       439   78943.056948\n",
       "Всеволожск           398   68984.801508\n",
       "Пушкин               363  103540.068871\n",
       "Колпино              337   75644.335312\n",
       "посёлок Парголово    326   90832.819018\n",
       "Гатчина              307   69045.068404\n",
       "деревня Кудрово      299   93001.742475\n",
       "Выборг               235   58230.987234"
      ]
     },
     "execution_count": 49,
     "metadata": {},
     "output_type": "execute_result"
    }
   ],
   "source": [
    "locality_pivot_table = data.pivot_table(index = 'locality_name', values = 'price_per_square_meter', aggfunc=['count', 'mean'])\n",
    "locality_pivot_table.columns = ['count', 'mean']\n",
    "locality_pivot_table = locality_pivot_table.sort_values('count', ascending = False).head(10)\n",
    "locality_pivot_table\n",
    "#самая высокая стоимость\n",
    "#locality_pivot_table[locality_pivot_table['mean']==locality_pivot_table['mean'].max()]\n",
    "#самая низкая стоимость\n",
    "#locality_pivot_table[locality_pivot_table['mean']==locality_pivot_table['mean'].min()]"
   ]
  },
  {
   "cell_type": "markdown",
   "metadata": {},
   "source": [
    "Самая высокая стоимость квартир из 10 населённых пунктов с самым большим количеством объявлений в Санкт-Петербурге, а самая низкая стоимость в Выборге."
   ]
  },
  {
   "cell_type": "code",
   "execution_count": 50,
   "metadata": {},
   "outputs": [
    {
     "data": {
      "text/html": [
       "<div>\n",
       "<style scoped>\n",
       "    .dataframe tbody tr th:only-of-type {\n",
       "        vertical-align: middle;\n",
       "    }\n",
       "\n",
       "    .dataframe tbody tr th {\n",
       "        vertical-align: top;\n",
       "    }\n",
       "\n",
       "    .dataframe thead th {\n",
       "        text-align: right;\n",
       "    }\n",
       "</style>\n",
       "<table border=\"1\" class=\"dataframe\">\n",
       "  <thead>\n",
       "    <tr style=\"text-align: right;\">\n",
       "      <th></th>\n",
       "      <th>last_price</th>\n",
       "    </tr>\n",
       "    <tr>\n",
       "      <th>cityCenters_nearest_km</th>\n",
       "      <th></th>\n",
       "    </tr>\n",
       "  </thead>\n",
       "  <tbody>\n",
       "    <tr>\n",
       "      <th>0</th>\n",
       "      <td>1.510328e+07</td>\n",
       "    </tr>\n",
       "    <tr>\n",
       "      <th>1</th>\n",
       "      <td>1.205890e+07</td>\n",
       "    </tr>\n",
       "    <tr>\n",
       "      <th>2</th>\n",
       "      <td>1.194674e+07</td>\n",
       "    </tr>\n",
       "    <tr>\n",
       "      <th>3</th>\n",
       "      <td>1.019894e+07</td>\n",
       "    </tr>\n",
       "    <tr>\n",
       "      <th>4</th>\n",
       "      <td>1.134743e+07</td>\n",
       "    </tr>\n",
       "    <tr>\n",
       "      <th>5</th>\n",
       "      <td>1.163901e+07</td>\n",
       "    </tr>\n",
       "    <tr>\n",
       "      <th>6</th>\n",
       "      <td>1.233496e+07</td>\n",
       "    </tr>\n",
       "    <tr>\n",
       "      <th>7</th>\n",
       "      <td>1.054619e+07</td>\n",
       "    </tr>\n",
       "    <tr>\n",
       "      <th>8</th>\n",
       "      <td>8.220066e+06</td>\n",
       "    </tr>\n",
       "    <tr>\n",
       "      <th>9</th>\n",
       "      <td>6.282008e+06</td>\n",
       "    </tr>\n",
       "  </tbody>\n",
       "</table>\n",
       "</div>"
      ],
      "text/plain": [
       "                          last_price\n",
       "cityCenters_nearest_km              \n",
       "0                       1.510328e+07\n",
       "1                       1.205890e+07\n",
       "2                       1.194674e+07\n",
       "3                       1.019894e+07\n",
       "4                       1.134743e+07\n",
       "5                       1.163901e+07\n",
       "6                       1.233496e+07\n",
       "7                       1.054619e+07\n",
       "8                       8.220066e+06\n",
       "9                       6.282008e+06"
      ]
     },
     "execution_count": 50,
     "metadata": {},
     "output_type": "execute_result"
    },
    {
     "data": {
      "image/png": "[encoded data removed]",
      "text/plain": [
       "<Figure size 432x288 with 1 Axes>"
      ]
     },
     "metadata": {
      "needs_background": "light"
     },
     "output_type": "display_data"
    }
   ],
   "source": [
    "#средняя цена каждого километра квартир в Санкт-Петербурге\n",
    "pivot_table_km_city_center = data.query('locality_name == \"Санкт-Петербург\" and cityCenters_nearest_km !=1000000')\\\n",
    ".pivot_table(index = 'cityCenters_nearest_km',\n",
    "                                                                                                                               values = 'last_price',\n",
    "                                                                                                                               aggfunc = 'mean')\n",
    "pivot_table_km_city_center.plot()\n",
    "pivot_table_km_city_center.head(10)"
   ]
  },
  {
   "cell_type": "markdown",
   "metadata": {},
   "source": [
    "Судя по данным - стоимость квадратоного метра уменьшается чем дальше от центра."
   ]
  },
  {
   "cell_type": "markdown",
   "metadata": {},
   "source": [
    "### Общий вывод"
   ]
  },
  {
   "cell_type": "markdown",
   "metadata": {},
   "source": [
    "Произвел обработку пропущенных значений где было необходимо, изменил тип данных для более удобной работы с ними\n",
    "Посчитал и добавил в таблицу цену квадратного метра жилья, добавил из даты дни недели, месяцы и года размещения, добавил категории по этажам квартир. \n",
    "Изучая время продажи квартир выявил, большое количество объявлений скорей всего было снято автоматически с продажи, поэтому это время не учитывалось, среднее время составило 180 дней, медиана 95.С помощью диаграммы размаха, выявил что нормальные значения продажи квартир варьируются от 1 до 550(600) днейй. Так же на стоимость квадратного метра больше всего влияют жилая площадь, количество комнат, этаж квартиры. Незначительно на стоимость квадратного метра влияют день, месяц, год размещения. Сезонность не мало важный фактор в продажах недвижимости. Так же чем ближе к центру стоиомсть квадратного метра увеличивается.С 2014 года по 2016 год было снижение стоимостью жилья, с последующим увеличением. \n",
    "В целом мы смотрели средние показатели по рынку недвижимости за промежуток времени(2014-2019 года)\n",
    "\n",
    "\n"
   ]
  },
  {
   "cell_type": "markdown",
   "metadata": {},
   "source": [
    "### Итоговый вывод\n",
    "\n",
    "Основным параметром для определения стоимости квартиры - это стоимость квадратного метра.\n",
    "Даты продаж позволят определить, в какой момент лучше продвигать рекламную компанию по продаже домов. В какие месяцы или дни недели. Количество продаж по годам имеет естественную зависимость от количество жителей города.\n",
    "Этажи квартир. Наиболее сильная корреляция наблюдается между площадью квартиры и ее стоимостью (коэфф. корреляции 0,65).\n",
    "Так же коэффициент корреляции 0,5 находится при соотношении общей стоимости и жилой площади что логично, чем больше жилая площадь тем и выше зависимости по цене.\n",
    "Стоимость квартиры также напрямую зависит от числа комнат: чем их больше, тем квартира дороже. Но это верно, пока число комнат не превышает четырех: 5- или 6-комнатные квартиры могут быть проданы дешевле 4-комнатных, и вызвано это скорее всего отсутствием спроса.\n",
    "Квартиры на первом или последнем этаже обычно продаются по более низкой цене, чем квартиры на других этажах.\n",
    "\n",
    "Пригороды к Санкт-Петербургу имеют тенденцию к снижению цен за квартиру ввиду отсуствия престижа.\n",
    "Центр города место одно из самых больших по стоимости квартир.\n",
    "\n",
    "\n"
   ]
  }
 ],
 "metadata": {
  "ExecuteTimeLog": [
   {
    "duration": 603,
    "start_time": "2022-08-25T13:51:16.747Z"
   },
   {
    "duration": 99,
    "start_time": "2022-08-25T13:51:32.997Z"
   },
   {
    "duration": 89,
    "start_time": "2022-08-25T13:51:45.577Z"
   },
   {
    "duration": 88,
    "start_time": "2022-08-25T13:52:47.008Z"
   },
   {
    "duration": 526,
    "start_time": "2022-08-25T13:53:39.961Z"
   },
   {
    "duration": 101,
    "start_time": "2022-08-25T13:56:53.119Z"
   },
   {
    "duration": 88,
    "start_time": "2022-08-25T13:57:57.908Z"
   },
   {
    "duration": 93,
    "start_time": "2022-08-25T13:58:15.235Z"
   },
   {
    "duration": 107,
    "start_time": "2022-08-25T14:00:11.893Z"
   },
   {
    "duration": 206,
    "start_time": "2022-08-25T14:00:57.606Z"
   },
   {
    "duration": 117,
    "start_time": "2022-08-25T14:01:01.847Z"
   },
   {
    "duration": 120,
    "start_time": "2022-08-25T14:02:48.000Z"
   },
   {
    "duration": 112,
    "start_time": "2022-08-25T14:05:37.395Z"
   },
   {
    "duration": 101,
    "start_time": "2022-08-25T14:05:43.818Z"
   },
   {
    "duration": 92,
    "start_time": "2022-08-25T14:09:21.010Z"
   },
   {
    "duration": 94,
    "start_time": "2022-08-25T14:09:22.791Z"
   },
   {
    "duration": 110,
    "start_time": "2022-08-25T14:09:47.504Z"
   },
   {
    "duration": 86,
    "start_time": "2022-08-25T14:10:33.536Z"
   },
   {
    "duration": 110,
    "start_time": "2022-08-25T14:10:38.736Z"
   },
   {
    "duration": 96,
    "start_time": "2022-08-25T14:11:18.137Z"
   },
   {
    "duration": 752,
    "start_time": "2022-08-25T14:16:50.838Z"
   },
   {
    "duration": 173,
    "start_time": "2022-08-25T14:17:36.865Z"
   },
   {
    "duration": 94,
    "start_time": "2022-08-25T14:20:45.797Z"
   },
   {
    "duration": 117,
    "start_time": "2022-08-25T14:21:25.989Z"
   },
   {
    "duration": 97,
    "start_time": "2022-08-25T14:21:44.638Z"
   },
   {
    "duration": 97,
    "start_time": "2022-08-25T14:22:28.840Z"
   },
   {
    "duration": 107,
    "start_time": "2022-08-25T14:23:24.633Z"
   },
   {
    "duration": 121,
    "start_time": "2022-08-25T14:24:41.260Z"
   },
   {
    "duration": 123,
    "start_time": "2022-08-25T14:26:26.660Z"
   },
   {
    "duration": 112,
    "start_time": "2022-08-25T14:26:41.185Z"
   },
   {
    "duration": 105,
    "start_time": "2022-08-25T14:31:57.667Z"
   },
   {
    "duration": 91,
    "start_time": "2022-08-25T14:42:29.032Z"
   },
   {
    "duration": 90,
    "start_time": "2022-08-25T14:43:29.130Z"
   },
   {
    "duration": 95,
    "start_time": "2022-08-25T14:44:40.604Z"
   },
   {
    "duration": 107,
    "start_time": "2022-08-25T14:45:24.326Z"
   },
   {
    "duration": 128,
    "start_time": "2022-08-25T14:46:08.501Z"
   },
   {
    "duration": 126,
    "start_time": "2022-08-25T14:49:11.898Z"
   },
   {
    "duration": 2269,
    "start_time": "2022-08-25T14:49:18.336Z"
   },
   {
    "duration": 1983,
    "start_time": "2022-08-25T14:51:15.643Z"
   },
   {
    "duration": 123,
    "start_time": "2022-08-25T14:51:57.302Z"
   },
   {
    "duration": 6,
    "start_time": "2022-08-25T14:52:14.252Z"
   },
   {
    "duration": 704,
    "start_time": "2022-08-26T08:34:16.832Z"
   },
   {
    "duration": 117,
    "start_time": "2022-08-26T08:38:25.197Z"
   },
   {
    "duration": 7,
    "start_time": "2022-08-26T08:39:53.105Z"
   },
   {
    "duration": 15,
    "start_time": "2022-08-26T08:40:03.857Z"
   },
   {
    "duration": 7,
    "start_time": "2022-08-26T08:40:43.230Z"
   },
   {
    "duration": 113,
    "start_time": "2022-08-26T08:40:57.519Z"
   },
   {
    "duration": 7,
    "start_time": "2022-08-26T08:40:59.894Z"
   },
   {
    "duration": 19,
    "start_time": "2022-08-26T08:41:18.952Z"
   },
   {
    "duration": 34,
    "start_time": "2022-08-26T08:47:03.297Z"
   },
   {
    "duration": 28,
    "start_time": "2022-08-26T08:47:53.418Z"
   },
   {
    "duration": 33,
    "start_time": "2022-08-26T08:53:17.541Z"
   },
   {
    "duration": 123,
    "start_time": "2022-08-26T08:53:49.429Z"
   },
   {
    "duration": 32,
    "start_time": "2022-08-26T08:54:08.348Z"
   },
   {
    "duration": 32,
    "start_time": "2022-08-26T08:54:10.539Z"
   },
   {
    "duration": 6,
    "start_time": "2022-08-26T08:54:17.308Z"
   },
   {
    "duration": 7,
    "start_time": "2022-08-26T08:54:34.475Z"
   },
   {
    "duration": 6,
    "start_time": "2022-08-26T08:54:53.056Z"
   },
   {
    "duration": 6,
    "start_time": "2022-08-26T08:55:02.868Z"
   },
   {
    "duration": 5,
    "start_time": "2022-08-26T08:55:21.851Z"
   },
   {
    "duration": 7,
    "start_time": "2022-08-26T08:55:38.691Z"
   },
   {
    "duration": 8,
    "start_time": "2022-08-26T08:55:51.491Z"
   },
   {
    "duration": 5,
    "start_time": "2022-08-26T08:58:52.686Z"
   },
   {
    "duration": 6,
    "start_time": "2022-08-26T08:59:01.077Z"
   },
   {
    "duration": 6,
    "start_time": "2022-08-26T08:59:29.877Z"
   },
   {
    "duration": 6,
    "start_time": "2022-08-26T08:59:42.465Z"
   },
   {
    "duration": 6,
    "start_time": "2022-08-26T08:59:49.989Z"
   },
   {
    "duration": 7,
    "start_time": "2022-08-26T09:00:22.414Z"
   },
   {
    "duration": 6,
    "start_time": "2022-08-26T09:00:33.095Z"
   },
   {
    "duration": 5,
    "start_time": "2022-08-26T09:03:30.127Z"
   },
   {
    "duration": 2506,
    "start_time": "2022-08-26T09:07:32.563Z"
   },
   {
    "duration": 115,
    "start_time": "2022-08-26T09:08:06.574Z"
   },
   {
    "duration": 8,
    "start_time": "2022-08-26T09:08:49.646Z"
   },
   {
    "duration": 34,
    "start_time": "2022-08-26T09:08:53.935Z"
   },
   {
    "duration": 9,
    "start_time": "2022-08-26T09:10:02.660Z"
   },
   {
    "duration": 8,
    "start_time": "2022-08-26T09:10:23.983Z"
   },
   {
    "duration": 10,
    "start_time": "2022-08-26T09:10:44.224Z"
   },
   {
    "duration": 10,
    "start_time": "2022-08-26T09:11:00.865Z"
   },
   {
    "duration": 9,
    "start_time": "2022-08-26T09:11:27.103Z"
   },
   {
    "duration": 9,
    "start_time": "2022-08-26T09:13:56.770Z"
   },
   {
    "duration": 28,
    "start_time": "2022-08-26T09:16:12.770Z"
   },
   {
    "duration": 43,
    "start_time": "2022-08-26T09:16:25.898Z"
   },
   {
    "duration": 25,
    "start_time": "2022-08-26T09:17:20.571Z"
   },
   {
    "duration": 23,
    "start_time": "2022-08-26T09:17:39.538Z"
   },
   {
    "duration": 41,
    "start_time": "2022-08-26T09:21:20.492Z"
   },
   {
    "duration": 102,
    "start_time": "2022-08-26T09:22:11.137Z"
   },
   {
    "duration": 54,
    "start_time": "2022-08-26T09:23:06.406Z"
   },
   {
    "duration": 22,
    "start_time": "2022-08-26T09:24:24.582Z"
   },
   {
    "duration": 27,
    "start_time": "2022-08-26T09:26:30.784Z"
   },
   {
    "duration": 23,
    "start_time": "2022-08-26T09:26:42.798Z"
   },
   {
    "duration": 401,
    "start_time": "2022-08-26T09:27:55.487Z"
   },
   {
    "duration": 21,
    "start_time": "2022-08-26T09:30:59.021Z"
   },
   {
    "duration": 36,
    "start_time": "2022-08-26T09:31:20.787Z"
   },
   {
    "duration": 43,
    "start_time": "2022-08-26T09:31:39.766Z"
   },
   {
    "duration": 24,
    "start_time": "2022-08-26T09:32:18.557Z"
   },
   {
    "duration": 25,
    "start_time": "2022-08-26T09:32:37.617Z"
   },
   {
    "duration": 34,
    "start_time": "2022-08-26T09:32:55.321Z"
   },
   {
    "duration": 22,
    "start_time": "2022-08-26T09:33:00.810Z"
   },
   {
    "duration": 22,
    "start_time": "2022-08-26T09:33:30.258Z"
   },
   {
    "duration": 25,
    "start_time": "2022-08-26T09:33:41.706Z"
   },
   {
    "duration": 26,
    "start_time": "2022-08-26T09:33:47.682Z"
   },
   {
    "duration": 24,
    "start_time": "2022-08-26T09:33:54.337Z"
   },
   {
    "duration": 26,
    "start_time": "2022-08-26T09:34:52.491Z"
   },
   {
    "duration": 25,
    "start_time": "2022-08-26T09:35:22.938Z"
   },
   {
    "duration": 24,
    "start_time": "2022-08-26T09:35:43.154Z"
   },
   {
    "duration": 47,
    "start_time": "2022-08-26T09:36:02.850Z"
   },
   {
    "duration": 37,
    "start_time": "2022-08-26T09:36:10.212Z"
   },
   {
    "duration": 23,
    "start_time": "2022-08-26T09:36:16.523Z"
   },
   {
    "duration": 24,
    "start_time": "2022-08-26T09:36:22.498Z"
   },
   {
    "duration": 101,
    "start_time": "2022-08-26T09:37:58.124Z"
   },
   {
    "duration": 105,
    "start_time": "2022-08-26T09:38:22.796Z"
   },
   {
    "duration": 112,
    "start_time": "2022-08-26T09:38:31.988Z"
   },
   {
    "duration": 95,
    "start_time": "2022-08-26T09:39:36.725Z"
   },
   {
    "duration": 111,
    "start_time": "2022-08-26T09:40:58.141Z"
   },
   {
    "duration": 2153,
    "start_time": "2022-08-26T11:53:30.595Z"
   },
   {
    "duration": 102,
    "start_time": "2022-08-26T11:54:04.792Z"
   },
   {
    "duration": 99,
    "start_time": "2022-08-26T12:06:01.781Z"
   },
   {
    "duration": 5,
    "start_time": "2022-08-26T12:18:27.882Z"
   },
   {
    "duration": 6,
    "start_time": "2022-08-26T12:19:06.115Z"
   },
   {
    "duration": 179,
    "start_time": "2022-08-26T12:21:34.617Z"
   },
   {
    "duration": 186,
    "start_time": "2022-08-26T12:21:54.573Z"
   },
   {
    "duration": 198,
    "start_time": "2022-08-26T12:22:01.068Z"
   },
   {
    "duration": 199,
    "start_time": "2022-08-26T12:22:07.684Z"
   },
   {
    "duration": 220,
    "start_time": "2022-08-26T12:22:20.157Z"
   },
   {
    "duration": 220,
    "start_time": "2022-08-26T12:22:32.549Z"
   },
   {
    "duration": 269,
    "start_time": "2022-08-26T12:22:35.541Z"
   },
   {
    "duration": 166,
    "start_time": "2022-08-26T12:26:00.565Z"
   },
   {
    "duration": 178,
    "start_time": "2022-08-26T12:26:19.501Z"
   },
   {
    "duration": 215,
    "start_time": "2022-08-26T12:26:42.022Z"
   },
   {
    "duration": 205,
    "start_time": "2022-08-26T12:30:04.675Z"
   },
   {
    "duration": 509,
    "start_time": "2022-08-26T14:50:16.368Z"
   },
   {
    "duration": 19,
    "start_time": "2022-08-26T14:57:48.268Z"
   },
   {
    "duration": 7,
    "start_time": "2022-08-26T14:59:19.347Z"
   },
   {
    "duration": 6,
    "start_time": "2022-08-26T14:59:41.801Z"
   },
   {
    "duration": 49,
    "start_time": "2022-08-27T14:27:11.234Z"
   },
   {
    "duration": 762,
    "start_time": "2022-08-27T14:27:19.020Z"
   },
   {
    "duration": 565,
    "start_time": "2022-08-27T14:27:23.354Z"
   },
   {
    "duration": 137,
    "start_time": "2022-08-27T14:27:28.356Z"
   },
   {
    "duration": 147,
    "start_time": "2022-08-27T14:29:10.420Z"
   },
   {
    "duration": 198,
    "start_time": "2022-08-27T14:35:35.930Z"
   },
   {
    "duration": 29,
    "start_time": "2022-08-27T14:35:51.077Z"
   },
   {
    "duration": 30,
    "start_time": "2022-08-27T14:36:05.347Z"
   },
   {
    "duration": 28,
    "start_time": "2022-08-27T14:37:31.624Z"
   },
   {
    "duration": 5,
    "start_time": "2022-08-27T14:39:55.523Z"
   },
   {
    "duration": 8,
    "start_time": "2022-08-27T14:40:26.389Z"
   },
   {
    "duration": 150,
    "start_time": "2022-08-27T14:44:42.852Z"
   },
   {
    "duration": 7,
    "start_time": "2022-08-27T14:45:26.899Z"
   },
   {
    "duration": 171,
    "start_time": "2022-08-27T14:47:45.311Z"
   },
   {
    "duration": 4,
    "start_time": "2022-08-27T14:50:56.010Z"
   },
   {
    "duration": 7,
    "start_time": "2022-08-27T14:51:23.789Z"
   },
   {
    "duration": 9,
    "start_time": "2022-08-27T14:51:39.527Z"
   },
   {
    "duration": 743,
    "start_time": "2022-08-27T15:17:53.701Z"
   },
   {
    "duration": 682,
    "start_time": "2022-08-27T15:18:37.774Z"
   },
   {
    "duration": 495,
    "start_time": "2022-08-27T15:19:06.513Z"
   },
   {
    "duration": 19,
    "start_time": "2022-08-27T15:19:07.010Z"
   },
   {
    "duration": 392,
    "start_time": "2022-08-27T15:19:07.030Z"
   },
   {
    "duration": 5,
    "start_time": "2022-08-27T15:19:07.424Z"
   },
   {
    "duration": 9,
    "start_time": "2022-08-27T15:19:07.432Z"
   },
   {
    "duration": 5,
    "start_time": "2022-08-27T15:19:07.443Z"
   },
   {
    "duration": 6,
    "start_time": "2022-08-27T15:19:29.744Z"
   },
   {
    "duration": 4,
    "start_time": "2022-08-27T15:19:50.214Z"
   },
   {
    "duration": 6,
    "start_time": "2022-08-27T15:20:01.904Z"
   },
   {
    "duration": 371,
    "start_time": "2022-08-27T15:20:52.362Z"
   },
   {
    "duration": 4,
    "start_time": "2022-08-27T15:25:28.733Z"
   },
   {
    "duration": 8,
    "start_time": "2022-08-27T15:25:40.543Z"
   },
   {
    "duration": 78,
    "start_time": "2022-08-27T15:26:24.007Z"
   },
   {
    "duration": 12,
    "start_time": "2022-08-27T15:26:58.319Z"
   },
   {
    "duration": 5,
    "start_time": "2022-08-27T15:27:43.928Z"
   },
   {
    "duration": 6,
    "start_time": "2022-08-27T15:27:49.245Z"
   },
   {
    "duration": 755,
    "start_time": "2022-08-28T12:22:35.555Z"
   },
   {
    "duration": 19,
    "start_time": "2022-08-28T12:22:36.312Z"
   },
   {
    "duration": 548,
    "start_time": "2022-08-28T12:22:36.332Z"
   },
   {
    "duration": 5,
    "start_time": "2022-08-28T12:22:36.882Z"
   },
   {
    "duration": 17,
    "start_time": "2022-08-28T12:22:36.889Z"
   },
   {
    "duration": 327,
    "start_time": "2022-08-28T12:22:36.909Z"
   },
   {
    "duration": 7,
    "start_time": "2022-08-28T12:22:37.237Z"
   },
   {
    "duration": 295,
    "start_time": "2022-08-28T12:25:19.938Z"
   },
   {
    "duration": 246,
    "start_time": "2022-08-28T12:26:50.214Z"
   },
   {
    "duration": 180,
    "start_time": "2022-08-28T12:27:32.965Z"
   },
   {
    "duration": 59,
    "start_time": "2022-08-28T12:27:47.165Z"
   },
   {
    "duration": 289,
    "start_time": "2022-08-28T12:28:00.535Z"
   },
   {
    "duration": 288,
    "start_time": "2022-08-28T12:28:18.856Z"
   },
   {
    "duration": 328,
    "start_time": "2022-08-28T12:28:29.737Z"
   },
   {
    "duration": 283,
    "start_time": "2022-08-28T12:32:33.360Z"
   },
   {
    "duration": 297,
    "start_time": "2022-08-28T12:32:41.114Z"
   },
   {
    "duration": 190,
    "start_time": "2022-08-28T12:35:09.128Z"
   },
   {
    "duration": 185,
    "start_time": "2022-08-28T12:35:18.109Z"
   },
   {
    "duration": 455,
    "start_time": "2022-08-28T12:35:31.095Z"
   },
   {
    "duration": 273,
    "start_time": "2022-08-28T12:35:40.148Z"
   },
   {
    "duration": 259,
    "start_time": "2022-08-28T12:54:35.585Z"
   },
   {
    "duration": 267,
    "start_time": "2022-08-28T12:54:44.565Z"
   },
   {
    "duration": 171,
    "start_time": "2022-08-28T12:54:50.555Z"
   },
   {
    "duration": 257,
    "start_time": "2022-08-28T12:56:27.771Z"
   },
   {
    "duration": 305,
    "start_time": "2022-08-28T12:56:35.378Z"
   },
   {
    "duration": 245,
    "start_time": "2022-08-28T12:56:50.595Z"
   },
   {
    "duration": 144,
    "start_time": "2022-08-28T12:56:56.137Z"
   },
   {
    "duration": 265,
    "start_time": "2022-08-28T12:57:24.230Z"
   },
   {
    "duration": 260,
    "start_time": "2022-08-28T12:57:30.629Z"
   },
   {
    "duration": 296,
    "start_time": "2022-08-28T12:57:38.141Z"
   },
   {
    "duration": 355,
    "start_time": "2022-08-28T12:57:49.676Z"
   },
   {
    "duration": 153,
    "start_time": "2022-08-28T12:59:41.510Z"
   },
   {
    "duration": 531,
    "start_time": "2022-08-28T12:59:48.530Z"
   },
   {
    "duration": 16,
    "start_time": "2022-08-28T12:59:49.063Z"
   },
   {
    "duration": 391,
    "start_time": "2022-08-28T12:59:49.081Z"
   },
   {
    "duration": 5,
    "start_time": "2022-08-28T12:59:49.473Z"
   },
   {
    "duration": 13,
    "start_time": "2022-08-28T12:59:49.480Z"
   },
   {
    "duration": 312,
    "start_time": "2022-08-28T12:59:49.499Z"
   },
   {
    "duration": 8,
    "start_time": "2022-08-28T12:59:49.813Z"
   },
   {
    "duration": 301,
    "start_time": "2022-08-28T12:59:49.822Z"
   },
   {
    "duration": 287,
    "start_time": "2022-08-28T12:59:50.124Z"
   },
   {
    "duration": 197,
    "start_time": "2022-08-28T12:59:50.413Z"
   },
   {
    "duration": 252,
    "start_time": "2022-08-28T12:59:50.611Z"
   },
   {
    "duration": 250,
    "start_time": "2022-08-28T12:59:58.710Z"
   },
   {
    "duration": 250,
    "start_time": "2022-08-28T13:00:07.332Z"
   },
   {
    "duration": 311,
    "start_time": "2022-08-28T13:00:12.076Z"
   },
   {
    "duration": 248,
    "start_time": "2022-08-28T13:00:17.410Z"
   },
   {
    "duration": 245,
    "start_time": "2022-08-28T13:00:19.210Z"
   },
   {
    "duration": 240,
    "start_time": "2022-08-28T13:00:27.339Z"
   },
   {
    "duration": 488,
    "start_time": "2022-08-28T13:00:33.437Z"
   },
   {
    "duration": 17,
    "start_time": "2022-08-28T13:00:33.927Z"
   },
   {
    "duration": 434,
    "start_time": "2022-08-28T13:00:33.946Z"
   },
   {
    "duration": 5,
    "start_time": "2022-08-28T13:00:34.382Z"
   },
   {
    "duration": 39,
    "start_time": "2022-08-28T13:00:34.389Z"
   },
   {
    "duration": 356,
    "start_time": "2022-08-28T13:00:34.431Z"
   },
   {
    "duration": 15,
    "start_time": "2022-08-28T13:00:34.789Z"
   },
   {
    "duration": 343,
    "start_time": "2022-08-28T13:00:34.805Z"
   },
   {
    "duration": 303,
    "start_time": "2022-08-28T13:00:35.149Z"
   },
   {
    "duration": 223,
    "start_time": "2022-08-28T13:00:35.455Z"
   },
   {
    "duration": 254,
    "start_time": "2022-08-28T13:00:35.680Z"
   },
   {
    "duration": 158,
    "start_time": "2022-08-28T13:02:45.734Z"
   },
   {
    "duration": 80,
    "start_time": "2022-08-28T13:02:56.166Z"
   },
   {
    "duration": 169,
    "start_time": "2022-08-28T13:03:01.246Z"
   },
   {
    "duration": 152,
    "start_time": "2022-08-28T13:03:08.529Z"
   },
   {
    "duration": 194,
    "start_time": "2022-08-28T13:03:15.996Z"
   },
   {
    "duration": 235,
    "start_time": "2022-08-28T13:03:19.999Z"
   },
   {
    "duration": 154,
    "start_time": "2022-08-28T13:03:23.825Z"
   },
   {
    "duration": 165,
    "start_time": "2022-08-28T13:03:46.331Z"
   },
   {
    "duration": 83,
    "start_time": "2022-08-28T13:05:12.711Z"
   },
   {
    "duration": 9,
    "start_time": "2022-08-28T13:05:32.829Z"
   },
   {
    "duration": 170,
    "start_time": "2022-08-28T13:06:30.577Z"
   },
   {
    "duration": 207,
    "start_time": "2022-08-28T13:06:51.235Z"
   },
   {
    "duration": 14,
    "start_time": "2022-08-28T13:07:42.036Z"
   },
   {
    "duration": 13,
    "start_time": "2022-08-28T13:08:53.761Z"
   },
   {
    "duration": 176,
    "start_time": "2022-08-28T13:10:01.845Z"
   },
   {
    "duration": 159,
    "start_time": "2022-08-28T13:10:20.467Z"
   },
   {
    "duration": 185,
    "start_time": "2022-08-28T13:10:26.310Z"
   },
   {
    "duration": 194,
    "start_time": "2022-08-28T13:10:36.032Z"
   },
   {
    "duration": 174,
    "start_time": "2022-08-28T13:10:40.629Z"
   },
   {
    "duration": 191,
    "start_time": "2022-08-28T13:11:09.345Z"
   },
   {
    "duration": 266,
    "start_time": "2022-08-28T13:11:16.788Z"
   },
   {
    "duration": 191,
    "start_time": "2022-08-28T13:11:23.127Z"
   },
   {
    "duration": 168,
    "start_time": "2022-08-28T13:11:33.159Z"
   },
   {
    "duration": 175,
    "start_time": "2022-08-28T13:11:37.911Z"
   },
   {
    "duration": 171,
    "start_time": "2022-08-28T13:11:45.386Z"
   },
   {
    "duration": 170,
    "start_time": "2022-08-28T13:11:53.989Z"
   },
   {
    "duration": 175,
    "start_time": "2022-08-28T13:11:59.443Z"
   },
   {
    "duration": 175,
    "start_time": "2022-08-28T13:12:03.035Z"
   },
   {
    "duration": 234,
    "start_time": "2022-08-28T13:15:28.572Z"
   },
   {
    "duration": 176,
    "start_time": "2022-08-28T13:15:38.462Z"
   },
   {
    "duration": 162,
    "start_time": "2022-08-28T13:15:43.710Z"
   },
   {
    "duration": 166,
    "start_time": "2022-08-28T13:15:47.951Z"
   },
   {
    "duration": 154,
    "start_time": "2022-08-28T13:16:57.098Z"
   },
   {
    "duration": 132,
    "start_time": "2022-08-28T13:17:07.446Z"
   },
   {
    "duration": 148,
    "start_time": "2022-08-28T13:17:22.634Z"
   },
   {
    "duration": 260,
    "start_time": "2022-08-28T13:17:26.787Z"
   },
   {
    "duration": 134,
    "start_time": "2022-08-28T13:17:29.848Z"
   },
   {
    "duration": 141,
    "start_time": "2022-08-28T13:17:48.970Z"
   },
   {
    "duration": 205,
    "start_time": "2022-08-28T13:18:59.128Z"
   },
   {
    "duration": 119,
    "start_time": "2022-08-28T13:19:07.433Z"
   },
   {
    "duration": 133,
    "start_time": "2022-08-28T13:19:13.010Z"
   },
   {
    "duration": 148,
    "start_time": "2022-08-28T13:20:04.531Z"
   },
   {
    "duration": 151,
    "start_time": "2022-08-28T13:20:12.658Z"
   },
   {
    "duration": 146,
    "start_time": "2022-08-28T13:20:17.686Z"
   },
   {
    "duration": 140,
    "start_time": "2022-08-28T13:20:23.660Z"
   },
   {
    "duration": 170,
    "start_time": "2022-08-28T13:20:28.149Z"
   },
   {
    "duration": 134,
    "start_time": "2022-08-28T13:21:48.490Z"
   },
   {
    "duration": 8,
    "start_time": "2022-08-28T13:22:52.186Z"
   },
   {
    "duration": 218,
    "start_time": "2022-08-28T13:25:17.180Z"
   },
   {
    "duration": 160,
    "start_time": "2022-08-28T13:26:51.023Z"
   },
   {
    "duration": 117,
    "start_time": "2022-08-28T13:26:59.691Z"
   },
   {
    "duration": 211,
    "start_time": "2022-08-28T13:27:06.931Z"
   },
   {
    "duration": 148,
    "start_time": "2022-08-28T13:27:10.295Z"
   },
   {
    "duration": 151,
    "start_time": "2022-08-28T13:27:14.047Z"
   },
   {
    "duration": 159,
    "start_time": "2022-08-28T13:27:19.646Z"
   },
   {
    "duration": 139,
    "start_time": "2022-08-28T13:27:22.601Z"
   },
   {
    "duration": 125,
    "start_time": "2022-08-28T13:27:27.073Z"
   },
   {
    "duration": 120,
    "start_time": "2022-08-28T13:27:47.024Z"
   },
   {
    "duration": 136,
    "start_time": "2022-08-28T13:27:52.109Z"
   },
   {
    "duration": 148,
    "start_time": "2022-08-28T13:27:57.506Z"
   },
   {
    "duration": 130,
    "start_time": "2022-08-28T13:28:02.842Z"
   },
   {
    "duration": 126,
    "start_time": "2022-08-28T13:28:07.363Z"
   },
   {
    "duration": 56,
    "start_time": "2022-08-28T13:28:57.155Z"
   },
   {
    "duration": 208,
    "start_time": "2022-08-28T13:29:21.811Z"
   },
   {
    "duration": 280,
    "start_time": "2022-08-28T13:29:55.283Z"
   },
   {
    "duration": 272,
    "start_time": "2022-08-28T13:30:13.062Z"
   },
   {
    "duration": 215,
    "start_time": "2022-08-28T13:31:15.991Z"
   },
   {
    "duration": 170,
    "start_time": "2022-08-28T13:31:25.120Z"
   },
   {
    "duration": 162,
    "start_time": "2022-08-28T13:31:31.158Z"
   },
   {
    "duration": 161,
    "start_time": "2022-08-28T13:32:01.763Z"
   },
   {
    "duration": 155,
    "start_time": "2022-08-28T13:33:12.437Z"
   },
   {
    "duration": 181,
    "start_time": "2022-08-28T13:33:19.266Z"
   },
   {
    "duration": 200,
    "start_time": "2022-08-28T13:33:23.862Z"
   },
   {
    "duration": 235,
    "start_time": "2022-08-28T13:33:28.420Z"
   },
   {
    "duration": 167,
    "start_time": "2022-08-28T13:33:32.942Z"
   },
   {
    "duration": 167,
    "start_time": "2022-08-28T13:33:36.251Z"
   },
   {
    "duration": 52,
    "start_time": "2022-08-28T13:36:21.644Z"
   },
   {
    "duration": 965,
    "start_time": "2022-08-28T13:36:28.753Z"
   },
   {
    "duration": 12,
    "start_time": "2022-08-28T13:37:02.966Z"
   },
   {
    "duration": 843,
    "start_time": "2022-08-28T13:37:24.028Z"
   },
   {
    "duration": 203,
    "start_time": "2022-08-28T13:37:40.063Z"
   },
   {
    "duration": 465,
    "start_time": "2022-08-28T14:25:38.935Z"
   },
   {
    "duration": 18,
    "start_time": "2022-08-28T14:25:39.402Z"
   },
   {
    "duration": 386,
    "start_time": "2022-08-28T14:25:39.421Z"
   },
   {
    "duration": 8,
    "start_time": "2022-08-28T14:25:39.808Z"
   },
   {
    "duration": 14,
    "start_time": "2022-08-28T14:25:39.818Z"
   },
   {
    "duration": 307,
    "start_time": "2022-08-28T14:25:39.834Z"
   },
   {
    "duration": 7,
    "start_time": "2022-08-28T14:25:40.142Z"
   },
   {
    "duration": 347,
    "start_time": "2022-08-28T14:25:40.150Z"
   },
   {
    "duration": 291,
    "start_time": "2022-08-28T14:25:40.498Z"
   },
   {
    "duration": 189,
    "start_time": "2022-08-28T14:25:40.790Z"
   },
   {
    "duration": 253,
    "start_time": "2022-08-28T14:25:40.980Z"
   },
   {
    "duration": 172,
    "start_time": "2022-08-28T14:25:41.234Z"
   },
   {
    "duration": 167,
    "start_time": "2022-08-28T14:25:41.407Z"
   },
   {
    "duration": 165,
    "start_time": "2022-08-28T14:25:41.576Z"
   },
   {
    "duration": 2,
    "start_time": "2022-08-28T14:25:41.743Z"
   },
   {
    "duration": 135,
    "start_time": "2022-08-28T14:25:41.746Z"
   },
   {
    "duration": 203,
    "start_time": "2022-08-28T14:25:41.883Z"
   },
   {
    "duration": 142,
    "start_time": "2022-08-28T14:25:42.087Z"
   },
   {
    "duration": 168,
    "start_time": "2022-08-28T14:25:42.230Z"
   },
   {
    "duration": 260,
    "start_time": "2022-08-28T14:25:42.400Z"
   },
   {
    "duration": 148,
    "start_time": "2022-08-28T14:25:59.185Z"
   },
   {
    "duration": 147,
    "start_time": "2022-08-28T14:26:05.570Z"
   },
   {
    "duration": 129,
    "start_time": "2022-08-28T14:26:11.715Z"
   },
   {
    "duration": 130,
    "start_time": "2022-08-28T14:27:13.831Z"
   },
   {
    "duration": 159,
    "start_time": "2022-08-28T14:27:20.110Z"
   },
   {
    "duration": 144,
    "start_time": "2022-08-28T14:27:24.182Z"
   },
   {
    "duration": 194,
    "start_time": "2022-08-28T14:27:28.319Z"
   },
   {
    "duration": 15,
    "start_time": "2022-08-28T14:39:00.264Z"
   },
   {
    "duration": 5,
    "start_time": "2022-08-28T14:39:20.229Z"
   },
   {
    "duration": 8,
    "start_time": "2022-08-28T14:39:45.621Z"
   },
   {
    "duration": 75,
    "start_time": "2022-08-28T14:40:03.074Z"
   },
   {
    "duration": 7,
    "start_time": "2022-08-28T14:40:10.936Z"
   },
   {
    "duration": 8,
    "start_time": "2022-08-28T14:40:17.346Z"
   },
   {
    "duration": 4,
    "start_time": "2022-08-28T14:40:33.588Z"
   },
   {
    "duration": 8,
    "start_time": "2022-08-28T14:40:42.547Z"
   },
   {
    "duration": 137,
    "start_time": "2022-08-28T14:41:34.728Z"
   },
   {
    "duration": 154,
    "start_time": "2022-08-28T14:41:43.858Z"
   },
   {
    "duration": 208,
    "start_time": "2022-08-28T14:43:40.465Z"
   },
   {
    "duration": 158,
    "start_time": "2022-08-28T14:44:22.232Z"
   },
   {
    "duration": 175,
    "start_time": "2022-08-28T14:44:38.957Z"
   },
   {
    "duration": 147,
    "start_time": "2022-08-28T14:44:53.795Z"
   },
   {
    "duration": 554,
    "start_time": "2022-08-28T14:45:02.574Z"
   },
   {
    "duration": 17,
    "start_time": "2022-08-28T14:45:03.130Z"
   },
   {
    "duration": 425,
    "start_time": "2022-08-28T14:45:03.148Z"
   },
   {
    "duration": 6,
    "start_time": "2022-08-28T14:45:03.575Z"
   },
   {
    "duration": 23,
    "start_time": "2022-08-28T14:45:03.582Z"
   },
   {
    "duration": 303,
    "start_time": "2022-08-28T14:45:03.607Z"
   },
   {
    "duration": 10,
    "start_time": "2022-08-28T14:45:03.912Z"
   },
   {
    "duration": 340,
    "start_time": "2022-08-28T14:45:03.923Z"
   },
   {
    "duration": 325,
    "start_time": "2022-08-28T14:45:04.264Z"
   },
   {
    "duration": 210,
    "start_time": "2022-08-28T14:45:04.592Z"
   },
   {
    "duration": 267,
    "start_time": "2022-08-28T14:45:04.803Z"
   },
   {
    "duration": 161,
    "start_time": "2022-08-28T14:45:05.072Z"
   },
   {
    "duration": 163,
    "start_time": "2022-08-28T14:45:05.235Z"
   },
   {
    "duration": 151,
    "start_time": "2022-08-28T14:45:05.399Z"
   },
   {
    "duration": 131,
    "start_time": "2022-08-28T14:45:05.551Z"
   },
   {
    "duration": 256,
    "start_time": "2022-08-28T14:45:05.684Z"
   },
   {
    "duration": 156,
    "start_time": "2022-08-28T14:45:05.942Z"
   },
   {
    "duration": 170,
    "start_time": "2022-08-28T14:45:06.099Z"
   },
   {
    "duration": 263,
    "start_time": "2022-08-28T14:45:06.271Z"
   },
   {
    "duration": 139,
    "start_time": "2022-08-28T14:52:48.332Z"
   },
   {
    "duration": 143,
    "start_time": "2022-08-28T14:53:31.430Z"
   },
   {
    "duration": 146,
    "start_time": "2022-08-28T14:55:11.860Z"
   },
   {
    "duration": 129,
    "start_time": "2022-08-28T14:55:17.712Z"
   },
   {
    "duration": 143,
    "start_time": "2022-08-28T14:55:24.125Z"
   },
   {
    "duration": 188,
    "start_time": "2022-08-28T14:55:41.091Z"
   },
   {
    "duration": 256,
    "start_time": "2022-08-28T14:55:53.784Z"
   },
   {
    "duration": 204,
    "start_time": "2022-08-28T14:56:04.229Z"
   },
   {
    "duration": 113,
    "start_time": "2022-08-28T15:01:10.956Z"
   },
   {
    "duration": 671,
    "start_time": "2022-08-28T15:01:17.454Z"
   },
   {
    "duration": 18,
    "start_time": "2022-08-28T15:01:18.127Z"
   },
   {
    "duration": 177,
    "start_time": "2022-08-28T15:01:18.146Z"
   },
   {
    "duration": 4,
    "start_time": "2022-08-28T15:01:18.325Z"
   },
   {
    "duration": 11,
    "start_time": "2022-08-28T15:01:18.331Z"
   },
   {
    "duration": 294,
    "start_time": "2022-08-28T15:01:18.344Z"
   },
   {
    "duration": 9,
    "start_time": "2022-08-28T15:01:18.639Z"
   },
   {
    "duration": 308,
    "start_time": "2022-08-28T15:01:18.650Z"
   },
   {
    "duration": 272,
    "start_time": "2022-08-28T15:01:18.959Z"
   },
   {
    "duration": 179,
    "start_time": "2022-08-28T15:01:19.234Z"
   },
   {
    "duration": 246,
    "start_time": "2022-08-28T15:01:19.414Z"
   },
   {
    "duration": 182,
    "start_time": "2022-08-28T15:01:19.663Z"
   },
   {
    "duration": 181,
    "start_time": "2022-08-28T15:01:19.847Z"
   },
   {
    "duration": 176,
    "start_time": "2022-08-28T15:01:20.030Z"
   },
   {
    "duration": 159,
    "start_time": "2022-08-28T15:01:20.208Z"
   },
   {
    "duration": 221,
    "start_time": "2022-08-28T15:01:20.368Z"
   },
   {
    "duration": 134,
    "start_time": "2022-08-28T15:01:20.590Z"
   },
   {
    "duration": 194,
    "start_time": "2022-08-28T15:01:20.725Z"
   },
   {
    "duration": 194,
    "start_time": "2022-08-28T15:01:20.921Z"
   },
   {
    "duration": 2,
    "start_time": "2022-08-28T15:01:21.117Z"
   },
   {
    "duration": 495,
    "start_time": "2022-08-28T15:02:06.095Z"
   },
   {
    "duration": 504,
    "start_time": "2022-08-28T15:05:02.825Z"
   },
   {
    "duration": 590,
    "start_time": "2022-08-28T15:06:53.794Z"
   },
   {
    "duration": 513,
    "start_time": "2022-08-28T15:07:27.954Z"
   },
   {
    "duration": 494,
    "start_time": "2022-08-28T15:08:16.394Z"
   },
   {
    "duration": 489,
    "start_time": "2022-08-28T15:09:23.372Z"
   },
   {
    "duration": 579,
    "start_time": "2022-08-28T15:09:57.736Z"
   },
   {
    "duration": 420,
    "start_time": "2022-08-28T15:10:12.358Z"
   },
   {
    "duration": 541,
    "start_time": "2022-08-28T15:10:30.535Z"
   },
   {
    "duration": 612,
    "start_time": "2022-08-28T15:10:48.489Z"
   },
   {
    "duration": 517,
    "start_time": "2022-08-28T15:10:52.576Z"
   },
   {
    "duration": 511,
    "start_time": "2022-08-28T15:11:09.121Z"
   },
   {
    "duration": 590,
    "start_time": "2022-08-28T15:11:20.889Z"
   },
   {
    "duration": 488,
    "start_time": "2022-08-28T15:11:31.446Z"
   },
   {
    "duration": 523,
    "start_time": "2022-08-28T15:11:55.593Z"
   },
   {
    "duration": 133,
    "start_time": "2022-08-28T15:24:12.849Z"
   },
   {
    "duration": 794,
    "start_time": "2022-08-28T15:32:04.532Z"
   },
   {
    "duration": 623,
    "start_time": "2022-08-28T15:34:17.043Z"
   },
   {
    "duration": 140,
    "start_time": "2022-08-28T15:39:25.153Z"
   },
   {
    "duration": 154,
    "start_time": "2022-08-28T15:39:32.460Z"
   },
   {
    "duration": 139,
    "start_time": "2022-08-28T15:39:39.438Z"
   },
   {
    "duration": 145,
    "start_time": "2022-08-28T15:39:51.017Z"
   },
   {
    "duration": 137,
    "start_time": "2022-08-28T15:40:10.511Z"
   },
   {
    "duration": 148,
    "start_time": "2022-08-28T15:40:35.433Z"
   },
   {
    "duration": 98,
    "start_time": "2022-08-28T15:40:58.518Z"
   },
   {
    "duration": 114,
    "start_time": "2022-08-28T15:41:08.545Z"
   },
   {
    "duration": 64,
    "start_time": "2022-08-28T15:41:24.185Z"
   },
   {
    "duration": 462,
    "start_time": "2022-08-28T15:41:56.845Z"
   },
   {
    "duration": 288,
    "start_time": "2022-08-28T15:42:07.550Z"
   },
   {
    "duration": 1148,
    "start_time": "2022-08-28T15:42:14.418Z"
   },
   {
    "duration": 928,
    "start_time": "2022-08-28T15:42:16.518Z"
   },
   {
    "duration": 204,
    "start_time": "2022-08-28T15:43:08.062Z"
   },
   {
    "duration": 176,
    "start_time": "2022-08-28T15:44:55.400Z"
   },
   {
    "duration": 9,
    "start_time": "2022-08-28T15:45:49.031Z"
   },
   {
    "duration": 5,
    "start_time": "2022-08-28T15:45:53.639Z"
   },
   {
    "duration": 22,
    "start_time": "2022-08-28T15:46:54.126Z"
   },
   {
    "duration": 165,
    "start_time": "2022-08-28T15:47:18.495Z"
   },
   {
    "duration": 160,
    "start_time": "2022-08-28T15:47:36.419Z"
   },
   {
    "duration": 252,
    "start_time": "2022-08-28T15:47:51.186Z"
   },
   {
    "duration": 167,
    "start_time": "2022-08-28T15:48:07.386Z"
   },
   {
    "duration": 181,
    "start_time": "2022-08-28T15:48:59.461Z"
   },
   {
    "duration": 232,
    "start_time": "2022-08-28T15:49:57.731Z"
   },
   {
    "duration": 150,
    "start_time": "2022-08-28T15:50:18.126Z"
   },
   {
    "duration": 231,
    "start_time": "2022-08-28T15:51:35.949Z"
   },
   {
    "duration": 159,
    "start_time": "2022-08-28T16:17:10.386Z"
   },
   {
    "duration": 269,
    "start_time": "2022-08-28T16:17:40.154Z"
   },
   {
    "duration": 155,
    "start_time": "2022-08-28T16:17:51.417Z"
   },
   {
    "duration": 167,
    "start_time": "2022-08-28T16:20:12.084Z"
   },
   {
    "duration": 135,
    "start_time": "2022-08-28T16:20:19.129Z"
   },
   {
    "duration": 166,
    "start_time": "2022-08-28T16:20:36.531Z"
   },
   {
    "duration": 208,
    "start_time": "2022-08-28T16:20:52.319Z"
   },
   {
    "duration": 145,
    "start_time": "2022-08-28T16:21:00.791Z"
   },
   {
    "duration": 147,
    "start_time": "2022-08-28T16:21:33.167Z"
   },
   {
    "duration": 129,
    "start_time": "2022-08-28T16:21:51.110Z"
   },
   {
    "duration": 161,
    "start_time": "2022-08-28T16:22:11.563Z"
   },
   {
    "duration": 149,
    "start_time": "2022-08-28T16:22:36.288Z"
   },
   {
    "duration": 168,
    "start_time": "2022-08-28T16:23:17.056Z"
   },
   {
    "duration": 139,
    "start_time": "2022-08-28T16:23:32.529Z"
   },
   {
    "duration": 176,
    "start_time": "2022-08-28T16:23:36.049Z"
   },
   {
    "duration": 141,
    "start_time": "2022-08-28T16:23:57.891Z"
   },
   {
    "duration": 41,
    "start_time": "2022-08-28T16:24:37.889Z"
   },
   {
    "duration": 207,
    "start_time": "2022-08-28T16:24:44.929Z"
   },
   {
    "duration": 1103,
    "start_time": "2022-08-28T16:26:28.722Z"
   },
   {
    "duration": 153,
    "start_time": "2022-08-28T16:26:36.373Z"
   },
   {
    "duration": 145,
    "start_time": "2022-08-28T16:28:32.778Z"
   },
   {
    "duration": 147,
    "start_time": "2022-08-28T16:29:42.529Z"
   },
   {
    "duration": 262,
    "start_time": "2022-08-28T16:32:57.828Z"
   },
   {
    "duration": 147,
    "start_time": "2022-08-28T16:38:06.145Z"
   },
   {
    "duration": 77,
    "start_time": "2022-08-28T16:40:47.578Z"
   },
   {
    "duration": 147,
    "start_time": "2022-08-28T16:41:28.730Z"
   },
   {
    "duration": 13,
    "start_time": "2022-08-28T16:45:31.922Z"
   },
   {
    "duration": 8,
    "start_time": "2022-08-28T16:45:43.324Z"
   },
   {
    "duration": 6,
    "start_time": "2022-08-28T16:48:13.541Z"
   },
   {
    "duration": 22,
    "start_time": "2022-08-28T16:49:37.037Z"
   },
   {
    "duration": 23,
    "start_time": "2022-08-28T16:51:18.724Z"
   },
   {
    "duration": 26,
    "start_time": "2022-08-28T16:51:31.967Z"
   },
   {
    "duration": 54,
    "start_time": "2022-08-28T16:57:44.817Z"
   },
   {
    "duration": 120,
    "start_time": "2022-08-28T16:59:26.700Z"
   },
   {
    "duration": 62,
    "start_time": "2022-08-28T16:59:51.882Z"
   },
   {
    "duration": 57,
    "start_time": "2022-08-28T16:59:56.380Z"
   },
   {
    "duration": 799,
    "start_time": "2022-08-28T17:00:34.766Z"
   },
   {
    "duration": 20,
    "start_time": "2022-08-28T17:00:35.568Z"
   },
   {
    "duration": 210,
    "start_time": "2022-08-28T17:00:35.590Z"
   },
   {
    "duration": 6,
    "start_time": "2022-08-28T17:00:35.801Z"
   },
   {
    "duration": 31,
    "start_time": "2022-08-28T17:00:35.812Z"
   },
   {
    "duration": 325,
    "start_time": "2022-08-28T17:00:35.845Z"
   },
   {
    "duration": 7,
    "start_time": "2022-08-28T17:00:36.172Z"
   },
   {
    "duration": 344,
    "start_time": "2022-08-28T17:00:36.180Z"
   },
   {
    "duration": 285,
    "start_time": "2022-08-28T17:00:36.526Z"
   },
   {
    "duration": 214,
    "start_time": "2022-08-28T17:00:36.813Z"
   },
   {
    "duration": 299,
    "start_time": "2022-08-28T17:00:37.029Z"
   },
   {
    "duration": 160,
    "start_time": "2022-08-28T17:00:37.330Z"
   },
   {
    "duration": 182,
    "start_time": "2022-08-28T17:00:37.491Z"
   },
   {
    "duration": 184,
    "start_time": "2022-08-28T17:00:37.676Z"
   },
   {
    "duration": 173,
    "start_time": "2022-08-28T17:00:37.861Z"
   },
   {
    "duration": 245,
    "start_time": "2022-08-28T17:00:38.036Z"
   },
   {
    "duration": 150,
    "start_time": "2022-08-28T17:00:38.283Z"
   },
   {
    "duration": 186,
    "start_time": "2022-08-28T17:00:38.434Z"
   },
   {
    "duration": 200,
    "start_time": "2022-08-28T17:00:38.621Z"
   },
   {
    "duration": 507,
    "start_time": "2022-08-28T17:00:38.822Z"
   },
   {
    "duration": 145,
    "start_time": "2022-08-28T17:00:39.331Z"
   },
   {
    "duration": 151,
    "start_time": "2022-08-28T17:00:39.478Z"
   },
   {
    "duration": 135,
    "start_time": "2022-08-28T17:00:39.631Z"
   },
   {
    "duration": 153,
    "start_time": "2022-08-28T17:00:39.768Z"
   },
   {
    "duration": 207,
    "start_time": "2022-08-28T17:00:39.923Z"
   },
   {
    "duration": 156,
    "start_time": "2022-08-28T17:00:40.131Z"
   },
   {
    "duration": 180,
    "start_time": "2022-08-28T17:00:40.289Z"
   },
   {
    "duration": 172,
    "start_time": "2022-08-28T17:00:40.471Z"
   },
   {
    "duration": 6,
    "start_time": "2022-08-28T17:00:40.644Z"
   },
   {
    "duration": 38,
    "start_time": "2022-08-28T17:00:40.652Z"
   },
   {
    "duration": 112,
    "start_time": "2022-08-28T17:00:40.700Z"
   },
   {
    "duration": 170,
    "start_time": "2022-08-28T17:04:34.413Z"
   },
   {
    "duration": 122,
    "start_time": "2022-08-28T17:04:56.025Z"
   },
   {
    "duration": 123,
    "start_time": "2022-08-28T17:05:23.030Z"
   },
   {
    "duration": 7,
    "start_time": "2022-08-28T17:05:48.823Z"
   },
   {
    "duration": 125,
    "start_time": "2022-08-28T17:06:42.793Z"
   },
   {
    "duration": 180,
    "start_time": "2022-08-28T17:07:29.140Z"
   },
   {
    "duration": 183,
    "start_time": "2022-08-28T17:07:49.052Z"
   },
   {
    "duration": 188,
    "start_time": "2022-08-28T17:08:06.539Z"
   },
   {
    "duration": 207,
    "start_time": "2022-08-28T17:08:18.958Z"
   },
   {
    "duration": 80,
    "start_time": "2022-08-28T17:09:58.445Z"
   },
   {
    "duration": 203,
    "start_time": "2022-08-28T17:10:29.736Z"
   },
   {
    "duration": 201,
    "start_time": "2022-08-28T17:12:30.056Z"
   },
   {
    "duration": 1158,
    "start_time": "2022-08-31T12:34:23.192Z"
   },
   {
    "duration": 21,
    "start_time": "2022-08-31T12:34:24.352Z"
   },
   {
    "duration": 196,
    "start_time": "2022-08-31T12:34:24.375Z"
   },
   {
    "duration": 6,
    "start_time": "2022-08-31T12:34:24.573Z"
   },
   {
    "duration": 28,
    "start_time": "2022-08-31T12:34:24.581Z"
   },
   {
    "duration": 274,
    "start_time": "2022-08-31T12:34:24.611Z"
   },
   {
    "duration": 9,
    "start_time": "2022-08-31T12:34:24.887Z"
   },
   {
    "duration": 335,
    "start_time": "2022-08-31T12:34:24.897Z"
   },
   {
    "duration": 291,
    "start_time": "2022-08-31T12:34:25.233Z"
   },
   {
    "duration": 202,
    "start_time": "2022-08-31T12:34:25.528Z"
   },
   {
    "duration": 307,
    "start_time": "2022-08-31T12:34:25.732Z"
   },
   {
    "duration": 177,
    "start_time": "2022-08-31T12:34:26.041Z"
   },
   {
    "duration": 181,
    "start_time": "2022-08-31T12:34:26.220Z"
   },
   {
    "duration": 179,
    "start_time": "2022-08-31T12:34:26.402Z"
   },
   {
    "duration": 150,
    "start_time": "2022-08-31T12:34:26.583Z"
   },
   {
    "duration": 238,
    "start_time": "2022-08-31T12:34:26.735Z"
   },
   {
    "duration": 146,
    "start_time": "2022-08-31T12:34:26.975Z"
   },
   {
    "duration": 244,
    "start_time": "2022-08-31T12:34:27.122Z"
   },
   {
    "duration": 235,
    "start_time": "2022-08-31T12:34:27.367Z"
   },
   {
    "duration": 562,
    "start_time": "2022-08-31T12:34:27.603Z"
   },
   {
    "duration": 148,
    "start_time": "2022-08-31T12:34:28.167Z"
   },
   {
    "duration": 155,
    "start_time": "2022-08-31T12:34:28.316Z"
   },
   {
    "duration": 136,
    "start_time": "2022-08-31T12:34:28.473Z"
   },
   {
    "duration": 147,
    "start_time": "2022-08-31T12:34:28.611Z"
   },
   {
    "duration": 215,
    "start_time": "2022-08-31T12:34:28.759Z"
   },
   {
    "duration": 158,
    "start_time": "2022-08-31T12:34:28.976Z"
   },
   {
    "duration": 158,
    "start_time": "2022-08-31T12:34:29.136Z"
   },
   {
    "duration": 147,
    "start_time": "2022-08-31T12:34:29.309Z"
   },
   {
    "duration": 5,
    "start_time": "2022-08-31T12:34:29.458Z"
   },
   {
    "duration": 24,
    "start_time": "2022-08-31T12:34:29.465Z"
   },
   {
    "duration": 158,
    "start_time": "2022-08-31T12:34:29.491Z"
   },
   {
    "duration": 200,
    "start_time": "2022-08-31T12:34:29.651Z"
   },
   {
    "duration": 177,
    "start_time": "2022-08-31T12:43:15.941Z"
   },
   {
    "duration": 212,
    "start_time": "2022-08-31T12:45:08.410Z"
   },
   {
    "duration": 166,
    "start_time": "2022-08-31T12:45:29.908Z"
   },
   {
    "duration": 140,
    "start_time": "2022-08-31T12:45:46.589Z"
   },
   {
    "duration": 63,
    "start_time": "2022-08-31T12:48:49.633Z"
   },
   {
    "duration": 5,
    "start_time": "2022-08-31T12:49:04.551Z"
   },
   {
    "duration": 4,
    "start_time": "2022-08-31T12:49:18.239Z"
   },
   {
    "duration": 139,
    "start_time": "2022-08-31T12:50:09.328Z"
   },
   {
    "duration": 201,
    "start_time": "2022-08-31T12:50:52.565Z"
   },
   {
    "duration": 165,
    "start_time": "2022-08-31T12:51:17.440Z"
   },
   {
    "duration": 139,
    "start_time": "2022-08-31T12:51:24.161Z"
   },
   {
    "duration": 7,
    "start_time": "2022-08-31T12:53:58.969Z"
   },
   {
    "duration": 8,
    "start_time": "2022-08-31T12:54:02.784Z"
   },
   {
    "duration": 8,
    "start_time": "2022-08-31T12:54:08.114Z"
   },
   {
    "duration": 28,
    "start_time": "2022-08-31T12:54:27.013Z"
   },
   {
    "duration": 141,
    "start_time": "2022-08-31T12:55:30.290Z"
   },
   {
    "duration": 159,
    "start_time": "2022-08-31T12:56:42.515Z"
   },
   {
    "duration": 5,
    "start_time": "2022-08-31T13:00:19.666Z"
   },
   {
    "duration": 9,
    "start_time": "2022-08-31T13:00:27.188Z"
   },
   {
    "duration": 10,
    "start_time": "2022-08-31T13:01:04.642Z"
   },
   {
    "duration": 5,
    "start_time": "2022-08-31T13:02:20.060Z"
   },
   {
    "duration": 24,
    "start_time": "2022-08-31T13:04:19.900Z"
   },
   {
    "duration": 9,
    "start_time": "2022-08-31T13:12:18.216Z"
   },
   {
    "duration": 7,
    "start_time": "2022-08-31T13:15:12.553Z"
   },
   {
    "duration": 31,
    "start_time": "2022-08-31T13:18:15.939Z"
   },
   {
    "duration": 9,
    "start_time": "2022-08-31T13:18:26.426Z"
   },
   {
    "duration": 58,
    "start_time": "2022-08-31T13:21:28.317Z"
   },
   {
    "duration": 8,
    "start_time": "2022-08-31T13:21:32.212Z"
   },
   {
    "duration": 7,
    "start_time": "2022-08-31T13:22:51.427Z"
   },
   {
    "duration": 161,
    "start_time": "2022-08-31T13:28:44.542Z"
   },
   {
    "duration": 164,
    "start_time": "2022-08-31T13:29:28.327Z"
   },
   {
    "duration": 6,
    "start_time": "2022-08-31T13:29:53.054Z"
   },
   {
    "duration": 7,
    "start_time": "2022-08-31T13:38:35.609Z"
   },
   {
    "duration": 6,
    "start_time": "2022-08-31T13:38:39.907Z"
   },
   {
    "duration": 6,
    "start_time": "2022-08-31T13:47:04.838Z"
   },
   {
    "duration": 9,
    "start_time": "2022-08-31T13:48:14.722Z"
   },
   {
    "duration": 6,
    "start_time": "2022-08-31T13:48:39.721Z"
   },
   {
    "duration": 7,
    "start_time": "2022-08-31T13:48:55.890Z"
   },
   {
    "duration": 6,
    "start_time": "2022-08-31T13:49:25.025Z"
   },
   {
    "duration": 5,
    "start_time": "2022-08-31T13:49:35.656Z"
   },
   {
    "duration": 74,
    "start_time": "2022-08-31T13:49:49.874Z"
   },
   {
    "duration": 5,
    "start_time": "2022-08-31T13:49:57.114Z"
   },
   {
    "duration": 5,
    "start_time": "2022-08-31T13:50:36.154Z"
   },
   {
    "duration": 5,
    "start_time": "2022-08-31T13:50:40.786Z"
   },
   {
    "duration": 5,
    "start_time": "2022-08-31T13:50:59.674Z"
   },
   {
    "duration": 8,
    "start_time": "2022-08-31T13:51:16.874Z"
   },
   {
    "duration": 6,
    "start_time": "2022-08-31T13:51:30.338Z"
   },
   {
    "duration": 6,
    "start_time": "2022-08-31T13:52:02.395Z"
   },
   {
    "duration": 26,
    "start_time": "2022-08-31T13:54:39.053Z"
   },
   {
    "duration": 25,
    "start_time": "2022-08-31T13:54:46.111Z"
   },
   {
    "duration": 5,
    "start_time": "2022-08-31T13:56:46.367Z"
   },
   {
    "duration": 3,
    "start_time": "2022-08-31T13:56:47.727Z"
   },
   {
    "duration": 4,
    "start_time": "2022-08-31T13:57:08.887Z"
   },
   {
    "duration": 9,
    "start_time": "2022-08-31T13:57:10.662Z"
   },
   {
    "duration": 9,
    "start_time": "2022-08-31T13:57:13.975Z"
   },
   {
    "duration": 747,
    "start_time": "2022-08-31T13:57:34.904Z"
   },
   {
    "duration": 19,
    "start_time": "2022-08-31T13:57:35.652Z"
   },
   {
    "duration": 214,
    "start_time": "2022-08-31T13:57:35.673Z"
   },
   {
    "duration": 3,
    "start_time": "2022-08-31T13:57:35.890Z"
   },
   {
    "duration": 26,
    "start_time": "2022-08-31T13:57:35.895Z"
   },
   {
    "duration": 12,
    "start_time": "2022-08-31T13:57:35.922Z"
   },
   {
    "duration": 11,
    "start_time": "2022-08-31T13:57:35.935Z"
   },
   {
    "duration": 23,
    "start_time": "2022-08-31T13:57:35.948Z"
   },
   {
    "duration": 13,
    "start_time": "2022-08-31T13:57:35.973Z"
   },
   {
    "duration": 276,
    "start_time": "2022-08-31T13:57:35.989Z"
   },
   {
    "duration": 7,
    "start_time": "2022-08-31T13:57:36.267Z"
   },
   {
    "duration": 327,
    "start_time": "2022-08-31T13:57:36.275Z"
   },
   {
    "duration": 290,
    "start_time": "2022-08-31T13:57:36.603Z"
   },
   {
    "duration": 187,
    "start_time": "2022-08-31T13:57:36.895Z"
   },
   {
    "duration": 334,
    "start_time": "2022-08-31T13:57:37.084Z"
   },
   {
    "duration": 165,
    "start_time": "2022-08-31T13:57:37.420Z"
   },
   {
    "duration": 88,
    "start_time": "2022-08-31T13:57:37.587Z"
   },
   {
    "duration": 0,
    "start_time": "2022-08-31T13:57:37.678Z"
   },
   {
    "duration": 0,
    "start_time": "2022-08-31T13:57:37.679Z"
   },
   {
    "duration": 0,
    "start_time": "2022-08-31T13:57:37.680Z"
   },
   {
    "duration": 0,
    "start_time": "2022-08-31T13:57:37.682Z"
   },
   {
    "duration": 0,
    "start_time": "2022-08-31T13:57:37.683Z"
   },
   {
    "duration": 0,
    "start_time": "2022-08-31T13:57:37.685Z"
   },
   {
    "duration": 0,
    "start_time": "2022-08-31T13:57:37.686Z"
   },
   {
    "duration": 0,
    "start_time": "2022-08-31T13:57:37.688Z"
   },
   {
    "duration": 0,
    "start_time": "2022-08-31T13:57:37.689Z"
   },
   {
    "duration": 0,
    "start_time": "2022-08-31T13:57:37.709Z"
   },
   {
    "duration": 0,
    "start_time": "2022-08-31T13:57:37.711Z"
   },
   {
    "duration": 0,
    "start_time": "2022-08-31T13:57:37.713Z"
   },
   {
    "duration": 0,
    "start_time": "2022-08-31T13:57:37.714Z"
   },
   {
    "duration": 0,
    "start_time": "2022-08-31T13:57:37.715Z"
   },
   {
    "duration": 0,
    "start_time": "2022-08-31T13:57:37.717Z"
   },
   {
    "duration": 0,
    "start_time": "2022-08-31T13:57:37.718Z"
   },
   {
    "duration": 0,
    "start_time": "2022-08-31T13:57:37.720Z"
   },
   {
    "duration": 4,
    "start_time": "2022-08-31T13:58:22.253Z"
   },
   {
    "duration": 12,
    "start_time": "2022-08-31T13:58:23.703Z"
   },
   {
    "duration": 7,
    "start_time": "2022-08-31T13:58:25.417Z"
   },
   {
    "duration": 4,
    "start_time": "2022-08-31T13:58:50.726Z"
   },
   {
    "duration": 9,
    "start_time": "2022-08-31T13:58:52.390Z"
   },
   {
    "duration": 9,
    "start_time": "2022-08-31T14:05:01.963Z"
   },
   {
    "duration": 10,
    "start_time": "2022-08-31T14:05:51.075Z"
   },
   {
    "duration": 5,
    "start_time": "2022-08-31T14:06:50.428Z"
   },
   {
    "duration": 7,
    "start_time": "2022-08-31T14:07:08.667Z"
   },
   {
    "duration": 54,
    "start_time": "2022-08-31T14:08:30.981Z"
   },
   {
    "duration": 3,
    "start_time": "2022-08-31T14:08:45.062Z"
   },
   {
    "duration": 7,
    "start_time": "2022-08-31T14:08:46.891Z"
   },
   {
    "duration": 7,
    "start_time": "2022-08-31T14:09:27.854Z"
   },
   {
    "duration": 6,
    "start_time": "2022-08-31T14:09:33.965Z"
   },
   {
    "duration": 5,
    "start_time": "2022-08-31T14:10:38.846Z"
   },
   {
    "duration": 7,
    "start_time": "2022-08-31T14:10:40.629Z"
   },
   {
    "duration": 931,
    "start_time": "2022-08-31T14:10:58.798Z"
   },
   {
    "duration": 20,
    "start_time": "2022-08-31T14:10:59.731Z"
   },
   {
    "duration": 229,
    "start_time": "2022-08-31T14:10:59.753Z"
   },
   {
    "duration": 4,
    "start_time": "2022-08-31T14:10:59.984Z"
   },
   {
    "duration": 23,
    "start_time": "2022-08-31T14:10:59.990Z"
   },
   {
    "duration": 27,
    "start_time": "2022-08-31T14:11:00.015Z"
   },
   {
    "duration": 13,
    "start_time": "2022-08-31T14:11:00.043Z"
   },
   {
    "duration": 31,
    "start_time": "2022-08-31T14:11:00.058Z"
   },
   {
    "duration": 266,
    "start_time": "2022-08-31T14:11:00.091Z"
   },
   {
    "duration": 7,
    "start_time": "2022-08-31T14:11:00.358Z"
   },
   {
    "duration": 342,
    "start_time": "2022-08-31T14:11:00.367Z"
   },
   {
    "duration": 301,
    "start_time": "2022-08-31T14:11:00.710Z"
   },
   {
    "duration": 198,
    "start_time": "2022-08-31T14:11:01.013Z"
   },
   {
    "duration": 292,
    "start_time": "2022-08-31T14:11:01.213Z"
   },
   {
    "duration": 172,
    "start_time": "2022-08-31T14:11:01.508Z"
   },
   {
    "duration": 98,
    "start_time": "2022-08-31T14:11:01.682Z"
   },
   {
    "duration": 0,
    "start_time": "2022-08-31T14:11:01.782Z"
   },
   {
    "duration": 0,
    "start_time": "2022-08-31T14:11:01.783Z"
   },
   {
    "duration": 0,
    "start_time": "2022-08-31T14:11:01.784Z"
   },
   {
    "duration": 0,
    "start_time": "2022-08-31T14:11:01.785Z"
   },
   {
    "duration": 0,
    "start_time": "2022-08-31T14:11:01.787Z"
   },
   {
    "duration": 0,
    "start_time": "2022-08-31T14:11:01.787Z"
   },
   {
    "duration": 0,
    "start_time": "2022-08-31T14:11:01.789Z"
   },
   {
    "duration": 0,
    "start_time": "2022-08-31T14:11:01.809Z"
   },
   {
    "duration": 0,
    "start_time": "2022-08-31T14:11:01.811Z"
   },
   {
    "duration": 0,
    "start_time": "2022-08-31T14:11:01.812Z"
   },
   {
    "duration": 0,
    "start_time": "2022-08-31T14:11:01.813Z"
   },
   {
    "duration": 0,
    "start_time": "2022-08-31T14:11:01.814Z"
   },
   {
    "duration": 0,
    "start_time": "2022-08-31T14:11:01.815Z"
   },
   {
    "duration": 0,
    "start_time": "2022-08-31T14:11:01.816Z"
   },
   {
    "duration": 0,
    "start_time": "2022-08-31T14:11:01.817Z"
   },
   {
    "duration": 0,
    "start_time": "2022-08-31T14:11:01.819Z"
   },
   {
    "duration": 0,
    "start_time": "2022-08-31T14:11:01.819Z"
   },
   {
    "duration": 6,
    "start_time": "2022-08-31T14:11:06.568Z"
   },
   {
    "duration": 3,
    "start_time": "2022-08-31T14:12:24.329Z"
   },
   {
    "duration": 232,
    "start_time": "2022-08-31T14:12:34.960Z"
   },
   {
    "duration": 3,
    "start_time": "2022-08-31T14:12:50.048Z"
   },
   {
    "duration": 5,
    "start_time": "2022-08-31T14:13:22.160Z"
   },
   {
    "duration": 10,
    "start_time": "2022-08-31T14:17:47.691Z"
   },
   {
    "duration": 7,
    "start_time": "2022-08-31T14:17:50.258Z"
   },
   {
    "duration": 9,
    "start_time": "2022-08-31T14:18:19.160Z"
   },
   {
    "duration": 6,
    "start_time": "2022-08-31T14:18:20.818Z"
   },
   {
    "duration": 5,
    "start_time": "2022-08-31T14:19:10.099Z"
   },
   {
    "duration": 6,
    "start_time": "2022-08-31T14:19:12.515Z"
   },
   {
    "duration": 5,
    "start_time": "2022-08-31T14:19:15.058Z"
   },
   {
    "duration": 8,
    "start_time": "2022-08-31T14:19:41.292Z"
   },
   {
    "duration": 5,
    "start_time": "2022-08-31T14:19:42.443Z"
   },
   {
    "duration": 202,
    "start_time": "2022-08-31T14:27:51.271Z"
   },
   {
    "duration": 282,
    "start_time": "2022-08-31T14:28:34.768Z"
   },
   {
    "duration": 182,
    "start_time": "2022-08-31T14:28:57.760Z"
   },
   {
    "duration": 351,
    "start_time": "2022-08-31T14:32:39.867Z"
   },
   {
    "duration": 5,
    "start_time": "2022-08-31T14:36:45.173Z"
   },
   {
    "duration": 465,
    "start_time": "2022-08-31T14:37:25.924Z"
   },
   {
    "duration": 1564,
    "start_time": "2022-08-31T14:38:29.446Z"
   },
   {
    "duration": 6,
    "start_time": "2022-08-31T14:38:31.619Z"
   },
   {
    "duration": 6,
    "start_time": "2022-08-31T14:38:40.827Z"
   },
   {
    "duration": 5,
    "start_time": "2022-08-31T14:38:46.348Z"
   },
   {
    "duration": 102,
    "start_time": "2022-08-31T14:38:53.009Z"
   },
   {
    "duration": 5,
    "start_time": "2022-08-31T14:38:54.500Z"
   },
   {
    "duration": 5,
    "start_time": "2022-08-31T14:39:02.452Z"
   },
   {
    "duration": 5,
    "start_time": "2022-08-31T14:39:37.797Z"
   },
   {
    "duration": 5,
    "start_time": "2022-08-31T14:39:50.758Z"
   },
   {
    "duration": 6,
    "start_time": "2022-08-31T14:41:14.469Z"
   },
   {
    "duration": 723,
    "start_time": "2022-08-31T14:45:30.270Z"
   },
   {
    "duration": 26,
    "start_time": "2022-08-31T14:45:30.994Z"
   },
   {
    "duration": 197,
    "start_time": "2022-08-31T14:45:31.022Z"
   },
   {
    "duration": 1156,
    "start_time": "2022-08-31T14:45:31.221Z"
   },
   {
    "duration": 0,
    "start_time": "2022-08-31T14:45:32.379Z"
   },
   {
    "duration": 0,
    "start_time": "2022-08-31T14:45:32.380Z"
   },
   {
    "duration": 0,
    "start_time": "2022-08-31T14:45:32.382Z"
   },
   {
    "duration": 0,
    "start_time": "2022-08-31T14:45:32.383Z"
   },
   {
    "duration": 0,
    "start_time": "2022-08-31T14:45:32.384Z"
   },
   {
    "duration": 0,
    "start_time": "2022-08-31T14:45:32.385Z"
   },
   {
    "duration": 0,
    "start_time": "2022-08-31T14:45:32.386Z"
   },
   {
    "duration": 0,
    "start_time": "2022-08-31T14:45:32.387Z"
   },
   {
    "duration": 0,
    "start_time": "2022-08-31T14:45:32.388Z"
   },
   {
    "duration": 0,
    "start_time": "2022-08-31T14:45:32.389Z"
   },
   {
    "duration": 0,
    "start_time": "2022-08-31T14:45:32.390Z"
   },
   {
    "duration": 0,
    "start_time": "2022-08-31T14:45:32.391Z"
   },
   {
    "duration": 0,
    "start_time": "2022-08-31T14:45:32.392Z"
   },
   {
    "duration": 0,
    "start_time": "2022-08-31T14:45:32.394Z"
   },
   {
    "duration": 0,
    "start_time": "2022-08-31T14:45:32.395Z"
   },
   {
    "duration": 0,
    "start_time": "2022-08-31T14:45:32.396Z"
   },
   {
    "duration": 0,
    "start_time": "2022-08-31T14:45:32.397Z"
   },
   {
    "duration": 0,
    "start_time": "2022-08-31T14:45:32.398Z"
   },
   {
    "duration": 0,
    "start_time": "2022-08-31T14:45:32.399Z"
   },
   {
    "duration": 0,
    "start_time": "2022-08-31T14:45:32.400Z"
   },
   {
    "duration": 0,
    "start_time": "2022-08-31T14:45:32.400Z"
   },
   {
    "duration": 0,
    "start_time": "2022-08-31T14:45:32.401Z"
   },
   {
    "duration": 0,
    "start_time": "2022-08-31T14:45:32.402Z"
   },
   {
    "duration": 0,
    "start_time": "2022-08-31T14:45:32.403Z"
   },
   {
    "duration": 0,
    "start_time": "2022-08-31T14:45:32.404Z"
   },
   {
    "duration": 0,
    "start_time": "2022-08-31T14:45:32.405Z"
   },
   {
    "duration": 0,
    "start_time": "2022-08-31T14:45:32.406Z"
   },
   {
    "duration": 1256,
    "start_time": "2022-08-31T14:46:00.786Z"
   },
   {
    "duration": 368,
    "start_time": "2022-08-31T14:46:29.628Z"
   },
   {
    "duration": 378,
    "start_time": "2022-08-31T14:47:41.809Z"
   },
   {
    "duration": 50,
    "start_time": "2022-08-31T14:48:46.418Z"
   },
   {
    "duration": 14,
    "start_time": "2022-08-31T14:48:52.473Z"
   },
   {
    "duration": 13,
    "start_time": "2022-08-31T14:48:56.353Z"
   },
   {
    "duration": 5,
    "start_time": "2022-08-31T14:49:12.445Z"
   },
   {
    "duration": 12,
    "start_time": "2022-08-31T14:49:30.331Z"
   },
   {
    "duration": 5,
    "start_time": "2022-08-31T14:49:38.466Z"
   },
   {
    "duration": 1193,
    "start_time": "2022-08-31T14:50:15.850Z"
   },
   {
    "duration": 18,
    "start_time": "2022-08-31T14:50:17.045Z"
   },
   {
    "duration": 214,
    "start_time": "2022-08-31T14:50:17.064Z"
   },
   {
    "duration": 3,
    "start_time": "2022-08-31T14:50:17.282Z"
   },
   {
    "duration": 23,
    "start_time": "2022-08-31T14:50:17.287Z"
   },
   {
    "duration": 28,
    "start_time": "2022-08-31T14:50:17.312Z"
   },
   {
    "duration": 281,
    "start_time": "2022-08-31T14:50:17.343Z"
   },
   {
    "duration": 7,
    "start_time": "2022-08-31T14:50:17.625Z"
   },
   {
    "duration": 326,
    "start_time": "2022-08-31T14:50:17.634Z"
   },
   {
    "duration": 307,
    "start_time": "2022-08-31T14:50:17.963Z"
   },
   {
    "duration": 191,
    "start_time": "2022-08-31T14:50:18.272Z"
   },
   {
    "duration": 265,
    "start_time": "2022-08-31T14:50:18.465Z"
   },
   {
    "duration": 158,
    "start_time": "2022-08-31T14:50:18.731Z"
   },
   {
    "duration": 81,
    "start_time": "2022-08-31T14:50:18.890Z"
   },
   {
    "duration": 0,
    "start_time": "2022-08-31T14:50:18.973Z"
   },
   {
    "duration": 0,
    "start_time": "2022-08-31T14:50:18.974Z"
   },
   {
    "duration": 0,
    "start_time": "2022-08-31T14:50:18.975Z"
   },
   {
    "duration": 0,
    "start_time": "2022-08-31T14:50:18.976Z"
   },
   {
    "duration": 0,
    "start_time": "2022-08-31T14:50:18.977Z"
   },
   {
    "duration": 0,
    "start_time": "2022-08-31T14:50:18.978Z"
   },
   {
    "duration": 0,
    "start_time": "2022-08-31T14:50:18.979Z"
   },
   {
    "duration": 0,
    "start_time": "2022-08-31T14:50:18.979Z"
   },
   {
    "duration": 0,
    "start_time": "2022-08-31T14:50:18.981Z"
   },
   {
    "duration": 0,
    "start_time": "2022-08-31T14:50:18.982Z"
   },
   {
    "duration": 0,
    "start_time": "2022-08-31T14:50:18.983Z"
   },
   {
    "duration": 0,
    "start_time": "2022-08-31T14:50:18.983Z"
   },
   {
    "duration": 0,
    "start_time": "2022-08-31T14:50:18.985Z"
   },
   {
    "duration": 0,
    "start_time": "2022-08-31T14:50:19.009Z"
   },
   {
    "duration": 0,
    "start_time": "2022-08-31T14:50:19.010Z"
   },
   {
    "duration": 0,
    "start_time": "2022-08-31T14:50:19.011Z"
   },
   {
    "duration": 0,
    "start_time": "2022-08-31T14:50:19.012Z"
   },
   {
    "duration": 708,
    "start_time": "2022-08-31T14:51:24.437Z"
   },
   {
    "duration": 20,
    "start_time": "2022-08-31T14:51:25.147Z"
   },
   {
    "duration": 221,
    "start_time": "2022-08-31T14:51:25.168Z"
   },
   {
    "duration": 3,
    "start_time": "2022-08-31T14:51:25.391Z"
   },
   {
    "duration": 22,
    "start_time": "2022-08-31T14:51:25.396Z"
   },
   {
    "duration": 24,
    "start_time": "2022-08-31T14:51:25.420Z"
   },
   {
    "duration": 264,
    "start_time": "2022-08-31T14:51:25.446Z"
   },
   {
    "duration": 8,
    "start_time": "2022-08-31T14:51:25.712Z"
   },
   {
    "duration": 388,
    "start_time": "2022-08-31T14:51:25.721Z"
   },
   {
    "duration": 292,
    "start_time": "2022-08-31T14:51:26.111Z"
   },
   {
    "duration": 181,
    "start_time": "2022-08-31T14:51:26.408Z"
   },
   {
    "duration": 275,
    "start_time": "2022-08-31T14:51:26.591Z"
   },
   {
    "duration": 164,
    "start_time": "2022-08-31T14:51:26.868Z"
   },
   {
    "duration": 194,
    "start_time": "2022-08-31T14:51:27.034Z"
   },
   {
    "duration": 228,
    "start_time": "2022-08-31T14:51:27.230Z"
   },
   {
    "duration": 155,
    "start_time": "2022-08-31T14:51:27.459Z"
   },
   {
    "duration": 259,
    "start_time": "2022-08-31T14:51:27.615Z"
   },
   {
    "duration": 148,
    "start_time": "2022-08-31T14:51:27.876Z"
   },
   {
    "duration": 193,
    "start_time": "2022-08-31T14:51:28.026Z"
   },
   {
    "duration": 205,
    "start_time": "2022-08-31T14:51:28.220Z"
   },
   {
    "duration": 503,
    "start_time": "2022-08-31T14:51:28.426Z"
   },
   {
    "duration": 139,
    "start_time": "2022-08-31T14:51:28.931Z"
   },
   {
    "duration": 153,
    "start_time": "2022-08-31T14:51:29.071Z"
   },
   {
    "duration": 130,
    "start_time": "2022-08-31T14:51:29.225Z"
   },
   {
    "duration": 140,
    "start_time": "2022-08-31T14:51:29.356Z"
   },
   {
    "duration": 216,
    "start_time": "2022-08-31T14:51:29.498Z"
   },
   {
    "duration": 158,
    "start_time": "2022-08-31T14:51:29.716Z"
   },
   {
    "duration": 169,
    "start_time": "2022-08-31T14:51:29.877Z"
   },
   {
    "duration": 152,
    "start_time": "2022-08-31T14:51:30.048Z"
   },
   {
    "duration": 25,
    "start_time": "2022-08-31T14:51:30.209Z"
   },
   {
    "duration": 157,
    "start_time": "2022-08-31T14:51:30.236Z"
   },
   {
    "duration": 954,
    "start_time": "2022-08-31T15:13:41.830Z"
   },
   {
    "duration": 33,
    "start_time": "2022-08-31T15:13:42.787Z"
   },
   {
    "duration": 224,
    "start_time": "2022-08-31T15:13:42.823Z"
   },
   {
    "duration": 3,
    "start_time": "2022-08-31T15:13:43.050Z"
   },
   {
    "duration": 18,
    "start_time": "2022-08-31T15:13:43.054Z"
   },
   {
    "duration": 18,
    "start_time": "2022-08-31T15:13:43.076Z"
   },
   {
    "duration": 313,
    "start_time": "2022-08-31T15:13:43.096Z"
   },
   {
    "duration": 9,
    "start_time": "2022-08-31T15:13:43.410Z"
   },
   {
    "duration": 373,
    "start_time": "2022-08-31T15:13:43.421Z"
   },
   {
    "duration": 356,
    "start_time": "2022-08-31T15:13:43.797Z"
   },
   {
    "duration": 263,
    "start_time": "2022-08-31T15:13:44.154Z"
   },
   {
    "duration": 310,
    "start_time": "2022-08-31T15:13:44.419Z"
   },
   {
    "duration": 179,
    "start_time": "2022-08-31T15:13:44.730Z"
   },
   {
    "duration": 200,
    "start_time": "2022-08-31T15:13:44.911Z"
   },
   {
    "duration": 197,
    "start_time": "2022-08-31T15:13:45.112Z"
   },
   {
    "duration": 172,
    "start_time": "2022-08-31T15:13:45.311Z"
   },
   {
    "duration": 280,
    "start_time": "2022-08-31T15:13:45.485Z"
   },
   {
    "duration": 160,
    "start_time": "2022-08-31T15:13:45.767Z"
   },
   {
    "duration": 233,
    "start_time": "2022-08-31T15:13:45.929Z"
   },
   {
    "duration": 254,
    "start_time": "2022-08-31T15:13:46.164Z"
   },
   {
    "duration": 581,
    "start_time": "2022-08-31T15:13:46.420Z"
   },
   {
    "duration": 201,
    "start_time": "2022-08-31T15:13:47.002Z"
   },
   {
    "duration": 228,
    "start_time": "2022-08-31T15:13:47.210Z"
   },
   {
    "duration": 217,
    "start_time": "2022-08-31T15:13:47.440Z"
   },
   {
    "duration": 206,
    "start_time": "2022-08-31T15:13:47.659Z"
   },
   {
    "duration": 246,
    "start_time": "2022-08-31T15:13:47.868Z"
   },
   {
    "duration": 186,
    "start_time": "2022-08-31T15:13:48.116Z"
   },
   {
    "duration": 199,
    "start_time": "2022-08-31T15:13:48.308Z"
   },
   {
    "duration": 205,
    "start_time": "2022-08-31T15:13:48.509Z"
   },
   {
    "duration": 25,
    "start_time": "2022-08-31T15:13:48.716Z"
   },
   {
    "duration": 178,
    "start_time": "2022-08-31T15:13:48.743Z"
   },
   {
    "duration": 49,
    "start_time": "2022-08-31T16:06:05.384Z"
   },
   {
    "duration": 920,
    "start_time": "2022-08-31T16:06:15.779Z"
   },
   {
    "duration": 6,
    "start_time": "2022-08-31T16:06:16.701Z"
   },
   {
    "duration": 255,
    "start_time": "2022-08-31T16:06:16.708Z"
   },
   {
    "duration": 20,
    "start_time": "2022-08-31T16:06:16.965Z"
   },
   {
    "duration": 196,
    "start_time": "2022-08-31T16:06:16.990Z"
   },
   {
    "duration": 4,
    "start_time": "2022-08-31T16:06:17.189Z"
   },
   {
    "duration": 68,
    "start_time": "2022-08-31T16:06:17.194Z"
   },
   {
    "duration": 7,
    "start_time": "2022-08-31T16:06:17.264Z"
   },
   {
    "duration": 28,
    "start_time": "2022-08-31T16:06:17.273Z"
   },
   {
    "duration": 350,
    "start_time": "2022-08-31T16:06:17.304Z"
   },
   {
    "duration": 7,
    "start_time": "2022-08-31T16:06:17.656Z"
   },
   {
    "duration": 334,
    "start_time": "2022-08-31T16:06:17.665Z"
   },
   {
    "duration": 324,
    "start_time": "2022-08-31T16:06:18.001Z"
   },
   {
    "duration": 206,
    "start_time": "2022-08-31T16:06:18.327Z"
   },
   {
    "duration": 298,
    "start_time": "2022-08-31T16:06:18.535Z"
   },
   {
    "duration": 177,
    "start_time": "2022-08-31T16:06:18.835Z"
   },
   {
    "duration": 195,
    "start_time": "2022-08-31T16:06:19.014Z"
   },
   {
    "duration": 257,
    "start_time": "2022-08-31T16:06:19.211Z"
   },
   {
    "duration": 168,
    "start_time": "2022-08-31T16:06:19.470Z"
   },
   {
    "duration": 184,
    "start_time": "2022-08-31T16:06:19.640Z"
   },
   {
    "duration": 161,
    "start_time": "2022-08-31T16:06:19.826Z"
   },
   {
    "duration": 228,
    "start_time": "2022-08-31T16:06:19.989Z"
   },
   {
    "duration": 220,
    "start_time": "2022-08-31T16:06:20.219Z"
   },
   {
    "duration": 573,
    "start_time": "2022-08-31T16:06:20.441Z"
   },
   {
    "duration": 160,
    "start_time": "2022-08-31T16:06:21.016Z"
   },
   {
    "duration": 163,
    "start_time": "2022-08-31T16:06:21.178Z"
   },
   {
    "duration": 230,
    "start_time": "2022-08-31T16:06:21.343Z"
   },
   {
    "duration": 161,
    "start_time": "2022-08-31T16:06:21.576Z"
   },
   {
    "duration": 169,
    "start_time": "2022-08-31T16:06:21.739Z"
   },
   {
    "duration": 168,
    "start_time": "2022-08-31T16:06:21.910Z"
   },
   {
    "duration": 178,
    "start_time": "2022-08-31T16:06:22.079Z"
   },
   {
    "duration": 171,
    "start_time": "2022-08-31T16:06:22.258Z"
   },
   {
    "duration": 24,
    "start_time": "2022-08-31T16:06:22.430Z"
   },
   {
    "duration": 167,
    "start_time": "2022-08-31T16:06:22.456Z"
   },
   {
    "duration": 19,
    "start_time": "2022-08-31T16:06:54.918Z"
   },
   {
    "duration": 747,
    "start_time": "2022-08-31T16:12:13.216Z"
   },
   {
    "duration": 4,
    "start_time": "2022-08-31T16:12:13.965Z"
   },
   {
    "duration": 250,
    "start_time": "2022-08-31T16:12:13.970Z"
   },
   {
    "duration": 18,
    "start_time": "2022-08-31T16:12:14.221Z"
   },
   {
    "duration": 192,
    "start_time": "2022-08-31T16:12:14.241Z"
   },
   {
    "duration": 2,
    "start_time": "2022-08-31T16:12:14.435Z"
   },
   {
    "duration": 62,
    "start_time": "2022-08-31T16:12:14.438Z"
   },
   {
    "duration": 15,
    "start_time": "2022-08-31T16:12:14.502Z"
   },
   {
    "duration": 7,
    "start_time": "2022-08-31T16:12:14.518Z"
   },
   {
    "duration": 12,
    "start_time": "2022-08-31T16:12:14.526Z"
   },
   {
    "duration": 343,
    "start_time": "2022-08-31T16:12:14.539Z"
   },
   {
    "duration": 12,
    "start_time": "2022-08-31T16:12:14.883Z"
   },
   {
    "duration": 300,
    "start_time": "2022-08-31T16:12:14.896Z"
   },
   {
    "duration": 314,
    "start_time": "2022-08-31T16:12:15.199Z"
   },
   {
    "duration": 191,
    "start_time": "2022-08-31T16:12:15.515Z"
   },
   {
    "duration": 288,
    "start_time": "2022-08-31T16:12:15.708Z"
   },
   {
    "duration": 191,
    "start_time": "2022-08-31T16:12:15.997Z"
   },
   {
    "duration": 258,
    "start_time": "2022-08-31T16:12:16.189Z"
   },
   {
    "duration": 299,
    "start_time": "2022-08-31T16:12:16.449Z"
   },
   {
    "duration": 155,
    "start_time": "2022-08-31T16:12:16.750Z"
   },
   {
    "duration": 173,
    "start_time": "2022-08-31T16:12:16.907Z"
   },
   {
    "duration": 147,
    "start_time": "2022-08-31T16:12:17.082Z"
   },
   {
    "duration": 192,
    "start_time": "2022-08-31T16:12:17.231Z"
   },
   {
    "duration": 238,
    "start_time": "2022-08-31T16:12:17.425Z"
   },
   {
    "duration": 574,
    "start_time": "2022-08-31T16:12:17.665Z"
   },
   {
    "duration": 153,
    "start_time": "2022-08-31T16:12:18.241Z"
   },
   {
    "duration": 155,
    "start_time": "2022-08-31T16:12:18.396Z"
   },
   {
    "duration": 211,
    "start_time": "2022-08-31T16:12:18.553Z"
   },
   {
    "duration": 158,
    "start_time": "2022-08-31T16:12:18.766Z"
   },
   {
    "duration": 150,
    "start_time": "2022-08-31T16:12:18.926Z"
   },
   {
    "duration": 173,
    "start_time": "2022-08-31T16:12:19.077Z"
   },
   {
    "duration": 166,
    "start_time": "2022-08-31T16:12:19.251Z"
   },
   {
    "duration": 169,
    "start_time": "2022-08-31T16:12:19.419Z"
   },
   {
    "duration": 21,
    "start_time": "2022-08-31T16:12:19.590Z"
   },
   {
    "duration": 161,
    "start_time": "2022-08-31T16:12:19.613Z"
   },
   {
    "duration": 46,
    "start_time": "2022-09-01T10:36:09.711Z"
   },
   {
    "duration": 1428,
    "start_time": "2022-09-01T10:36:16.703Z"
   },
   {
    "duration": 4,
    "start_time": "2022-09-01T10:36:18.133Z"
   },
   {
    "duration": 243,
    "start_time": "2022-09-01T10:36:18.139Z"
   },
   {
    "duration": 19,
    "start_time": "2022-09-01T10:36:18.385Z"
   },
   {
    "duration": 196,
    "start_time": "2022-09-01T10:36:18.405Z"
   },
   {
    "duration": 10,
    "start_time": "2022-09-01T10:36:18.603Z"
   },
   {
    "duration": 56,
    "start_time": "2022-09-01T10:36:18.614Z"
   },
   {
    "duration": 27,
    "start_time": "2022-09-01T10:36:18.672Z"
   },
   {
    "duration": 8,
    "start_time": "2022-09-01T10:36:18.700Z"
   },
   {
    "duration": 13,
    "start_time": "2022-09-01T10:36:18.710Z"
   },
   {
    "duration": 357,
    "start_time": "2022-09-01T10:36:18.724Z"
   },
   {
    "duration": 9,
    "start_time": "2022-09-01T10:36:19.083Z"
   },
   {
    "duration": 294,
    "start_time": "2022-09-01T10:36:19.094Z"
   },
   {
    "duration": 293,
    "start_time": "2022-09-01T10:36:19.390Z"
   },
   {
    "duration": 194,
    "start_time": "2022-09-01T10:36:19.686Z"
   },
   {
    "duration": 280,
    "start_time": "2022-09-01T10:36:19.882Z"
   },
   {
    "duration": 162,
    "start_time": "2022-09-01T10:36:20.164Z"
   },
   {
    "duration": 184,
    "start_time": "2022-09-01T10:36:20.328Z"
   },
   {
    "duration": 247,
    "start_time": "2022-09-01T10:36:20.513Z"
   },
   {
    "duration": 146,
    "start_time": "2022-09-01T10:36:20.762Z"
   },
   {
    "duration": 167,
    "start_time": "2022-09-01T10:36:20.910Z"
   },
   {
    "duration": 144,
    "start_time": "2022-09-01T10:36:21.079Z"
   },
   {
    "duration": 190,
    "start_time": "2022-09-01T10:36:21.224Z"
   },
   {
    "duration": 218,
    "start_time": "2022-09-01T10:36:21.415Z"
   },
   {
    "duration": 539,
    "start_time": "2022-09-01T10:36:21.635Z"
   },
   {
    "duration": 147,
    "start_time": "2022-09-01T10:36:22.176Z"
   },
   {
    "duration": 152,
    "start_time": "2022-09-01T10:36:22.325Z"
   },
   {
    "duration": 213,
    "start_time": "2022-09-01T10:36:22.487Z"
   },
   {
    "duration": 143,
    "start_time": "2022-09-01T10:36:22.701Z"
   },
   {
    "duration": 150,
    "start_time": "2022-09-01T10:36:22.845Z"
   },
   {
    "duration": 166,
    "start_time": "2022-09-01T10:36:22.996Z"
   },
   {
    "duration": 161,
    "start_time": "2022-09-01T10:36:23.164Z"
   },
   {
    "duration": 151,
    "start_time": "2022-09-01T10:36:23.326Z"
   },
   {
    "duration": 28,
    "start_time": "2022-09-01T10:36:23.479Z"
   },
   {
    "duration": 159,
    "start_time": "2022-09-01T10:36:23.509Z"
   },
   {
    "duration": 72,
    "start_time": "2022-09-01T10:40:41.785Z"
   },
   {
    "duration": 38,
    "start_time": "2022-09-01T10:42:17.822Z"
   },
   {
    "duration": 730,
    "start_time": "2022-09-01T10:44:23.687Z"
   },
   {
    "duration": 4,
    "start_time": "2022-09-01T10:44:24.419Z"
   },
   {
    "duration": 230,
    "start_time": "2022-09-01T10:44:24.424Z"
   },
   {
    "duration": 18,
    "start_time": "2022-09-01T10:44:24.655Z"
   },
   {
    "duration": 184,
    "start_time": "2022-09-01T10:44:24.675Z"
   },
   {
    "duration": 42,
    "start_time": "2022-09-01T10:44:24.861Z"
   },
   {
    "duration": 49,
    "start_time": "2022-09-01T10:44:24.905Z"
   },
   {
    "duration": 30,
    "start_time": "2022-09-01T10:44:24.956Z"
   },
   {
    "duration": 7,
    "start_time": "2022-09-01T10:44:24.988Z"
   },
   {
    "duration": 17,
    "start_time": "2022-09-01T10:44:24.998Z"
   },
   {
    "duration": 336,
    "start_time": "2022-09-01T10:44:25.016Z"
   },
   {
    "duration": 8,
    "start_time": "2022-09-01T10:44:25.355Z"
   },
   {
    "duration": 292,
    "start_time": "2022-09-01T10:44:25.364Z"
   },
   {
    "duration": 297,
    "start_time": "2022-09-01T10:44:25.658Z"
   },
   {
    "duration": 195,
    "start_time": "2022-09-01T10:44:25.957Z"
   },
   {
    "duration": 339,
    "start_time": "2022-09-01T10:44:26.153Z"
   },
   {
    "duration": 177,
    "start_time": "2022-09-01T10:44:26.493Z"
   },
   {
    "duration": 179,
    "start_time": "2022-09-01T10:44:26.671Z"
   },
   {
    "duration": 239,
    "start_time": "2022-09-01T10:44:26.852Z"
   },
   {
    "duration": 142,
    "start_time": "2022-09-01T10:44:27.092Z"
   },
   {
    "duration": 159,
    "start_time": "2022-09-01T10:44:27.236Z"
   },
   {
    "duration": 136,
    "start_time": "2022-09-01T10:44:27.397Z"
   },
   {
    "duration": 204,
    "start_time": "2022-09-01T10:44:27.535Z"
   },
   {
    "duration": 207,
    "start_time": "2022-09-01T10:44:27.741Z"
   },
   {
    "duration": 514,
    "start_time": "2022-09-01T10:44:27.950Z"
   },
   {
    "duration": 147,
    "start_time": "2022-09-01T10:44:28.466Z"
   },
   {
    "duration": 147,
    "start_time": "2022-09-01T10:44:28.615Z"
   },
   {
    "duration": 198,
    "start_time": "2022-09-01T10:44:28.765Z"
   },
   {
    "duration": 153,
    "start_time": "2022-09-01T10:44:28.965Z"
   },
   {
    "duration": 153,
    "start_time": "2022-09-01T10:44:29.120Z"
   },
   {
    "duration": 151,
    "start_time": "2022-09-01T10:44:29.275Z"
   },
   {
    "duration": 151,
    "start_time": "2022-09-01T10:44:29.428Z"
   },
   {
    "duration": 154,
    "start_time": "2022-09-01T10:44:29.586Z"
   },
   {
    "duration": 24,
    "start_time": "2022-09-01T10:44:29.741Z"
   },
   {
    "duration": 156,
    "start_time": "2022-09-01T10:44:29.767Z"
   },
   {
    "duration": 37,
    "start_time": "2022-09-01T10:46:21.909Z"
   },
   {
    "duration": 27,
    "start_time": "2022-09-01T10:56:53.213Z"
   },
   {
    "duration": 153,
    "start_time": "2022-09-01T10:59:54.511Z"
   },
   {
    "duration": 189,
    "start_time": "2022-09-01T11:00:23.582Z"
   },
   {
    "duration": 741,
    "start_time": "2022-09-01T11:00:32.095Z"
   },
   {
    "duration": 5,
    "start_time": "2022-09-01T11:00:32.838Z"
   },
   {
    "duration": 254,
    "start_time": "2022-09-01T11:00:32.844Z"
   },
   {
    "duration": 19,
    "start_time": "2022-09-01T11:00:33.100Z"
   },
   {
    "duration": 187,
    "start_time": "2022-09-01T11:00:33.121Z"
   },
   {
    "duration": 39,
    "start_time": "2022-09-01T11:00:33.310Z"
   },
   {
    "duration": 38,
    "start_time": "2022-09-01T11:00:33.350Z"
   },
   {
    "duration": 184,
    "start_time": "2022-09-01T11:00:33.390Z"
   },
   {
    "duration": 50,
    "start_time": "2022-09-01T11:00:33.576Z"
   },
   {
    "duration": 14,
    "start_time": "2022-09-01T11:00:33.628Z"
   },
   {
    "duration": 7,
    "start_time": "2022-09-01T11:00:33.643Z"
   },
   {
    "duration": 37,
    "start_time": "2022-09-01T11:00:33.651Z"
   },
   {
    "duration": 337,
    "start_time": "2022-09-01T11:00:33.690Z"
   },
   {
    "duration": 9,
    "start_time": "2022-09-01T11:00:34.030Z"
   },
   {
    "duration": 305,
    "start_time": "2022-09-01T11:00:34.041Z"
   },
   {
    "duration": 286,
    "start_time": "2022-09-01T11:00:34.348Z"
   },
   {
    "duration": 202,
    "start_time": "2022-09-01T11:00:34.635Z"
   },
   {
    "duration": 311,
    "start_time": "2022-09-01T11:00:34.838Z"
   },
   {
    "duration": 171,
    "start_time": "2022-09-01T11:00:35.150Z"
   },
   {
    "duration": 180,
    "start_time": "2022-09-01T11:00:35.322Z"
   },
   {
    "duration": 249,
    "start_time": "2022-09-01T11:00:35.504Z"
   },
   {
    "duration": 153,
    "start_time": "2022-09-01T11:00:35.755Z"
   },
   {
    "duration": 202,
    "start_time": "2022-09-01T11:00:35.910Z"
   },
   {
    "duration": 184,
    "start_time": "2022-09-01T11:00:36.114Z"
   },
   {
    "duration": 249,
    "start_time": "2022-09-01T11:00:36.300Z"
   },
   {
    "duration": 229,
    "start_time": "2022-09-01T11:00:36.551Z"
   },
   {
    "duration": 558,
    "start_time": "2022-09-01T11:00:36.786Z"
   },
   {
    "duration": 151,
    "start_time": "2022-09-01T11:00:37.345Z"
   },
   {
    "duration": 171,
    "start_time": "2022-09-01T11:00:37.497Z"
   },
   {
    "duration": 229,
    "start_time": "2022-09-01T11:00:37.669Z"
   },
   {
    "duration": 165,
    "start_time": "2022-09-01T11:00:37.900Z"
   },
   {
    "duration": 165,
    "start_time": "2022-09-01T11:00:38.067Z"
   },
   {
    "duration": 172,
    "start_time": "2022-09-01T11:00:38.233Z"
   },
   {
    "duration": 168,
    "start_time": "2022-09-01T11:00:38.406Z"
   },
   {
    "duration": 167,
    "start_time": "2022-09-01T11:00:38.576Z"
   },
   {
    "duration": 24,
    "start_time": "2022-09-01T11:00:38.745Z"
   },
   {
    "duration": 154,
    "start_time": "2022-09-01T11:00:38.770Z"
   },
   {
    "duration": 166,
    "start_time": "2022-09-01T11:08:37.877Z"
   },
   {
    "duration": 4,
    "start_time": "2022-09-01T11:10:29.269Z"
   },
   {
    "duration": 79,
    "start_time": "2022-09-01T11:11:03.501Z"
   },
   {
    "duration": 15,
    "start_time": "2022-09-01T11:15:23.557Z"
   },
   {
    "duration": 2936,
    "start_time": "2022-09-01T11:23:56.083Z"
   },
   {
    "duration": 710,
    "start_time": "2022-09-01T11:25:03.107Z"
   },
   {
    "duration": 1875,
    "start_time": "2022-09-01T11:25:28.902Z"
   },
   {
    "duration": 0,
    "start_time": "2022-09-01T11:25:52.858Z"
   },
   {
    "duration": 1776,
    "start_time": "2022-09-01T11:27:56.534Z"
   },
   {
    "duration": 8,
    "start_time": "2022-09-01T11:38:31.941Z"
   },
   {
    "duration": 9,
    "start_time": "2022-09-01T11:38:40.597Z"
   },
   {
    "duration": 5,
    "start_time": "2022-09-01T11:38:48.654Z"
   },
   {
    "duration": 149,
    "start_time": "2022-09-01T11:39:54.640Z"
   },
   {
    "duration": 15,
    "start_time": "2022-09-01T11:40:43.786Z"
   },
   {
    "duration": 13,
    "start_time": "2022-09-01T11:40:58.416Z"
   },
   {
    "duration": 151,
    "start_time": "2022-09-01T11:41:18.591Z"
   },
   {
    "duration": 10,
    "start_time": "2022-09-01T11:42:51.855Z"
   },
   {
    "duration": 10,
    "start_time": "2022-09-01T11:43:04.439Z"
   },
   {
    "duration": 9,
    "start_time": "2022-09-01T11:43:07.175Z"
   },
   {
    "duration": 114,
    "start_time": "2022-09-01T11:44:14.865Z"
   },
   {
    "duration": 8,
    "start_time": "2022-09-01T11:44:31.570Z"
   },
   {
    "duration": 105,
    "start_time": "2022-09-01T11:48:00.051Z"
   },
   {
    "duration": 103,
    "start_time": "2022-09-01T11:48:27.227Z"
   },
   {
    "duration": 9,
    "start_time": "2022-09-01T11:53:30.678Z"
   },
   {
    "duration": 109,
    "start_time": "2022-09-01T11:53:36.458Z"
   },
   {
    "duration": 101,
    "start_time": "2022-09-01T11:53:58.560Z"
   },
   {
    "duration": 115,
    "start_time": "2022-09-01T11:54:05.402Z"
   },
   {
    "duration": 89,
    "start_time": "2022-09-01T11:59:11.599Z"
   },
   {
    "duration": 32,
    "start_time": "2022-09-01T11:59:17.220Z"
   },
   {
    "duration": 172,
    "start_time": "2022-09-01T11:59:36.268Z"
   },
   {
    "duration": 252,
    "start_time": "2022-09-01T12:18:23.930Z"
   },
   {
    "duration": 323,
    "start_time": "2022-09-01T12:18:41.612Z"
   },
   {
    "duration": 325,
    "start_time": "2022-09-01T12:19:02.323Z"
   },
   {
    "duration": 250,
    "start_time": "2022-09-01T12:19:18.346Z"
   },
   {
    "duration": 278,
    "start_time": "2022-09-01T12:19:37.337Z"
   },
   {
    "duration": 293,
    "start_time": "2022-09-01T12:19:46.487Z"
   },
   {
    "duration": 277,
    "start_time": "2022-09-01T12:19:56.877Z"
   },
   {
    "duration": 319,
    "start_time": "2022-09-01T12:20:10.240Z"
   },
   {
    "duration": 265,
    "start_time": "2022-09-01T12:20:20.879Z"
   },
   {
    "duration": 303,
    "start_time": "2022-09-01T12:20:56.371Z"
   },
   {
    "duration": 549,
    "start_time": "2022-09-01T12:21:06.463Z"
   },
   {
    "duration": 273,
    "start_time": "2022-09-01T12:22:24.218Z"
   },
   {
    "duration": 159,
    "start_time": "2022-09-01T12:22:31.341Z"
   },
   {
    "duration": 319,
    "start_time": "2022-09-01T12:22:36.324Z"
   },
   {
    "duration": 7,
    "start_time": "2022-09-01T12:24:11.230Z"
   },
   {
    "duration": 9,
    "start_time": "2022-09-01T12:24:48.110Z"
   },
   {
    "duration": 272,
    "start_time": "2022-09-01T12:33:00.158Z"
   },
   {
    "duration": 1038,
    "start_time": "2022-09-01T12:33:41.981Z"
   },
   {
    "duration": 198,
    "start_time": "2022-09-01T12:34:21.137Z"
   },
   {
    "duration": 157,
    "start_time": "2022-09-01T12:35:17.435Z"
   },
   {
    "duration": 150,
    "start_time": "2022-09-01T12:35:39.955Z"
   },
   {
    "duration": 178,
    "start_time": "2022-09-01T12:38:55.953Z"
   },
   {
    "duration": 140,
    "start_time": "2022-09-01T12:39:50.941Z"
   },
   {
    "duration": 761,
    "start_time": "2022-09-01T15:07:49.599Z"
   },
   {
    "duration": 4,
    "start_time": "2022-09-01T15:07:50.362Z"
   },
   {
    "duration": 242,
    "start_time": "2022-09-01T15:07:50.367Z"
   },
   {
    "duration": 31,
    "start_time": "2022-09-01T15:07:50.612Z"
   },
   {
    "duration": 190,
    "start_time": "2022-09-01T15:07:50.645Z"
   },
   {
    "duration": 41,
    "start_time": "2022-09-01T15:07:50.836Z"
   },
   {
    "duration": 22,
    "start_time": "2022-09-01T15:07:50.886Z"
   },
   {
    "duration": 212,
    "start_time": "2022-09-01T15:07:50.910Z"
   },
   {
    "duration": 51,
    "start_time": "2022-09-01T15:07:51.124Z"
   },
   {
    "duration": 20,
    "start_time": "2022-09-01T15:07:51.179Z"
   },
   {
    "duration": 7,
    "start_time": "2022-09-01T15:07:51.201Z"
   },
   {
    "duration": 25,
    "start_time": "2022-09-01T15:07:51.209Z"
   },
   {
    "duration": 342,
    "start_time": "2022-09-01T15:07:51.236Z"
   },
   {
    "duration": 9,
    "start_time": "2022-09-01T15:07:51.579Z"
   },
   {
    "duration": 302,
    "start_time": "2022-09-01T15:07:51.589Z"
   },
   {
    "duration": 327,
    "start_time": "2022-09-01T15:07:51.893Z"
   },
   {
    "duration": 201,
    "start_time": "2022-09-01T15:07:52.223Z"
   },
   {
    "duration": 308,
    "start_time": "2022-09-01T15:07:52.426Z"
   },
   {
    "duration": 198,
    "start_time": "2022-09-01T15:07:52.736Z"
   },
   {
    "duration": 207,
    "start_time": "2022-09-01T15:07:52.935Z"
   },
   {
    "duration": 287,
    "start_time": "2022-09-01T15:07:53.144Z"
   },
   {
    "duration": 126,
    "start_time": "2022-09-01T15:07:53.434Z"
   },
   {
    "duration": 154,
    "start_time": "2022-09-01T15:07:53.562Z"
   },
   {
    "duration": 178,
    "start_time": "2022-09-01T15:07:53.717Z"
   },
   {
    "duration": 157,
    "start_time": "2022-09-01T15:07:53.897Z"
   },
   {
    "duration": 187,
    "start_time": "2022-09-01T15:07:54.055Z"
   },
   {
    "duration": 378,
    "start_time": "2022-09-01T15:07:54.244Z"
   },
   {
    "duration": 536,
    "start_time": "2022-09-01T15:07:54.626Z"
   },
   {
    "duration": 245,
    "start_time": "2022-09-01T15:07:55.164Z"
   },
   {
    "duration": 283,
    "start_time": "2022-09-01T15:07:55.410Z"
   },
   {
    "duration": 583,
    "start_time": "2022-09-01T15:07:55.695Z"
   },
   {
    "duration": 350,
    "start_time": "2022-09-01T15:07:56.281Z"
   },
   {
    "duration": 156,
    "start_time": "2022-09-01T15:07:56.632Z"
   },
   {
    "duration": 170,
    "start_time": "2022-09-01T15:07:56.790Z"
   },
   {
    "duration": 165,
    "start_time": "2022-09-01T15:07:56.962Z"
   },
   {
    "duration": 164,
    "start_time": "2022-09-01T15:07:57.129Z"
   },
   {
    "duration": 36,
    "start_time": "2022-09-01T15:07:57.296Z"
   },
   {
    "duration": 166,
    "start_time": "2022-09-01T15:07:57.334Z"
   },
   {
    "duration": 133,
    "start_time": "2022-09-01T15:19:08.657Z"
   },
   {
    "duration": 169,
    "start_time": "2022-09-01T15:19:23.045Z"
   },
   {
    "duration": 357,
    "start_time": "2022-09-01T15:19:38.150Z"
   },
   {
    "duration": 239,
    "start_time": "2022-09-01T15:23:38.352Z"
   },
   {
    "duration": 29,
    "start_time": "2022-09-01T15:24:17.958Z"
   },
   {
    "duration": 175,
    "start_time": "2022-09-01T15:27:08.521Z"
   },
   {
    "duration": 329,
    "start_time": "2022-09-01T15:27:40.500Z"
   },
   {
    "duration": 175,
    "start_time": "2022-09-01T15:27:50.024Z"
   },
   {
    "duration": 169,
    "start_time": "2022-09-01T15:28:14.232Z"
   },
   {
    "duration": 11,
    "start_time": "2022-09-01T15:36:36.941Z"
   },
   {
    "duration": 12,
    "start_time": "2022-09-01T15:37:00.894Z"
   },
   {
    "duration": 164,
    "start_time": "2022-09-01T15:41:44.060Z"
   },
   {
    "duration": 68,
    "start_time": "2022-09-01T15:47:34.283Z"
   },
   {
    "duration": 166,
    "start_time": "2022-09-01T15:47:41.748Z"
   },
   {
    "duration": 780,
    "start_time": "2022-09-01T15:47:50.077Z"
   },
   {
    "duration": 5,
    "start_time": "2022-09-01T15:47:50.859Z"
   },
   {
    "duration": 255,
    "start_time": "2022-09-01T15:47:50.866Z"
   },
   {
    "duration": 18,
    "start_time": "2022-09-01T15:47:51.125Z"
   },
   {
    "duration": 200,
    "start_time": "2022-09-01T15:47:51.145Z"
   },
   {
    "duration": 55,
    "start_time": "2022-09-01T15:47:51.347Z"
   },
   {
    "duration": 19,
    "start_time": "2022-09-01T15:47:51.404Z"
   },
   {
    "duration": 190,
    "start_time": "2022-09-01T15:47:51.425Z"
   },
   {
    "duration": 47,
    "start_time": "2022-09-01T15:47:51.616Z"
   },
   {
    "duration": 39,
    "start_time": "2022-09-01T15:47:51.665Z"
   },
   {
    "duration": 11,
    "start_time": "2022-09-01T15:47:51.706Z"
   },
   {
    "duration": 18,
    "start_time": "2022-09-01T15:47:51.719Z"
   },
   {
    "duration": 365,
    "start_time": "2022-09-01T15:47:51.739Z"
   },
   {
    "duration": 8,
    "start_time": "2022-09-01T15:47:52.105Z"
   },
   {
    "duration": 321,
    "start_time": "2022-09-01T15:47:52.114Z"
   },
   {
    "duration": 308,
    "start_time": "2022-09-01T15:47:52.436Z"
   },
   {
    "duration": 200,
    "start_time": "2022-09-01T15:47:52.746Z"
   },
   {
    "duration": 302,
    "start_time": "2022-09-01T15:47:52.948Z"
   },
   {
    "duration": 175,
    "start_time": "2022-09-01T15:47:53.252Z"
   },
   {
    "duration": 180,
    "start_time": "2022-09-01T15:47:53.429Z"
   },
   {
    "duration": 271,
    "start_time": "2022-09-01T15:47:53.611Z"
   },
   {
    "duration": 130,
    "start_time": "2022-09-01T15:47:53.886Z"
   },
   {
    "duration": 163,
    "start_time": "2022-09-01T15:47:54.018Z"
   },
   {
    "duration": 171,
    "start_time": "2022-09-01T15:47:54.183Z"
   },
   {
    "duration": 159,
    "start_time": "2022-09-01T15:47:54.356Z"
   },
   {
    "duration": 192,
    "start_time": "2022-09-01T15:47:54.517Z"
   },
   {
    "duration": 397,
    "start_time": "2022-09-01T15:47:54.711Z"
   },
   {
    "duration": 556,
    "start_time": "2022-09-01T15:47:55.112Z"
   },
   {
    "duration": 247,
    "start_time": "2022-09-01T15:47:55.669Z"
   },
   {
    "duration": 188,
    "start_time": "2022-09-01T15:47:55.919Z"
   },
   {
    "duration": 172,
    "start_time": "2022-09-01T15:47:56.110Z"
   },
   {
    "duration": 360,
    "start_time": "2022-09-01T15:47:56.286Z"
   },
   {
    "duration": 169,
    "start_time": "2022-09-01T15:47:56.649Z"
   },
   {
    "duration": 182,
    "start_time": "2022-09-01T15:47:56.819Z"
   },
   {
    "duration": 156,
    "start_time": "2022-09-01T15:47:57.003Z"
   },
   {
    "duration": 166,
    "start_time": "2022-09-01T15:47:57.161Z"
   },
   {
    "duration": 24,
    "start_time": "2022-09-01T15:47:57.329Z"
   },
   {
    "duration": 170,
    "start_time": "2022-09-01T15:47:57.354Z"
   },
   {
    "duration": 726,
    "start_time": "2022-09-02T13:50:12.512Z"
   },
   {
    "duration": 4,
    "start_time": "2022-09-02T13:50:13.240Z"
   },
   {
    "duration": 236,
    "start_time": "2022-09-02T13:50:13.245Z"
   },
   {
    "duration": 22,
    "start_time": "2022-09-02T13:50:13.483Z"
   },
   {
    "duration": 184,
    "start_time": "2022-09-02T13:50:13.507Z"
   },
   {
    "duration": 47,
    "start_time": "2022-09-02T13:50:13.693Z"
   },
   {
    "duration": 18,
    "start_time": "2022-09-02T13:50:13.742Z"
   },
   {
    "duration": 199,
    "start_time": "2022-09-02T13:50:13.761Z"
   },
   {
    "duration": 46,
    "start_time": "2022-09-02T13:50:13.962Z"
   },
   {
    "duration": 13,
    "start_time": "2022-09-02T13:50:14.010Z"
   },
   {
    "duration": 14,
    "start_time": "2022-09-02T13:50:14.038Z"
   },
   {
    "duration": 16,
    "start_time": "2022-09-02T13:50:14.054Z"
   },
   {
    "duration": 324,
    "start_time": "2022-09-02T13:50:14.071Z"
   },
   {
    "duration": 7,
    "start_time": "2022-09-02T13:50:14.397Z"
   },
   {
    "duration": 279,
    "start_time": "2022-09-02T13:50:14.405Z"
   },
   {
    "duration": 296,
    "start_time": "2022-09-02T13:50:14.686Z"
   },
   {
    "duration": 189,
    "start_time": "2022-09-02T13:50:14.984Z"
   },
   {
    "duration": 260,
    "start_time": "2022-09-02T13:50:15.174Z"
   },
   {
    "duration": 152,
    "start_time": "2022-09-02T13:50:15.437Z"
   },
   {
    "duration": 178,
    "start_time": "2022-09-02T13:50:15.590Z"
   },
   {
    "duration": 233,
    "start_time": "2022-09-02T13:50:15.770Z"
   },
   {
    "duration": 113,
    "start_time": "2022-09-02T13:50:16.005Z"
   },
   {
    "duration": 157,
    "start_time": "2022-09-02T13:50:16.120Z"
   },
   {
    "duration": 169,
    "start_time": "2022-09-02T13:50:16.279Z"
   },
   {
    "duration": 142,
    "start_time": "2022-09-02T13:50:16.450Z"
   },
   {
    "duration": 184,
    "start_time": "2022-09-02T13:50:16.594Z"
   },
   {
    "duration": 394,
    "start_time": "2022-09-02T13:50:16.780Z"
   },
   {
    "duration": 541,
    "start_time": "2022-09-02T13:50:17.178Z"
   },
   {
    "duration": 217,
    "start_time": "2022-09-02T13:50:17.721Z"
   },
   {
    "duration": 163,
    "start_time": "2022-09-02T13:50:17.940Z"
   },
   {
    "duration": 125,
    "start_time": "2022-09-02T13:50:18.104Z"
   },
   {
    "duration": 247,
    "start_time": "2022-09-02T13:50:18.238Z"
   },
   {
    "duration": 134,
    "start_time": "2022-09-02T13:50:18.487Z"
   },
   {
    "duration": 159,
    "start_time": "2022-09-02T13:50:18.622Z"
   },
   {
    "duration": 190,
    "start_time": "2022-09-02T13:50:18.782Z"
   },
   {
    "duration": 176,
    "start_time": "2022-09-02T13:50:18.973Z"
   },
   {
    "duration": 22,
    "start_time": "2022-09-02T13:50:19.150Z"
   },
   {
    "duration": 146,
    "start_time": "2022-09-02T13:50:19.174Z"
   },
   {
    "duration": 24,
    "start_time": "2022-09-02T13:52:21.512Z"
   },
   {
    "duration": 801,
    "start_time": "2022-09-02T13:52:28.404Z"
   },
   {
    "duration": 4,
    "start_time": "2022-09-02T13:52:29.207Z"
   },
   {
    "duration": 243,
    "start_time": "2022-09-02T13:52:29.213Z"
   },
   {
    "duration": 18,
    "start_time": "2022-09-02T13:52:29.458Z"
   },
   {
    "duration": 178,
    "start_time": "2022-09-02T13:52:29.478Z"
   },
   {
    "duration": 40,
    "start_time": "2022-09-02T13:52:29.657Z"
   },
   {
    "duration": 19,
    "start_time": "2022-09-02T13:52:29.698Z"
   },
   {
    "duration": 194,
    "start_time": "2022-09-02T13:52:29.718Z"
   },
   {
    "duration": 55,
    "start_time": "2022-09-02T13:52:29.914Z"
   },
   {
    "duration": 14,
    "start_time": "2022-09-02T13:52:29.971Z"
   },
   {
    "duration": 10,
    "start_time": "2022-09-02T13:52:29.986Z"
   },
   {
    "duration": 23,
    "start_time": "2022-09-02T13:52:29.997Z"
   },
   {
    "duration": 340,
    "start_time": "2022-09-02T13:52:30.022Z"
   },
   {
    "duration": 8,
    "start_time": "2022-09-02T13:52:30.364Z"
   },
   {
    "duration": 299,
    "start_time": "2022-09-02T13:52:30.373Z"
   },
   {
    "duration": 293,
    "start_time": "2022-09-02T13:52:30.673Z"
   },
   {
    "duration": 187,
    "start_time": "2022-09-02T13:52:30.968Z"
   },
   {
    "duration": 267,
    "start_time": "2022-09-02T13:52:31.156Z"
   },
   {
    "duration": 163,
    "start_time": "2022-09-02T13:52:31.424Z"
   },
   {
    "duration": 184,
    "start_time": "2022-09-02T13:52:31.588Z"
   },
   {
    "duration": 271,
    "start_time": "2022-09-02T13:52:31.774Z"
   },
   {
    "duration": 147,
    "start_time": "2022-09-02T13:52:32.047Z"
   },
   {
    "duration": 156,
    "start_time": "2022-09-02T13:52:32.196Z"
   },
   {
    "duration": 196,
    "start_time": "2022-09-02T13:52:32.354Z"
   },
   {
    "duration": 145,
    "start_time": "2022-09-02T13:52:32.552Z"
   },
   {
    "duration": 178,
    "start_time": "2022-09-02T13:52:32.698Z"
   },
   {
    "duration": 354,
    "start_time": "2022-09-02T13:52:32.878Z"
   },
   {
    "duration": 532,
    "start_time": "2022-09-02T13:52:33.240Z"
   },
   {
    "duration": 222,
    "start_time": "2022-09-02T13:52:33.773Z"
   },
   {
    "duration": 157,
    "start_time": "2022-09-02T13:52:33.997Z"
   },
   {
    "duration": 139,
    "start_time": "2022-09-02T13:52:34.155Z"
   },
   {
    "duration": 272,
    "start_time": "2022-09-02T13:52:34.296Z"
   },
   {
    "duration": 150,
    "start_time": "2022-09-02T13:52:34.569Z"
   },
   {
    "duration": 163,
    "start_time": "2022-09-02T13:52:34.721Z"
   },
   {
    "duration": 154,
    "start_time": "2022-09-02T13:52:34.886Z"
   },
   {
    "duration": 149,
    "start_time": "2022-09-02T13:52:35.042Z"
   },
   {
    "duration": 22,
    "start_time": "2022-09-02T13:52:35.193Z"
   },
   {
    "duration": 150,
    "start_time": "2022-09-02T13:52:35.216Z"
   },
   {
    "duration": 12,
    "start_time": "2022-09-02T13:54:47.883Z"
   },
   {
    "duration": 8,
    "start_time": "2022-09-02T14:01:15.044Z"
   },
   {
    "duration": 281,
    "start_time": "2022-09-02T14:01:31.433Z"
   },
   {
    "duration": 342,
    "start_time": "2022-09-02T14:01:33.674Z"
   },
   {
    "duration": 447,
    "start_time": "2022-09-02T14:07:09.824Z"
   },
   {
    "duration": 98,
    "start_time": "2022-09-02T14:07:10.720Z"
   },
   {
    "duration": 7889,
    "start_time": "2022-09-02T14:07:17.199Z"
   },
   {
    "duration": 368,
    "start_time": "2022-09-02T14:07:30.934Z"
   },
   {
    "duration": 681,
    "start_time": "2022-09-02T14:07:44.893Z"
   },
   {
    "duration": 4,
    "start_time": "2022-09-02T14:07:45.576Z"
   },
   {
    "duration": 257,
    "start_time": "2022-09-02T14:07:45.581Z"
   },
   {
    "duration": 17,
    "start_time": "2022-09-02T14:07:45.840Z"
   },
   {
    "duration": 187,
    "start_time": "2022-09-02T14:07:45.858Z"
   },
   {
    "duration": 40,
    "start_time": "2022-09-02T14:07:46.046Z"
   },
   {
    "duration": 20,
    "start_time": "2022-09-02T14:07:46.087Z"
   },
   {
    "duration": 200,
    "start_time": "2022-09-02T14:07:46.109Z"
   },
   {
    "duration": 52,
    "start_time": "2022-09-02T14:07:46.310Z"
   },
   {
    "duration": 7,
    "start_time": "2022-09-02T14:07:46.364Z"
   },
   {
    "duration": 323,
    "start_time": "2022-09-02T14:07:46.372Z"
   },
   {
    "duration": 280,
    "start_time": "2022-09-02T14:07:46.696Z"
   },
   {
    "duration": 16,
    "start_time": "2022-09-02T14:07:46.977Z"
   },
   {
    "duration": 14,
    "start_time": "2022-09-02T14:07:46.994Z"
   },
   {
    "duration": 39,
    "start_time": "2022-09-02T14:07:47.010Z"
   },
   {
    "duration": 282,
    "start_time": "2022-09-02T14:07:47.050Z"
   },
   {
    "duration": 10,
    "start_time": "2022-09-02T14:07:47.333Z"
   },
   {
    "duration": 282,
    "start_time": "2022-09-02T14:07:47.344Z"
   },
   {
    "duration": 290,
    "start_time": "2022-09-02T14:07:47.628Z"
   },
   {
    "duration": 273,
    "start_time": "2022-09-02T14:07:47.920Z"
   },
   {
    "duration": 263,
    "start_time": "2022-09-02T14:07:48.194Z"
   },
   {
    "duration": 156,
    "start_time": "2022-09-02T14:07:48.458Z"
   },
   {
    "duration": 162,
    "start_time": "2022-09-02T14:07:48.615Z"
   },
   {
    "duration": 209,
    "start_time": "2022-09-02T14:07:48.779Z"
   },
   {
    "duration": 122,
    "start_time": "2022-09-02T14:07:48.990Z"
   },
   {
    "duration": 155,
    "start_time": "2022-09-02T14:07:49.114Z"
   },
   {
    "duration": 169,
    "start_time": "2022-09-02T14:07:49.271Z"
   },
   {
    "duration": 146,
    "start_time": "2022-09-02T14:07:49.443Z"
   },
   {
    "duration": 203,
    "start_time": "2022-09-02T14:07:49.590Z"
   },
   {
    "duration": 417,
    "start_time": "2022-09-02T14:07:49.795Z"
   },
   {
    "duration": 517,
    "start_time": "2022-09-02T14:07:50.214Z"
   },
   {
    "duration": 142,
    "start_time": "2022-09-02T14:07:50.733Z"
   },
   {
    "duration": 149,
    "start_time": "2022-09-02T14:07:50.877Z"
   },
   {
    "duration": 140,
    "start_time": "2022-09-02T14:07:51.027Z"
   },
   {
    "duration": 260,
    "start_time": "2022-09-02T14:07:51.168Z"
   },
   {
    "duration": 147,
    "start_time": "2022-09-02T14:07:51.429Z"
   },
   {
    "duration": 167,
    "start_time": "2022-09-02T14:07:51.577Z"
   },
   {
    "duration": 234,
    "start_time": "2022-09-02T14:07:51.745Z"
   },
   {
    "duration": 150,
    "start_time": "2022-09-02T14:07:51.980Z"
   },
   {
    "duration": 21,
    "start_time": "2022-09-02T14:07:52.139Z"
   },
   {
    "duration": 10,
    "start_time": "2022-09-02T14:07:52.162Z"
   },
   {
    "duration": 156,
    "start_time": "2022-09-02T14:07:52.174Z"
   },
   {
    "duration": 435,
    "start_time": "2022-09-02T14:07:52.332Z"
   },
   {
    "duration": 8441,
    "start_time": "2022-09-02T14:07:52.769Z"
   },
   {
    "duration": 407,
    "start_time": "2022-09-02T14:08:01.212Z"
   },
   {
    "duration": 42,
    "start_time": "2022-09-02T16:44:17.481Z"
   },
   {
    "duration": 908,
    "start_time": "2022-09-02T16:44:27.241Z"
   },
   {
    "duration": 4,
    "start_time": "2022-09-02T16:44:28.151Z"
   },
   {
    "duration": 219,
    "start_time": "2022-09-02T16:44:28.156Z"
   },
   {
    "duration": 17,
    "start_time": "2022-09-02T16:44:28.377Z"
   },
   {
    "duration": 172,
    "start_time": "2022-09-02T16:44:28.395Z"
   },
   {
    "duration": 44,
    "start_time": "2022-09-02T16:44:28.568Z"
   },
   {
    "duration": 20,
    "start_time": "2022-09-02T16:44:28.614Z"
   },
   {
    "duration": 187,
    "start_time": "2022-09-02T16:44:28.636Z"
   },
   {
    "duration": 45,
    "start_time": "2022-09-02T16:44:28.825Z"
   },
   {
    "duration": 4,
    "start_time": "2022-09-02T16:44:28.872Z"
   },
   {
    "duration": 20,
    "start_time": "2022-09-02T16:44:28.877Z"
   },
   {
    "duration": 326,
    "start_time": "2022-09-02T16:44:28.898Z"
   },
   {
    "duration": 267,
    "start_time": "2022-09-02T16:44:29.225Z"
   },
   {
    "duration": 16,
    "start_time": "2022-09-02T16:44:29.493Z"
   },
   {
    "duration": 9,
    "start_time": "2022-09-02T16:44:29.510Z"
   },
   {
    "duration": 10,
    "start_time": "2022-09-02T16:44:29.520Z"
   },
   {
    "duration": 275,
    "start_time": "2022-09-02T16:44:29.531Z"
   },
   {
    "duration": 8,
    "start_time": "2022-09-02T16:44:29.808Z"
   },
   {
    "duration": 290,
    "start_time": "2022-09-02T16:44:29.817Z"
   },
   {
    "duration": 294,
    "start_time": "2022-09-02T16:44:30.109Z"
   },
   {
    "duration": 252,
    "start_time": "2022-09-02T16:44:30.405Z"
   },
   {
    "duration": 264,
    "start_time": "2022-09-02T16:44:30.658Z"
   },
   {
    "duration": 158,
    "start_time": "2022-09-02T16:44:30.923Z"
   },
   {
    "duration": 163,
    "start_time": "2022-09-02T16:44:31.082Z"
   },
   {
    "duration": 179,
    "start_time": "2022-09-02T16:44:31.247Z"
   },
   {
    "duration": 120,
    "start_time": "2022-09-02T16:44:31.428Z"
   },
   {
    "duration": 146,
    "start_time": "2022-09-02T16:44:31.550Z"
   },
   {
    "duration": 163,
    "start_time": "2022-09-02T16:44:31.707Z"
   },
   {
    "duration": 138,
    "start_time": "2022-09-02T16:44:31.872Z"
   },
   {
    "duration": 185,
    "start_time": "2022-09-02T16:44:32.012Z"
   },
   {
    "duration": 409,
    "start_time": "2022-09-02T16:44:32.198Z"
   },
   {
    "duration": 504,
    "start_time": "2022-09-02T16:44:32.609Z"
   },
   {
    "duration": 134,
    "start_time": "2022-09-02T16:44:33.114Z"
   },
   {
    "duration": 152,
    "start_time": "2022-09-02T16:44:33.249Z"
   },
   {
    "duration": 130,
    "start_time": "2022-09-02T16:44:33.405Z"
   },
   {
    "duration": 257,
    "start_time": "2022-09-02T16:44:33.536Z"
   },
   {
    "duration": 135,
    "start_time": "2022-09-02T16:44:33.794Z"
   },
   {
    "duration": 178,
    "start_time": "2022-09-02T16:44:33.930Z"
   },
   {
    "duration": 223,
    "start_time": "2022-09-02T16:44:34.109Z"
   },
   {
    "duration": 159,
    "start_time": "2022-09-02T16:44:34.334Z"
   },
   {
    "duration": 31,
    "start_time": "2022-09-02T16:44:34.495Z"
   },
   {
    "duration": 10,
    "start_time": "2022-09-02T16:44:34.528Z"
   },
   {
    "duration": 149,
    "start_time": "2022-09-02T16:44:34.540Z"
   },
   {
    "duration": 453,
    "start_time": "2022-09-02T16:44:34.690Z"
   },
   {
    "duration": 8824,
    "start_time": "2022-09-02T16:44:35.144Z"
   },
   {
    "duration": 404,
    "start_time": "2022-09-02T16:44:43.970Z"
   },
   {
    "duration": 11,
    "start_time": "2022-09-02T16:45:12.197Z"
   },
   {
    "duration": 7,
    "start_time": "2022-09-02T16:45:30.035Z"
   },
   {
    "duration": 7,
    "start_time": "2022-09-02T16:45:53.621Z"
   },
   {
    "duration": 9,
    "start_time": "2022-09-02T16:46:42.983Z"
   },
   {
    "duration": 10,
    "start_time": "2022-09-02T16:50:57.921Z"
   },
   {
    "duration": 11,
    "start_time": "2022-09-02T16:52:02.753Z"
   },
   {
    "duration": 11,
    "start_time": "2022-09-02T16:52:27.280Z"
   },
   {
    "duration": 10,
    "start_time": "2022-09-02T16:52:33.247Z"
   },
   {
    "duration": 787,
    "start_time": "2022-09-02T16:52:41.690Z"
   },
   {
    "duration": 4,
    "start_time": "2022-09-02T16:52:42.479Z"
   },
   {
    "duration": 247,
    "start_time": "2022-09-02T16:52:42.485Z"
   },
   {
    "duration": 17,
    "start_time": "2022-09-02T16:52:42.735Z"
   },
   {
    "duration": 190,
    "start_time": "2022-09-02T16:52:42.753Z"
   },
   {
    "duration": 36,
    "start_time": "2022-09-02T16:52:42.944Z"
   },
   {
    "duration": 18,
    "start_time": "2022-09-02T16:52:42.981Z"
   },
   {
    "duration": 202,
    "start_time": "2022-09-02T16:52:43.000Z"
   },
   {
    "duration": 56,
    "start_time": "2022-09-02T16:52:43.204Z"
   },
   {
    "duration": 11,
    "start_time": "2022-09-02T16:52:43.262Z"
   },
   {
    "duration": 10,
    "start_time": "2022-09-02T16:52:43.275Z"
   },
   {
    "duration": 380,
    "start_time": "2022-09-02T16:52:43.286Z"
   },
   {
    "duration": 292,
    "start_time": "2022-09-02T16:52:43.668Z"
   },
   {
    "duration": 15,
    "start_time": "2022-09-02T16:52:43.962Z"
   },
   {
    "duration": 11,
    "start_time": "2022-09-02T16:52:43.978Z"
   },
   {
    "duration": 33,
    "start_time": "2022-09-02T16:52:43.990Z"
   },
   {
    "duration": 325,
    "start_time": "2022-09-02T16:52:44.024Z"
   },
   {
    "duration": 8,
    "start_time": "2022-09-02T16:52:44.351Z"
   },
   {
    "duration": 323,
    "start_time": "2022-09-02T16:52:44.361Z"
   },
   {
    "duration": 332,
    "start_time": "2022-09-02T16:52:44.686Z"
   },
   {
    "duration": 619,
    "start_time": "2022-09-02T16:52:45.020Z"
   },
   {
    "duration": 798,
    "start_time": "2022-09-02T16:52:45.641Z"
   },
   {
    "duration": 391,
    "start_time": "2022-09-02T16:52:46.441Z"
   },
   {
    "duration": 389,
    "start_time": "2022-09-02T16:52:46.834Z"
   },
   {
    "duration": 244,
    "start_time": "2022-09-02T16:52:47.225Z"
   },
   {
    "duration": 124,
    "start_time": "2022-09-02T16:52:47.470Z"
   },
   {
    "duration": 172,
    "start_time": "2022-09-02T16:52:47.596Z"
   },
   {
    "duration": 180,
    "start_time": "2022-09-02T16:52:47.771Z"
   },
   {
    "duration": 168,
    "start_time": "2022-09-02T16:52:47.952Z"
   },
   {
    "duration": 197,
    "start_time": "2022-09-02T16:52:48.122Z"
   },
   {
    "duration": 433,
    "start_time": "2022-09-02T16:52:48.322Z"
   },
   {
    "duration": 532,
    "start_time": "2022-09-02T16:52:48.756Z"
   },
   {
    "duration": 143,
    "start_time": "2022-09-02T16:52:49.290Z"
   },
   {
    "duration": 150,
    "start_time": "2022-09-02T16:52:49.434Z"
   },
   {
    "duration": 149,
    "start_time": "2022-09-02T16:52:49.585Z"
   },
   {
    "duration": 277,
    "start_time": "2022-09-02T16:52:49.735Z"
   },
   {
    "duration": 144,
    "start_time": "2022-09-02T16:52:50.013Z"
   },
   {
    "duration": 154,
    "start_time": "2022-09-02T16:52:50.158Z"
   },
   {
    "duration": 228,
    "start_time": "2022-09-02T16:52:50.314Z"
   },
   {
    "duration": 152,
    "start_time": "2022-09-02T16:52:50.544Z"
   },
   {
    "duration": 30,
    "start_time": "2022-09-02T16:52:50.698Z"
   },
   {
    "duration": 12,
    "start_time": "2022-09-02T16:52:50.730Z"
   },
   {
    "duration": 163,
    "start_time": "2022-09-02T16:52:50.743Z"
   },
   {
    "duration": 417,
    "start_time": "2022-09-02T16:52:50.907Z"
   },
   {
    "duration": 8491,
    "start_time": "2022-09-02T16:52:51.325Z"
   },
   {
    "duration": 383,
    "start_time": "2022-09-02T16:52:59.818Z"
   },
   {
    "duration": 14,
    "start_time": "2022-09-02T16:53:20.920Z"
   },
   {
    "duration": 15,
    "start_time": "2022-09-02T16:53:35.028Z"
   },
   {
    "duration": 10,
    "start_time": "2022-09-02T16:53:49.137Z"
   },
   {
    "duration": 13,
    "start_time": "2022-09-02T16:54:02.471Z"
   },
   {
    "duration": 13,
    "start_time": "2022-09-02T16:54:41.321Z"
   },
   {
    "duration": 16,
    "start_time": "2022-09-02T16:56:51.473Z"
   },
   {
    "duration": 15,
    "start_time": "2022-09-02T16:57:15.740Z"
   },
   {
    "duration": 877,
    "start_time": "2022-09-02T16:57:39.565Z"
   },
   {
    "duration": 5,
    "start_time": "2022-09-02T16:57:40.445Z"
   },
   {
    "duration": 282,
    "start_time": "2022-09-02T16:57:40.452Z"
   },
   {
    "duration": 18,
    "start_time": "2022-09-02T16:57:40.736Z"
   },
   {
    "duration": 194,
    "start_time": "2022-09-02T16:57:40.756Z"
   },
   {
    "duration": 41,
    "start_time": "2022-09-02T16:57:40.952Z"
   },
   {
    "duration": 24,
    "start_time": "2022-09-02T16:57:41.009Z"
   },
   {
    "duration": 213,
    "start_time": "2022-09-02T16:57:41.035Z"
   },
   {
    "duration": 61,
    "start_time": "2022-09-02T16:57:41.250Z"
   },
   {
    "duration": 15,
    "start_time": "2022-09-02T16:57:41.314Z"
   },
   {
    "duration": 7,
    "start_time": "2022-09-02T16:57:41.330Z"
   },
   {
    "duration": 365,
    "start_time": "2022-09-02T16:57:41.338Z"
   },
   {
    "duration": 324,
    "start_time": "2022-09-02T16:57:41.705Z"
   },
   {
    "duration": 15,
    "start_time": "2022-09-02T16:57:42.031Z"
   },
   {
    "duration": 16,
    "start_time": "2022-09-02T16:57:42.048Z"
   },
   {
    "duration": 36,
    "start_time": "2022-09-02T16:57:42.066Z"
   },
   {
    "duration": 303,
    "start_time": "2022-09-02T16:57:42.104Z"
   },
   {
    "duration": 11,
    "start_time": "2022-09-02T16:57:42.416Z"
   },
   {
    "duration": 318,
    "start_time": "2022-09-02T16:57:42.429Z"
   },
   {
    "duration": 316,
    "start_time": "2022-09-02T16:57:42.749Z"
   },
   {
    "duration": 277,
    "start_time": "2022-09-02T16:57:43.067Z"
   },
   {
    "duration": 287,
    "start_time": "2022-09-02T16:57:43.346Z"
   },
   {
    "duration": 187,
    "start_time": "2022-09-02T16:57:43.634Z"
   },
   {
    "duration": 174,
    "start_time": "2022-09-02T16:57:43.823Z"
   },
   {
    "duration": 228,
    "start_time": "2022-09-02T16:57:43.998Z"
   },
   {
    "duration": 131,
    "start_time": "2022-09-02T16:57:44.228Z"
   },
   {
    "duration": 183,
    "start_time": "2022-09-02T16:57:44.361Z"
   },
   {
    "duration": 206,
    "start_time": "2022-09-02T16:57:44.547Z"
   },
   {
    "duration": 163,
    "start_time": "2022-09-02T16:57:44.755Z"
   },
   {
    "duration": 206,
    "start_time": "2022-09-02T16:57:44.924Z"
   },
   {
    "duration": 513,
    "start_time": "2022-09-02T16:57:45.132Z"
   },
   {
    "duration": 679,
    "start_time": "2022-09-02T16:57:45.646Z"
   },
   {
    "duration": 199,
    "start_time": "2022-09-02T16:57:46.327Z"
   },
   {
    "duration": 174,
    "start_time": "2022-09-02T16:57:46.528Z"
   },
   {
    "duration": 153,
    "start_time": "2022-09-02T16:57:46.703Z"
   },
   {
    "duration": 299,
    "start_time": "2022-09-02T16:57:46.858Z"
   },
   {
    "duration": 165,
    "start_time": "2022-09-02T16:57:47.160Z"
   },
   {
    "duration": 167,
    "start_time": "2022-09-02T16:57:47.326Z"
   },
   {
    "duration": 260,
    "start_time": "2022-09-02T16:57:47.495Z"
   },
   {
    "duration": 186,
    "start_time": "2022-09-02T16:57:47.756Z"
   },
   {
    "duration": 22,
    "start_time": "2022-09-02T16:57:47.944Z"
   },
   {
    "duration": 14,
    "start_time": "2022-09-02T16:57:47.970Z"
   },
   {
    "duration": 178,
    "start_time": "2022-09-02T16:57:47.986Z"
   },
   {
    "duration": 500,
    "start_time": "2022-09-02T16:57:48.166Z"
   },
   {
    "duration": 9556,
    "start_time": "2022-09-02T16:57:48.668Z"
   },
   {
    "duration": 445,
    "start_time": "2022-09-02T16:57:58.273Z"
   },
   {
    "duration": 98,
    "start_time": "2022-09-02T17:12:51.185Z"
   },
   {
    "duration": 104,
    "start_time": "2022-09-02T17:13:20.724Z"
   },
   {
    "duration": 129,
    "start_time": "2022-09-02T17:13:37.736Z"
   },
   {
    "duration": 14,
    "start_time": "2022-09-02T17:14:13.536Z"
   },
   {
    "duration": 8,
    "start_time": "2022-09-02T17:14:24.340Z"
   },
   {
    "duration": 10,
    "start_time": "2022-09-02T17:14:33.039Z"
   },
   {
    "duration": 736,
    "start_time": "2022-09-02T17:14:54.420Z"
   },
   {
    "duration": 4,
    "start_time": "2022-09-02T17:14:55.157Z"
   },
   {
    "duration": 244,
    "start_time": "2022-09-02T17:14:55.163Z"
   },
   {
    "duration": 28,
    "start_time": "2022-09-02T17:14:55.409Z"
   },
   {
    "duration": 179,
    "start_time": "2022-09-02T17:14:55.439Z"
   },
   {
    "duration": 38,
    "start_time": "2022-09-02T17:14:55.623Z"
   },
   {
    "duration": 19,
    "start_time": "2022-09-02T17:14:55.663Z"
   },
   {
    "duration": 209,
    "start_time": "2022-09-02T17:14:55.683Z"
   },
   {
    "duration": 55,
    "start_time": "2022-09-02T17:14:55.893Z"
   },
   {
    "duration": 13,
    "start_time": "2022-09-02T17:14:55.950Z"
   },
   {
    "duration": 9,
    "start_time": "2022-09-02T17:14:55.965Z"
   },
   {
    "duration": 10,
    "start_time": "2022-09-02T17:14:55.975Z"
   },
   {
    "duration": 469,
    "start_time": "2022-09-02T17:14:55.987Z"
   },
   {
    "duration": 375,
    "start_time": "2022-09-02T17:14:56.460Z"
   },
   {
    "duration": 15,
    "start_time": "2022-09-02T17:14:56.836Z"
   },
   {
    "duration": 10,
    "start_time": "2022-09-02T17:14:56.853Z"
   },
   {
    "duration": 11,
    "start_time": "2022-09-02T17:14:56.864Z"
   },
   {
    "duration": 318,
    "start_time": "2022-09-02T17:14:56.877Z"
   },
   {
    "duration": 13,
    "start_time": "2022-09-02T17:14:57.197Z"
   },
   {
    "duration": 285,
    "start_time": "2022-09-02T17:14:57.211Z"
   },
   {
    "duration": 297,
    "start_time": "2022-09-02T17:14:57.498Z"
   },
   {
    "duration": 257,
    "start_time": "2022-09-02T17:14:57.797Z"
   },
   {
    "duration": 310,
    "start_time": "2022-09-02T17:14:58.056Z"
   },
   {
    "duration": 163,
    "start_time": "2022-09-02T17:14:58.368Z"
   },
   {
    "duration": 160,
    "start_time": "2022-09-02T17:14:58.532Z"
   },
   {
    "duration": 182,
    "start_time": "2022-09-02T17:14:58.694Z"
   },
   {
    "duration": 107,
    "start_time": "2022-09-02T17:14:58.878Z"
   },
   {
    "duration": 147,
    "start_time": "2022-09-02T17:14:58.986Z"
   },
   {
    "duration": 164,
    "start_time": "2022-09-02T17:14:59.135Z"
   },
   {
    "duration": 142,
    "start_time": "2022-09-02T17:14:59.301Z"
   },
   {
    "duration": 183,
    "start_time": "2022-09-02T17:14:59.445Z"
   },
   {
    "duration": 520,
    "start_time": "2022-09-02T17:14:59.630Z"
   },
   {
    "duration": 590,
    "start_time": "2022-09-02T17:15:00.152Z"
   },
   {
    "duration": 155,
    "start_time": "2022-09-02T17:15:00.743Z"
   },
   {
    "duration": 185,
    "start_time": "2022-09-02T17:15:00.899Z"
   },
   {
    "duration": 153,
    "start_time": "2022-09-02T17:15:01.086Z"
   },
   {
    "duration": 315,
    "start_time": "2022-09-02T17:15:01.241Z"
   },
   {
    "duration": 165,
    "start_time": "2022-09-02T17:15:01.557Z"
   },
   {
    "duration": 177,
    "start_time": "2022-09-02T17:15:01.724Z"
   },
   {
    "duration": 270,
    "start_time": "2022-09-02T17:15:01.903Z"
   },
   {
    "duration": 177,
    "start_time": "2022-09-02T17:15:02.177Z"
   },
   {
    "duration": 24,
    "start_time": "2022-09-02T17:15:02.355Z"
   },
   {
    "duration": 40,
    "start_time": "2022-09-02T17:15:02.381Z"
   },
   {
    "duration": 157,
    "start_time": "2022-09-02T17:15:02.423Z"
   },
   {
    "duration": 444,
    "start_time": "2022-09-02T17:15:02.582Z"
   },
   {
    "duration": 9040,
    "start_time": "2022-09-02T17:15:03.028Z"
   },
   {
    "duration": 675,
    "start_time": "2022-09-02T17:15:12.070Z"
   },
   {
    "duration": 8,
    "start_time": "2022-09-02T17:15:42.852Z"
   },
   {
    "duration": 12,
    "start_time": "2022-09-02T17:16:03.792Z"
   },
   {
    "duration": 118,
    "start_time": "2022-09-02T17:16:20.154Z"
   },
   {
    "duration": 110,
    "start_time": "2022-09-02T17:16:36.758Z"
   },
   {
    "duration": 194,
    "start_time": "2022-09-02T17:17:10.452Z"
   },
   {
    "duration": 687,
    "start_time": "2022-09-02T17:17:15.969Z"
   },
   {
    "duration": 96,
    "start_time": "2022-09-02T17:18:00.024Z"
   },
   {
    "duration": 85,
    "start_time": "2022-09-02T17:18:12.522Z"
   },
   {
    "duration": 90,
    "start_time": "2022-09-02T17:18:36.583Z"
   },
   {
    "duration": 7,
    "start_time": "2022-09-02T17:18:49.924Z"
   },
   {
    "duration": 10,
    "start_time": "2022-09-02T17:18:55.276Z"
   },
   {
    "duration": 738,
    "start_time": "2022-09-02T17:19:02.257Z"
   },
   {
    "duration": 4,
    "start_time": "2022-09-02T17:19:02.996Z"
   },
   {
    "duration": 240,
    "start_time": "2022-09-02T17:19:03.005Z"
   },
   {
    "duration": 17,
    "start_time": "2022-09-02T17:19:03.247Z"
   },
   {
    "duration": 189,
    "start_time": "2022-09-02T17:19:03.265Z"
   },
   {
    "duration": 37,
    "start_time": "2022-09-02T17:19:03.455Z"
   },
   {
    "duration": 38,
    "start_time": "2022-09-02T17:19:03.494Z"
   },
   {
    "duration": 226,
    "start_time": "2022-09-02T17:19:03.534Z"
   },
   {
    "duration": 66,
    "start_time": "2022-09-02T17:19:03.762Z"
   },
   {
    "duration": 18,
    "start_time": "2022-09-02T17:19:03.831Z"
   },
   {
    "duration": 8,
    "start_time": "2022-09-02T17:19:03.851Z"
   },
   {
    "duration": 359,
    "start_time": "2022-09-02T17:19:03.861Z"
   },
   {
    "duration": 289,
    "start_time": "2022-09-02T17:19:04.225Z"
   },
   {
    "duration": 22,
    "start_time": "2022-09-02T17:19:04.518Z"
   },
   {
    "duration": 11,
    "start_time": "2022-09-02T17:19:04.541Z"
   },
   {
    "duration": 16,
    "start_time": "2022-09-02T17:19:04.553Z"
   },
   {
    "duration": 297,
    "start_time": "2022-09-02T17:19:04.571Z"
   },
   {
    "duration": 9,
    "start_time": "2022-09-02T17:19:04.870Z"
   },
   {
    "duration": 299,
    "start_time": "2022-09-02T17:19:04.880Z"
   },
   {
    "duration": 761,
    "start_time": "2022-09-02T17:19:05.181Z"
   },
   {
    "duration": 704,
    "start_time": "2022-09-02T17:19:05.944Z"
   },
   {
    "duration": 595,
    "start_time": "2022-09-02T17:19:06.650Z"
   },
   {
    "duration": 242,
    "start_time": "2022-09-02T17:19:07.247Z"
   },
   {
    "duration": 175,
    "start_time": "2022-09-02T17:19:07.491Z"
   },
   {
    "duration": 192,
    "start_time": "2022-09-02T17:19:07.667Z"
   },
   {
    "duration": 115,
    "start_time": "2022-09-02T17:19:07.860Z"
   },
   {
    "duration": 166,
    "start_time": "2022-09-02T17:19:07.977Z"
   },
   {
    "duration": 182,
    "start_time": "2022-09-02T17:19:08.146Z"
   },
   {
    "duration": 152,
    "start_time": "2022-09-02T17:19:08.329Z"
   },
   {
    "duration": 187,
    "start_time": "2022-09-02T17:19:08.482Z"
   },
   {
    "duration": 457,
    "start_time": "2022-09-02T17:19:08.671Z"
   },
   {
    "duration": 537,
    "start_time": "2022-09-02T17:19:09.130Z"
   },
   {
    "duration": 165,
    "start_time": "2022-09-02T17:19:09.669Z"
   },
   {
    "duration": 172,
    "start_time": "2022-09-02T17:19:09.836Z"
   },
   {
    "duration": 144,
    "start_time": "2022-09-02T17:19:10.009Z"
   },
   {
    "duration": 307,
    "start_time": "2022-09-02T17:19:10.156Z"
   },
   {
    "duration": 159,
    "start_time": "2022-09-02T17:19:10.464Z"
   },
   {
    "duration": 153,
    "start_time": "2022-09-02T17:19:10.625Z"
   },
   {
    "duration": 249,
    "start_time": "2022-09-02T17:19:10.779Z"
   },
   {
    "duration": 156,
    "start_time": "2022-09-02T17:19:11.030Z"
   },
   {
    "duration": 41,
    "start_time": "2022-09-02T17:19:11.188Z"
   },
   {
    "duration": 11,
    "start_time": "2022-09-02T17:19:11.230Z"
   },
   {
    "duration": 156,
    "start_time": "2022-09-02T17:19:11.243Z"
   },
   {
    "duration": 435,
    "start_time": "2022-09-02T17:19:11.401Z"
   },
   {
    "duration": 8683,
    "start_time": "2022-09-02T17:19:11.838Z"
   },
   {
    "duration": 393,
    "start_time": "2022-09-02T17:19:20.524Z"
   },
   {
    "duration": 7,
    "start_time": "2022-09-02T17:19:35.125Z"
   },
   {
    "duration": 540,
    "start_time": "2022-09-02T17:19:58.022Z"
   },
   {
    "duration": 10,
    "start_time": "2022-09-02T17:20:15.322Z"
   },
   {
    "duration": 9,
    "start_time": "2022-09-02T17:23:01.945Z"
   },
   {
    "duration": 839,
    "start_time": "2022-09-02T17:23:12.196Z"
   },
   {
    "duration": 4,
    "start_time": "2022-09-02T17:23:13.037Z"
   },
   {
    "duration": 241,
    "start_time": "2022-09-02T17:23:13.042Z"
   },
   {
    "duration": 29,
    "start_time": "2022-09-02T17:23:13.285Z"
   },
   {
    "duration": 190,
    "start_time": "2022-09-02T17:23:13.317Z"
   },
   {
    "duration": 38,
    "start_time": "2022-09-02T17:23:13.518Z"
   },
   {
    "duration": 19,
    "start_time": "2022-09-02T17:23:13.557Z"
   },
   {
    "duration": 196,
    "start_time": "2022-09-02T17:23:13.578Z"
   },
   {
    "duration": 63,
    "start_time": "2022-09-02T17:23:13.775Z"
   },
   {
    "duration": 17,
    "start_time": "2022-09-02T17:23:13.841Z"
   },
   {
    "duration": 12,
    "start_time": "2022-09-02T17:23:13.860Z"
   },
   {
    "duration": 391,
    "start_time": "2022-09-02T17:23:13.874Z"
   },
   {
    "duration": 382,
    "start_time": "2022-09-02T17:23:14.267Z"
   },
   {
    "duration": 19,
    "start_time": "2022-09-02T17:23:14.651Z"
   },
   {
    "duration": 15,
    "start_time": "2022-09-02T17:23:14.672Z"
   },
   {
    "duration": 63,
    "start_time": "2022-09-02T17:23:14.688Z"
   },
   {
    "duration": 298,
    "start_time": "2022-09-02T17:23:14.753Z"
   },
   {
    "duration": 7,
    "start_time": "2022-09-02T17:23:15.053Z"
   },
   {
    "duration": 297,
    "start_time": "2022-09-02T17:23:15.061Z"
   },
   {
    "duration": 309,
    "start_time": "2022-09-02T17:23:15.360Z"
   },
   {
    "duration": 258,
    "start_time": "2022-09-02T17:23:15.671Z"
   },
   {
    "duration": 401,
    "start_time": "2022-09-02T17:23:15.930Z"
   },
   {
    "duration": 394,
    "start_time": "2022-09-02T17:23:16.332Z"
   },
   {
    "duration": 413,
    "start_time": "2022-09-02T17:23:16.732Z"
   },
   {
    "duration": 404,
    "start_time": "2022-09-02T17:23:17.147Z"
   },
   {
    "duration": 371,
    "start_time": "2022-09-02T17:23:17.553Z"
   },
   {
    "duration": 307,
    "start_time": "2022-09-02T17:23:17.930Z"
   },
   {
    "duration": 252,
    "start_time": "2022-09-02T17:23:18.240Z"
   },
   {
    "duration": 152,
    "start_time": "2022-09-02T17:23:18.493Z"
   },
   {
    "duration": 196,
    "start_time": "2022-09-02T17:23:18.647Z"
   },
   {
    "duration": 465,
    "start_time": "2022-09-02T17:23:18.844Z"
   },
   {
    "duration": 577,
    "start_time": "2022-09-02T17:23:19.314Z"
   },
   {
    "duration": 154,
    "start_time": "2022-09-02T17:23:19.892Z"
   },
   {
    "duration": 188,
    "start_time": "2022-09-02T17:23:20.048Z"
   },
   {
    "duration": 148,
    "start_time": "2022-09-02T17:23:20.238Z"
   },
   {
    "duration": 326,
    "start_time": "2022-09-02T17:23:20.387Z"
   },
   {
    "duration": 172,
    "start_time": "2022-09-02T17:23:20.715Z"
   },
   {
    "duration": 190,
    "start_time": "2022-09-02T17:23:20.888Z"
   },
   {
    "duration": 248,
    "start_time": "2022-09-02T17:23:21.080Z"
   },
   {
    "duration": 155,
    "start_time": "2022-09-02T17:23:21.329Z"
   },
   {
    "duration": 38,
    "start_time": "2022-09-02T17:23:21.485Z"
   },
   {
    "duration": 13,
    "start_time": "2022-09-02T17:23:21.525Z"
   },
   {
    "duration": 166,
    "start_time": "2022-09-02T17:23:21.540Z"
   },
   {
    "duration": 424,
    "start_time": "2022-09-02T17:23:21.719Z"
   },
   {
    "duration": 9060,
    "start_time": "2022-09-02T17:23:22.144Z"
   },
   {
    "duration": 386,
    "start_time": "2022-09-02T17:23:31.208Z"
   },
   {
    "duration": 6,
    "start_time": "2022-09-02T17:24:17.194Z"
   },
   {
    "duration": 94,
    "start_time": "2022-09-02T17:25:05.844Z"
   },
   {
    "duration": 122,
    "start_time": "2022-09-02T17:25:22.204Z"
   },
   {
    "duration": 28,
    "start_time": "2022-09-02T17:25:48.834Z"
   },
   {
    "duration": 156,
    "start_time": "2022-09-02T17:26:21.976Z"
   },
   {
    "duration": 684,
    "start_time": "2022-09-02T17:26:24.699Z"
   },
   {
    "duration": 102,
    "start_time": "2022-09-02T17:29:17.248Z"
   },
   {
    "duration": 414,
    "start_time": "2022-09-02T17:29:33.883Z"
   },
   {
    "duration": 633,
    "start_time": "2022-09-02T17:29:46.059Z"
   },
   {
    "duration": 245,
    "start_time": "2022-09-02T17:29:53.454Z"
   },
   {
    "duration": 212,
    "start_time": "2022-09-02T17:30:24.621Z"
   },
   {
    "duration": 210,
    "start_time": "2022-09-02T17:30:31.114Z"
   },
   {
    "duration": 89,
    "start_time": "2022-09-02T17:30:42.925Z"
   },
   {
    "duration": 6,
    "start_time": "2022-09-02T17:31:05.327Z"
   },
   {
    "duration": 777,
    "start_time": "2022-09-02T17:31:13.220Z"
   },
   {
    "duration": 8,
    "start_time": "2022-09-02T17:31:13.999Z"
   },
   {
    "duration": 274,
    "start_time": "2022-09-02T17:31:14.013Z"
   },
   {
    "duration": 25,
    "start_time": "2022-09-02T17:31:14.290Z"
   },
   {
    "duration": 206,
    "start_time": "2022-09-02T17:31:14.321Z"
   },
   {
    "duration": 39,
    "start_time": "2022-09-02T17:31:14.529Z"
   },
   {
    "duration": 46,
    "start_time": "2022-09-02T17:31:14.569Z"
   },
   {
    "duration": 175,
    "start_time": "2022-09-02T17:31:14.617Z"
   },
   {
    "duration": 51,
    "start_time": "2022-09-02T17:31:14.794Z"
   },
   {
    "duration": 12,
    "start_time": "2022-09-02T17:31:14.848Z"
   },
   {
    "duration": 161,
    "start_time": "2022-09-02T17:31:14.861Z"
   },
   {
    "duration": 291,
    "start_time": "2022-09-02T17:31:15.024Z"
   },
   {
    "duration": 285,
    "start_time": "2022-09-02T17:31:15.316Z"
   },
   {
    "duration": 8,
    "start_time": "2022-09-02T17:31:15.603Z"
   },
   {
    "duration": 35,
    "start_time": "2022-09-02T17:31:15.613Z"
   },
   {
    "duration": 9,
    "start_time": "2022-09-02T17:31:15.650Z"
   },
   {
    "duration": 11,
    "start_time": "2022-09-02T17:31:15.660Z"
   },
   {
    "duration": 294,
    "start_time": "2022-09-02T17:31:15.673Z"
   },
   {
    "duration": 7,
    "start_time": "2022-09-02T17:31:15.968Z"
   },
   {
    "duration": 445,
    "start_time": "2022-09-02T17:31:15.977Z"
   },
   {
    "duration": 484,
    "start_time": "2022-09-02T17:31:16.423Z"
   },
   {
    "duration": 404,
    "start_time": "2022-09-02T17:31:16.908Z"
   },
   {
    "duration": 726,
    "start_time": "2022-09-02T17:31:17.314Z"
   },
   {
    "duration": 413,
    "start_time": "2022-09-02T17:31:18.042Z"
   },
   {
    "duration": 183,
    "start_time": "2022-09-02T17:31:18.457Z"
   },
   {
    "duration": 190,
    "start_time": "2022-09-02T17:31:18.642Z"
   },
   {
    "duration": 125,
    "start_time": "2022-09-02T17:31:18.834Z"
   },
   {
    "duration": 160,
    "start_time": "2022-09-02T17:31:18.962Z"
   },
   {
    "duration": 269,
    "start_time": "2022-09-02T17:31:19.124Z"
   },
   {
    "duration": 164,
    "start_time": "2022-09-02T17:31:19.395Z"
   },
   {
    "duration": 198,
    "start_time": "2022-09-02T17:31:19.560Z"
   },
   {
    "duration": 399,
    "start_time": "2022-09-02T17:31:19.760Z"
   },
   {
    "duration": 592,
    "start_time": "2022-09-02T17:31:20.161Z"
   },
   {
    "duration": 140,
    "start_time": "2022-09-02T17:31:20.755Z"
   },
   {
    "duration": 164,
    "start_time": "2022-09-02T17:31:20.897Z"
   },
   {
    "duration": 153,
    "start_time": "2022-09-02T17:31:21.063Z"
   },
   {
    "duration": 370,
    "start_time": "2022-09-02T17:31:21.223Z"
   },
   {
    "duration": 148,
    "start_time": "2022-09-02T17:31:21.595Z"
   },
   {
    "duration": 186,
    "start_time": "2022-09-02T17:31:21.745Z"
   },
   {
    "duration": 171,
    "start_time": "2022-09-02T17:31:21.933Z"
   },
   {
    "duration": 166,
    "start_time": "2022-09-02T17:31:22.105Z"
   },
   {
    "duration": 23,
    "start_time": "2022-09-02T17:31:22.273Z"
   },
   {
    "duration": 19,
    "start_time": "2022-09-02T17:31:22.310Z"
   },
   {
    "duration": 178,
    "start_time": "2022-09-02T17:31:22.331Z"
   },
   {
    "duration": 489,
    "start_time": "2022-09-02T17:31:22.518Z"
   },
   {
    "duration": 8578,
    "start_time": "2022-09-02T17:31:23.015Z"
   },
   {
    "duration": 357,
    "start_time": "2022-09-02T17:31:31.595Z"
   },
   {
    "duration": 312,
    "start_time": "2022-09-02T17:31:54.426Z"
   },
   {
    "duration": 9,
    "start_time": "2022-09-02T17:32:08.103Z"
   },
   {
    "duration": 305,
    "start_time": "2022-09-02T17:46:21.904Z"
   },
   {
    "duration": 120,
    "start_time": "2022-09-02T17:47:14.878Z"
   },
   {
    "duration": 591,
    "start_time": "2022-09-02T17:47:22.075Z"
   },
   {
    "duration": 101,
    "start_time": "2022-09-02T17:47:36.563Z"
   },
   {
    "duration": 7,
    "start_time": "2022-09-02T17:50:25.178Z"
   },
   {
    "duration": 6,
    "start_time": "2022-09-02T17:51:19.268Z"
   },
   {
    "duration": 7,
    "start_time": "2022-09-02T17:51:23.652Z"
   },
   {
    "duration": 303,
    "start_time": "2022-09-02T17:51:45.646Z"
   },
   {
    "duration": 231,
    "start_time": "2022-09-02T17:51:59.628Z"
   },
   {
    "duration": 460,
    "start_time": "2022-09-02T17:52:06.345Z"
   },
   {
    "duration": 313,
    "start_time": "2022-09-02T17:52:22.877Z"
   },
   {
    "duration": 321,
    "start_time": "2022-09-02T17:52:30.328Z"
   },
   {
    "duration": 384,
    "start_time": "2022-09-02T17:52:34.038Z"
   },
   {
    "duration": 431,
    "start_time": "2022-09-02T17:53:14.003Z"
   },
   {
    "duration": 278,
    "start_time": "2022-09-02T17:53:21.033Z"
   },
   {
    "duration": 16,
    "start_time": "2022-09-02T17:53:21.315Z"
   },
   {
    "duration": 4,
    "start_time": "2022-09-02T17:59:04.251Z"
   },
   {
    "duration": 13,
    "start_time": "2022-09-02T17:59:36.468Z"
   },
   {
    "duration": 7,
    "start_time": "2022-09-02T18:01:14.390Z"
   },
   {
    "duration": 7,
    "start_time": "2022-09-02T18:01:28.393Z"
   },
   {
    "duration": 75,
    "start_time": "2022-09-02T18:02:23.405Z"
   },
   {
    "duration": 97,
    "start_time": "2022-09-02T18:02:34.602Z"
   },
   {
    "duration": 179,
    "start_time": "2022-09-02T18:02:41.723Z"
   },
   {
    "duration": 732,
    "start_time": "2022-09-02T18:02:51.783Z"
   },
   {
    "duration": 4,
    "start_time": "2022-09-02T18:02:52.517Z"
   },
   {
    "duration": 224,
    "start_time": "2022-09-02T18:02:52.522Z"
   },
   {
    "duration": 18,
    "start_time": "2022-09-02T18:02:52.748Z"
   },
   {
    "duration": 184,
    "start_time": "2022-09-02T18:02:52.767Z"
   },
   {
    "duration": 35,
    "start_time": "2022-09-02T18:02:52.953Z"
   },
   {
    "duration": 29,
    "start_time": "2022-09-02T18:02:52.990Z"
   },
   {
    "duration": 185,
    "start_time": "2022-09-02T18:02:53.021Z"
   },
   {
    "duration": 45,
    "start_time": "2022-09-02T18:02:53.208Z"
   },
   {
    "duration": 11,
    "start_time": "2022-09-02T18:02:53.255Z"
   },
   {
    "duration": 154,
    "start_time": "2022-09-02T18:02:53.268Z"
   },
   {
    "duration": 258,
    "start_time": "2022-09-02T18:02:53.424Z"
   },
   {
    "duration": 276,
    "start_time": "2022-09-02T18:02:53.684Z"
   },
   {
    "duration": 96,
    "start_time": "2022-09-02T18:02:53.961Z"
   },
   {
    "duration": 160,
    "start_time": "2022-09-02T18:02:54.059Z"
   },
   {
    "duration": 19,
    "start_time": "2022-09-02T18:02:54.221Z"
   },
   {
    "duration": 82,
    "start_time": "2022-09-02T18:02:54.242Z"
   },
   {
    "duration": 0,
    "start_time": "2022-09-02T18:02:54.326Z"
   },
   {
    "duration": 0,
    "start_time": "2022-09-02T18:02:54.327Z"
   },
   {
    "duration": 0,
    "start_time": "2022-09-02T18:02:54.328Z"
   },
   {
    "duration": 0,
    "start_time": "2022-09-02T18:02:54.329Z"
   },
   {
    "duration": 0,
    "start_time": "2022-09-02T18:02:54.330Z"
   },
   {
    "duration": 0,
    "start_time": "2022-09-02T18:02:54.331Z"
   },
   {
    "duration": 0,
    "start_time": "2022-09-02T18:02:54.332Z"
   },
   {
    "duration": 0,
    "start_time": "2022-09-02T18:02:54.333Z"
   },
   {
    "duration": 0,
    "start_time": "2022-09-02T18:02:54.334Z"
   },
   {
    "duration": 0,
    "start_time": "2022-09-02T18:02:54.335Z"
   },
   {
    "duration": 0,
    "start_time": "2022-09-02T18:02:54.336Z"
   },
   {
    "duration": 0,
    "start_time": "2022-09-02T18:02:54.337Z"
   },
   {
    "duration": 0,
    "start_time": "2022-09-02T18:02:54.338Z"
   },
   {
    "duration": 0,
    "start_time": "2022-09-02T18:02:54.340Z"
   },
   {
    "duration": 0,
    "start_time": "2022-09-02T18:02:54.341Z"
   },
   {
    "duration": 0,
    "start_time": "2022-09-02T18:02:54.342Z"
   },
   {
    "duration": 0,
    "start_time": "2022-09-02T18:02:54.343Z"
   },
   {
    "duration": 0,
    "start_time": "2022-09-02T18:02:54.344Z"
   },
   {
    "duration": 0,
    "start_time": "2022-09-02T18:02:54.345Z"
   },
   {
    "duration": 0,
    "start_time": "2022-09-02T18:02:54.346Z"
   },
   {
    "duration": 0,
    "start_time": "2022-09-02T18:02:54.347Z"
   },
   {
    "duration": 0,
    "start_time": "2022-09-02T18:02:54.348Z"
   },
   {
    "duration": 0,
    "start_time": "2022-09-02T18:02:54.349Z"
   },
   {
    "duration": 0,
    "start_time": "2022-09-02T18:02:54.350Z"
   },
   {
    "duration": 0,
    "start_time": "2022-09-02T18:02:54.350Z"
   },
   {
    "duration": 0,
    "start_time": "2022-09-02T18:02:54.352Z"
   },
   {
    "duration": 1,
    "start_time": "2022-09-02T18:02:54.352Z"
   },
   {
    "duration": 0,
    "start_time": "2022-09-02T18:02:54.354Z"
   },
   {
    "duration": 0,
    "start_time": "2022-09-02T18:02:54.355Z"
   },
   {
    "duration": 0,
    "start_time": "2022-09-02T18:02:54.405Z"
   },
   {
    "duration": 0,
    "start_time": "2022-09-02T18:02:54.407Z"
   },
   {
    "duration": 103,
    "start_time": "2022-09-02T18:03:08.754Z"
   },
   {
    "duration": 23,
    "start_time": "2022-09-02T18:03:33.021Z"
   },
   {
    "duration": 329,
    "start_time": "2022-09-02T18:06:42.389Z"
   },
   {
    "duration": 390,
    "start_time": "2022-09-02T18:06:46.036Z"
   },
   {
    "duration": 7,
    "start_time": "2022-09-02T18:06:57.251Z"
   },
   {
    "duration": 463,
    "start_time": "2022-09-02T18:07:02.037Z"
   },
   {
    "duration": 3,
    "start_time": "2022-09-02T18:07:12.030Z"
   },
   {
    "duration": 8005,
    "start_time": "2022-09-02T18:07:12.034Z"
   },
   {
    "duration": 175,
    "start_time": "2022-09-02T18:08:39.018Z"
   },
   {
    "duration": 724,
    "start_time": "2022-09-02T18:08:49.419Z"
   },
   {
    "duration": 4,
    "start_time": "2022-09-02T18:08:50.145Z"
   },
   {
    "duration": 220,
    "start_time": "2022-09-02T18:08:50.150Z"
   },
   {
    "duration": 17,
    "start_time": "2022-09-02T18:08:50.372Z"
   },
   {
    "duration": 175,
    "start_time": "2022-09-02T18:08:50.391Z"
   },
   {
    "duration": 50,
    "start_time": "2022-09-02T18:08:50.568Z"
   },
   {
    "duration": 19,
    "start_time": "2022-09-02T18:08:50.620Z"
   },
   {
    "duration": 184,
    "start_time": "2022-09-02T18:08:50.641Z"
   },
   {
    "duration": 46,
    "start_time": "2022-09-02T18:08:50.827Z"
   },
   {
    "duration": 12,
    "start_time": "2022-09-02T18:08:50.876Z"
   },
   {
    "duration": 131,
    "start_time": "2022-09-02T18:08:50.905Z"
   },
   {
    "duration": 280,
    "start_time": "2022-09-02T18:08:51.037Z"
   },
   {
    "duration": 262,
    "start_time": "2022-09-02T18:08:51.319Z"
   },
   {
    "duration": 93,
    "start_time": "2022-09-02T18:08:51.583Z"
   },
   {
    "duration": 153,
    "start_time": "2022-09-02T18:08:51.677Z"
   },
   {
    "duration": 18,
    "start_time": "2022-09-02T18:08:51.831Z"
   },
   {
    "duration": 84,
    "start_time": "2022-09-02T18:08:51.851Z"
   },
   {
    "duration": 0,
    "start_time": "2022-09-02T18:08:51.936Z"
   },
   {
    "duration": 0,
    "start_time": "2022-09-02T18:08:51.937Z"
   },
   {
    "duration": 0,
    "start_time": "2022-09-02T18:08:51.938Z"
   },
   {
    "duration": 0,
    "start_time": "2022-09-02T18:08:51.940Z"
   },
   {
    "duration": 0,
    "start_time": "2022-09-02T18:08:51.940Z"
   },
   {
    "duration": 0,
    "start_time": "2022-09-02T18:08:51.941Z"
   },
   {
    "duration": 0,
    "start_time": "2022-09-02T18:08:51.942Z"
   },
   {
    "duration": 0,
    "start_time": "2022-09-02T18:08:51.943Z"
   },
   {
    "duration": 0,
    "start_time": "2022-09-02T18:08:51.944Z"
   },
   {
    "duration": 0,
    "start_time": "2022-09-02T18:08:51.945Z"
   },
   {
    "duration": 0,
    "start_time": "2022-09-02T18:08:51.946Z"
   },
   {
    "duration": 0,
    "start_time": "2022-09-02T18:08:51.946Z"
   },
   {
    "duration": 0,
    "start_time": "2022-09-02T18:08:51.947Z"
   },
   {
    "duration": 0,
    "start_time": "2022-09-02T18:08:51.948Z"
   },
   {
    "duration": 0,
    "start_time": "2022-09-02T18:08:51.949Z"
   },
   {
    "duration": 0,
    "start_time": "2022-09-02T18:08:51.950Z"
   },
   {
    "duration": 0,
    "start_time": "2022-09-02T18:08:51.951Z"
   },
   {
    "duration": 0,
    "start_time": "2022-09-02T18:08:51.952Z"
   },
   {
    "duration": 0,
    "start_time": "2022-09-02T18:08:51.952Z"
   },
   {
    "duration": 0,
    "start_time": "2022-09-02T18:08:51.954Z"
   },
   {
    "duration": 0,
    "start_time": "2022-09-02T18:08:51.954Z"
   },
   {
    "duration": 0,
    "start_time": "2022-09-02T18:08:51.955Z"
   },
   {
    "duration": 0,
    "start_time": "2022-09-02T18:08:51.956Z"
   },
   {
    "duration": 0,
    "start_time": "2022-09-02T18:08:51.957Z"
   },
   {
    "duration": 0,
    "start_time": "2022-09-02T18:08:51.957Z"
   },
   {
    "duration": 0,
    "start_time": "2022-09-02T18:08:51.958Z"
   },
   {
    "duration": 0,
    "start_time": "2022-09-02T18:08:51.959Z"
   },
   {
    "duration": 0,
    "start_time": "2022-09-02T18:08:51.960Z"
   },
   {
    "duration": 0,
    "start_time": "2022-09-02T18:08:51.961Z"
   },
   {
    "duration": 0,
    "start_time": "2022-09-02T18:08:51.962Z"
   },
   {
    "duration": 0,
    "start_time": "2022-09-02T18:08:52.006Z"
   },
   {
    "duration": 9,
    "start_time": "2022-09-02T18:09:21.615Z"
   },
   {
    "duration": 15,
    "start_time": "2022-09-02T18:09:34.251Z"
   },
   {
    "duration": 12,
    "start_time": "2022-09-02T18:10:33.177Z"
   },
   {
    "duration": 89,
    "start_time": "2022-09-02T18:11:09.996Z"
   },
   {
    "duration": 9,
    "start_time": "2022-09-02T18:11:36.169Z"
   },
   {
    "duration": 7,
    "start_time": "2022-09-02T18:11:54.304Z"
   },
   {
    "duration": 263,
    "start_time": "2022-09-02T18:13:08.053Z"
   },
   {
    "duration": 272,
    "start_time": "2022-09-02T18:14:51.456Z"
   },
   {
    "duration": 323,
    "start_time": "2022-09-02T18:14:57.092Z"
   },
   {
    "duration": 287,
    "start_time": "2022-09-02T18:15:33.688Z"
   },
   {
    "duration": 403,
    "start_time": "2022-09-02T18:17:12.214Z"
   },
   {
    "duration": 86,
    "start_time": "2022-09-02T18:17:26.844Z"
   },
   {
    "duration": 86,
    "start_time": "2022-09-02T18:17:40.742Z"
   },
   {
    "duration": 325,
    "start_time": "2022-09-02T18:18:13.273Z"
   },
   {
    "duration": 83,
    "start_time": "2022-09-02T18:18:38.361Z"
   },
   {
    "duration": 90,
    "start_time": "2022-09-02T18:18:48.208Z"
   },
   {
    "duration": 85,
    "start_time": "2022-09-02T18:18:51.456Z"
   },
   {
    "duration": 14,
    "start_time": "2022-09-02T18:19:10.008Z"
   },
   {
    "duration": 699,
    "start_time": "2022-09-02T18:20:24.765Z"
   },
   {
    "duration": 4,
    "start_time": "2022-09-02T18:20:25.466Z"
   },
   {
    "duration": 227,
    "start_time": "2022-09-02T18:20:25.471Z"
   },
   {
    "duration": 17,
    "start_time": "2022-09-02T18:20:25.705Z"
   },
   {
    "duration": 168,
    "start_time": "2022-09-02T18:20:25.723Z"
   },
   {
    "duration": 42,
    "start_time": "2022-09-02T18:20:25.892Z"
   },
   {
    "duration": 18,
    "start_time": "2022-09-02T18:20:25.936Z"
   },
   {
    "duration": 217,
    "start_time": "2022-09-02T18:20:25.955Z"
   },
   {
    "duration": 59,
    "start_time": "2022-09-02T18:20:26.174Z"
   },
   {
    "duration": 14,
    "start_time": "2022-09-02T18:20:26.235Z"
   },
   {
    "duration": 149,
    "start_time": "2022-09-02T18:20:26.250Z"
   },
   {
    "duration": 274,
    "start_time": "2022-09-02T18:20:26.400Z"
   },
   {
    "duration": 260,
    "start_time": "2022-09-02T18:20:26.676Z"
   },
   {
    "duration": 92,
    "start_time": "2022-09-02T18:20:26.937Z"
   },
   {
    "duration": 150,
    "start_time": "2022-09-02T18:20:27.031Z"
   },
   {
    "duration": 24,
    "start_time": "2022-09-02T18:20:27.182Z"
   },
   {
    "duration": 66,
    "start_time": "2022-09-02T18:20:27.208Z"
   },
   {
    "duration": 0,
    "start_time": "2022-09-02T18:20:27.276Z"
   },
   {
    "duration": 0,
    "start_time": "2022-09-02T18:20:27.277Z"
   },
   {
    "duration": 0,
    "start_time": "2022-09-02T18:20:27.279Z"
   },
   {
    "duration": 0,
    "start_time": "2022-09-02T18:20:27.279Z"
   },
   {
    "duration": 0,
    "start_time": "2022-09-02T18:20:27.280Z"
   },
   {
    "duration": 0,
    "start_time": "2022-09-02T18:20:27.281Z"
   },
   {
    "duration": 0,
    "start_time": "2022-09-02T18:20:27.282Z"
   },
   {
    "duration": 0,
    "start_time": "2022-09-02T18:20:27.283Z"
   },
   {
    "duration": 0,
    "start_time": "2022-09-02T18:20:27.283Z"
   },
   {
    "duration": 0,
    "start_time": "2022-09-02T18:20:27.306Z"
   },
   {
    "duration": 0,
    "start_time": "2022-09-02T18:20:27.307Z"
   },
   {
    "duration": 0,
    "start_time": "2022-09-02T18:20:27.308Z"
   },
   {
    "duration": 0,
    "start_time": "2022-09-02T18:20:27.309Z"
   },
   {
    "duration": 0,
    "start_time": "2022-09-02T18:20:27.309Z"
   },
   {
    "duration": 0,
    "start_time": "2022-09-02T18:20:27.310Z"
   },
   {
    "duration": 0,
    "start_time": "2022-09-02T18:20:27.311Z"
   },
   {
    "duration": 0,
    "start_time": "2022-09-02T18:20:27.312Z"
   },
   {
    "duration": 0,
    "start_time": "2022-09-02T18:20:27.313Z"
   },
   {
    "duration": 0,
    "start_time": "2022-09-02T18:20:27.314Z"
   },
   {
    "duration": 0,
    "start_time": "2022-09-02T18:20:27.315Z"
   },
   {
    "duration": 0,
    "start_time": "2022-09-02T18:20:27.316Z"
   },
   {
    "duration": 0,
    "start_time": "2022-09-02T18:20:27.317Z"
   },
   {
    "duration": 0,
    "start_time": "2022-09-02T18:20:27.318Z"
   },
   {
    "duration": 0,
    "start_time": "2022-09-02T18:20:27.318Z"
   },
   {
    "duration": 0,
    "start_time": "2022-09-02T18:20:27.319Z"
   },
   {
    "duration": 0,
    "start_time": "2022-09-02T18:20:27.320Z"
   },
   {
    "duration": 0,
    "start_time": "2022-09-02T18:20:27.321Z"
   },
   {
    "duration": 0,
    "start_time": "2022-09-02T18:20:27.322Z"
   },
   {
    "duration": 0,
    "start_time": "2022-09-02T18:20:27.323Z"
   },
   {
    "duration": 0,
    "start_time": "2022-09-02T18:20:27.324Z"
   },
   {
    "duration": 0,
    "start_time": "2022-09-02T18:20:27.325Z"
   },
   {
    "duration": 15,
    "start_time": "2022-09-02T18:21:00.534Z"
   },
   {
    "duration": 4,
    "start_time": "2022-09-02T18:21:28.538Z"
   },
   {
    "duration": 5,
    "start_time": "2022-09-02T18:21:40.283Z"
   },
   {
    "duration": 426,
    "start_time": "2022-09-02T18:21:59.240Z"
   },
   {
    "duration": 223,
    "start_time": "2022-09-02T18:23:07.964Z"
   },
   {
    "duration": 232,
    "start_time": "2022-09-02T18:23:10.815Z"
   },
   {
    "duration": 899,
    "start_time": "2022-09-02T18:23:52.025Z"
   },
   {
    "duration": 4,
    "start_time": "2022-09-02T18:23:52.925Z"
   },
   {
    "duration": 225,
    "start_time": "2022-09-02T18:23:52.931Z"
   },
   {
    "duration": 17,
    "start_time": "2022-09-02T18:23:53.158Z"
   },
   {
    "duration": 179,
    "start_time": "2022-09-02T18:23:53.177Z"
   },
   {
    "duration": 36,
    "start_time": "2022-09-02T18:23:53.358Z"
   },
   {
    "duration": 26,
    "start_time": "2022-09-02T18:23:53.396Z"
   },
   {
    "duration": 184,
    "start_time": "2022-09-02T18:23:53.424Z"
   },
   {
    "duration": 46,
    "start_time": "2022-09-02T18:23:53.609Z"
   },
   {
    "duration": 12,
    "start_time": "2022-09-02T18:23:53.658Z"
   },
   {
    "duration": 155,
    "start_time": "2022-09-02T18:23:53.671Z"
   },
   {
    "duration": 274,
    "start_time": "2022-09-02T18:23:53.828Z"
   },
   {
    "duration": 275,
    "start_time": "2022-09-02T18:23:54.106Z"
   },
   {
    "duration": 2,
    "start_time": "2022-09-02T18:23:54.383Z"
   },
   {
    "duration": 95,
    "start_time": "2022-09-02T18:23:54.386Z"
   },
   {
    "duration": 26,
    "start_time": "2022-09-02T18:23:54.483Z"
   },
   {
    "duration": 10,
    "start_time": "2022-09-02T18:23:54.510Z"
   },
   {
    "duration": 11,
    "start_time": "2022-09-02T18:23:54.522Z"
   },
   {
    "duration": 338,
    "start_time": "2022-09-02T18:23:54.534Z"
   },
   {
    "duration": 9,
    "start_time": "2022-09-02T18:23:54.873Z"
   },
   {
    "duration": 270,
    "start_time": "2022-09-02T18:23:54.883Z"
   },
   {
    "duration": 269,
    "start_time": "2022-09-02T18:23:55.155Z"
   },
   {
    "duration": 180,
    "start_time": "2022-09-02T18:23:55.425Z"
   },
   {
    "duration": 253,
    "start_time": "2022-09-02T18:23:55.607Z"
   },
   {
    "duration": 156,
    "start_time": "2022-09-02T18:23:55.862Z"
   },
   {
    "duration": 222,
    "start_time": "2022-09-02T18:23:56.020Z"
   },
   {
    "duration": 238,
    "start_time": "2022-09-02T18:23:56.244Z"
   },
   {
    "duration": 120,
    "start_time": "2022-09-02T18:23:56.487Z"
   },
   {
    "duration": 147,
    "start_time": "2022-09-02T18:23:56.609Z"
   },
   {
    "duration": 155,
    "start_time": "2022-09-02T18:23:56.757Z"
   },
   {
    "duration": 137,
    "start_time": "2022-09-02T18:23:56.914Z"
   },
   {
    "duration": 179,
    "start_time": "2022-09-02T18:23:57.053Z"
   },
   {
    "duration": 367,
    "start_time": "2022-09-02T18:23:57.233Z"
   },
   {
    "duration": 489,
    "start_time": "2022-09-02T18:23:57.601Z"
   },
   {
    "duration": 202,
    "start_time": "2022-09-02T18:23:58.091Z"
   },
   {
    "duration": 144,
    "start_time": "2022-09-02T18:23:58.294Z"
   },
   {
    "duration": 124,
    "start_time": "2022-09-02T18:23:58.439Z"
   },
   {
    "duration": 253,
    "start_time": "2022-09-02T18:23:58.565Z"
   },
   {
    "duration": 129,
    "start_time": "2022-09-02T18:23:58.820Z"
   },
   {
    "duration": 143,
    "start_time": "2022-09-02T18:23:58.951Z"
   },
   {
    "duration": 224,
    "start_time": "2022-09-02T18:23:59.096Z"
   },
   {
    "duration": 143,
    "start_time": "2022-09-02T18:23:59.321Z"
   },
   {
    "duration": 21,
    "start_time": "2022-09-02T18:23:59.466Z"
   },
   {
    "duration": 10,
    "start_time": "2022-09-02T18:23:59.489Z"
   },
   {
    "duration": 132,
    "start_time": "2022-09-02T18:23:59.505Z"
   },
   {
    "duration": 619,
    "start_time": "2022-09-02T18:23:59.638Z"
   },
   {
    "duration": 8978,
    "start_time": "2022-09-02T18:24:00.259Z"
   },
   {
    "duration": 347,
    "start_time": "2022-09-02T18:24:09.238Z"
   },
   {
    "duration": 878,
    "start_time": "2022-09-02T18:28:24.231Z"
   },
   {
    "duration": 104,
    "start_time": "2022-09-02T18:32:44.562Z"
   },
   {
    "duration": 92,
    "start_time": "2022-09-02T18:32:50.589Z"
   },
   {
    "duration": 21,
    "start_time": "2022-09-02T18:33:16.402Z"
   },
   {
    "duration": 95,
    "start_time": "2022-09-02T18:34:15.628Z"
   },
   {
    "duration": 17,
    "start_time": "2022-09-02T18:34:23.321Z"
   },
   {
    "duration": 165,
    "start_time": "2022-09-02T18:35:02.903Z"
   },
   {
    "duration": 99,
    "start_time": "2022-09-02T18:35:13.566Z"
   },
   {
    "duration": 854,
    "start_time": "2022-09-02T18:35:32.438Z"
   },
   {
    "duration": 4,
    "start_time": "2022-09-02T18:35:33.294Z"
   },
   {
    "duration": 211,
    "start_time": "2022-09-02T18:35:33.305Z"
   },
   {
    "duration": 18,
    "start_time": "2022-09-02T18:35:33.518Z"
   },
   {
    "duration": 177,
    "start_time": "2022-09-02T18:35:33.538Z"
   },
   {
    "duration": 36,
    "start_time": "2022-09-02T18:35:33.716Z"
   },
   {
    "duration": 18,
    "start_time": "2022-09-02T18:35:33.754Z"
   },
   {
    "duration": 190,
    "start_time": "2022-09-02T18:35:33.774Z"
   },
   {
    "duration": 54,
    "start_time": "2022-09-02T18:35:33.966Z"
   },
   {
    "duration": 13,
    "start_time": "2022-09-02T18:35:34.023Z"
   },
   {
    "duration": 156,
    "start_time": "2022-09-02T18:35:34.038Z"
   },
   {
    "duration": 262,
    "start_time": "2022-09-02T18:35:34.196Z"
   },
   {
    "duration": 276,
    "start_time": "2022-09-02T18:35:34.460Z"
   },
   {
    "duration": 1318,
    "start_time": "2022-09-02T18:35:34.738Z"
   },
   {
    "duration": 0,
    "start_time": "2022-09-02T18:35:36.058Z"
   },
   {
    "duration": 0,
    "start_time": "2022-09-02T18:35:36.059Z"
   },
   {
    "duration": 0,
    "start_time": "2022-09-02T18:35:36.061Z"
   },
   {
    "duration": 0,
    "start_time": "2022-09-02T18:35:36.062Z"
   },
   {
    "duration": 0,
    "start_time": "2022-09-02T18:35:36.064Z"
   },
   {
    "duration": 0,
    "start_time": "2022-09-02T18:35:36.067Z"
   },
   {
    "duration": 0,
    "start_time": "2022-09-02T18:35:36.068Z"
   },
   {
    "duration": 0,
    "start_time": "2022-09-02T18:35:36.069Z"
   },
   {
    "duration": 0,
    "start_time": "2022-09-02T18:35:36.070Z"
   },
   {
    "duration": 0,
    "start_time": "2022-09-02T18:35:36.071Z"
   },
   {
    "duration": 0,
    "start_time": "2022-09-02T18:35:36.072Z"
   },
   {
    "duration": 0,
    "start_time": "2022-09-02T18:35:36.073Z"
   },
   {
    "duration": 0,
    "start_time": "2022-09-02T18:35:36.074Z"
   },
   {
    "duration": 0,
    "start_time": "2022-09-02T18:35:36.075Z"
   },
   {
    "duration": 0,
    "start_time": "2022-09-02T18:35:36.076Z"
   },
   {
    "duration": 0,
    "start_time": "2022-09-02T18:35:36.077Z"
   },
   {
    "duration": 0,
    "start_time": "2022-09-02T18:35:36.079Z"
   },
   {
    "duration": 0,
    "start_time": "2022-09-02T18:35:36.080Z"
   },
   {
    "duration": 0,
    "start_time": "2022-09-02T18:35:36.081Z"
   },
   {
    "duration": 0,
    "start_time": "2022-09-02T18:35:36.082Z"
   },
   {
    "duration": 0,
    "start_time": "2022-09-02T18:35:36.084Z"
   },
   {
    "duration": 0,
    "start_time": "2022-09-02T18:35:36.086Z"
   },
   {
    "duration": 0,
    "start_time": "2022-09-02T18:35:36.087Z"
   },
   {
    "duration": 0,
    "start_time": "2022-09-02T18:35:36.089Z"
   },
   {
    "duration": 0,
    "start_time": "2022-09-02T18:35:36.090Z"
   },
   {
    "duration": 1,
    "start_time": "2022-09-02T18:35:36.091Z"
   },
   {
    "duration": 0,
    "start_time": "2022-09-02T18:35:36.093Z"
   },
   {
    "duration": 0,
    "start_time": "2022-09-02T18:35:36.095Z"
   },
   {
    "duration": 0,
    "start_time": "2022-09-02T18:35:36.106Z"
   },
   {
    "duration": 0,
    "start_time": "2022-09-02T18:35:36.107Z"
   },
   {
    "duration": 0,
    "start_time": "2022-09-02T18:35:36.109Z"
   },
   {
    "duration": 0,
    "start_time": "2022-09-02T18:35:36.110Z"
   },
   {
    "duration": 0,
    "start_time": "2022-09-02T18:35:36.111Z"
   },
   {
    "duration": 0,
    "start_time": "2022-09-02T18:35:36.113Z"
   },
   {
    "duration": 157,
    "start_time": "2022-09-02T18:36:14.223Z"
   },
   {
    "duration": 88,
    "start_time": "2022-09-02T18:36:20.147Z"
   },
   {
    "duration": 85,
    "start_time": "2022-09-02T18:36:23.598Z"
   },
   {
    "duration": 19,
    "start_time": "2022-09-02T18:36:29.177Z"
   },
   {
    "duration": 14,
    "start_time": "2022-09-02T18:36:31.813Z"
   },
   {
    "duration": 12,
    "start_time": "2022-09-02T18:36:34.880Z"
   },
   {
    "duration": 256,
    "start_time": "2022-09-02T18:36:36.198Z"
   },
   {
    "duration": 8,
    "start_time": "2022-09-02T18:36:37.503Z"
   },
   {
    "duration": 326,
    "start_time": "2022-09-02T18:36:40.388Z"
   },
   {
    "duration": 261,
    "start_time": "2022-09-02T18:36:52.816Z"
   },
   {
    "duration": 162,
    "start_time": "2022-09-02T18:37:03.898Z"
   },
   {
    "duration": 262,
    "start_time": "2022-09-02T18:37:06.287Z"
   },
   {
    "duration": 161,
    "start_time": "2022-09-02T18:37:08.090Z"
   },
   {
    "duration": 163,
    "start_time": "2022-09-02T18:37:09.905Z"
   },
   {
    "duration": 171,
    "start_time": "2022-09-02T18:37:11.941Z"
   },
   {
    "duration": 108,
    "start_time": "2022-09-02T18:37:13.709Z"
   },
   {
    "duration": 135,
    "start_time": "2022-09-02T18:37:15.750Z"
   },
   {
    "duration": 224,
    "start_time": "2022-09-02T18:37:21.191Z"
   },
   {
    "duration": 131,
    "start_time": "2022-09-02T18:37:23.074Z"
   },
   {
    "duration": 167,
    "start_time": "2022-09-02T18:37:25.036Z"
   },
   {
    "duration": 509,
    "start_time": "2022-09-02T18:37:32.848Z"
   },
   {
    "duration": 419,
    "start_time": "2022-09-02T18:37:37.655Z"
   },
   {
    "duration": 136,
    "start_time": "2022-09-02T18:38:21.451Z"
   },
   {
    "duration": 122,
    "start_time": "2022-09-02T18:38:31.306Z"
   },
   {
    "duration": 259,
    "start_time": "2022-09-02T18:38:35.185Z"
   },
   {
    "duration": 145,
    "start_time": "2022-09-02T18:38:43.801Z"
   },
   {
    "duration": 236,
    "start_time": "2022-09-02T18:38:47.207Z"
   },
   {
    "duration": 155,
    "start_time": "2022-09-02T18:38:49.986Z"
   },
   {
    "duration": 12,
    "start_time": "2022-09-02T18:38:53.282Z"
   },
   {
    "duration": 11,
    "start_time": "2022-09-02T18:39:04.221Z"
   },
   {
    "duration": 147,
    "start_time": "2022-09-02T18:39:08.562Z"
   },
   {
    "duration": 427,
    "start_time": "2022-09-02T18:39:15.255Z"
   },
   {
    "duration": 7560,
    "start_time": "2022-09-02T18:39:16.065Z"
   },
   {
    "duration": 5,
    "start_time": "2022-09-02T18:39:41.197Z"
   },
   {
    "duration": 5,
    "start_time": "2022-09-02T18:39:48.661Z"
   },
   {
    "duration": 7,
    "start_time": "2022-09-02T18:39:59.465Z"
   },
   {
    "duration": 39,
    "start_time": "2022-09-02T18:40:05.383Z"
   },
   {
    "duration": 115,
    "start_time": "2022-09-02T18:41:06.506Z"
   },
   {
    "duration": 668,
    "start_time": "2022-09-02T18:41:18.656Z"
   },
   {
    "duration": 4,
    "start_time": "2022-09-02T18:41:19.326Z"
   },
   {
    "duration": 213,
    "start_time": "2022-09-02T18:41:19.331Z"
   },
   {
    "duration": 17,
    "start_time": "2022-09-02T18:41:19.546Z"
   },
   {
    "duration": 176,
    "start_time": "2022-09-02T18:41:19.564Z"
   },
   {
    "duration": 41,
    "start_time": "2022-09-02T18:41:19.742Z"
   },
   {
    "duration": 29,
    "start_time": "2022-09-02T18:41:19.785Z"
   },
   {
    "duration": 178,
    "start_time": "2022-09-02T18:41:19.816Z"
   },
   {
    "duration": 51,
    "start_time": "2022-09-02T18:41:19.996Z"
   },
   {
    "duration": 13,
    "start_time": "2022-09-02T18:41:20.049Z"
   },
   {
    "duration": 158,
    "start_time": "2022-09-02T18:41:20.064Z"
   },
   {
    "duration": 287,
    "start_time": "2022-09-02T18:41:20.223Z"
   },
   {
    "duration": 295,
    "start_time": "2022-09-02T18:41:20.512Z"
   },
   {
    "duration": 468,
    "start_time": "2022-09-02T18:41:20.809Z"
   },
   {
    "duration": 0,
    "start_time": "2022-09-02T18:41:21.279Z"
   },
   {
    "duration": 0,
    "start_time": "2022-09-02T18:41:21.280Z"
   },
   {
    "duration": 0,
    "start_time": "2022-09-02T18:41:21.281Z"
   },
   {
    "duration": 0,
    "start_time": "2022-09-02T18:41:21.282Z"
   },
   {
    "duration": 0,
    "start_time": "2022-09-02T18:41:21.284Z"
   },
   {
    "duration": 0,
    "start_time": "2022-09-02T18:41:21.285Z"
   },
   {
    "duration": 0,
    "start_time": "2022-09-02T18:41:21.286Z"
   },
   {
    "duration": 0,
    "start_time": "2022-09-02T18:41:21.286Z"
   },
   {
    "duration": 0,
    "start_time": "2022-09-02T18:41:21.288Z"
   },
   {
    "duration": 0,
    "start_time": "2022-09-02T18:41:21.288Z"
   },
   {
    "duration": 0,
    "start_time": "2022-09-02T18:41:21.290Z"
   },
   {
    "duration": 0,
    "start_time": "2022-09-02T18:41:21.290Z"
   },
   {
    "duration": 0,
    "start_time": "2022-09-02T18:41:21.291Z"
   },
   {
    "duration": 0,
    "start_time": "2022-09-02T18:41:21.292Z"
   },
   {
    "duration": 0,
    "start_time": "2022-09-02T18:41:21.293Z"
   },
   {
    "duration": 0,
    "start_time": "2022-09-02T18:41:21.294Z"
   },
   {
    "duration": 0,
    "start_time": "2022-09-02T18:41:21.295Z"
   },
   {
    "duration": 0,
    "start_time": "2022-09-02T18:41:21.296Z"
   },
   {
    "duration": 0,
    "start_time": "2022-09-02T18:41:21.297Z"
   },
   {
    "duration": 0,
    "start_time": "2022-09-02T18:41:21.297Z"
   },
   {
    "duration": 0,
    "start_time": "2022-09-02T18:41:21.298Z"
   },
   {
    "duration": 0,
    "start_time": "2022-09-02T18:41:21.299Z"
   },
   {
    "duration": 0,
    "start_time": "2022-09-02T18:41:21.300Z"
   },
   {
    "duration": 0,
    "start_time": "2022-09-02T18:41:21.301Z"
   },
   {
    "duration": 0,
    "start_time": "2022-09-02T18:41:21.302Z"
   },
   {
    "duration": 0,
    "start_time": "2022-09-02T18:41:21.303Z"
   },
   {
    "duration": 0,
    "start_time": "2022-09-02T18:41:21.304Z"
   },
   {
    "duration": 0,
    "start_time": "2022-09-02T18:41:21.305Z"
   },
   {
    "duration": 0,
    "start_time": "2022-09-02T18:41:21.306Z"
   },
   {
    "duration": 0,
    "start_time": "2022-09-02T18:41:21.307Z"
   },
   {
    "duration": 0,
    "start_time": "2022-09-02T18:41:21.308Z"
   },
   {
    "duration": 0,
    "start_time": "2022-09-02T18:41:21.309Z"
   },
   {
    "duration": 0,
    "start_time": "2022-09-02T18:41:21.310Z"
   },
   {
    "duration": 0,
    "start_time": "2022-09-02T18:41:21.311Z"
   },
   {
    "duration": 0,
    "start_time": "2022-09-02T18:41:21.312Z"
   },
   {
    "duration": 155,
    "start_time": "2022-09-02T18:42:03.873Z"
   },
   {
    "duration": 78,
    "start_time": "2022-09-02T18:42:08.726Z"
   },
   {
    "duration": 85,
    "start_time": "2022-09-02T18:42:10.577Z"
   },
   {
    "duration": 20,
    "start_time": "2022-09-02T18:42:16.394Z"
   },
   {
    "duration": 12,
    "start_time": "2022-09-02T18:42:18.509Z"
   },
   {
    "duration": 99,
    "start_time": "2022-09-02T18:42:46.290Z"
   },
   {
    "duration": 12,
    "start_time": "2022-09-02T18:42:51.807Z"
   },
   {
    "duration": 145,
    "start_time": "2022-09-02T18:44:18.776Z"
   },
   {
    "duration": 786,
    "start_time": "2022-09-02T18:45:50.332Z"
   },
   {
    "duration": 4,
    "start_time": "2022-09-02T18:45:51.121Z"
   },
   {
    "duration": 243,
    "start_time": "2022-09-02T18:45:51.126Z"
   },
   {
    "duration": 17,
    "start_time": "2022-09-02T18:45:51.371Z"
   },
   {
    "duration": 175,
    "start_time": "2022-09-02T18:45:51.390Z"
   },
   {
    "duration": 42,
    "start_time": "2022-09-02T18:45:51.567Z"
   },
   {
    "duration": 18,
    "start_time": "2022-09-02T18:45:51.611Z"
   },
   {
    "duration": 182,
    "start_time": "2022-09-02T18:45:51.630Z"
   },
   {
    "duration": 47,
    "start_time": "2022-09-02T18:45:51.813Z"
   },
   {
    "duration": 12,
    "start_time": "2022-09-02T18:45:51.862Z"
   },
   {
    "duration": 159,
    "start_time": "2022-09-02T18:45:51.876Z"
   },
   {
    "duration": 271,
    "start_time": "2022-09-02T18:45:52.037Z"
   },
   {
    "duration": 287,
    "start_time": "2022-09-02T18:45:52.309Z"
   },
   {
    "duration": 497,
    "start_time": "2022-09-02T18:45:52.598Z"
   },
   {
    "duration": 0,
    "start_time": "2022-09-02T18:45:53.097Z"
   },
   {
    "duration": 0,
    "start_time": "2022-09-02T18:45:53.098Z"
   },
   {
    "duration": 0,
    "start_time": "2022-09-02T18:45:53.098Z"
   },
   {
    "duration": 0,
    "start_time": "2022-09-02T18:45:53.100Z"
   },
   {
    "duration": 0,
    "start_time": "2022-09-02T18:45:53.101Z"
   },
   {
    "duration": 0,
    "start_time": "2022-09-02T18:45:53.102Z"
   },
   {
    "duration": 0,
    "start_time": "2022-09-02T18:45:53.103Z"
   },
   {
    "duration": 0,
    "start_time": "2022-09-02T18:45:53.104Z"
   },
   {
    "duration": 0,
    "start_time": "2022-09-02T18:45:53.106Z"
   },
   {
    "duration": 0,
    "start_time": "2022-09-02T18:45:53.107Z"
   },
   {
    "duration": 0,
    "start_time": "2022-09-02T18:45:53.108Z"
   },
   {
    "duration": 0,
    "start_time": "2022-09-02T18:45:53.109Z"
   },
   {
    "duration": 0,
    "start_time": "2022-09-02T18:45:53.110Z"
   },
   {
    "duration": 0,
    "start_time": "2022-09-02T18:45:53.111Z"
   },
   {
    "duration": 0,
    "start_time": "2022-09-02T18:45:53.112Z"
   },
   {
    "duration": 0,
    "start_time": "2022-09-02T18:45:53.113Z"
   },
   {
    "duration": 0,
    "start_time": "2022-09-02T18:45:53.114Z"
   },
   {
    "duration": 0,
    "start_time": "2022-09-02T18:45:53.115Z"
   },
   {
    "duration": 0,
    "start_time": "2022-09-02T18:45:53.116Z"
   },
   {
    "duration": 0,
    "start_time": "2022-09-02T18:45:53.117Z"
   },
   {
    "duration": 0,
    "start_time": "2022-09-02T18:45:53.118Z"
   },
   {
    "duration": 0,
    "start_time": "2022-09-02T18:45:53.119Z"
   },
   {
    "duration": 0,
    "start_time": "2022-09-02T18:45:53.120Z"
   },
   {
    "duration": 0,
    "start_time": "2022-09-02T18:45:53.121Z"
   },
   {
    "duration": 0,
    "start_time": "2022-09-02T18:45:53.123Z"
   },
   {
    "duration": 0,
    "start_time": "2022-09-02T18:45:53.124Z"
   },
   {
    "duration": 0,
    "start_time": "2022-09-02T18:45:53.125Z"
   },
   {
    "duration": 0,
    "start_time": "2022-09-02T18:45:53.126Z"
   },
   {
    "duration": 0,
    "start_time": "2022-09-02T18:45:53.127Z"
   },
   {
    "duration": 0,
    "start_time": "2022-09-02T18:45:53.128Z"
   },
   {
    "duration": 0,
    "start_time": "2022-09-02T18:45:53.129Z"
   },
   {
    "duration": 0,
    "start_time": "2022-09-02T18:45:53.130Z"
   },
   {
    "duration": 0,
    "start_time": "2022-09-02T18:45:53.131Z"
   },
   {
    "duration": 0,
    "start_time": "2022-09-02T18:45:53.133Z"
   },
   {
    "duration": 0,
    "start_time": "2022-09-02T18:45:53.133Z"
   },
   {
    "duration": 150,
    "start_time": "2022-09-02T18:46:25.218Z"
   },
   {
    "duration": 79,
    "start_time": "2022-09-02T18:46:29.132Z"
   },
   {
    "duration": 760,
    "start_time": "2022-09-02T18:46:49.317Z"
   },
   {
    "duration": 4,
    "start_time": "2022-09-02T18:46:50.079Z"
   },
   {
    "duration": 240,
    "start_time": "2022-09-02T18:46:50.085Z"
   },
   {
    "duration": 18,
    "start_time": "2022-09-02T18:46:50.327Z"
   },
   {
    "duration": 179,
    "start_time": "2022-09-02T18:46:50.346Z"
   },
   {
    "duration": 38,
    "start_time": "2022-09-02T18:46:50.527Z"
   },
   {
    "duration": 19,
    "start_time": "2022-09-02T18:46:50.567Z"
   },
   {
    "duration": 191,
    "start_time": "2022-09-02T18:46:50.607Z"
   },
   {
    "duration": 48,
    "start_time": "2022-09-02T18:46:50.800Z"
   },
   {
    "duration": 13,
    "start_time": "2022-09-02T18:46:50.850Z"
   },
   {
    "duration": 156,
    "start_time": "2022-09-02T18:46:50.865Z"
   },
   {
    "duration": 268,
    "start_time": "2022-09-02T18:46:51.022Z"
   },
   {
    "duration": 275,
    "start_time": "2022-09-02T18:46:51.292Z"
   },
   {
    "duration": 2,
    "start_time": "2022-09-02T18:46:51.569Z"
   },
   {
    "duration": 102,
    "start_time": "2022-09-02T18:46:51.572Z"
   },
   {
    "duration": 32,
    "start_time": "2022-09-02T18:46:51.675Z"
   },
   {
    "duration": 5,
    "start_time": "2022-09-02T18:46:51.708Z"
   },
   {
    "duration": 17,
    "start_time": "2022-09-02T18:46:51.715Z"
   },
   {
    "duration": 11,
    "start_time": "2022-09-02T18:46:51.735Z"
   },
   {
    "duration": 345,
    "start_time": "2022-09-02T18:46:51.748Z"
   },
   {
    "duration": 11,
    "start_time": "2022-09-02T18:46:52.095Z"
   },
   {
    "duration": 263,
    "start_time": "2022-09-02T18:46:52.108Z"
   },
   {
    "duration": 271,
    "start_time": "2022-09-02T18:46:52.373Z"
   },
   {
    "duration": 182,
    "start_time": "2022-09-02T18:46:52.646Z"
   },
   {
    "duration": 256,
    "start_time": "2022-09-02T18:46:52.829Z"
   },
   {
    "duration": 152,
    "start_time": "2022-09-02T18:46:53.086Z"
   },
   {
    "duration": 166,
    "start_time": "2022-09-02T18:46:53.240Z"
   },
   {
    "duration": 241,
    "start_time": "2022-09-02T18:46:53.409Z"
   },
   {
    "duration": 111,
    "start_time": "2022-09-02T18:46:53.651Z"
   },
   {
    "duration": 161,
    "start_time": "2022-09-02T18:46:53.764Z"
   },
   {
    "duration": 163,
    "start_time": "2022-09-02T18:46:53.926Z"
   },
   {
    "duration": 135,
    "start_time": "2022-09-02T18:46:54.091Z"
   },
   {
    "duration": 179,
    "start_time": "2022-09-02T18:46:54.227Z"
   },
   {
    "duration": 338,
    "start_time": "2022-09-02T18:46:54.407Z"
   },
   {
    "duration": 507,
    "start_time": "2022-09-02T18:46:54.747Z"
   },
   {
    "duration": 215,
    "start_time": "2022-09-02T18:46:55.256Z"
   },
   {
    "duration": 158,
    "start_time": "2022-09-02T18:46:55.472Z"
   },
   {
    "duration": 150,
    "start_time": "2022-09-02T18:46:55.632Z"
   },
   {
    "duration": 302,
    "start_time": "2022-09-02T18:46:55.784Z"
   },
   {
    "duration": 187,
    "start_time": "2022-09-02T18:46:56.088Z"
   },
   {
    "duration": 172,
    "start_time": "2022-09-02T18:46:56.277Z"
   },
   {
    "duration": 163,
    "start_time": "2022-09-02T18:46:56.451Z"
   },
   {
    "duration": 152,
    "start_time": "2022-09-02T18:46:56.616Z"
   },
   {
    "duration": 23,
    "start_time": "2022-09-02T18:46:56.770Z"
   },
   {
    "duration": 12,
    "start_time": "2022-09-02T18:46:56.805Z"
   },
   {
    "duration": 146,
    "start_time": "2022-09-02T18:46:56.818Z"
   },
   {
    "duration": 519,
    "start_time": "2022-09-02T18:46:56.966Z"
   },
   {
    "duration": 9079,
    "start_time": "2022-09-02T18:46:57.486Z"
   },
   {
    "duration": 326,
    "start_time": "2022-09-02T18:47:06.566Z"
   },
   {
    "duration": 660,
    "start_time": "2022-09-03T02:17:21.596Z"
   },
   {
    "duration": 4,
    "start_time": "2022-09-03T02:17:22.259Z"
   },
   {
    "duration": 229,
    "start_time": "2022-09-03T02:17:22.264Z"
   },
   {
    "duration": 17,
    "start_time": "2022-09-03T02:17:22.495Z"
   },
   {
    "duration": 176,
    "start_time": "2022-09-03T02:17:22.514Z"
   },
   {
    "duration": 36,
    "start_time": "2022-09-03T02:17:22.692Z"
   },
   {
    "duration": 26,
    "start_time": "2022-09-03T02:17:22.729Z"
   },
   {
    "duration": 185,
    "start_time": "2022-09-03T02:17:22.756Z"
   },
   {
    "duration": 45,
    "start_time": "2022-09-03T02:17:22.943Z"
   },
   {
    "duration": 13,
    "start_time": "2022-09-03T02:17:22.990Z"
   },
   {
    "duration": 159,
    "start_time": "2022-09-03T02:17:23.004Z"
   },
   {
    "duration": 264,
    "start_time": "2022-09-03T02:17:23.165Z"
   },
   {
    "duration": 282,
    "start_time": "2022-09-03T02:17:23.431Z"
   },
   {
    "duration": 2,
    "start_time": "2022-09-03T02:17:23.717Z"
   },
   {
    "duration": 105,
    "start_time": "2022-09-03T02:17:23.721Z"
   },
   {
    "duration": 26,
    "start_time": "2022-09-03T02:17:23.828Z"
   },
   {
    "duration": 35,
    "start_time": "2022-09-03T02:17:23.856Z"
   },
   {
    "duration": 36,
    "start_time": "2022-09-03T02:17:23.892Z"
   },
   {
    "duration": 332,
    "start_time": "2022-09-03T02:17:23.929Z"
   },
   {
    "duration": 8,
    "start_time": "2022-09-03T02:17:24.263Z"
   },
   {
    "duration": 295,
    "start_time": "2022-09-03T02:17:24.272Z"
   },
   {
    "duration": 273,
    "start_time": "2022-09-03T02:17:24.569Z"
   },
   {
    "duration": 171,
    "start_time": "2022-09-03T02:17:24.843Z"
   },
   {
    "duration": 254,
    "start_time": "2022-09-03T02:17:25.015Z"
   },
   {
    "duration": 148,
    "start_time": "2022-09-03T02:17:25.271Z"
   },
   {
    "duration": 171,
    "start_time": "2022-09-03T02:17:25.421Z"
   },
   {
    "duration": 235,
    "start_time": "2022-09-03T02:17:25.593Z"
   },
   {
    "duration": 114,
    "start_time": "2022-09-03T02:17:25.830Z"
   },
   {
    "duration": 154,
    "start_time": "2022-09-03T02:17:25.946Z"
   },
   {
    "duration": 160,
    "start_time": "2022-09-03T02:17:26.101Z"
   },
   {
    "duration": 138,
    "start_time": "2022-09-03T02:17:26.262Z"
   },
   {
    "duration": 182,
    "start_time": "2022-09-03T02:17:26.402Z"
   },
   {
    "duration": 354,
    "start_time": "2022-09-03T02:17:26.586Z"
   },
   {
    "duration": 501,
    "start_time": "2022-09-03T02:17:26.942Z"
   },
   {
    "duration": 220,
    "start_time": "2022-09-03T02:17:27.445Z"
   },
   {
    "duration": 164,
    "start_time": "2022-09-03T02:17:27.666Z"
   },
   {
    "duration": 134,
    "start_time": "2022-09-03T02:17:27.831Z"
   },
   {
    "duration": 258,
    "start_time": "2022-09-03T02:17:27.967Z"
   },
   {
    "duration": 144,
    "start_time": "2022-09-03T02:17:28.227Z"
   },
   {
    "duration": 157,
    "start_time": "2022-09-03T02:17:28.373Z"
   },
   {
    "duration": 157,
    "start_time": "2022-09-03T02:17:28.540Z"
   },
   {
    "duration": 159,
    "start_time": "2022-09-03T02:17:28.698Z"
   },
   {
    "duration": 31,
    "start_time": "2022-09-03T02:17:28.859Z"
   },
   {
    "duration": 15,
    "start_time": "2022-09-03T02:17:28.893Z"
   },
   {
    "duration": 191,
    "start_time": "2022-09-03T02:17:28.910Z"
   },
   {
    "duration": 518,
    "start_time": "2022-09-03T02:17:29.103Z"
   },
   {
    "duration": 7741,
    "start_time": "2022-09-03T02:17:29.623Z"
   },
   {
    "duration": 320,
    "start_time": "2022-09-03T02:17:37.366Z"
   },
   {
    "duration": 728,
    "start_time": "2022-09-03T02:23:15.014Z"
   },
   {
    "duration": 4,
    "start_time": "2022-09-03T02:23:15.743Z"
   },
   {
    "duration": 300,
    "start_time": "2022-09-03T02:23:15.748Z"
   },
   {
    "duration": 17,
    "start_time": "2022-09-03T02:23:16.050Z"
   },
   {
    "duration": 194,
    "start_time": "2022-09-03T02:23:16.069Z"
   },
   {
    "duration": 36,
    "start_time": "2022-09-03T02:23:16.265Z"
   },
   {
    "duration": 18,
    "start_time": "2022-09-03T02:23:16.302Z"
   },
   {
    "duration": 181,
    "start_time": "2022-09-03T02:23:16.339Z"
   },
   {
    "duration": 45,
    "start_time": "2022-09-03T02:23:16.522Z"
   },
   {
    "duration": 11,
    "start_time": "2022-09-03T02:23:16.569Z"
   },
   {
    "duration": 146,
    "start_time": "2022-09-03T02:23:16.581Z"
   },
   {
    "duration": 264,
    "start_time": "2022-09-03T02:23:16.729Z"
   },
   {
    "duration": 268,
    "start_time": "2022-09-03T02:23:16.995Z"
   },
   {
    "duration": 2,
    "start_time": "2022-09-03T02:23:17.266Z"
   },
   {
    "duration": 108,
    "start_time": "2022-09-03T02:23:17.269Z"
   },
   {
    "duration": 14,
    "start_time": "2022-09-03T02:23:17.378Z"
   },
   {
    "duration": 17,
    "start_time": "2022-09-03T02:23:17.394Z"
   },
   {
    "duration": 26,
    "start_time": "2022-09-03T02:23:17.413Z"
   },
   {
    "duration": 10,
    "start_time": "2022-09-03T02:23:17.441Z"
   },
   {
    "duration": 315,
    "start_time": "2022-09-03T02:23:17.452Z"
   },
   {
    "duration": 7,
    "start_time": "2022-09-03T02:23:17.768Z"
   },
   {
    "duration": 265,
    "start_time": "2022-09-03T02:23:17.777Z"
   },
   {
    "duration": 268,
    "start_time": "2022-09-03T02:23:18.044Z"
   },
   {
    "duration": 173,
    "start_time": "2022-09-03T02:23:18.314Z"
   },
   {
    "duration": 251,
    "start_time": "2022-09-03T02:23:18.489Z"
   },
   {
    "duration": 164,
    "start_time": "2022-09-03T02:23:18.741Z"
   },
   {
    "duration": 206,
    "start_time": "2022-09-03T02:23:18.907Z"
   },
   {
    "duration": 239,
    "start_time": "2022-09-03T02:23:19.114Z"
   },
   {
    "duration": 111,
    "start_time": "2022-09-03T02:23:19.355Z"
   },
   {
    "duration": 155,
    "start_time": "2022-09-03T02:23:19.468Z"
   },
   {
    "duration": 177,
    "start_time": "2022-09-03T02:23:19.625Z"
   },
   {
    "duration": 141,
    "start_time": "2022-09-03T02:23:19.803Z"
   },
   {
    "duration": 170,
    "start_time": "2022-09-03T02:23:19.946Z"
   },
   {
    "duration": 337,
    "start_time": "2022-09-03T02:23:20.117Z"
   },
   {
    "duration": 502,
    "start_time": "2022-09-03T02:23:20.456Z"
   },
   {
    "duration": 218,
    "start_time": "2022-09-03T02:23:20.959Z"
   },
   {
    "duration": 143,
    "start_time": "2022-09-03T02:23:21.178Z"
   },
   {
    "duration": 128,
    "start_time": "2022-09-03T02:23:21.322Z"
   },
   {
    "duration": 258,
    "start_time": "2022-09-03T02:23:21.452Z"
   },
   {
    "duration": 132,
    "start_time": "2022-09-03T02:23:21.712Z"
   },
   {
    "duration": 157,
    "start_time": "2022-09-03T02:23:21.847Z"
   },
   {
    "duration": 151,
    "start_time": "2022-09-03T02:23:22.005Z"
   },
   {
    "duration": 141,
    "start_time": "2022-09-03T02:23:22.158Z"
   },
   {
    "duration": 22,
    "start_time": "2022-09-03T02:23:22.301Z"
   },
   {
    "duration": 22,
    "start_time": "2022-09-03T02:23:22.325Z"
   },
   {
    "duration": 157,
    "start_time": "2022-09-03T02:23:22.349Z"
   },
   {
    "duration": 512,
    "start_time": "2022-09-03T02:23:22.507Z"
   },
   {
    "duration": 8625,
    "start_time": "2022-09-03T02:23:23.021Z"
   },
   {
    "duration": 328,
    "start_time": "2022-09-03T02:23:31.648Z"
   },
   {
    "duration": 11,
    "start_time": "2022-09-03T02:24:11.280Z"
   },
   {
    "duration": 57,
    "start_time": "2022-09-03T03:23:39.400Z"
   },
   {
    "duration": 1258,
    "start_time": "2022-09-03T03:23:48.975Z"
   },
   {
    "duration": 4,
    "start_time": "2022-09-03T03:23:50.235Z"
   },
   {
    "duration": 264,
    "start_time": "2022-09-03T03:23:50.240Z"
   },
   {
    "duration": 19,
    "start_time": "2022-09-03T03:23:50.507Z"
   },
   {
    "duration": 207,
    "start_time": "2022-09-03T03:23:50.528Z"
   },
   {
    "duration": 43,
    "start_time": "2022-09-03T03:23:50.737Z"
   },
   {
    "duration": 22,
    "start_time": "2022-09-03T03:23:50.791Z"
   },
   {
    "duration": 216,
    "start_time": "2022-09-03T03:23:50.815Z"
   },
   {
    "duration": 62,
    "start_time": "2022-09-03T03:23:51.033Z"
   },
   {
    "duration": 14,
    "start_time": "2022-09-03T03:23:51.098Z"
   },
   {
    "duration": 165,
    "start_time": "2022-09-03T03:23:51.113Z"
   },
   {
    "duration": 14,
    "start_time": "2022-09-03T03:23:51.280Z"
   },
   {
    "duration": 312,
    "start_time": "2022-09-03T03:23:51.295Z"
   },
   {
    "duration": 364,
    "start_time": "2022-09-03T03:23:51.609Z"
   },
   {
    "duration": 3,
    "start_time": "2022-09-03T03:23:51.975Z"
   },
   {
    "duration": 2727,
    "start_time": "2022-09-03T03:23:51.980Z"
   },
   {
    "duration": 1,
    "start_time": "2022-09-03T03:23:54.710Z"
   },
   {
    "duration": 0,
    "start_time": "2022-09-03T03:23:54.712Z"
   },
   {
    "duration": 0,
    "start_time": "2022-09-03T03:23:54.713Z"
   },
   {
    "duration": 0,
    "start_time": "2022-09-03T03:23:54.714Z"
   },
   {
    "duration": 0,
    "start_time": "2022-09-03T03:23:54.716Z"
   },
   {
    "duration": 0,
    "start_time": "2022-09-03T03:23:54.717Z"
   },
   {
    "duration": 0,
    "start_time": "2022-09-03T03:23:54.718Z"
   },
   {
    "duration": 0,
    "start_time": "2022-09-03T03:23:54.720Z"
   },
   {
    "duration": 0,
    "start_time": "2022-09-03T03:23:54.721Z"
   },
   {
    "duration": 0,
    "start_time": "2022-09-03T03:23:54.722Z"
   },
   {
    "duration": 0,
    "start_time": "2022-09-03T03:23:54.723Z"
   },
   {
    "duration": 0,
    "start_time": "2022-09-03T03:23:54.723Z"
   },
   {
    "duration": 0,
    "start_time": "2022-09-03T03:23:54.724Z"
   },
   {
    "duration": 0,
    "start_time": "2022-09-03T03:23:54.726Z"
   },
   {
    "duration": 0,
    "start_time": "2022-09-03T03:23:54.727Z"
   },
   {
    "duration": 0,
    "start_time": "2022-09-03T03:23:54.728Z"
   },
   {
    "duration": 0,
    "start_time": "2022-09-03T03:23:54.729Z"
   },
   {
    "duration": 0,
    "start_time": "2022-09-03T03:23:54.730Z"
   },
   {
    "duration": 0,
    "start_time": "2022-09-03T03:23:54.732Z"
   },
   {
    "duration": 0,
    "start_time": "2022-09-03T03:23:54.733Z"
   },
   {
    "duration": 0,
    "start_time": "2022-09-03T03:23:54.734Z"
   },
   {
    "duration": 0,
    "start_time": "2022-09-03T03:23:54.735Z"
   },
   {
    "duration": 0,
    "start_time": "2022-09-03T03:23:54.736Z"
   },
   {
    "duration": 0,
    "start_time": "2022-09-03T03:23:54.737Z"
   },
   {
    "duration": 0,
    "start_time": "2022-09-03T03:23:54.738Z"
   },
   {
    "duration": 0,
    "start_time": "2022-09-03T03:23:54.739Z"
   },
   {
    "duration": 0,
    "start_time": "2022-09-03T03:23:54.740Z"
   },
   {
    "duration": 0,
    "start_time": "2022-09-03T03:23:54.741Z"
   },
   {
    "duration": 0,
    "start_time": "2022-09-03T03:23:54.742Z"
   },
   {
    "duration": 0,
    "start_time": "2022-09-03T03:23:54.743Z"
   },
   {
    "duration": 0,
    "start_time": "2022-09-03T03:23:54.744Z"
   },
   {
    "duration": 0,
    "start_time": "2022-09-03T03:23:54.745Z"
   },
   {
    "duration": 0,
    "start_time": "2022-09-03T03:23:54.792Z"
   },
   {
    "duration": 0,
    "start_time": "2022-09-03T03:23:54.793Z"
   },
   {
    "duration": 726,
    "start_time": "2022-09-03T03:24:50.288Z"
   },
   {
    "duration": 656,
    "start_time": "2022-09-03T03:25:17.435Z"
   },
   {
    "duration": 9,
    "start_time": "2022-09-03T03:28:10.981Z"
   },
   {
    "duration": 8,
    "start_time": "2022-09-03T03:28:29.375Z"
   },
   {
    "duration": 10,
    "start_time": "2022-09-03T03:29:11.825Z"
   },
   {
    "duration": 7,
    "start_time": "2022-09-03T03:29:16.554Z"
   },
   {
    "duration": 7,
    "start_time": "2022-09-03T03:29:40.614Z"
   },
   {
    "duration": 16,
    "start_time": "2022-09-03T03:29:47.856Z"
   },
   {
    "duration": 6,
    "start_time": "2022-09-03T03:30:10.745Z"
   },
   {
    "duration": 564,
    "start_time": "2022-09-03T03:30:56.244Z"
   },
   {
    "duration": 65,
    "start_time": "2022-09-03T03:42:42.324Z"
   },
   {
    "duration": 72,
    "start_time": "2022-09-03T03:43:05.764Z"
   },
   {
    "duration": 8,
    "start_time": "2022-09-03T03:43:36.844Z"
   },
   {
    "duration": 7,
    "start_time": "2022-09-03T03:43:48.717Z"
   },
   {
    "duration": 7,
    "start_time": "2022-09-03T03:43:52.719Z"
   },
   {
    "duration": 7,
    "start_time": "2022-09-03T03:43:56.285Z"
   },
   {
    "duration": 7,
    "start_time": "2022-09-03T03:43:58.956Z"
   },
   {
    "duration": 7,
    "start_time": "2022-09-03T03:44:44.079Z"
   },
   {
    "duration": 11,
    "start_time": "2022-09-03T03:46:38.066Z"
   },
   {
    "duration": 844,
    "start_time": "2022-09-03T03:46:52.001Z"
   },
   {
    "duration": 5,
    "start_time": "2022-09-03T03:46:52.847Z"
   },
   {
    "duration": 259,
    "start_time": "2022-09-03T03:46:52.853Z"
   },
   {
    "duration": 19,
    "start_time": "2022-09-03T03:46:53.114Z"
   },
   {
    "duration": 221,
    "start_time": "2022-09-03T03:46:53.136Z"
   },
   {
    "duration": 56,
    "start_time": "2022-09-03T03:46:53.359Z"
   },
   {
    "duration": 24,
    "start_time": "2022-09-03T03:46:53.416Z"
   },
   {
    "duration": 238,
    "start_time": "2022-09-03T03:46:53.442Z"
   },
   {
    "duration": 61,
    "start_time": "2022-09-03T03:46:53.682Z"
   },
   {
    "duration": 14,
    "start_time": "2022-09-03T03:46:53.746Z"
   },
   {
    "duration": 197,
    "start_time": "2022-09-03T03:46:53.762Z"
   },
   {
    "duration": 18,
    "start_time": "2022-09-03T03:46:53.961Z"
   },
   {
    "duration": 433,
    "start_time": "2022-09-03T03:46:53.981Z"
   },
   {
    "duration": 344,
    "start_time": "2022-09-03T03:46:54.415Z"
   },
   {
    "duration": 2,
    "start_time": "2022-09-03T03:46:54.762Z"
   },
   {
    "duration": 21,
    "start_time": "2022-09-03T03:46:54.766Z"
   },
   {
    "duration": 21,
    "start_time": "2022-09-03T03:46:54.792Z"
   },
   {
    "duration": 31,
    "start_time": "2022-09-03T03:46:54.814Z"
   },
   {
    "duration": 15,
    "start_time": "2022-09-03T03:46:54.847Z"
   },
   {
    "duration": 17,
    "start_time": "2022-09-03T03:46:54.892Z"
   },
   {
    "duration": 345,
    "start_time": "2022-09-03T03:46:54.911Z"
   },
   {
    "duration": 9,
    "start_time": "2022-09-03T03:46:55.258Z"
   },
   {
    "duration": 397,
    "start_time": "2022-09-03T03:46:55.269Z"
   },
   {
    "duration": 330,
    "start_time": "2022-09-03T03:46:55.668Z"
   },
   {
    "duration": 214,
    "start_time": "2022-09-03T03:46:55.999Z"
   },
   {
    "duration": 299,
    "start_time": "2022-09-03T03:46:56.215Z"
   },
   {
    "duration": 178,
    "start_time": "2022-09-03T03:46:56.515Z"
   },
   {
    "duration": 205,
    "start_time": "2022-09-03T03:46:56.697Z"
   },
   {
    "duration": 220,
    "start_time": "2022-09-03T03:46:56.904Z"
   },
   {
    "duration": 136,
    "start_time": "2022-09-03T03:46:57.126Z"
   },
   {
    "duration": 167,
    "start_time": "2022-09-03T03:46:57.264Z"
   },
   {
    "duration": 291,
    "start_time": "2022-09-03T03:46:57.433Z"
   },
   {
    "duration": 161,
    "start_time": "2022-09-03T03:46:57.726Z"
   },
   {
    "duration": 227,
    "start_time": "2022-09-03T03:46:57.891Z"
   },
   {
    "duration": 413,
    "start_time": "2022-09-03T03:46:58.119Z"
   },
   {
    "duration": 605,
    "start_time": "2022-09-03T03:46:58.534Z"
   },
   {
    "duration": 160,
    "start_time": "2022-09-03T03:46:59.140Z"
   },
   {
    "duration": 185,
    "start_time": "2022-09-03T03:46:59.302Z"
   },
   {
    "duration": 162,
    "start_time": "2022-09-03T03:46:59.492Z"
   },
   {
    "duration": 402,
    "start_time": "2022-09-03T03:46:59.655Z"
   },
   {
    "duration": 167,
    "start_time": "2022-09-03T03:47:00.058Z"
   },
   {
    "duration": 195,
    "start_time": "2022-09-03T03:47:00.227Z"
   },
   {
    "duration": 186,
    "start_time": "2022-09-03T03:47:00.423Z"
   },
   {
    "duration": 174,
    "start_time": "2022-09-03T03:47:00.610Z"
   },
   {
    "duration": 27,
    "start_time": "2022-09-03T03:47:00.786Z"
   },
   {
    "duration": 12,
    "start_time": "2022-09-03T03:47:00.815Z"
   },
   {
    "duration": 179,
    "start_time": "2022-09-03T03:47:00.829Z"
   },
   {
    "duration": 542,
    "start_time": "2022-09-03T03:47:01.010Z"
   },
   {
    "duration": 10099,
    "start_time": "2022-09-03T03:47:01.553Z"
   },
   {
    "duration": 473,
    "start_time": "2022-09-03T03:47:11.676Z"
   },
   {
    "duration": 1261,
    "start_time": "2022-09-03T03:47:45.608Z"
   },
   {
    "duration": 10,
    "start_time": "2022-09-03T03:49:33.908Z"
   },
   {
    "duration": 12,
    "start_time": "2022-09-03T03:49:43.522Z"
   },
   {
    "duration": 11,
    "start_time": "2022-09-03T03:50:04.977Z"
   },
   {
    "duration": 14,
    "start_time": "2022-09-03T03:50:11.849Z"
   },
   {
    "duration": 11,
    "start_time": "2022-09-03T03:50:16.228Z"
   },
   {
    "duration": 857,
    "start_time": "2022-09-03T03:50:23.275Z"
   },
   {
    "duration": 4,
    "start_time": "2022-09-03T03:50:24.134Z"
   },
   {
    "duration": 287,
    "start_time": "2022-09-03T03:50:24.140Z"
   },
   {
    "duration": 20,
    "start_time": "2022-09-03T03:50:24.429Z"
   },
   {
    "duration": 198,
    "start_time": "2022-09-03T03:50:24.450Z"
   },
   {
    "duration": 55,
    "start_time": "2022-09-03T03:50:24.650Z"
   },
   {
    "duration": 20,
    "start_time": "2022-09-03T03:50:24.707Z"
   },
   {
    "duration": 214,
    "start_time": "2022-09-03T03:50:24.729Z"
   },
   {
    "duration": 57,
    "start_time": "2022-09-03T03:50:24.944Z"
   },
   {
    "duration": 15,
    "start_time": "2022-09-03T03:50:25.004Z"
   },
   {
    "duration": 182,
    "start_time": "2022-09-03T03:50:25.020Z"
   },
   {
    "duration": 12,
    "start_time": "2022-09-03T03:50:25.204Z"
   },
   {
    "duration": 330,
    "start_time": "2022-09-03T03:50:25.218Z"
   },
   {
    "duration": 314,
    "start_time": "2022-09-03T03:50:25.550Z"
   },
   {
    "duration": 3,
    "start_time": "2022-09-03T03:50:25.865Z"
   },
   {
    "duration": 22,
    "start_time": "2022-09-03T03:50:25.870Z"
   },
   {
    "duration": 15,
    "start_time": "2022-09-03T03:50:25.894Z"
   },
   {
    "duration": 22,
    "start_time": "2022-09-03T03:50:25.910Z"
   },
   {
    "duration": 12,
    "start_time": "2022-09-03T03:50:25.933Z"
   },
   {
    "duration": 13,
    "start_time": "2022-09-03T03:50:25.946Z"
   },
   {
    "duration": 293,
    "start_time": "2022-09-03T03:50:25.992Z"
   },
   {
    "duration": 13,
    "start_time": "2022-09-03T03:50:26.286Z"
   },
   {
    "duration": 374,
    "start_time": "2022-09-03T03:50:26.301Z"
   },
   {
    "duration": 431,
    "start_time": "2022-09-03T03:50:26.677Z"
   },
   {
    "duration": 509,
    "start_time": "2022-09-03T03:50:27.109Z"
   },
   {
    "duration": 677,
    "start_time": "2022-09-03T03:50:27.620Z"
   },
   {
    "duration": 335,
    "start_time": "2022-09-03T03:50:28.299Z"
   },
   {
    "duration": 373,
    "start_time": "2022-09-03T03:50:28.638Z"
   },
   {
    "duration": 213,
    "start_time": "2022-09-03T03:50:29.013Z"
   },
   {
    "duration": 142,
    "start_time": "2022-09-03T03:50:29.228Z"
   },
   {
    "duration": 172,
    "start_time": "2022-09-03T03:50:29.372Z"
   },
   {
    "duration": 277,
    "start_time": "2022-09-03T03:50:29.546Z"
   },
   {
    "duration": 166,
    "start_time": "2022-09-03T03:50:29.825Z"
   },
   {
    "duration": 215,
    "start_time": "2022-09-03T03:50:29.993Z"
   },
   {
    "duration": 427,
    "start_time": "2022-09-03T03:50:30.210Z"
   },
   {
    "duration": 585,
    "start_time": "2022-09-03T03:50:30.639Z"
   },
   {
    "duration": 188,
    "start_time": "2022-09-03T03:50:31.225Z"
   },
   {
    "duration": 217,
    "start_time": "2022-09-03T03:50:31.415Z"
   },
   {
    "duration": 168,
    "start_time": "2022-09-03T03:50:31.634Z"
   },
   {
    "duration": 493,
    "start_time": "2022-09-03T03:50:31.804Z"
   },
   {
    "duration": 193,
    "start_time": "2022-09-03T03:50:32.299Z"
   },
   {
    "duration": 197,
    "start_time": "2022-09-03T03:50:32.493Z"
   },
   {
    "duration": 195,
    "start_time": "2022-09-03T03:50:32.691Z"
   },
   {
    "duration": 181,
    "start_time": "2022-09-03T03:50:32.887Z"
   },
   {
    "duration": 36,
    "start_time": "2022-09-03T03:50:33.070Z"
   },
   {
    "duration": 14,
    "start_time": "2022-09-03T03:50:33.107Z"
   },
   {
    "duration": 184,
    "start_time": "2022-09-03T03:50:33.122Z"
   },
   {
    "duration": 564,
    "start_time": "2022-09-03T03:50:33.308Z"
   },
   {
    "duration": 10001,
    "start_time": "2022-09-03T03:50:33.874Z"
   },
   {
    "duration": 395,
    "start_time": "2022-09-03T03:50:43.892Z"
   },
   {
    "duration": 10,
    "start_time": "2022-09-03T03:50:44.341Z"
   },
   {
    "duration": 10,
    "start_time": "2022-09-03T03:50:52.907Z"
   },
   {
    "duration": 8,
    "start_time": "2022-09-03T03:51:12.854Z"
   },
   {
    "duration": 14,
    "start_time": "2022-09-03T03:52:58.515Z"
   },
   {
    "duration": 8,
    "start_time": "2022-09-03T03:54:23.490Z"
   },
   {
    "duration": 9,
    "start_time": "2022-09-03T03:54:26.851Z"
   },
   {
    "duration": 850,
    "start_time": "2022-09-03T03:54:48.497Z"
   },
   {
    "duration": 4,
    "start_time": "2022-09-03T03:54:49.350Z"
   },
   {
    "duration": 258,
    "start_time": "2022-09-03T03:54:49.356Z"
   },
   {
    "duration": 19,
    "start_time": "2022-09-03T03:54:49.616Z"
   },
   {
    "duration": 212,
    "start_time": "2022-09-03T03:54:49.636Z"
   },
   {
    "duration": 54,
    "start_time": "2022-09-03T03:54:49.850Z"
   },
   {
    "duration": 23,
    "start_time": "2022-09-03T03:54:49.906Z"
   },
   {
    "duration": 231,
    "start_time": "2022-09-03T03:54:49.931Z"
   },
   {
    "duration": 63,
    "start_time": "2022-09-03T03:54:50.165Z"
   },
   {
    "duration": 13,
    "start_time": "2022-09-03T03:54:50.230Z"
   },
   {
    "duration": 179,
    "start_time": "2022-09-03T03:54:50.245Z"
   },
   {
    "duration": 13,
    "start_time": "2022-09-03T03:54:50.426Z"
   },
   {
    "duration": 313,
    "start_time": "2022-09-03T03:54:50.440Z"
   },
   {
    "duration": 310,
    "start_time": "2022-09-03T03:54:50.755Z"
   },
   {
    "duration": 2,
    "start_time": "2022-09-03T03:54:51.067Z"
   },
   {
    "duration": 22,
    "start_time": "2022-09-03T03:54:51.071Z"
   },
   {
    "duration": 23,
    "start_time": "2022-09-03T03:54:51.095Z"
   },
   {
    "duration": 21,
    "start_time": "2022-09-03T03:54:51.120Z"
   },
   {
    "duration": 10,
    "start_time": "2022-09-03T03:54:51.143Z"
   },
   {
    "duration": 12,
    "start_time": "2022-09-03T03:54:51.155Z"
   },
   {
    "duration": 311,
    "start_time": "2022-09-03T03:54:51.169Z"
   },
   {
    "duration": 13,
    "start_time": "2022-09-03T03:54:51.482Z"
   },
   {
    "duration": 417,
    "start_time": "2022-09-03T03:54:51.497Z"
   },
   {
    "duration": 348,
    "start_time": "2022-09-03T03:54:51.917Z"
   },
   {
    "duration": 210,
    "start_time": "2022-09-03T03:54:52.267Z"
   },
   {
    "duration": 295,
    "start_time": "2022-09-03T03:54:52.479Z"
   },
   {
    "duration": 171,
    "start_time": "2022-09-03T03:54:52.776Z"
   },
   {
    "duration": 191,
    "start_time": "2022-09-03T03:54:52.951Z"
   },
   {
    "duration": 197,
    "start_time": "2022-09-03T03:54:53.144Z"
   },
   {
    "duration": 250,
    "start_time": "2022-09-03T03:54:53.343Z"
   },
   {
    "duration": 304,
    "start_time": "2022-09-03T03:54:53.595Z"
   },
   {
    "duration": 533,
    "start_time": "2022-09-03T03:54:53.901Z"
   },
   {
    "duration": 361,
    "start_time": "2022-09-03T03:54:54.435Z"
   },
   {
    "duration": 403,
    "start_time": "2022-09-03T03:54:54.798Z"
   },
   {
    "duration": 435,
    "start_time": "2022-09-03T03:54:55.203Z"
   },
   {
    "duration": 607,
    "start_time": "2022-09-03T03:54:55.640Z"
   },
   {
    "duration": 161,
    "start_time": "2022-09-03T03:54:56.248Z"
   },
   {
    "duration": 183,
    "start_time": "2022-09-03T03:54:56.411Z"
   },
   {
    "duration": 153,
    "start_time": "2022-09-03T03:54:56.596Z"
   },
   {
    "duration": 434,
    "start_time": "2022-09-03T03:54:56.751Z"
   },
   {
    "duration": 165,
    "start_time": "2022-09-03T03:54:57.192Z"
   },
   {
    "duration": 186,
    "start_time": "2022-09-03T03:54:57.359Z"
   },
   {
    "duration": 189,
    "start_time": "2022-09-03T03:54:57.547Z"
   },
   {
    "duration": 179,
    "start_time": "2022-09-03T03:54:57.738Z"
   },
   {
    "duration": 26,
    "start_time": "2022-09-03T03:54:57.919Z"
   },
   {
    "duration": 14,
    "start_time": "2022-09-03T03:54:57.947Z"
   },
   {
    "duration": 206,
    "start_time": "2022-09-03T03:54:57.963Z"
   },
   {
    "duration": 572,
    "start_time": "2022-09-03T03:54:58.171Z"
   },
   {
    "duration": 9055,
    "start_time": "2022-09-03T03:54:58.744Z"
   },
   {
    "duration": 395,
    "start_time": "2022-09-03T03:55:07.801Z"
   },
   {
    "duration": 11,
    "start_time": "2022-09-03T03:55:08.494Z"
   },
   {
    "duration": 809,
    "start_time": "2022-09-03T04:12:29.912Z"
   },
   {
    "duration": 16,
    "start_time": "2022-09-03T04:43:38.311Z"
   },
   {
    "duration": 123,
    "start_time": "2022-09-03T04:43:49.290Z"
   },
   {
    "duration": 510,
    "start_time": "2022-09-03T04:46:43.412Z"
   },
   {
    "duration": 9,
    "start_time": "2022-09-03T04:47:11.647Z"
   },
   {
    "duration": 597,
    "start_time": "2022-09-03T04:47:41.499Z"
   },
   {
    "duration": 107,
    "start_time": "2022-09-03T04:48:09.539Z"
   },
   {
    "duration": 103,
    "start_time": "2022-09-03T04:48:20.278Z"
   },
   {
    "duration": 17,
    "start_time": "2022-09-03T04:48:26.757Z"
   },
   {
    "duration": 111,
    "start_time": "2022-09-03T04:48:40.153Z"
   },
   {
    "duration": 190,
    "start_time": "2022-09-03T04:48:45.801Z"
   },
   {
    "duration": 20,
    "start_time": "2022-09-03T04:48:52.569Z"
   },
   {
    "duration": 99,
    "start_time": "2022-09-03T04:49:33.315Z"
   },
   {
    "duration": 778,
    "start_time": "2022-09-03T04:49:56.941Z"
   },
   {
    "duration": 5,
    "start_time": "2022-09-03T04:49:57.721Z"
   },
   {
    "duration": 268,
    "start_time": "2022-09-03T04:49:57.727Z"
   },
   {
    "duration": 25,
    "start_time": "2022-09-03T04:49:57.997Z"
   },
   {
    "duration": 225,
    "start_time": "2022-09-03T04:49:58.024Z"
   },
   {
    "duration": 58,
    "start_time": "2022-09-03T04:49:58.251Z"
   },
   {
    "duration": 22,
    "start_time": "2022-09-03T04:49:58.310Z"
   },
   {
    "duration": 224,
    "start_time": "2022-09-03T04:49:58.333Z"
   },
   {
    "duration": 60,
    "start_time": "2022-09-03T04:49:58.559Z"
   },
   {
    "duration": 14,
    "start_time": "2022-09-03T04:49:58.622Z"
   },
   {
    "duration": 178,
    "start_time": "2022-09-03T04:49:58.638Z"
   },
   {
    "duration": 12,
    "start_time": "2022-09-03T04:49:58.819Z"
   },
   {
    "duration": 329,
    "start_time": "2022-09-03T04:49:58.834Z"
   },
   {
    "duration": 346,
    "start_time": "2022-09-03T04:49:59.166Z"
   },
   {
    "duration": 479,
    "start_time": "2022-09-03T04:49:59.513Z"
   },
   {
    "duration": 0,
    "start_time": "2022-09-03T04:49:59.994Z"
   },
   {
    "duration": 0,
    "start_time": "2022-09-03T04:49:59.995Z"
   },
   {
    "duration": 0,
    "start_time": "2022-09-03T04:49:59.996Z"
   },
   {
    "duration": 0,
    "start_time": "2022-09-03T04:49:59.998Z"
   },
   {
    "duration": 0,
    "start_time": "2022-09-03T04:49:59.999Z"
   },
   {
    "duration": 0,
    "start_time": "2022-09-03T04:50:00.000Z"
   },
   {
    "duration": 0,
    "start_time": "2022-09-03T04:50:00.000Z"
   },
   {
    "duration": 1,
    "start_time": "2022-09-03T04:50:00.001Z"
   },
   {
    "duration": 0,
    "start_time": "2022-09-03T04:50:00.002Z"
   },
   {
    "duration": 0,
    "start_time": "2022-09-03T04:50:00.004Z"
   },
   {
    "duration": 0,
    "start_time": "2022-09-03T04:50:00.005Z"
   },
   {
    "duration": 0,
    "start_time": "2022-09-03T04:50:00.006Z"
   },
   {
    "duration": 0,
    "start_time": "2022-09-03T04:50:00.008Z"
   },
   {
    "duration": 0,
    "start_time": "2022-09-03T04:50:00.009Z"
   },
   {
    "duration": 0,
    "start_time": "2022-09-03T04:50:00.010Z"
   },
   {
    "duration": 0,
    "start_time": "2022-09-03T04:50:00.012Z"
   },
   {
    "duration": 0,
    "start_time": "2022-09-03T04:50:00.013Z"
   },
   {
    "duration": 0,
    "start_time": "2022-09-03T04:50:00.014Z"
   },
   {
    "duration": 0,
    "start_time": "2022-09-03T04:50:00.015Z"
   },
   {
    "duration": 0,
    "start_time": "2022-09-03T04:50:00.017Z"
   },
   {
    "duration": 0,
    "start_time": "2022-09-03T04:50:00.018Z"
   },
   {
    "duration": 0,
    "start_time": "2022-09-03T04:50:00.019Z"
   },
   {
    "duration": 0,
    "start_time": "2022-09-03T04:50:00.020Z"
   },
   {
    "duration": 0,
    "start_time": "2022-09-03T04:50:00.021Z"
   },
   {
    "duration": 0,
    "start_time": "2022-09-03T04:50:00.023Z"
   },
   {
    "duration": 0,
    "start_time": "2022-09-03T04:50:00.024Z"
   },
   {
    "duration": 0,
    "start_time": "2022-09-03T04:50:00.026Z"
   },
   {
    "duration": 0,
    "start_time": "2022-09-03T04:50:00.027Z"
   },
   {
    "duration": 0,
    "start_time": "2022-09-03T04:50:00.029Z"
   },
   {
    "duration": 0,
    "start_time": "2022-09-03T04:50:00.030Z"
   },
   {
    "duration": 0,
    "start_time": "2022-09-03T04:50:00.092Z"
   },
   {
    "duration": 0,
    "start_time": "2022-09-03T04:50:00.094Z"
   },
   {
    "duration": 0,
    "start_time": "2022-09-03T04:50:00.097Z"
   },
   {
    "duration": 0,
    "start_time": "2022-09-03T04:50:00.098Z"
   },
   {
    "duration": 0,
    "start_time": "2022-09-03T04:50:00.100Z"
   },
   {
    "duration": 17,
    "start_time": "2022-09-03T04:54:23.707Z"
   },
   {
    "duration": 12,
    "start_time": "2022-09-03T04:55:04.478Z"
   },
   {
    "duration": 947,
    "start_time": "2022-09-03T04:55:21.156Z"
   },
   {
    "duration": 7,
    "start_time": "2022-09-03T04:55:22.106Z"
   },
   {
    "duration": 361,
    "start_time": "2022-09-03T04:55:22.115Z"
   },
   {
    "duration": 28,
    "start_time": "2022-09-03T04:55:22.478Z"
   },
   {
    "duration": 298,
    "start_time": "2022-09-03T04:55:22.508Z"
   },
   {
    "duration": 115,
    "start_time": "2022-09-03T04:55:22.808Z"
   },
   {
    "duration": 23,
    "start_time": "2022-09-03T04:55:22.925Z"
   },
   {
    "duration": 238,
    "start_time": "2022-09-03T04:55:22.951Z"
   },
   {
    "duration": 53,
    "start_time": "2022-09-03T04:55:23.191Z"
   },
   {
    "duration": 14,
    "start_time": "2022-09-03T04:55:23.247Z"
   },
   {
    "duration": 33,
    "start_time": "2022-09-03T04:55:23.263Z"
   },
   {
    "duration": 9,
    "start_time": "2022-09-03T04:55:23.298Z"
   },
   {
    "duration": 392,
    "start_time": "2022-09-03T04:55:23.309Z"
   },
   {
    "duration": 362,
    "start_time": "2022-09-03T04:55:23.702Z"
   },
   {
    "duration": 15,
    "start_time": "2022-09-03T04:55:24.066Z"
   },
   {
    "duration": 14,
    "start_time": "2022-09-03T04:55:24.099Z"
   },
   {
    "duration": 20,
    "start_time": "2022-09-03T04:55:24.115Z"
   },
   {
    "duration": 16,
    "start_time": "2022-09-03T04:55:24.137Z"
   },
   {
    "duration": 125,
    "start_time": "2022-09-03T04:55:24.155Z"
   },
   {
    "duration": 0,
    "start_time": "2022-09-03T04:55:24.292Z"
   },
   {
    "duration": 0,
    "start_time": "2022-09-03T04:55:24.293Z"
   },
   {
    "duration": 0,
    "start_time": "2022-09-03T04:55:24.294Z"
   },
   {
    "duration": 0,
    "start_time": "2022-09-03T04:55:24.295Z"
   },
   {
    "duration": 0,
    "start_time": "2022-09-03T04:55:24.296Z"
   },
   {
    "duration": 0,
    "start_time": "2022-09-03T04:55:24.298Z"
   },
   {
    "duration": 0,
    "start_time": "2022-09-03T04:55:24.298Z"
   },
   {
    "duration": 0,
    "start_time": "2022-09-03T04:55:24.300Z"
   },
   {
    "duration": 0,
    "start_time": "2022-09-03T04:55:24.301Z"
   },
   {
    "duration": 0,
    "start_time": "2022-09-03T04:55:24.302Z"
   },
   {
    "duration": 0,
    "start_time": "2022-09-03T04:55:24.304Z"
   },
   {
    "duration": 0,
    "start_time": "2022-09-03T04:55:24.305Z"
   },
   {
    "duration": 0,
    "start_time": "2022-09-03T04:55:24.306Z"
   },
   {
    "duration": 0,
    "start_time": "2022-09-03T04:55:24.307Z"
   },
   {
    "duration": 0,
    "start_time": "2022-09-03T04:55:24.308Z"
   },
   {
    "duration": 0,
    "start_time": "2022-09-03T04:55:24.309Z"
   },
   {
    "duration": 0,
    "start_time": "2022-09-03T04:55:24.311Z"
   },
   {
    "duration": 1,
    "start_time": "2022-09-03T04:55:24.312Z"
   },
   {
    "duration": 0,
    "start_time": "2022-09-03T04:55:24.314Z"
   },
   {
    "duration": 0,
    "start_time": "2022-09-03T04:55:24.315Z"
   },
   {
    "duration": 0,
    "start_time": "2022-09-03T04:55:24.317Z"
   },
   {
    "duration": 0,
    "start_time": "2022-09-03T04:55:24.318Z"
   },
   {
    "duration": 0,
    "start_time": "2022-09-03T04:55:24.320Z"
   },
   {
    "duration": 0,
    "start_time": "2022-09-03T04:55:24.321Z"
   },
   {
    "duration": 0,
    "start_time": "2022-09-03T04:55:24.323Z"
   },
   {
    "duration": 0,
    "start_time": "2022-09-03T04:55:24.325Z"
   },
   {
    "duration": 0,
    "start_time": "2022-09-03T04:55:24.326Z"
   },
   {
    "duration": 0,
    "start_time": "2022-09-03T04:55:24.328Z"
   },
   {
    "duration": 0,
    "start_time": "2022-09-03T04:55:24.329Z"
   },
   {
    "duration": 0,
    "start_time": "2022-09-03T04:55:24.330Z"
   },
   {
    "duration": 0,
    "start_time": "2022-09-03T04:55:24.332Z"
   },
   {
    "duration": 20,
    "start_time": "2022-09-03T04:56:03.620Z"
   },
   {
    "duration": 26,
    "start_time": "2022-09-03T04:56:45.235Z"
   },
   {
    "duration": 14,
    "start_time": "2022-09-03T04:57:39.950Z"
   },
   {
    "duration": 13,
    "start_time": "2022-09-03T04:57:57.747Z"
   },
   {
    "duration": 22,
    "start_time": "2022-09-03T04:58:09.908Z"
   },
   {
    "duration": 13,
    "start_time": "2022-09-03T04:58:16.290Z"
   },
   {
    "duration": 12,
    "start_time": "2022-09-03T04:58:24.995Z"
   },
   {
    "duration": 839,
    "start_time": "2022-09-03T04:58:31.959Z"
   },
   {
    "duration": 5,
    "start_time": "2022-09-03T04:58:32.800Z"
   },
   {
    "duration": 255,
    "start_time": "2022-09-03T04:58:32.806Z"
   },
   {
    "duration": 29,
    "start_time": "2022-09-03T04:58:33.063Z"
   },
   {
    "duration": 201,
    "start_time": "2022-09-03T04:58:33.094Z"
   },
   {
    "duration": 41,
    "start_time": "2022-09-03T04:58:33.297Z"
   },
   {
    "duration": 21,
    "start_time": "2022-09-03T04:58:33.339Z"
   },
   {
    "duration": 219,
    "start_time": "2022-09-03T04:58:33.362Z"
   },
   {
    "duration": 68,
    "start_time": "2022-09-03T04:58:33.583Z"
   },
   {
    "duration": 13,
    "start_time": "2022-09-03T04:58:33.654Z"
   },
   {
    "duration": 25,
    "start_time": "2022-09-03T04:58:33.669Z"
   },
   {
    "duration": 8,
    "start_time": "2022-09-03T04:58:33.696Z"
   },
   {
    "duration": 369,
    "start_time": "2022-09-03T04:58:33.706Z"
   },
   {
    "duration": 316,
    "start_time": "2022-09-03T04:58:34.077Z"
   },
   {
    "duration": 17,
    "start_time": "2022-09-03T04:58:34.395Z"
   },
   {
    "duration": 10,
    "start_time": "2022-09-03T04:58:34.414Z"
   },
   {
    "duration": 16,
    "start_time": "2022-09-03T04:58:34.426Z"
   },
   {
    "duration": 17,
    "start_time": "2022-09-03T04:58:34.443Z"
   },
   {
    "duration": 112,
    "start_time": "2022-09-03T04:58:34.462Z"
   },
   {
    "duration": 0,
    "start_time": "2022-09-03T04:58:34.577Z"
   },
   {
    "duration": 0,
    "start_time": "2022-09-03T04:58:34.578Z"
   },
   {
    "duration": 0,
    "start_time": "2022-09-03T04:58:34.592Z"
   },
   {
    "duration": 0,
    "start_time": "2022-09-03T04:58:34.593Z"
   },
   {
    "duration": 0,
    "start_time": "2022-09-03T04:58:34.594Z"
   },
   {
    "duration": 0,
    "start_time": "2022-09-03T04:58:34.595Z"
   },
   {
    "duration": 0,
    "start_time": "2022-09-03T04:58:34.596Z"
   },
   {
    "duration": 0,
    "start_time": "2022-09-03T04:58:34.598Z"
   },
   {
    "duration": 0,
    "start_time": "2022-09-03T04:58:34.598Z"
   },
   {
    "duration": 0,
    "start_time": "2022-09-03T04:58:34.599Z"
   },
   {
    "duration": 0,
    "start_time": "2022-09-03T04:58:34.600Z"
   },
   {
    "duration": 0,
    "start_time": "2022-09-03T04:58:34.601Z"
   },
   {
    "duration": 0,
    "start_time": "2022-09-03T04:58:34.603Z"
   },
   {
    "duration": 0,
    "start_time": "2022-09-03T04:58:34.604Z"
   },
   {
    "duration": 0,
    "start_time": "2022-09-03T04:58:34.605Z"
   },
   {
    "duration": 0,
    "start_time": "2022-09-03T04:58:34.606Z"
   },
   {
    "duration": 0,
    "start_time": "2022-09-03T04:58:34.607Z"
   },
   {
    "duration": 0,
    "start_time": "2022-09-03T04:58:34.608Z"
   },
   {
    "duration": 0,
    "start_time": "2022-09-03T04:58:34.609Z"
   },
   {
    "duration": 0,
    "start_time": "2022-09-03T04:58:34.610Z"
   },
   {
    "duration": 0,
    "start_time": "2022-09-03T04:58:34.612Z"
   },
   {
    "duration": 0,
    "start_time": "2022-09-03T04:58:34.613Z"
   },
   {
    "duration": 0,
    "start_time": "2022-09-03T04:58:34.614Z"
   },
   {
    "duration": 0,
    "start_time": "2022-09-03T04:58:34.615Z"
   },
   {
    "duration": 0,
    "start_time": "2022-09-03T04:58:34.616Z"
   },
   {
    "duration": 0,
    "start_time": "2022-09-03T04:58:34.617Z"
   },
   {
    "duration": 0,
    "start_time": "2022-09-03T04:58:34.618Z"
   },
   {
    "duration": 0,
    "start_time": "2022-09-03T04:58:34.619Z"
   },
   {
    "duration": 0,
    "start_time": "2022-09-03T04:58:34.620Z"
   },
   {
    "duration": 0,
    "start_time": "2022-09-03T04:58:34.621Z"
   },
   {
    "duration": 0,
    "start_time": "2022-09-03T04:58:34.621Z"
   },
   {
    "duration": 4,
    "start_time": "2022-09-03T04:59:05.649Z"
   },
   {
    "duration": 4,
    "start_time": "2022-09-03T04:59:07.447Z"
   },
   {
    "duration": 7,
    "start_time": "2022-09-03T04:59:20.684Z"
   },
   {
    "duration": 862,
    "start_time": "2022-09-03T04:59:37.791Z"
   },
   {
    "duration": 4,
    "start_time": "2022-09-03T04:59:38.656Z"
   },
   {
    "duration": 271,
    "start_time": "2022-09-03T04:59:38.662Z"
   },
   {
    "duration": 25,
    "start_time": "2022-09-03T04:59:38.936Z"
   },
   {
    "duration": 215,
    "start_time": "2022-09-03T04:59:38.965Z"
   },
   {
    "duration": 47,
    "start_time": "2022-09-03T04:59:39.182Z"
   },
   {
    "duration": 22,
    "start_time": "2022-09-03T04:59:39.230Z"
   },
   {
    "duration": 242,
    "start_time": "2022-09-03T04:59:39.254Z"
   },
   {
    "duration": 53,
    "start_time": "2022-09-03T04:59:39.497Z"
   },
   {
    "duration": 14,
    "start_time": "2022-09-03T04:59:39.553Z"
   },
   {
    "duration": 41,
    "start_time": "2022-09-03T04:59:39.569Z"
   },
   {
    "duration": 10,
    "start_time": "2022-09-03T04:59:39.612Z"
   },
   {
    "duration": 411,
    "start_time": "2022-09-03T04:59:39.623Z"
   },
   {
    "duration": 346,
    "start_time": "2022-09-03T04:59:40.036Z"
   },
   {
    "duration": 25,
    "start_time": "2022-09-03T04:59:40.384Z"
   },
   {
    "duration": 17,
    "start_time": "2022-09-03T04:59:40.411Z"
   },
   {
    "duration": 24,
    "start_time": "2022-09-03T04:59:40.430Z"
   },
   {
    "duration": 41,
    "start_time": "2022-09-03T04:59:40.456Z"
   },
   {
    "duration": 16,
    "start_time": "2022-09-03T04:59:40.500Z"
   },
   {
    "duration": 15,
    "start_time": "2022-09-03T04:59:40.518Z"
   },
   {
    "duration": 315,
    "start_time": "2022-09-03T04:59:40.535Z"
   },
   {
    "duration": 9,
    "start_time": "2022-09-03T04:59:40.852Z"
   },
   {
    "duration": 347,
    "start_time": "2022-09-03T04:59:40.864Z"
   },
   {
    "duration": 327,
    "start_time": "2022-09-03T04:59:41.213Z"
   },
   {
    "duration": 658,
    "start_time": "2022-09-03T04:59:41.541Z"
   },
   {
    "duration": 719,
    "start_time": "2022-09-03T04:59:42.201Z"
   },
   {
    "duration": 375,
    "start_time": "2022-09-03T04:59:42.922Z"
   },
   {
    "duration": 307,
    "start_time": "2022-09-03T04:59:43.301Z"
   },
   {
    "duration": 200,
    "start_time": "2022-09-03T04:59:43.610Z"
   },
   {
    "duration": 125,
    "start_time": "2022-09-03T04:59:43.812Z"
   },
   {
    "duration": 168,
    "start_time": "2022-09-03T04:59:43.938Z"
   },
   {
    "duration": 193,
    "start_time": "2022-09-03T04:59:44.107Z"
   },
   {
    "duration": 156,
    "start_time": "2022-09-03T04:59:44.301Z"
   },
   {
    "duration": 203,
    "start_time": "2022-09-03T04:59:44.459Z"
   },
   {
    "duration": 519,
    "start_time": "2022-09-03T04:59:44.663Z"
   },
   {
    "duration": 611,
    "start_time": "2022-09-03T04:59:45.185Z"
   },
   {
    "duration": 166,
    "start_time": "2022-09-03T04:59:45.798Z"
   },
   {
    "duration": 187,
    "start_time": "2022-09-03T04:59:45.966Z"
   },
   {
    "duration": 157,
    "start_time": "2022-09-03T04:59:46.154Z"
   },
   {
    "duration": 300,
    "start_time": "2022-09-03T04:59:46.312Z"
   },
   {
    "duration": 161,
    "start_time": "2022-09-03T04:59:46.614Z"
   },
   {
    "duration": 197,
    "start_time": "2022-09-03T04:59:46.777Z"
   },
   {
    "duration": 256,
    "start_time": "2022-09-03T04:59:46.977Z"
   },
   {
    "duration": 177,
    "start_time": "2022-09-03T04:59:47.235Z"
   },
   {
    "duration": 26,
    "start_time": "2022-09-03T04:59:47.414Z"
   },
   {
    "duration": 12,
    "start_time": "2022-09-03T04:59:47.441Z"
   },
   {
    "duration": 196,
    "start_time": "2022-09-03T04:59:47.455Z"
   },
   {
    "duration": 507,
    "start_time": "2022-09-03T04:59:47.652Z"
   },
   {
    "duration": 9283,
    "start_time": "2022-09-03T04:59:48.160Z"
   },
   {
    "duration": 437,
    "start_time": "2022-09-03T04:59:57.445Z"
   },
   {
    "duration": 123,
    "start_time": "2022-09-03T05:01:12.990Z"
   },
   {
    "duration": 11,
    "start_time": "2022-09-03T05:01:38.609Z"
   },
   {
    "duration": 24,
    "start_time": "2022-09-03T05:04:02.724Z"
   },
   {
    "duration": 19,
    "start_time": "2022-09-03T05:04:18.666Z"
   },
   {
    "duration": 870,
    "start_time": "2022-09-03T05:06:02.967Z"
   },
   {
    "duration": 6,
    "start_time": "2022-09-03T05:06:03.839Z"
   },
   {
    "duration": 289,
    "start_time": "2022-09-03T05:06:03.847Z"
   },
   {
    "duration": 26,
    "start_time": "2022-09-03T05:06:04.139Z"
   },
   {
    "duration": 226,
    "start_time": "2022-09-03T05:06:04.167Z"
   },
   {
    "duration": 43,
    "start_time": "2022-09-03T05:06:04.395Z"
   },
   {
    "duration": 21,
    "start_time": "2022-09-03T05:06:04.440Z"
   },
   {
    "duration": 221,
    "start_time": "2022-09-03T05:06:04.462Z"
   },
   {
    "duration": 79,
    "start_time": "2022-09-03T05:06:04.684Z"
   },
   {
    "duration": 16,
    "start_time": "2022-09-03T05:06:04.766Z"
   },
   {
    "duration": 18,
    "start_time": "2022-09-03T05:06:04.784Z"
   },
   {
    "duration": 14,
    "start_time": "2022-09-03T05:06:04.805Z"
   },
   {
    "duration": 433,
    "start_time": "2022-09-03T05:06:04.820Z"
   },
   {
    "duration": 340,
    "start_time": "2022-09-03T05:06:05.255Z"
   },
   {
    "duration": 20,
    "start_time": "2022-09-03T05:06:05.597Z"
   },
   {
    "duration": 25,
    "start_time": "2022-09-03T05:06:05.620Z"
   },
   {
    "duration": 45,
    "start_time": "2022-09-03T05:06:05.647Z"
   },
   {
    "duration": 21,
    "start_time": "2022-09-03T05:06:05.694Z"
   },
   {
    "duration": 12,
    "start_time": "2022-09-03T05:06:05.718Z"
   },
   {
    "duration": 12,
    "start_time": "2022-09-03T05:06:05.732Z"
   },
   {
    "duration": 348,
    "start_time": "2022-09-03T05:06:05.746Z"
   },
   {
    "duration": 9,
    "start_time": "2022-09-03T05:06:06.096Z"
   },
   {
    "duration": 354,
    "start_time": "2022-09-03T05:06:06.107Z"
   },
   {
    "duration": 342,
    "start_time": "2022-09-03T05:06:06.463Z"
   },
   {
    "duration": 316,
    "start_time": "2022-09-03T05:06:06.807Z"
   },
   {
    "duration": 323,
    "start_time": "2022-09-03T05:06:07.125Z"
   },
   {
    "duration": 181,
    "start_time": "2022-09-03T05:06:07.450Z"
   },
   {
    "duration": 209,
    "start_time": "2022-09-03T05:06:07.636Z"
   },
   {
    "duration": 219,
    "start_time": "2022-09-03T05:06:07.847Z"
   },
   {
    "duration": 132,
    "start_time": "2022-09-03T05:06:08.069Z"
   },
   {
    "duration": 163,
    "start_time": "2022-09-03T05:06:08.203Z"
   },
   {
    "duration": 199,
    "start_time": "2022-09-03T05:06:08.368Z"
   },
   {
    "duration": 184,
    "start_time": "2022-09-03T05:06:08.569Z"
   },
   {
    "duration": 217,
    "start_time": "2022-09-03T05:06:08.755Z"
   },
   {
    "duration": 627,
    "start_time": "2022-09-03T05:06:08.974Z"
   },
   {
    "duration": 764,
    "start_time": "2022-09-03T05:06:09.604Z"
   },
   {
    "duration": 222,
    "start_time": "2022-09-03T05:06:10.371Z"
   },
   {
    "duration": 176,
    "start_time": "2022-09-03T05:06:10.595Z"
   },
   {
    "duration": 159,
    "start_time": "2022-09-03T05:06:10.773Z"
   },
   {
    "duration": 314,
    "start_time": "2022-09-03T05:06:10.936Z"
   },
   {
    "duration": 164,
    "start_time": "2022-09-03T05:06:11.252Z"
   },
   {
    "duration": 187,
    "start_time": "2022-09-03T05:06:11.418Z"
   },
   {
    "duration": 295,
    "start_time": "2022-09-03T05:06:11.607Z"
   },
   {
    "duration": 265,
    "start_time": "2022-09-03T05:06:11.905Z"
   },
   {
    "duration": 46,
    "start_time": "2022-09-03T05:06:12.172Z"
   },
   {
    "duration": 20,
    "start_time": "2022-09-03T05:06:12.220Z"
   },
   {
    "duration": 185,
    "start_time": "2022-09-03T05:06:12.242Z"
   },
   {
    "duration": 485,
    "start_time": "2022-09-03T05:06:12.429Z"
   },
   {
    "duration": 9516,
    "start_time": "2022-09-03T05:06:12.915Z"
   },
   {
    "duration": 894,
    "start_time": "2022-09-03T05:06:22.434Z"
   },
   {
    "duration": 110,
    "start_time": "2022-09-03T05:08:36.072Z"
   },
   {
    "duration": 6,
    "start_time": "2022-09-03T05:09:36.678Z"
   },
   {
    "duration": 7,
    "start_time": "2022-09-03T05:09:44.998Z"
   },
   {
    "duration": 27,
    "start_time": "2022-09-03T05:12:24.136Z"
   },
   {
    "duration": 25,
    "start_time": "2022-09-03T05:12:40.143Z"
   },
   {
    "duration": 17,
    "start_time": "2022-09-03T05:13:12.760Z"
   },
   {
    "duration": 14,
    "start_time": "2022-09-03T05:13:34.297Z"
   },
   {
    "duration": 11,
    "start_time": "2022-09-03T05:14:05.512Z"
   },
   {
    "duration": 843,
    "start_time": "2022-09-03T05:14:11.148Z"
   },
   {
    "duration": 6,
    "start_time": "2022-09-03T05:14:11.994Z"
   },
   {
    "duration": 318,
    "start_time": "2022-09-03T05:14:12.002Z"
   },
   {
    "duration": 19,
    "start_time": "2022-09-03T05:14:12.322Z"
   },
   {
    "duration": 226,
    "start_time": "2022-09-03T05:14:12.343Z"
   },
   {
    "duration": 53,
    "start_time": "2022-09-03T05:14:12.570Z"
   },
   {
    "duration": 22,
    "start_time": "2022-09-03T05:14:12.625Z"
   },
   {
    "duration": 235,
    "start_time": "2022-09-03T05:14:12.649Z"
   },
   {
    "duration": 52,
    "start_time": "2022-09-03T05:14:12.887Z"
   },
   {
    "duration": 19,
    "start_time": "2022-09-03T05:14:12.943Z"
   },
   {
    "duration": 35,
    "start_time": "2022-09-03T05:14:12.964Z"
   },
   {
    "duration": 10,
    "start_time": "2022-09-03T05:14:13.001Z"
   },
   {
    "duration": 376,
    "start_time": "2022-09-03T05:14:13.012Z"
   },
   {
    "duration": 316,
    "start_time": "2022-09-03T05:14:13.392Z"
   },
   {
    "duration": 13,
    "start_time": "2022-09-03T05:14:13.709Z"
   },
   {
    "duration": 23,
    "start_time": "2022-09-03T05:14:13.724Z"
   },
   {
    "duration": 13,
    "start_time": "2022-09-03T05:14:13.749Z"
   },
   {
    "duration": 39,
    "start_time": "2022-09-03T05:14:13.764Z"
   },
   {
    "duration": 91,
    "start_time": "2022-09-03T05:14:13.805Z"
   },
   {
    "duration": 0,
    "start_time": "2022-09-03T05:14:13.899Z"
   },
   {
    "duration": 0,
    "start_time": "2022-09-03T05:14:13.900Z"
   },
   {
    "duration": 0,
    "start_time": "2022-09-03T05:14:13.901Z"
   },
   {
    "duration": 0,
    "start_time": "2022-09-03T05:14:13.902Z"
   },
   {
    "duration": 0,
    "start_time": "2022-09-03T05:14:13.904Z"
   },
   {
    "duration": 0,
    "start_time": "2022-09-03T05:14:13.904Z"
   },
   {
    "duration": 0,
    "start_time": "2022-09-03T05:14:13.906Z"
   },
   {
    "duration": 0,
    "start_time": "2022-09-03T05:14:13.907Z"
   },
   {
    "duration": 0,
    "start_time": "2022-09-03T05:14:13.908Z"
   },
   {
    "duration": 0,
    "start_time": "2022-09-03T05:14:13.909Z"
   },
   {
    "duration": 0,
    "start_time": "2022-09-03T05:14:13.910Z"
   },
   {
    "duration": 0,
    "start_time": "2022-09-03T05:14:13.911Z"
   },
   {
    "duration": 0,
    "start_time": "2022-09-03T05:14:13.912Z"
   },
   {
    "duration": 0,
    "start_time": "2022-09-03T05:14:13.913Z"
   },
   {
    "duration": 0,
    "start_time": "2022-09-03T05:14:13.914Z"
   },
   {
    "duration": 0,
    "start_time": "2022-09-03T05:14:13.915Z"
   },
   {
    "duration": 0,
    "start_time": "2022-09-03T05:14:13.916Z"
   },
   {
    "duration": 0,
    "start_time": "2022-09-03T05:14:13.917Z"
   },
   {
    "duration": 0,
    "start_time": "2022-09-03T05:14:13.918Z"
   },
   {
    "duration": 0,
    "start_time": "2022-09-03T05:14:13.919Z"
   },
   {
    "duration": 0,
    "start_time": "2022-09-03T05:14:13.920Z"
   },
   {
    "duration": 0,
    "start_time": "2022-09-03T05:14:13.922Z"
   },
   {
    "duration": 0,
    "start_time": "2022-09-03T05:14:13.922Z"
   },
   {
    "duration": 0,
    "start_time": "2022-09-03T05:14:13.923Z"
   },
   {
    "duration": 0,
    "start_time": "2022-09-03T05:14:13.924Z"
   },
   {
    "duration": 1,
    "start_time": "2022-09-03T05:14:13.925Z"
   },
   {
    "duration": 0,
    "start_time": "2022-09-03T05:14:13.926Z"
   },
   {
    "duration": 0,
    "start_time": "2022-09-03T05:14:13.927Z"
   },
   {
    "duration": 0,
    "start_time": "2022-09-03T05:14:13.928Z"
   },
   {
    "duration": 0,
    "start_time": "2022-09-03T05:14:13.929Z"
   },
   {
    "duration": 0,
    "start_time": "2022-09-03T05:14:13.930Z"
   },
   {
    "duration": 9,
    "start_time": "2022-09-03T05:14:37.303Z"
   },
   {
    "duration": 20,
    "start_time": "2022-09-03T05:14:54.264Z"
   },
   {
    "duration": 20,
    "start_time": "2022-09-03T05:17:16.803Z"
   },
   {
    "duration": 6,
    "start_time": "2022-09-03T05:17:47.875Z"
   },
   {
    "duration": 5,
    "start_time": "2022-09-03T05:17:54.710Z"
   },
   {
    "duration": 12,
    "start_time": "2022-09-03T05:18:18.273Z"
   },
   {
    "duration": 863,
    "start_time": "2022-09-03T05:18:27.789Z"
   },
   {
    "duration": 5,
    "start_time": "2022-09-03T05:18:28.655Z"
   },
   {
    "duration": 262,
    "start_time": "2022-09-03T05:18:28.662Z"
   },
   {
    "duration": 23,
    "start_time": "2022-09-03T05:18:28.927Z"
   },
   {
    "duration": 212,
    "start_time": "2022-09-03T05:18:28.952Z"
   },
   {
    "duration": 52,
    "start_time": "2022-09-03T05:18:29.165Z"
   },
   {
    "duration": 28,
    "start_time": "2022-09-03T05:18:29.220Z"
   },
   {
    "duration": 232,
    "start_time": "2022-09-03T05:18:29.250Z"
   },
   {
    "duration": 55,
    "start_time": "2022-09-03T05:18:29.483Z"
   },
   {
    "duration": 14,
    "start_time": "2022-09-03T05:18:29.541Z"
   },
   {
    "duration": 13,
    "start_time": "2022-09-03T05:18:29.557Z"
   },
   {
    "duration": 11,
    "start_time": "2022-09-03T05:18:29.592Z"
   },
   {
    "duration": 386,
    "start_time": "2022-09-03T05:18:29.604Z"
   },
   {
    "duration": 322,
    "start_time": "2022-09-03T05:18:29.992Z"
   },
   {
    "duration": 25,
    "start_time": "2022-09-03T05:18:30.316Z"
   },
   {
    "duration": 21,
    "start_time": "2022-09-03T05:18:30.343Z"
   },
   {
    "duration": 39,
    "start_time": "2022-09-03T05:18:30.366Z"
   },
   {
    "duration": 17,
    "start_time": "2022-09-03T05:18:30.406Z"
   },
   {
    "duration": 24,
    "start_time": "2022-09-03T05:18:30.426Z"
   },
   {
    "duration": 37,
    "start_time": "2022-09-03T05:18:30.452Z"
   },
   {
    "duration": 320,
    "start_time": "2022-09-03T05:18:30.491Z"
   },
   {
    "duration": 8,
    "start_time": "2022-09-03T05:18:30.813Z"
   },
   {
    "duration": 337,
    "start_time": "2022-09-03T05:18:30.823Z"
   },
   {
    "duration": 336,
    "start_time": "2022-09-03T05:18:31.162Z"
   },
   {
    "duration": 312,
    "start_time": "2022-09-03T05:18:31.500Z"
   },
   {
    "duration": 438,
    "start_time": "2022-09-03T05:18:31.814Z"
   },
   {
    "duration": 241,
    "start_time": "2022-09-03T05:18:32.255Z"
   },
   {
    "duration": 240,
    "start_time": "2022-09-03T05:18:32.500Z"
   },
   {
    "duration": 215,
    "start_time": "2022-09-03T05:18:32.742Z"
   },
   {
    "duration": 148,
    "start_time": "2022-09-03T05:18:32.959Z"
   },
   {
    "duration": 178,
    "start_time": "2022-09-03T05:18:33.109Z"
   },
   {
    "duration": 217,
    "start_time": "2022-09-03T05:18:33.292Z"
   },
   {
    "duration": 183,
    "start_time": "2022-09-03T05:18:33.510Z"
   },
   {
    "duration": 225,
    "start_time": "2022-09-03T05:18:33.695Z"
   },
   {
    "duration": 522,
    "start_time": "2022-09-03T05:18:33.922Z"
   },
   {
    "duration": 615,
    "start_time": "2022-09-03T05:18:34.446Z"
   },
   {
    "duration": 175,
    "start_time": "2022-09-03T05:18:35.062Z"
   },
   {
    "duration": 189,
    "start_time": "2022-09-03T05:18:35.239Z"
   },
   {
    "duration": 157,
    "start_time": "2022-09-03T05:18:35.430Z"
   },
   {
    "duration": 306,
    "start_time": "2022-09-03T05:18:35.591Z"
   },
   {
    "duration": 199,
    "start_time": "2022-09-03T05:18:35.899Z"
   },
   {
    "duration": 193,
    "start_time": "2022-09-03T05:18:36.101Z"
   },
   {
    "duration": 261,
    "start_time": "2022-09-03T05:18:36.296Z"
   },
   {
    "duration": 182,
    "start_time": "2022-09-03T05:18:36.559Z"
   },
   {
    "duration": 28,
    "start_time": "2022-09-03T05:18:36.743Z"
   },
   {
    "duration": 33,
    "start_time": "2022-09-03T05:18:36.773Z"
   },
   {
    "duration": 218,
    "start_time": "2022-09-03T05:18:36.808Z"
   },
   {
    "duration": 523,
    "start_time": "2022-09-03T05:18:37.028Z"
   },
   {
    "duration": 9962,
    "start_time": "2022-09-03T05:18:37.553Z"
   },
   {
    "duration": 416,
    "start_time": "2022-09-03T05:18:47.517Z"
   },
   {
    "duration": 10,
    "start_time": "2022-09-03T05:18:56.977Z"
   },
   {
    "duration": 8,
    "start_time": "2022-09-03T05:22:44.388Z"
   },
   {
    "duration": 8,
    "start_time": "2022-09-03T05:22:48.656Z"
   },
   {
    "duration": 149,
    "start_time": "2022-09-03T05:23:01.828Z"
   },
   {
    "duration": 21,
    "start_time": "2022-09-03T05:23:06.281Z"
   },
   {
    "duration": 954,
    "start_time": "2022-09-03T05:23:43.909Z"
   },
   {
    "duration": 6,
    "start_time": "2022-09-03T05:23:44.866Z"
   },
   {
    "duration": 282,
    "start_time": "2022-09-03T05:23:44.873Z"
   },
   {
    "duration": 21,
    "start_time": "2022-09-03T05:23:45.157Z"
   },
   {
    "duration": 205,
    "start_time": "2022-09-03T05:23:45.192Z"
   },
   {
    "duration": 45,
    "start_time": "2022-09-03T05:23:45.398Z"
   },
   {
    "duration": 21,
    "start_time": "2022-09-03T05:23:45.444Z"
   },
   {
    "duration": 227,
    "start_time": "2022-09-03T05:23:45.467Z"
   },
   {
    "duration": 55,
    "start_time": "2022-09-03T05:23:45.696Z"
   },
   {
    "duration": 14,
    "start_time": "2022-09-03T05:23:45.753Z"
   },
   {
    "duration": 30,
    "start_time": "2022-09-03T05:23:45.769Z"
   },
   {
    "duration": 10,
    "start_time": "2022-09-03T05:23:45.801Z"
   },
   {
    "duration": 414,
    "start_time": "2022-09-03T05:23:45.813Z"
   },
   {
    "duration": 340,
    "start_time": "2022-09-03T05:23:46.229Z"
   },
   {
    "duration": 20,
    "start_time": "2022-09-03T05:23:46.571Z"
   },
   {
    "duration": 20,
    "start_time": "2022-09-03T05:23:46.593Z"
   },
   {
    "duration": 16,
    "start_time": "2022-09-03T05:23:46.615Z"
   },
   {
    "duration": 23,
    "start_time": "2022-09-03T05:23:46.633Z"
   },
   {
    "duration": 117,
    "start_time": "2022-09-03T05:23:46.659Z"
   },
   {
    "duration": 0,
    "start_time": "2022-09-03T05:23:46.780Z"
   },
   {
    "duration": 0,
    "start_time": "2022-09-03T05:23:46.781Z"
   },
   {
    "duration": 0,
    "start_time": "2022-09-03T05:23:46.782Z"
   },
   {
    "duration": 0,
    "start_time": "2022-09-03T05:23:46.792Z"
   },
   {
    "duration": 0,
    "start_time": "2022-09-03T05:23:46.793Z"
   },
   {
    "duration": 0,
    "start_time": "2022-09-03T05:23:46.794Z"
   },
   {
    "duration": 0,
    "start_time": "2022-09-03T05:23:46.796Z"
   },
   {
    "duration": 0,
    "start_time": "2022-09-03T05:23:46.797Z"
   },
   {
    "duration": 0,
    "start_time": "2022-09-03T05:23:46.799Z"
   },
   {
    "duration": 0,
    "start_time": "2022-09-03T05:23:46.800Z"
   },
   {
    "duration": 0,
    "start_time": "2022-09-03T05:23:46.802Z"
   },
   {
    "duration": 0,
    "start_time": "2022-09-03T05:23:46.804Z"
   },
   {
    "duration": 0,
    "start_time": "2022-09-03T05:23:46.805Z"
   },
   {
    "duration": 0,
    "start_time": "2022-09-03T05:23:46.807Z"
   },
   {
    "duration": 0,
    "start_time": "2022-09-03T05:23:46.808Z"
   },
   {
    "duration": 0,
    "start_time": "2022-09-03T05:23:46.810Z"
   },
   {
    "duration": 0,
    "start_time": "2022-09-03T05:23:46.813Z"
   },
   {
    "duration": 0,
    "start_time": "2022-09-03T05:23:46.814Z"
   },
   {
    "duration": 0,
    "start_time": "2022-09-03T05:23:46.815Z"
   },
   {
    "duration": 1,
    "start_time": "2022-09-03T05:23:46.816Z"
   },
   {
    "duration": 1,
    "start_time": "2022-09-03T05:23:46.817Z"
   },
   {
    "duration": 0,
    "start_time": "2022-09-03T05:23:46.819Z"
   },
   {
    "duration": 0,
    "start_time": "2022-09-03T05:23:46.820Z"
   },
   {
    "duration": 0,
    "start_time": "2022-09-03T05:23:46.821Z"
   },
   {
    "duration": 0,
    "start_time": "2022-09-03T05:23:46.822Z"
   },
   {
    "duration": 0,
    "start_time": "2022-09-03T05:23:46.823Z"
   },
   {
    "duration": 0,
    "start_time": "2022-09-03T05:23:46.824Z"
   },
   {
    "duration": 0,
    "start_time": "2022-09-03T05:23:46.826Z"
   },
   {
    "duration": 0,
    "start_time": "2022-09-03T05:23:46.827Z"
   },
   {
    "duration": 0,
    "start_time": "2022-09-03T05:23:46.828Z"
   },
   {
    "duration": 0,
    "start_time": "2022-09-03T05:23:46.830Z"
   },
   {
    "duration": 12,
    "start_time": "2022-09-03T05:24:20.452Z"
   },
   {
    "duration": 963,
    "start_time": "2022-09-03T05:24:42.056Z"
   },
   {
    "duration": 5,
    "start_time": "2022-09-03T05:24:43.021Z"
   },
   {
    "duration": 335,
    "start_time": "2022-09-03T05:24:43.028Z"
   },
   {
    "duration": 32,
    "start_time": "2022-09-03T05:24:43.366Z"
   },
   {
    "duration": 223,
    "start_time": "2022-09-03T05:24:43.400Z"
   },
   {
    "duration": 71,
    "start_time": "2022-09-03T05:24:43.625Z"
   },
   {
    "duration": 24,
    "start_time": "2022-09-03T05:24:43.698Z"
   },
   {
    "duration": 292,
    "start_time": "2022-09-03T05:24:43.724Z"
   },
   {
    "duration": 58,
    "start_time": "2022-09-03T05:24:44.018Z"
   },
   {
    "duration": 16,
    "start_time": "2022-09-03T05:24:44.091Z"
   },
   {
    "duration": 16,
    "start_time": "2022-09-03T05:24:44.109Z"
   },
   {
    "duration": 9,
    "start_time": "2022-09-03T05:24:44.127Z"
   },
   {
    "duration": 450,
    "start_time": "2022-09-03T05:24:44.138Z"
   },
   {
    "duration": 339,
    "start_time": "2022-09-03T05:24:44.590Z"
   },
   {
    "duration": 14,
    "start_time": "2022-09-03T05:24:44.930Z"
   },
   {
    "duration": 20,
    "start_time": "2022-09-03T05:24:44.946Z"
   },
   {
    "duration": 42,
    "start_time": "2022-09-03T05:24:44.968Z"
   },
   {
    "duration": 24,
    "start_time": "2022-09-03T05:24:45.012Z"
   },
   {
    "duration": 13,
    "start_time": "2022-09-03T05:24:45.038Z"
   },
   {
    "duration": 38,
    "start_time": "2022-09-03T05:24:45.053Z"
   },
   {
    "duration": 366,
    "start_time": "2022-09-03T05:24:45.094Z"
   },
   {
    "duration": 8,
    "start_time": "2022-09-03T05:24:45.462Z"
   },
   {
    "duration": 319,
    "start_time": "2022-09-03T05:24:45.472Z"
   },
   {
    "duration": 342,
    "start_time": "2022-09-03T05:24:45.793Z"
   },
   {
    "duration": 281,
    "start_time": "2022-09-03T05:24:46.137Z"
   },
   {
    "duration": 327,
    "start_time": "2022-09-03T05:24:46.419Z"
   },
   {
    "duration": 190,
    "start_time": "2022-09-03T05:24:46.748Z"
   },
   {
    "duration": 480,
    "start_time": "2022-09-03T05:24:46.943Z"
   },
   {
    "duration": 513,
    "start_time": "2022-09-03T05:24:47.425Z"
   },
   {
    "duration": 292,
    "start_time": "2022-09-03T05:24:47.939Z"
   },
   {
    "duration": 375,
    "start_time": "2022-09-03T05:24:48.233Z"
   },
   {
    "duration": 431,
    "start_time": "2022-09-03T05:24:48.610Z"
   },
   {
    "duration": 216,
    "start_time": "2022-09-03T05:24:49.043Z"
   },
   {
    "duration": 245,
    "start_time": "2022-09-03T05:24:49.261Z"
   },
   {
    "duration": 570,
    "start_time": "2022-09-03T05:24:49.508Z"
   },
   {
    "duration": 648,
    "start_time": "2022-09-03T05:24:50.080Z"
   },
   {
    "duration": 171,
    "start_time": "2022-09-03T05:24:50.730Z"
   },
   {
    "duration": 187,
    "start_time": "2022-09-03T05:24:50.903Z"
   },
   {
    "duration": 147,
    "start_time": "2022-09-03T05:24:51.092Z"
   },
   {
    "duration": 300,
    "start_time": "2022-09-03T05:24:51.241Z"
   },
   {
    "duration": 183,
    "start_time": "2022-09-03T05:24:51.543Z"
   },
   {
    "duration": 223,
    "start_time": "2022-09-03T05:24:51.728Z"
   },
   {
    "duration": 315,
    "start_time": "2022-09-03T05:24:51.953Z"
   },
   {
    "duration": 185,
    "start_time": "2022-09-03T05:24:52.271Z"
   },
   {
    "duration": 34,
    "start_time": "2022-09-03T05:24:52.458Z"
   },
   {
    "duration": 13,
    "start_time": "2022-09-03T05:24:52.494Z"
   },
   {
    "duration": 198,
    "start_time": "2022-09-03T05:24:52.509Z"
   },
   {
    "duration": 501,
    "start_time": "2022-09-03T05:24:52.709Z"
   },
   {
    "duration": 9351,
    "start_time": "2022-09-03T05:24:53.212Z"
   },
   {
    "duration": 422,
    "start_time": "2022-09-03T05:25:02.565Z"
   },
   {
    "duration": 8,
    "start_time": "2022-09-03T05:25:41.667Z"
   },
   {
    "duration": 16,
    "start_time": "2022-09-03T05:25:58.970Z"
   },
   {
    "duration": 15,
    "start_time": "2022-09-03T05:28:59.606Z"
   },
   {
    "duration": 9,
    "start_time": "2022-09-03T05:29:07.434Z"
   },
   {
    "duration": 9,
    "start_time": "2022-09-03T05:29:46.054Z"
   },
   {
    "duration": 102,
    "start_time": "2022-09-03T05:39:57.370Z"
   },
   {
    "duration": 5,
    "start_time": "2022-09-03T05:40:04.603Z"
   },
   {
    "duration": 5,
    "start_time": "2022-09-03T05:41:06.440Z"
   },
   {
    "duration": 11,
    "start_time": "2022-09-03T05:41:14.639Z"
   },
   {
    "duration": 10,
    "start_time": "2022-09-03T05:42:00.851Z"
   },
   {
    "duration": 8,
    "start_time": "2022-09-03T05:42:25.765Z"
   },
   {
    "duration": 17,
    "start_time": "2022-09-03T05:42:33.367Z"
   },
   {
    "duration": 22,
    "start_time": "2022-09-03T05:43:31.957Z"
   },
   {
    "duration": 873,
    "start_time": "2022-09-03T05:45:11.060Z"
   },
   {
    "duration": 5,
    "start_time": "2022-09-03T05:45:11.936Z"
   },
   {
    "duration": 330,
    "start_time": "2022-09-03T05:45:11.943Z"
   },
   {
    "duration": 29,
    "start_time": "2022-09-03T05:45:12.276Z"
   },
   {
    "duration": 204,
    "start_time": "2022-09-03T05:45:12.307Z"
   },
   {
    "duration": 43,
    "start_time": "2022-09-03T05:45:12.513Z"
   },
   {
    "duration": 39,
    "start_time": "2022-09-03T05:45:12.557Z"
   },
   {
    "duration": 216,
    "start_time": "2022-09-03T05:45:12.598Z"
   },
   {
    "duration": 54,
    "start_time": "2022-09-03T05:45:12.816Z"
   },
   {
    "duration": 28,
    "start_time": "2022-09-03T05:45:12.872Z"
   },
   {
    "duration": 13,
    "start_time": "2022-09-03T05:45:12.902Z"
   },
   {
    "duration": 14,
    "start_time": "2022-09-03T05:45:12.917Z"
   },
   {
    "duration": 12,
    "start_time": "2022-09-03T05:45:12.933Z"
   },
   {
    "duration": 397,
    "start_time": "2022-09-03T05:45:12.948Z"
   },
   {
    "duration": 326,
    "start_time": "2022-09-03T05:45:13.347Z"
   },
   {
    "duration": 24,
    "start_time": "2022-09-03T05:45:13.675Z"
   },
   {
    "duration": 21,
    "start_time": "2022-09-03T05:45:13.701Z"
   },
   {
    "duration": 16,
    "start_time": "2022-09-03T05:45:13.724Z"
   },
   {
    "duration": 17,
    "start_time": "2022-09-03T05:45:13.742Z"
   },
   {
    "duration": 13,
    "start_time": "2022-09-03T05:45:13.791Z"
   },
   {
    "duration": 23,
    "start_time": "2022-09-03T05:45:13.805Z"
   },
   {
    "duration": 315,
    "start_time": "2022-09-03T05:45:13.830Z"
   },
   {
    "duration": 9,
    "start_time": "2022-09-03T05:45:14.147Z"
   },
   {
    "duration": 329,
    "start_time": "2022-09-03T05:45:14.158Z"
   },
   {
    "duration": 329,
    "start_time": "2022-09-03T05:45:14.491Z"
   },
   {
    "duration": 302,
    "start_time": "2022-09-03T05:45:14.822Z"
   },
   {
    "duration": 318,
    "start_time": "2022-09-03T05:45:15.125Z"
   },
   {
    "duration": 189,
    "start_time": "2022-09-03T05:45:15.446Z"
   },
   {
    "duration": 206,
    "start_time": "2022-09-03T05:45:15.637Z"
   },
   {
    "duration": 232,
    "start_time": "2022-09-03T05:45:15.844Z"
   },
   {
    "duration": 156,
    "start_time": "2022-09-03T05:45:16.078Z"
   },
   {
    "duration": 207,
    "start_time": "2022-09-03T05:45:16.237Z"
   },
   {
    "duration": 225,
    "start_time": "2022-09-03T05:45:16.446Z"
   },
   {
    "duration": 190,
    "start_time": "2022-09-03T05:45:16.673Z"
   },
   {
    "duration": 264,
    "start_time": "2022-09-03T05:45:16.865Z"
   },
   {
    "duration": 503,
    "start_time": "2022-09-03T05:45:17.131Z"
   },
   {
    "duration": 603,
    "start_time": "2022-09-03T05:45:17.635Z"
   },
   {
    "duration": 177,
    "start_time": "2022-09-03T05:45:18.240Z"
   },
   {
    "duration": 179,
    "start_time": "2022-09-03T05:45:18.419Z"
   },
   {
    "duration": 162,
    "start_time": "2022-09-03T05:45:18.600Z"
   },
   {
    "duration": 301,
    "start_time": "2022-09-03T05:45:18.764Z"
   },
   {
    "duration": 162,
    "start_time": "2022-09-03T05:45:19.067Z"
   },
   {
    "duration": 194,
    "start_time": "2022-09-03T05:45:19.230Z"
   },
   {
    "duration": 290,
    "start_time": "2022-09-03T05:45:19.426Z"
   },
   {
    "duration": 166,
    "start_time": "2022-09-03T05:45:19.718Z"
   },
   {
    "duration": 26,
    "start_time": "2022-09-03T05:45:19.885Z"
   },
   {
    "duration": 14,
    "start_time": "2022-09-03T05:45:19.913Z"
   },
   {
    "duration": 198,
    "start_time": "2022-09-03T05:45:19.928Z"
   },
   {
    "duration": 498,
    "start_time": "2022-09-03T05:45:20.128Z"
   },
   {
    "duration": 11211,
    "start_time": "2022-09-03T05:45:20.628Z"
   },
   {
    "duration": 961,
    "start_time": "2022-09-03T05:45:31.842Z"
   },
   {
    "duration": 2,
    "start_time": "2022-09-03T05:45:33.375Z"
   },
   {
    "duration": 11,
    "start_time": "2022-09-03T05:46:25.651Z"
   },
   {
    "duration": 8,
    "start_time": "2022-09-03T05:46:27.469Z"
   },
   {
    "duration": 9,
    "start_time": "2022-09-03T05:46:30.193Z"
   },
   {
    "duration": 17,
    "start_time": "2022-09-03T05:46:52.035Z"
   },
   {
    "duration": 18,
    "start_time": "2022-09-03T05:47:30.175Z"
   },
   {
    "duration": 117,
    "start_time": "2022-09-03T05:48:13.122Z"
   },
   {
    "duration": 21,
    "start_time": "2022-09-03T05:48:25.297Z"
   },
   {
    "duration": 21,
    "start_time": "2022-09-03T05:48:28.631Z"
   },
   {
    "duration": 10,
    "start_time": "2022-09-03T05:48:29.678Z"
   },
   {
    "duration": 9,
    "start_time": "2022-09-03T05:48:58.181Z"
   },
   {
    "duration": 20,
    "start_time": "2022-09-03T05:49:28.787Z"
   },
   {
    "duration": 21,
    "start_time": "2022-09-03T05:49:33.245Z"
   },
   {
    "duration": 12,
    "start_time": "2022-09-03T05:49:38.898Z"
   },
   {
    "duration": 15,
    "start_time": "2022-09-03T05:49:42.968Z"
   },
   {
    "duration": 838,
    "start_time": "2022-09-03T05:49:48.893Z"
   },
   {
    "duration": 5,
    "start_time": "2022-09-03T05:49:49.733Z"
   },
   {
    "duration": 262,
    "start_time": "2022-09-03T05:49:49.739Z"
   },
   {
    "duration": 23,
    "start_time": "2022-09-03T05:49:50.003Z"
   },
   {
    "duration": 215,
    "start_time": "2022-09-03T05:49:50.028Z"
   },
   {
    "duration": 53,
    "start_time": "2022-09-03T05:49:50.245Z"
   },
   {
    "duration": 23,
    "start_time": "2022-09-03T05:49:50.300Z"
   },
   {
    "duration": 234,
    "start_time": "2022-09-03T05:49:50.325Z"
   },
   {
    "duration": 58,
    "start_time": "2022-09-03T05:49:50.561Z"
   },
   {
    "duration": 14,
    "start_time": "2022-09-03T05:49:50.622Z"
   },
   {
    "duration": 108,
    "start_time": "2022-09-03T05:49:50.638Z"
   },
   {
    "duration": 0,
    "start_time": "2022-09-03T05:49:50.748Z"
   },
   {
    "duration": 0,
    "start_time": "2022-09-03T05:49:50.750Z"
   },
   {
    "duration": 0,
    "start_time": "2022-09-03T05:49:50.751Z"
   },
   {
    "duration": 0,
    "start_time": "2022-09-03T05:49:50.752Z"
   },
   {
    "duration": 0,
    "start_time": "2022-09-03T05:49:50.753Z"
   },
   {
    "duration": 0,
    "start_time": "2022-09-03T05:49:50.755Z"
   },
   {
    "duration": 0,
    "start_time": "2022-09-03T05:49:50.756Z"
   },
   {
    "duration": 0,
    "start_time": "2022-09-03T05:49:50.757Z"
   },
   {
    "duration": 0,
    "start_time": "2022-09-03T05:49:50.758Z"
   },
   {
    "duration": 0,
    "start_time": "2022-09-03T05:49:50.759Z"
   },
   {
    "duration": 0,
    "start_time": "2022-09-03T05:49:50.761Z"
   },
   {
    "duration": 0,
    "start_time": "2022-09-03T05:49:50.762Z"
   },
   {
    "duration": 0,
    "start_time": "2022-09-03T05:49:50.764Z"
   },
   {
    "duration": 0,
    "start_time": "2022-09-03T05:49:50.792Z"
   },
   {
    "duration": 0,
    "start_time": "2022-09-03T05:49:50.793Z"
   },
   {
    "duration": 0,
    "start_time": "2022-09-03T05:49:50.794Z"
   },
   {
    "duration": 0,
    "start_time": "2022-09-03T05:49:50.796Z"
   },
   {
    "duration": 1,
    "start_time": "2022-09-03T05:49:50.796Z"
   },
   {
    "duration": 0,
    "start_time": "2022-09-03T05:49:50.798Z"
   },
   {
    "duration": 0,
    "start_time": "2022-09-03T05:49:50.799Z"
   },
   {
    "duration": 0,
    "start_time": "2022-09-03T05:49:50.800Z"
   },
   {
    "duration": 0,
    "start_time": "2022-09-03T05:49:50.802Z"
   },
   {
    "duration": 0,
    "start_time": "2022-09-03T05:49:50.803Z"
   },
   {
    "duration": 0,
    "start_time": "2022-09-03T05:49:50.804Z"
   },
   {
    "duration": 0,
    "start_time": "2022-09-03T05:49:50.805Z"
   },
   {
    "duration": 0,
    "start_time": "2022-09-03T05:49:50.806Z"
   },
   {
    "duration": 0,
    "start_time": "2022-09-03T05:49:50.807Z"
   },
   {
    "duration": 0,
    "start_time": "2022-09-03T05:49:50.808Z"
   },
   {
    "duration": 0,
    "start_time": "2022-09-03T05:49:50.809Z"
   },
   {
    "duration": 0,
    "start_time": "2022-09-03T05:49:50.810Z"
   },
   {
    "duration": 0,
    "start_time": "2022-09-03T05:49:50.811Z"
   },
   {
    "duration": 0,
    "start_time": "2022-09-03T05:49:50.813Z"
   },
   {
    "duration": 0,
    "start_time": "2022-09-03T05:49:50.814Z"
   },
   {
    "duration": 0,
    "start_time": "2022-09-03T05:49:50.814Z"
   },
   {
    "duration": 0,
    "start_time": "2022-09-03T05:49:50.815Z"
   },
   {
    "duration": 0,
    "start_time": "2022-09-03T05:49:50.816Z"
   },
   {
    "duration": 0,
    "start_time": "2022-09-03T05:49:50.817Z"
   },
   {
    "duration": 0,
    "start_time": "2022-09-03T05:49:50.819Z"
   },
   {
    "duration": 0,
    "start_time": "2022-09-03T05:49:50.820Z"
   },
   {
    "duration": 0,
    "start_time": "2022-09-03T05:49:50.821Z"
   },
   {
    "duration": 0,
    "start_time": "2022-09-03T05:49:50.822Z"
   },
   {
    "duration": 13,
    "start_time": "2022-09-03T05:50:34.801Z"
   },
   {
    "duration": 8,
    "start_time": "2022-09-03T05:50:45.035Z"
   },
   {
    "duration": 16,
    "start_time": "2022-09-03T05:54:20.867Z"
   },
   {
    "duration": 17,
    "start_time": "2022-09-03T05:54:49.955Z"
   },
   {
    "duration": 15,
    "start_time": "2022-09-03T06:00:14.411Z"
   },
   {
    "duration": 16,
    "start_time": "2022-09-03T06:00:22.720Z"
   },
   {
    "duration": 10,
    "start_time": "2022-09-03T06:00:35.378Z"
   },
   {
    "duration": 10,
    "start_time": "2022-09-03T06:01:18.174Z"
   },
   {
    "duration": 3,
    "start_time": "2022-09-03T06:02:08.855Z"
   },
   {
    "duration": 10,
    "start_time": "2022-09-03T06:02:29.915Z"
   },
   {
    "duration": 5,
    "start_time": "2022-09-03T06:02:52.968Z"
   },
   {
    "duration": 7,
    "start_time": "2022-09-03T06:02:56.598Z"
   },
   {
    "duration": 10,
    "start_time": "2022-09-03T06:03:12.769Z"
   },
   {
    "duration": 892,
    "start_time": "2022-09-03T06:03:24.629Z"
   },
   {
    "duration": 5,
    "start_time": "2022-09-03T06:03:25.523Z"
   },
   {
    "duration": 289,
    "start_time": "2022-09-03T06:03:25.530Z"
   },
   {
    "duration": 20,
    "start_time": "2022-09-03T06:03:25.821Z"
   },
   {
    "duration": 218,
    "start_time": "2022-09-03T06:03:25.842Z"
   },
   {
    "duration": 66,
    "start_time": "2022-09-03T06:03:26.062Z"
   },
   {
    "duration": 21,
    "start_time": "2022-09-03T06:03:26.130Z"
   },
   {
    "duration": 261,
    "start_time": "2022-09-03T06:03:26.153Z"
   },
   {
    "duration": 55,
    "start_time": "2022-09-03T06:03:26.420Z"
   },
   {
    "duration": 36,
    "start_time": "2022-09-03T06:03:26.478Z"
   },
   {
    "duration": 13,
    "start_time": "2022-09-03T06:03:26.518Z"
   },
   {
    "duration": 8,
    "start_time": "2022-09-03T06:03:26.533Z"
   },
   {
    "duration": 8,
    "start_time": "2022-09-03T06:03:26.543Z"
   },
   {
    "duration": 6,
    "start_time": "2022-09-03T06:03:26.552Z"
   },
   {
    "duration": 13,
    "start_time": "2022-09-03T06:03:26.559Z"
   },
   {
    "duration": 412,
    "start_time": "2022-09-03T06:03:26.574Z"
   },
   {
    "duration": 341,
    "start_time": "2022-09-03T06:03:26.987Z"
   },
   {
    "duration": 17,
    "start_time": "2022-09-03T06:03:27.330Z"
   },
   {
    "duration": 27,
    "start_time": "2022-09-03T06:03:27.350Z"
   },
   {
    "duration": 36,
    "start_time": "2022-09-03T06:03:27.379Z"
   },
   {
    "duration": 25,
    "start_time": "2022-09-03T06:03:27.420Z"
   },
   {
    "duration": 12,
    "start_time": "2022-09-03T06:03:27.447Z"
   },
   {
    "duration": 20,
    "start_time": "2022-09-03T06:03:27.460Z"
   },
   {
    "duration": 315,
    "start_time": "2022-09-03T06:03:27.482Z"
   },
   {
    "duration": 19,
    "start_time": "2022-09-03T06:03:27.798Z"
   },
   {
    "duration": 345,
    "start_time": "2022-09-03T06:03:27.819Z"
   },
   {
    "duration": 351,
    "start_time": "2022-09-03T06:03:28.166Z"
   },
   {
    "duration": 294,
    "start_time": "2022-09-03T06:03:28.523Z"
   },
   {
    "duration": 321,
    "start_time": "2022-09-03T06:03:28.819Z"
   },
   {
    "duration": 192,
    "start_time": "2022-09-03T06:03:29.142Z"
   },
   {
    "duration": 217,
    "start_time": "2022-09-03T06:03:29.336Z"
   },
   {
    "duration": 222,
    "start_time": "2022-09-03T06:03:29.555Z"
   },
   {
    "duration": 144,
    "start_time": "2022-09-03T06:03:29.779Z"
   },
   {
    "duration": 197,
    "start_time": "2022-09-03T06:03:29.925Z"
   },
   {
    "duration": 223,
    "start_time": "2022-09-03T06:03:30.124Z"
   },
   {
    "duration": 193,
    "start_time": "2022-09-03T06:03:30.349Z"
   },
   {
    "duration": 222,
    "start_time": "2022-09-03T06:03:30.545Z"
   },
   {
    "duration": 546,
    "start_time": "2022-09-03T06:03:30.769Z"
   },
   {
    "duration": 670,
    "start_time": "2022-09-03T06:03:31.321Z"
   },
   {
    "duration": 231,
    "start_time": "2022-09-03T06:03:31.994Z"
   },
   {
    "duration": 202,
    "start_time": "2022-09-03T06:03:32.228Z"
   },
   {
    "duration": 179,
    "start_time": "2022-09-03T06:03:32.432Z"
   },
   {
    "duration": 335,
    "start_time": "2022-09-03T06:03:32.613Z"
   },
   {
    "duration": 178,
    "start_time": "2022-09-03T06:03:32.950Z"
   },
   {
    "duration": 200,
    "start_time": "2022-09-03T06:03:33.130Z"
   },
   {
    "duration": 287,
    "start_time": "2022-09-03T06:03:33.332Z"
   },
   {
    "duration": 195,
    "start_time": "2022-09-03T06:03:33.623Z"
   },
   {
    "duration": 25,
    "start_time": "2022-09-03T06:03:33.820Z"
   },
   {
    "duration": 12,
    "start_time": "2022-09-03T06:03:33.847Z"
   },
   {
    "duration": 205,
    "start_time": "2022-09-03T06:03:33.861Z"
   },
   {
    "duration": 498,
    "start_time": "2022-09-03T06:03:34.067Z"
   },
   {
    "duration": 10940,
    "start_time": "2022-09-03T06:03:34.567Z"
   },
   {
    "duration": 459,
    "start_time": "2022-09-03T06:03:45.513Z"
   },
   {
    "duration": 6,
    "start_time": "2022-09-03T06:04:20.218Z"
   },
   {
    "duration": 37,
    "start_time": "2022-09-03T06:06:10.464Z"
   },
   {
    "duration": 738,
    "start_time": "2022-09-03T07:45:35.267Z"
   },
   {
    "duration": 5,
    "start_time": "2022-09-03T07:45:36.006Z"
   },
   {
    "duration": 235,
    "start_time": "2022-09-03T07:45:36.012Z"
   },
   {
    "duration": 23,
    "start_time": "2022-09-03T07:45:36.249Z"
   },
   {
    "duration": 199,
    "start_time": "2022-09-03T07:45:36.274Z"
   },
   {
    "duration": 38,
    "start_time": "2022-09-03T07:45:36.475Z"
   },
   {
    "duration": 27,
    "start_time": "2022-09-03T07:45:36.514Z"
   },
   {
    "duration": 190,
    "start_time": "2022-09-03T07:45:36.558Z"
   },
   {
    "duration": 53,
    "start_time": "2022-09-03T07:45:36.749Z"
   },
   {
    "duration": 13,
    "start_time": "2022-09-03T07:45:36.805Z"
   },
   {
    "duration": 11,
    "start_time": "2022-09-03T07:45:36.820Z"
   },
   {
    "duration": 31,
    "start_time": "2022-09-03T07:45:36.832Z"
   },
   {
    "duration": 8,
    "start_time": "2022-09-03T07:45:36.865Z"
   },
   {
    "duration": 4,
    "start_time": "2022-09-03T07:45:36.875Z"
   },
   {
    "duration": 12,
    "start_time": "2022-09-03T07:45:36.881Z"
   },
   {
    "duration": 358,
    "start_time": "2022-09-03T07:45:36.894Z"
   },
   {
    "duration": 303,
    "start_time": "2022-09-03T07:45:37.257Z"
   },
   {
    "duration": 16,
    "start_time": "2022-09-03T07:45:37.561Z"
   },
   {
    "duration": 16,
    "start_time": "2022-09-03T07:45:37.578Z"
   },
   {
    "duration": 13,
    "start_time": "2022-09-03T07:45:37.596Z"
   },
   {
    "duration": 15,
    "start_time": "2022-09-03T07:45:37.611Z"
   },
   {
    "duration": 39,
    "start_time": "2022-09-03T07:45:37.627Z"
   },
   {
    "duration": 12,
    "start_time": "2022-09-03T07:45:37.668Z"
   },
   {
    "duration": 287,
    "start_time": "2022-09-03T07:45:37.682Z"
   },
   {
    "duration": 7,
    "start_time": "2022-09-03T07:45:37.971Z"
   },
   {
    "duration": 301,
    "start_time": "2022-09-03T07:45:37.980Z"
   },
   {
    "duration": 322,
    "start_time": "2022-09-03T07:45:38.283Z"
   },
   {
    "duration": 271,
    "start_time": "2022-09-03T07:45:38.609Z"
   },
   {
    "duration": 309,
    "start_time": "2022-09-03T07:45:38.882Z"
   },
   {
    "duration": 177,
    "start_time": "2022-09-03T07:45:39.193Z"
   },
   {
    "duration": 176,
    "start_time": "2022-09-03T07:45:39.372Z"
   },
   {
    "duration": 185,
    "start_time": "2022-09-03T07:45:39.550Z"
   },
   {
    "duration": 120,
    "start_time": "2022-09-03T07:45:39.736Z"
   },
   {
    "duration": 154,
    "start_time": "2022-09-03T07:45:39.858Z"
   },
   {
    "duration": 184,
    "start_time": "2022-09-03T07:45:40.014Z"
   },
   {
    "duration": 153,
    "start_time": "2022-09-03T07:45:40.200Z"
   },
   {
    "duration": 213,
    "start_time": "2022-09-03T07:45:40.357Z"
   },
   {
    "duration": 442,
    "start_time": "2022-09-03T07:45:40.573Z"
   },
   {
    "duration": 548,
    "start_time": "2022-09-03T07:45:41.017Z"
   },
   {
    "duration": 158,
    "start_time": "2022-09-03T07:45:41.567Z"
   },
   {
    "duration": 170,
    "start_time": "2022-09-03T07:45:41.727Z"
   },
   {
    "duration": 158,
    "start_time": "2022-09-03T07:45:41.899Z"
   },
   {
    "duration": 341,
    "start_time": "2022-09-03T07:45:42.058Z"
   },
   {
    "duration": 371,
    "start_time": "2022-09-03T07:45:42.401Z"
   },
   {
    "duration": 320,
    "start_time": "2022-09-03T07:45:42.773Z"
   },
   {
    "duration": 506,
    "start_time": "2022-09-03T07:45:43.094Z"
   },
   {
    "duration": 390,
    "start_time": "2022-09-03T07:45:43.601Z"
   },
   {
    "duration": 65,
    "start_time": "2022-09-03T07:45:43.993Z"
   },
   {
    "duration": 11,
    "start_time": "2022-09-03T07:45:44.060Z"
   },
   {
    "duration": 159,
    "start_time": "2022-09-03T07:45:44.073Z"
   },
   {
    "duration": 454,
    "start_time": "2022-09-03T07:45:44.233Z"
   },
   {
    "duration": 8732,
    "start_time": "2022-09-03T07:45:44.689Z"
   },
   {
    "duration": 389,
    "start_time": "2022-09-03T07:45:53.423Z"
   },
   {
    "duration": 18,
    "start_time": "2022-09-03T07:47:22.606Z"
   },
   {
    "duration": 15,
    "start_time": "2022-09-03T07:47:35.051Z"
   },
   {
    "duration": 18,
    "start_time": "2022-09-03T07:47:47.946Z"
   },
   {
    "duration": 713,
    "start_time": "2022-09-03T18:37:35.241Z"
   },
   {
    "duration": 5,
    "start_time": "2022-09-03T18:37:35.956Z"
   },
   {
    "duration": 256,
    "start_time": "2022-09-03T18:37:35.963Z"
   },
   {
    "duration": 20,
    "start_time": "2022-09-03T18:37:36.220Z"
   },
   {
    "duration": 177,
    "start_time": "2022-09-03T18:37:36.242Z"
   },
   {
    "duration": 37,
    "start_time": "2022-09-03T18:37:36.420Z"
   },
   {
    "duration": 18,
    "start_time": "2022-09-03T18:37:36.459Z"
   },
   {
    "duration": 197,
    "start_time": "2022-09-03T18:37:36.478Z"
   },
   {
    "duration": 57,
    "start_time": "2022-09-03T18:37:36.677Z"
   },
   {
    "duration": 12,
    "start_time": "2022-09-03T18:37:36.736Z"
   },
   {
    "duration": 10,
    "start_time": "2022-09-03T18:37:36.750Z"
   },
   {
    "duration": 9,
    "start_time": "2022-09-03T18:37:36.761Z"
   },
   {
    "duration": 9,
    "start_time": "2022-09-03T18:37:36.771Z"
   },
   {
    "duration": 4,
    "start_time": "2022-09-03T18:37:36.810Z"
   },
   {
    "duration": 9,
    "start_time": "2022-09-03T18:37:36.816Z"
   },
   {
    "duration": 338,
    "start_time": "2022-09-03T18:37:36.826Z"
   },
   {
    "duration": 681,
    "start_time": "2022-09-03T18:37:37.166Z"
   },
   {
    "duration": 69,
    "start_time": "2022-09-03T18:37:37.849Z"
   },
   {
    "duration": 15,
    "start_time": "2022-09-03T18:37:37.919Z"
   },
   {
    "duration": 13,
    "start_time": "2022-09-03T18:37:37.936Z"
   },
   {
    "duration": 68,
    "start_time": "2022-09-03T18:37:37.951Z"
   },
   {
    "duration": 11,
    "start_time": "2022-09-03T18:37:38.021Z"
   },
   {
    "duration": 11,
    "start_time": "2022-09-03T18:37:38.034Z"
   },
   {
    "duration": 564,
    "start_time": "2022-09-03T18:37:38.046Z"
   },
   {
    "duration": 8,
    "start_time": "2022-09-03T18:37:38.612Z"
   },
   {
    "duration": 541,
    "start_time": "2022-09-03T18:37:38.621Z"
   },
   {
    "duration": 290,
    "start_time": "2022-09-03T18:37:39.163Z"
   },
   {
    "duration": 262,
    "start_time": "2022-09-03T18:37:39.454Z"
   },
   {
    "duration": 265,
    "start_time": "2022-09-03T18:37:39.718Z"
   },
   {
    "duration": 156,
    "start_time": "2022-09-03T18:37:39.985Z"
   },
   {
    "duration": 182,
    "start_time": "2022-09-03T18:37:40.143Z"
   },
   {
    "duration": 192,
    "start_time": "2022-09-03T18:37:40.326Z"
   },
   {
    "duration": 109,
    "start_time": "2022-09-03T18:37:40.520Z"
   },
   {
    "duration": 145,
    "start_time": "2022-09-03T18:37:40.631Z"
   },
   {
    "duration": 171,
    "start_time": "2022-09-03T18:37:40.778Z"
   },
   {
    "duration": 145,
    "start_time": "2022-09-03T18:37:40.951Z"
   },
   {
    "duration": 199,
    "start_time": "2022-09-03T18:37:41.098Z"
   },
   {
    "duration": 445,
    "start_time": "2022-09-03T18:37:41.300Z"
   },
   {
    "duration": 523,
    "start_time": "2022-09-03T18:37:41.747Z"
   },
   {
    "duration": 149,
    "start_time": "2022-09-03T18:37:42.272Z"
   },
   {
    "duration": 157,
    "start_time": "2022-09-03T18:37:42.426Z"
   },
   {
    "duration": 148,
    "start_time": "2022-09-03T18:37:42.585Z"
   },
   {
    "duration": 276,
    "start_time": "2022-09-03T18:37:42.735Z"
   },
   {
    "duration": 140,
    "start_time": "2022-09-03T18:37:43.013Z"
   },
   {
    "duration": 193,
    "start_time": "2022-09-03T18:37:43.155Z"
   },
   {
    "duration": 251,
    "start_time": "2022-09-03T18:37:43.351Z"
   },
   {
    "duration": 161,
    "start_time": "2022-09-03T18:37:43.604Z"
   },
   {
    "duration": 22,
    "start_time": "2022-09-03T18:37:43.767Z"
   },
   {
    "duration": 23,
    "start_time": "2022-09-03T18:37:43.790Z"
   },
   {
    "duration": 148,
    "start_time": "2022-09-03T18:37:43.814Z"
   },
   {
    "duration": 486,
    "start_time": "2022-09-03T18:37:43.964Z"
   },
   {
    "duration": 8833,
    "start_time": "2022-09-03T18:37:44.452Z"
   },
   {
    "duration": 396,
    "start_time": "2022-09-03T18:37:53.287Z"
   },
   {
    "duration": 118,
    "start_time": "2022-09-03T18:48:54.005Z"
   },
   {
    "duration": 4,
    "start_time": "2022-09-03T18:48:54.124Z"
   },
   {
    "duration": 216,
    "start_time": "2022-09-03T18:48:54.129Z"
   },
   {
    "duration": 18,
    "start_time": "2022-09-03T18:48:54.346Z"
   },
   {
    "duration": 176,
    "start_time": "2022-09-03T18:48:54.366Z"
   },
   {
    "duration": 35,
    "start_time": "2022-09-03T18:48:54.543Z"
   },
   {
    "duration": 34,
    "start_time": "2022-09-03T18:48:54.580Z"
   },
   {
    "duration": 186,
    "start_time": "2022-09-03T18:48:54.616Z"
   },
   {
    "duration": 18,
    "start_time": "2022-09-03T18:48:54.803Z"
   },
   {
    "duration": 13,
    "start_time": "2022-09-03T18:48:54.822Z"
   },
   {
    "duration": 8,
    "start_time": "2022-09-03T18:48:54.836Z"
   },
   {
    "duration": 8,
    "start_time": "2022-09-03T18:48:54.846Z"
   },
   {
    "duration": 8,
    "start_time": "2022-09-03T18:48:54.855Z"
   },
   {
    "duration": 4,
    "start_time": "2022-09-03T18:48:54.864Z"
   },
   {
    "duration": 41,
    "start_time": "2022-09-03T18:48:54.870Z"
   },
   {
    "duration": 282,
    "start_time": "2022-09-03T18:48:54.913Z"
   },
   {
    "duration": 289,
    "start_time": "2022-09-03T18:48:55.196Z"
   },
   {
    "duration": 22,
    "start_time": "2022-09-03T18:48:55.486Z"
   },
   {
    "duration": 3,
    "start_time": "2022-09-03T18:48:55.510Z"
   },
   {
    "duration": 18,
    "start_time": "2022-09-03T18:48:55.515Z"
   },
   {
    "duration": 13,
    "start_time": "2022-09-03T18:48:55.535Z"
   },
   {
    "duration": 15,
    "start_time": "2022-09-03T18:48:55.550Z"
   },
   {
    "duration": 9,
    "start_time": "2022-09-03T18:48:55.567Z"
   },
   {
    "duration": 11,
    "start_time": "2022-09-03T18:48:55.610Z"
   },
   {
    "duration": 849,
    "start_time": "2022-09-03T18:48:55.623Z"
   },
   {
    "duration": 7,
    "start_time": "2022-09-03T18:48:56.474Z"
   },
   {
    "duration": 286,
    "start_time": "2022-09-03T18:48:56.482Z"
   },
   {
    "duration": 274,
    "start_time": "2022-09-03T18:48:56.773Z"
   },
   {
    "duration": 198,
    "start_time": "2022-09-03T18:48:57.048Z"
   },
   {
    "duration": 308,
    "start_time": "2022-09-03T18:48:57.248Z"
   },
   {
    "duration": 168,
    "start_time": "2022-09-03T18:48:57.559Z"
   },
   {
    "duration": 176,
    "start_time": "2022-09-03T18:48:57.728Z"
   },
   {
    "duration": 175,
    "start_time": "2022-09-03T18:48:57.909Z"
   },
   {
    "duration": 229,
    "start_time": "2022-09-03T18:48:58.086Z"
   },
   {
    "duration": 139,
    "start_time": "2022-09-03T18:48:58.317Z"
   },
   {
    "duration": 164,
    "start_time": "2022-09-03T18:48:58.458Z"
   },
   {
    "duration": 139,
    "start_time": "2022-09-03T18:48:58.623Z"
   },
   {
    "duration": 186,
    "start_time": "2022-09-03T18:48:58.764Z"
   },
   {
    "duration": 351,
    "start_time": "2022-09-03T18:48:58.952Z"
   },
   {
    "duration": 497,
    "start_time": "2022-09-03T18:48:59.308Z"
   },
   {
    "duration": 150,
    "start_time": "2022-09-03T18:48:59.809Z"
   },
   {
    "duration": 275,
    "start_time": "2022-09-03T18:48:59.960Z"
   },
   {
    "duration": 145,
    "start_time": "2022-09-03T18:49:00.237Z"
   },
   {
    "duration": 294,
    "start_time": "2022-09-03T18:49:00.384Z"
   },
   {
    "duration": 146,
    "start_time": "2022-09-03T18:49:00.680Z"
   },
   {
    "duration": 166,
    "start_time": "2022-09-03T18:49:00.828Z"
   },
   {
    "duration": 161,
    "start_time": "2022-09-03T18:49:00.995Z"
   },
   {
    "duration": 156,
    "start_time": "2022-09-03T18:49:01.158Z"
   },
   {
    "duration": 24,
    "start_time": "2022-09-03T18:49:01.316Z"
   },
   {
    "duration": 12,
    "start_time": "2022-09-03T18:49:01.342Z"
   },
   {
    "duration": 182,
    "start_time": "2022-09-03T18:49:01.355Z"
   },
   {
    "duration": 2,
    "start_time": "2022-09-03T18:49:01.539Z"
   },
   {
    "duration": 7776,
    "start_time": "2022-09-03T18:49:01.543Z"
   },
   {
    "duration": 371,
    "start_time": "2022-09-03T18:49:09.321Z"
   },
   {
    "duration": 17,
    "start_time": "2022-09-03T18:51:01.864Z"
   },
   {
    "duration": 719,
    "start_time": "2022-09-03T18:54:29.948Z"
   },
   {
    "duration": 4,
    "start_time": "2022-09-03T18:54:30.669Z"
   },
   {
    "duration": 238,
    "start_time": "2022-09-03T18:54:30.674Z"
   },
   {
    "duration": 18,
    "start_time": "2022-09-03T18:54:30.914Z"
   },
   {
    "duration": 185,
    "start_time": "2022-09-03T18:54:30.934Z"
   },
   {
    "duration": 37,
    "start_time": "2022-09-03T18:54:31.121Z"
   },
   {
    "duration": 18,
    "start_time": "2022-09-03T18:54:31.160Z"
   },
   {
    "duration": 196,
    "start_time": "2022-09-03T18:54:31.179Z"
   },
   {
    "duration": 50,
    "start_time": "2022-09-03T18:54:31.377Z"
   },
   {
    "duration": 13,
    "start_time": "2022-09-03T18:54:31.428Z"
   },
   {
    "duration": 10,
    "start_time": "2022-09-03T18:54:31.442Z"
   },
   {
    "duration": 10,
    "start_time": "2022-09-03T18:54:31.454Z"
   },
   {
    "duration": 9,
    "start_time": "2022-09-03T18:54:31.465Z"
   },
   {
    "duration": 6,
    "start_time": "2022-09-03T18:54:31.509Z"
   },
   {
    "duration": 20,
    "start_time": "2022-09-03T18:54:31.516Z"
   },
   {
    "duration": 333,
    "start_time": "2022-09-03T18:54:31.538Z"
   },
   {
    "duration": 288,
    "start_time": "2022-09-03T18:54:31.873Z"
   },
   {
    "duration": 18,
    "start_time": "2022-09-03T18:54:32.163Z"
   },
   {
    "duration": 2,
    "start_time": "2022-09-03T18:54:32.183Z"
   },
   {
    "duration": 37,
    "start_time": "2022-09-03T18:54:32.187Z"
   },
   {
    "duration": 14,
    "start_time": "2022-09-03T18:54:32.226Z"
   },
   {
    "duration": 16,
    "start_time": "2022-09-03T18:54:32.241Z"
   },
   {
    "duration": 11,
    "start_time": "2022-09-03T18:54:32.258Z"
   },
   {
    "duration": 39,
    "start_time": "2022-09-03T18:54:32.270Z"
   },
   {
    "duration": 264,
    "start_time": "2022-09-03T18:54:32.310Z"
   },
   {
    "duration": 9,
    "start_time": "2022-09-03T18:54:32.576Z"
   },
   {
    "duration": 277,
    "start_time": "2022-09-03T18:54:32.587Z"
   },
   {
    "duration": 273,
    "start_time": "2022-09-03T18:54:32.866Z"
   },
   {
    "duration": 262,
    "start_time": "2022-09-03T18:54:33.141Z"
   },
   {
    "duration": 271,
    "start_time": "2022-09-03T18:54:33.409Z"
   },
   {
    "duration": 153,
    "start_time": "2022-09-03T18:54:33.682Z"
   },
   {
    "duration": 165,
    "start_time": "2022-09-03T18:54:33.836Z"
   },
   {
    "duration": 177,
    "start_time": "2022-09-03T18:54:34.002Z"
   },
   {
    "duration": 119,
    "start_time": "2022-09-03T18:54:34.181Z"
   },
   {
    "duration": 157,
    "start_time": "2022-09-03T18:54:34.308Z"
   },
   {
    "duration": 170,
    "start_time": "2022-09-03T18:54:34.467Z"
   },
   {
    "duration": 141,
    "start_time": "2022-09-03T18:54:34.639Z"
   },
   {
    "duration": 178,
    "start_time": "2022-09-03T18:54:34.781Z"
   },
   {
    "duration": 437,
    "start_time": "2022-09-03T18:54:34.961Z"
   },
   {
    "duration": 516,
    "start_time": "2022-09-03T18:54:35.399Z"
   },
   {
    "duration": 168,
    "start_time": "2022-09-03T18:54:35.918Z"
   },
   {
    "duration": 156,
    "start_time": "2022-09-03T18:54:36.088Z"
   },
   {
    "duration": 148,
    "start_time": "2022-09-03T18:54:36.245Z"
   },
   {
    "duration": 271,
    "start_time": "2022-09-03T18:54:36.394Z"
   },
   {
    "duration": 145,
    "start_time": "2022-09-03T18:54:36.666Z"
   },
   {
    "duration": 150,
    "start_time": "2022-09-03T18:54:36.820Z"
   },
   {
    "duration": 260,
    "start_time": "2022-09-03T18:54:36.971Z"
   },
   {
    "duration": 186,
    "start_time": "2022-09-03T18:54:37.233Z"
   },
   {
    "duration": 22,
    "start_time": "2022-09-03T18:54:37.420Z"
   },
   {
    "duration": 10,
    "start_time": "2022-09-03T18:54:37.444Z"
   },
   {
    "duration": 168,
    "start_time": "2022-09-03T18:54:37.456Z"
   },
   {
    "duration": 428,
    "start_time": "2022-09-03T18:54:37.626Z"
   },
   {
    "duration": 7710,
    "start_time": "2022-09-03T18:54:38.055Z"
   },
   {
    "duration": 404,
    "start_time": "2022-09-03T18:54:45.766Z"
   },
   {
    "duration": 1132,
    "start_time": "2022-09-04T00:16:41.198Z"
   },
   {
    "duration": 5,
    "start_time": "2022-09-04T00:16:42.332Z"
   },
   {
    "duration": 239,
    "start_time": "2022-09-04T00:16:42.339Z"
   },
   {
    "duration": 19,
    "start_time": "2022-09-04T00:16:42.580Z"
   },
   {
    "duration": 181,
    "start_time": "2022-09-04T00:16:42.600Z"
   },
   {
    "duration": 39,
    "start_time": "2022-09-04T00:16:42.786Z"
   },
   {
    "duration": 20,
    "start_time": "2022-09-04T00:16:42.826Z"
   },
   {
    "duration": 205,
    "start_time": "2022-09-04T00:16:42.848Z"
   },
   {
    "duration": 55,
    "start_time": "2022-09-04T00:16:43.055Z"
   },
   {
    "duration": 13,
    "start_time": "2022-09-04T00:16:43.113Z"
   },
   {
    "duration": 11,
    "start_time": "2022-09-04T00:16:43.128Z"
   },
   {
    "duration": 8,
    "start_time": "2022-09-04T00:16:43.141Z"
   },
   {
    "duration": 8,
    "start_time": "2022-09-04T00:16:43.150Z"
   },
   {
    "duration": 6,
    "start_time": "2022-09-04T00:16:43.186Z"
   },
   {
    "duration": 9,
    "start_time": "2022-09-04T00:16:43.194Z"
   },
   {
    "duration": 350,
    "start_time": "2022-09-04T00:16:43.205Z"
   },
   {
    "duration": 295,
    "start_time": "2022-09-04T00:16:43.557Z"
   },
   {
    "duration": 17,
    "start_time": "2022-09-04T00:16:43.854Z"
   },
   {
    "duration": 14,
    "start_time": "2022-09-04T00:16:43.873Z"
   },
   {
    "duration": 17,
    "start_time": "2022-09-04T00:16:43.889Z"
   },
   {
    "duration": 14,
    "start_time": "2022-09-04T00:16:43.907Z"
   },
   {
    "duration": 16,
    "start_time": "2022-09-04T00:16:43.923Z"
   },
   {
    "duration": 11,
    "start_time": "2022-09-04T00:16:43.941Z"
   },
   {
    "duration": 42,
    "start_time": "2022-09-04T00:16:43.953Z"
   },
   {
    "duration": 292,
    "start_time": "2022-09-04T00:16:43.996Z"
   },
   {
    "duration": 8,
    "start_time": "2022-09-04T00:16:44.289Z"
   },
   {
    "duration": 302,
    "start_time": "2022-09-04T00:16:44.298Z"
   },
   {
    "duration": 362,
    "start_time": "2022-09-04T00:16:44.604Z"
   },
   {
    "duration": 197,
    "start_time": "2022-09-04T00:16:44.969Z"
   },
   {
    "duration": 273,
    "start_time": "2022-09-04T00:16:45.168Z"
   },
   {
    "duration": 161,
    "start_time": "2022-09-04T00:16:45.443Z"
   },
   {
    "duration": 183,
    "start_time": "2022-09-04T00:16:45.606Z"
   },
   {
    "duration": 180,
    "start_time": "2022-09-04T00:16:45.790Z"
   },
   {
    "duration": 122,
    "start_time": "2022-09-04T00:16:45.972Z"
   },
   {
    "duration": 173,
    "start_time": "2022-09-04T00:16:46.096Z"
   },
   {
    "duration": 213,
    "start_time": "2022-09-04T00:16:46.271Z"
   },
   {
    "duration": 227,
    "start_time": "2022-09-04T00:16:46.486Z"
   },
   {
    "duration": 185,
    "start_time": "2022-09-04T00:16:46.714Z"
   },
   {
    "duration": 371,
    "start_time": "2022-09-04T00:16:46.901Z"
   },
   {
    "duration": 548,
    "start_time": "2022-09-04T00:16:47.273Z"
   },
   {
    "duration": 149,
    "start_time": "2022-09-04T00:16:47.822Z"
   },
   {
    "duration": 172,
    "start_time": "2022-09-04T00:16:47.972Z"
   },
   {
    "duration": 258,
    "start_time": "2022-09-04T00:16:48.145Z"
   },
   {
    "duration": 585,
    "start_time": "2022-09-04T00:16:48.404Z"
   },
   {
    "duration": 431,
    "start_time": "2022-09-04T00:16:48.991Z"
   },
   {
    "duration": 369,
    "start_time": "2022-09-04T00:16:49.424Z"
   },
   {
    "duration": 211,
    "start_time": "2022-09-04T00:16:49.794Z"
   },
   {
    "duration": 175,
    "start_time": "2022-09-04T00:16:50.006Z"
   },
   {
    "duration": 25,
    "start_time": "2022-09-04T00:16:50.186Z"
   },
   {
    "duration": 12,
    "start_time": "2022-09-04T00:16:50.213Z"
   },
   {
    "duration": 180,
    "start_time": "2022-09-04T00:16:50.227Z"
   },
   {
    "duration": 505,
    "start_time": "2022-09-04T00:16:50.409Z"
   },
   {
    "duration": 8068,
    "start_time": "2022-09-04T00:16:50.915Z"
   },
   {
    "duration": 384,
    "start_time": "2022-09-04T00:16:58.985Z"
   },
   {
    "duration": 111,
    "start_time": "2022-09-04T00:17:57.101Z"
   },
   {
    "duration": 19,
    "start_time": "2022-09-04T00:18:10.249Z"
   },
   {
    "duration": 104,
    "start_time": "2022-09-04T00:20:34.273Z"
   },
   {
    "duration": 117,
    "start_time": "2022-09-04T00:21:21.663Z"
   },
   {
    "duration": 758,
    "start_time": "2022-09-04T00:21:29.927Z"
   },
   {
    "duration": 5,
    "start_time": "2022-09-04T00:21:30.687Z"
   },
   {
    "duration": 269,
    "start_time": "2022-09-04T00:21:30.693Z"
   },
   {
    "duration": 29,
    "start_time": "2022-09-04T00:21:30.965Z"
   },
   {
    "duration": 191,
    "start_time": "2022-09-04T00:21:30.996Z"
   },
   {
    "duration": 41,
    "start_time": "2022-09-04T00:21:31.188Z"
   },
   {
    "duration": 20,
    "start_time": "2022-09-04T00:21:31.230Z"
   },
   {
    "duration": 208,
    "start_time": "2022-09-04T00:21:31.252Z"
   },
   {
    "duration": 55,
    "start_time": "2022-09-04T00:21:31.462Z"
   },
   {
    "duration": 13,
    "start_time": "2022-09-04T00:21:31.519Z"
   },
   {
    "duration": 27,
    "start_time": "2022-09-04T00:21:31.534Z"
   },
   {
    "duration": 25,
    "start_time": "2022-09-04T00:21:31.563Z"
   },
   {
    "duration": 25,
    "start_time": "2022-09-04T00:21:31.589Z"
   },
   {
    "duration": 8,
    "start_time": "2022-09-04T00:21:31.616Z"
   },
   {
    "duration": 21,
    "start_time": "2022-09-04T00:21:31.625Z"
   },
   {
    "duration": 353,
    "start_time": "2022-09-04T00:21:31.648Z"
   },
   {
    "duration": 305,
    "start_time": "2022-09-04T00:21:32.002Z"
   },
   {
    "duration": 105,
    "start_time": "2022-09-04T00:21:32.309Z"
   },
   {
    "duration": 3,
    "start_time": "2022-09-04T00:21:32.415Z"
   },
   {
    "duration": 109,
    "start_time": "2022-09-04T00:21:32.419Z"
   },
   {
    "duration": 16,
    "start_time": "2022-09-04T00:21:32.529Z"
   },
   {
    "duration": 23,
    "start_time": "2022-09-04T00:21:32.547Z"
   },
   {
    "duration": 80,
    "start_time": "2022-09-04T00:21:32.587Z"
   },
   {
    "duration": 0,
    "start_time": "2022-09-04T00:21:32.670Z"
   },
   {
    "duration": 0,
    "start_time": "2022-09-04T00:21:32.671Z"
   },
   {
    "duration": 0,
    "start_time": "2022-09-04T00:21:32.673Z"
   },
   {
    "duration": 0,
    "start_time": "2022-09-04T00:21:32.687Z"
   },
   {
    "duration": 0,
    "start_time": "2022-09-04T00:21:32.688Z"
   },
   {
    "duration": 0,
    "start_time": "2022-09-04T00:21:32.690Z"
   },
   {
    "duration": 0,
    "start_time": "2022-09-04T00:21:32.691Z"
   },
   {
    "duration": 0,
    "start_time": "2022-09-04T00:21:32.693Z"
   },
   {
    "duration": 0,
    "start_time": "2022-09-04T00:21:32.694Z"
   },
   {
    "duration": 0,
    "start_time": "2022-09-04T00:21:32.696Z"
   },
   {
    "duration": 0,
    "start_time": "2022-09-04T00:21:32.697Z"
   },
   {
    "duration": 0,
    "start_time": "2022-09-04T00:21:32.698Z"
   },
   {
    "duration": 0,
    "start_time": "2022-09-04T00:21:32.700Z"
   },
   {
    "duration": 0,
    "start_time": "2022-09-04T00:21:32.701Z"
   },
   {
    "duration": 1,
    "start_time": "2022-09-04T00:21:32.702Z"
   },
   {
    "duration": 0,
    "start_time": "2022-09-04T00:21:32.704Z"
   },
   {
    "duration": 0,
    "start_time": "2022-09-04T00:21:32.705Z"
   },
   {
    "duration": 0,
    "start_time": "2022-09-04T00:21:32.707Z"
   },
   {
    "duration": 0,
    "start_time": "2022-09-04T00:21:32.708Z"
   },
   {
    "duration": 0,
    "start_time": "2022-09-04T00:21:32.709Z"
   },
   {
    "duration": 0,
    "start_time": "2022-09-04T00:21:32.711Z"
   },
   {
    "duration": 0,
    "start_time": "2022-09-04T00:21:32.712Z"
   },
   {
    "duration": 0,
    "start_time": "2022-09-04T00:21:32.713Z"
   },
   {
    "duration": 0,
    "start_time": "2022-09-04T00:21:32.714Z"
   },
   {
    "duration": 0,
    "start_time": "2022-09-04T00:21:32.715Z"
   },
   {
    "duration": 0,
    "start_time": "2022-09-04T00:21:32.716Z"
   },
   {
    "duration": 0,
    "start_time": "2022-09-04T00:21:32.717Z"
   },
   {
    "duration": 0,
    "start_time": "2022-09-04T00:21:32.718Z"
   },
   {
    "duration": 0,
    "start_time": "2022-09-04T00:21:32.719Z"
   },
   {
    "duration": 0,
    "start_time": "2022-09-04T00:21:32.721Z"
   },
   {
    "duration": 0,
    "start_time": "2022-09-04T00:21:32.721Z"
   },
   {
    "duration": 401,
    "start_time": "2022-09-04T00:22:10.794Z"
   },
   {
    "duration": 98,
    "start_time": "2022-09-04T00:22:48.537Z"
   },
   {
    "duration": 91,
    "start_time": "2022-09-04T00:22:50.752Z"
   },
   {
    "duration": 111,
    "start_time": "2022-09-04T00:23:11.955Z"
   },
   {
    "duration": 11,
    "start_time": "2022-09-04T00:23:18.478Z"
   },
   {
    "duration": 11,
    "start_time": "2022-09-04T00:23:30.920Z"
   },
   {
    "duration": 10,
    "start_time": "2022-09-04T00:23:34.746Z"
   },
   {
    "duration": 702,
    "start_time": "2022-09-04T00:23:48.037Z"
   },
   {
    "duration": 3,
    "start_time": "2022-09-04T00:23:48.741Z"
   },
   {
    "duration": 241,
    "start_time": "2022-09-04T00:23:48.746Z"
   },
   {
    "duration": 19,
    "start_time": "2022-09-04T00:23:48.989Z"
   },
   {
    "duration": 190,
    "start_time": "2022-09-04T00:23:49.010Z"
   },
   {
    "duration": 37,
    "start_time": "2022-09-04T00:23:49.202Z"
   },
   {
    "duration": 20,
    "start_time": "2022-09-04T00:23:49.241Z"
   },
   {
    "duration": 200,
    "start_time": "2022-09-04T00:23:49.262Z"
   },
   {
    "duration": 58,
    "start_time": "2022-09-04T00:23:49.463Z"
   },
   {
    "duration": 13,
    "start_time": "2022-09-04T00:23:49.523Z"
   },
   {
    "duration": 12,
    "start_time": "2022-09-04T00:23:49.537Z"
   },
   {
    "duration": 11,
    "start_time": "2022-09-04T00:23:49.550Z"
   },
   {
    "duration": 29,
    "start_time": "2022-09-04T00:23:49.563Z"
   },
   {
    "duration": 4,
    "start_time": "2022-09-04T00:23:49.594Z"
   },
   {
    "duration": 9,
    "start_time": "2022-09-04T00:23:49.600Z"
   },
   {
    "duration": 352,
    "start_time": "2022-09-04T00:23:49.610Z"
   },
   {
    "duration": 308,
    "start_time": "2022-09-04T00:23:49.964Z"
   },
   {
    "duration": 117,
    "start_time": "2022-09-04T00:23:50.273Z"
   },
   {
    "duration": 2,
    "start_time": "2022-09-04T00:23:50.392Z"
   },
   {
    "duration": 1739,
    "start_time": "2022-09-04T00:23:50.396Z"
   },
   {
    "duration": 0,
    "start_time": "2022-09-04T00:23:52.138Z"
   },
   {
    "duration": 0,
    "start_time": "2022-09-04T00:23:52.139Z"
   },
   {
    "duration": 0,
    "start_time": "2022-09-04T00:23:52.140Z"
   },
   {
    "duration": 0,
    "start_time": "2022-09-04T00:23:52.141Z"
   },
   {
    "duration": 0,
    "start_time": "2022-09-04T00:23:52.141Z"
   },
   {
    "duration": 0,
    "start_time": "2022-09-04T00:23:52.142Z"
   },
   {
    "duration": 0,
    "start_time": "2022-09-04T00:23:52.143Z"
   },
   {
    "duration": 0,
    "start_time": "2022-09-04T00:23:52.144Z"
   },
   {
    "duration": 0,
    "start_time": "2022-09-04T00:23:52.146Z"
   },
   {
    "duration": 0,
    "start_time": "2022-09-04T00:23:52.146Z"
   },
   {
    "duration": 0,
    "start_time": "2022-09-04T00:23:52.148Z"
   },
   {
    "duration": 0,
    "start_time": "2022-09-04T00:23:52.149Z"
   },
   {
    "duration": 0,
    "start_time": "2022-09-04T00:23:52.150Z"
   },
   {
    "duration": 0,
    "start_time": "2022-09-04T00:23:52.151Z"
   },
   {
    "duration": 0,
    "start_time": "2022-09-04T00:23:52.152Z"
   },
   {
    "duration": 0,
    "start_time": "2022-09-04T00:23:52.153Z"
   },
   {
    "duration": 0,
    "start_time": "2022-09-04T00:23:52.154Z"
   },
   {
    "duration": 0,
    "start_time": "2022-09-04T00:23:52.155Z"
   },
   {
    "duration": 0,
    "start_time": "2022-09-04T00:23:52.156Z"
   },
   {
    "duration": 0,
    "start_time": "2022-09-04T00:23:52.157Z"
   },
   {
    "duration": 0,
    "start_time": "2022-09-04T00:23:52.158Z"
   },
   {
    "duration": 0,
    "start_time": "2022-09-04T00:23:52.159Z"
   },
   {
    "duration": 0,
    "start_time": "2022-09-04T00:23:52.160Z"
   },
   {
    "duration": 0,
    "start_time": "2022-09-04T00:23:52.161Z"
   },
   {
    "duration": 0,
    "start_time": "2022-09-04T00:23:52.162Z"
   },
   {
    "duration": 0,
    "start_time": "2022-09-04T00:23:52.163Z"
   },
   {
    "duration": 0,
    "start_time": "2022-09-04T00:23:52.164Z"
   },
   {
    "duration": 0,
    "start_time": "2022-09-04T00:23:52.166Z"
   },
   {
    "duration": 0,
    "start_time": "2022-09-04T00:23:52.166Z"
   },
   {
    "duration": 0,
    "start_time": "2022-09-04T00:23:52.168Z"
   },
   {
    "duration": 0,
    "start_time": "2022-09-04T00:23:52.169Z"
   },
   {
    "duration": 0,
    "start_time": "2022-09-04T00:23:52.170Z"
   },
   {
    "duration": 0,
    "start_time": "2022-09-04T00:23:52.171Z"
   },
   {
    "duration": 0,
    "start_time": "2022-09-04T00:23:52.172Z"
   },
   {
    "duration": 429,
    "start_time": "2022-09-04T00:25:23.355Z"
   },
   {
    "duration": 109,
    "start_time": "2022-09-04T00:25:34.101Z"
   },
   {
    "duration": 86,
    "start_time": "2022-09-04T00:25:44.254Z"
   },
   {
    "duration": 90,
    "start_time": "2022-09-04T00:25:49.188Z"
   },
   {
    "duration": 145,
    "start_time": "2022-09-04T00:25:55.337Z"
   },
   {
    "duration": 97,
    "start_time": "2022-09-04T00:26:10.321Z"
   },
   {
    "duration": 89,
    "start_time": "2022-09-04T00:26:13.219Z"
   },
   {
    "duration": 763,
    "start_time": "2022-09-04T00:26:21.347Z"
   },
   {
    "duration": 4,
    "start_time": "2022-09-04T00:26:22.112Z"
   },
   {
    "duration": 239,
    "start_time": "2022-09-04T00:26:22.117Z"
   },
   {
    "duration": 31,
    "start_time": "2022-09-04T00:26:22.359Z"
   },
   {
    "duration": 191,
    "start_time": "2022-09-04T00:26:22.392Z"
   },
   {
    "duration": 40,
    "start_time": "2022-09-04T00:26:22.586Z"
   },
   {
    "duration": 20,
    "start_time": "2022-09-04T00:26:22.628Z"
   },
   {
    "duration": 209,
    "start_time": "2022-09-04T00:26:22.650Z"
   },
   {
    "duration": 62,
    "start_time": "2022-09-04T00:26:22.860Z"
   },
   {
    "duration": 14,
    "start_time": "2022-09-04T00:26:22.924Z"
   },
   {
    "duration": 11,
    "start_time": "2022-09-04T00:26:22.939Z"
   },
   {
    "duration": 8,
    "start_time": "2022-09-04T00:26:22.952Z"
   },
   {
    "duration": 31,
    "start_time": "2022-09-04T00:26:22.961Z"
   },
   {
    "duration": 6,
    "start_time": "2022-09-04T00:26:22.993Z"
   },
   {
    "duration": 14,
    "start_time": "2022-09-04T00:26:23.000Z"
   },
   {
    "duration": 362,
    "start_time": "2022-09-04T00:26:23.015Z"
   },
   {
    "duration": 294,
    "start_time": "2022-09-04T00:26:23.379Z"
   },
   {
    "duration": 125,
    "start_time": "2022-09-04T00:26:23.675Z"
   },
   {
    "duration": 3,
    "start_time": "2022-09-04T00:26:23.802Z"
   },
   {
    "duration": 99,
    "start_time": "2022-09-04T00:26:23.806Z"
   },
   {
    "duration": 15,
    "start_time": "2022-09-04T00:26:23.907Z"
   },
   {
    "duration": 22,
    "start_time": "2022-09-04T00:26:23.924Z"
   },
   {
    "duration": 102,
    "start_time": "2022-09-04T00:26:23.948Z"
   },
   {
    "duration": 0,
    "start_time": "2022-09-04T00:26:24.052Z"
   },
   {
    "duration": 0,
    "start_time": "2022-09-04T00:26:24.053Z"
   },
   {
    "duration": 0,
    "start_time": "2022-09-04T00:26:24.054Z"
   },
   {
    "duration": 0,
    "start_time": "2022-09-04T00:26:24.055Z"
   },
   {
    "duration": 0,
    "start_time": "2022-09-04T00:26:24.056Z"
   },
   {
    "duration": 0,
    "start_time": "2022-09-04T00:26:24.057Z"
   },
   {
    "duration": 0,
    "start_time": "2022-09-04T00:26:24.058Z"
   },
   {
    "duration": 0,
    "start_time": "2022-09-04T00:26:24.060Z"
   },
   {
    "duration": 0,
    "start_time": "2022-09-04T00:26:24.061Z"
   },
   {
    "duration": 0,
    "start_time": "2022-09-04T00:26:24.062Z"
   },
   {
    "duration": 0,
    "start_time": "2022-09-04T00:26:24.062Z"
   },
   {
    "duration": 0,
    "start_time": "2022-09-04T00:26:24.063Z"
   },
   {
    "duration": 0,
    "start_time": "2022-09-04T00:26:24.064Z"
   },
   {
    "duration": 0,
    "start_time": "2022-09-04T00:26:24.087Z"
   },
   {
    "duration": 0,
    "start_time": "2022-09-04T00:26:24.088Z"
   },
   {
    "duration": 0,
    "start_time": "2022-09-04T00:26:24.089Z"
   },
   {
    "duration": 0,
    "start_time": "2022-09-04T00:26:24.090Z"
   },
   {
    "duration": 0,
    "start_time": "2022-09-04T00:26:24.091Z"
   },
   {
    "duration": 0,
    "start_time": "2022-09-04T00:26:24.091Z"
   },
   {
    "duration": 0,
    "start_time": "2022-09-04T00:26:24.093Z"
   },
   {
    "duration": 0,
    "start_time": "2022-09-04T00:26:24.093Z"
   },
   {
    "duration": 0,
    "start_time": "2022-09-04T00:26:24.094Z"
   },
   {
    "duration": 0,
    "start_time": "2022-09-04T00:26:24.095Z"
   },
   {
    "duration": 0,
    "start_time": "2022-09-04T00:26:24.096Z"
   },
   {
    "duration": 0,
    "start_time": "2022-09-04T00:26:24.097Z"
   },
   {
    "duration": 0,
    "start_time": "2022-09-04T00:26:24.098Z"
   },
   {
    "duration": 0,
    "start_time": "2022-09-04T00:26:24.099Z"
   },
   {
    "duration": 1,
    "start_time": "2022-09-04T00:26:24.100Z"
   },
   {
    "duration": 0,
    "start_time": "2022-09-04T00:26:24.101Z"
   },
   {
    "duration": 0,
    "start_time": "2022-09-04T00:26:24.103Z"
   },
   {
    "duration": 0,
    "start_time": "2022-09-04T00:26:24.104Z"
   },
   {
    "duration": 166,
    "start_time": "2022-09-04T00:27:23.607Z"
   },
   {
    "duration": 89,
    "start_time": "2022-09-04T00:27:52.045Z"
   },
   {
    "duration": 95,
    "start_time": "2022-09-04T00:28:09.043Z"
   },
   {
    "duration": 93,
    "start_time": "2022-09-04T00:28:24.731Z"
   },
   {
    "duration": 153,
    "start_time": "2022-09-04T00:28:30.103Z"
   },
   {
    "duration": 749,
    "start_time": "2022-09-04T00:28:34.999Z"
   },
   {
    "duration": 5,
    "start_time": "2022-09-04T00:28:35.749Z"
   },
   {
    "duration": 243,
    "start_time": "2022-09-04T00:28:35.755Z"
   },
   {
    "duration": 22,
    "start_time": "2022-09-04T00:28:36.000Z"
   },
   {
    "duration": 205,
    "start_time": "2022-09-04T00:28:36.024Z"
   },
   {
    "duration": 45,
    "start_time": "2022-09-04T00:28:36.231Z"
   },
   {
    "duration": 24,
    "start_time": "2022-09-04T00:28:36.288Z"
   },
   {
    "duration": 217,
    "start_time": "2022-09-04T00:28:36.314Z"
   },
   {
    "duration": 59,
    "start_time": "2022-09-04T00:28:36.533Z"
   },
   {
    "duration": 15,
    "start_time": "2022-09-04T00:28:36.595Z"
   },
   {
    "duration": 52,
    "start_time": "2022-09-04T00:28:36.611Z"
   },
   {
    "duration": 18,
    "start_time": "2022-09-04T00:28:36.665Z"
   },
   {
    "duration": 17,
    "start_time": "2022-09-04T00:28:36.685Z"
   },
   {
    "duration": 19,
    "start_time": "2022-09-04T00:28:36.704Z"
   },
   {
    "duration": 23,
    "start_time": "2022-09-04T00:28:36.725Z"
   },
   {
    "duration": 340,
    "start_time": "2022-09-04T00:28:36.750Z"
   },
   {
    "duration": 296,
    "start_time": "2022-09-04T00:28:37.093Z"
   },
   {
    "duration": 113,
    "start_time": "2022-09-04T00:28:37.391Z"
   },
   {
    "duration": 3,
    "start_time": "2022-09-04T00:28:37.505Z"
   },
   {
    "duration": 375,
    "start_time": "2022-09-04T00:28:37.509Z"
   },
   {
    "duration": 0,
    "start_time": "2022-09-04T00:28:37.888Z"
   },
   {
    "duration": 0,
    "start_time": "2022-09-04T00:28:37.888Z"
   },
   {
    "duration": 0,
    "start_time": "2022-09-04T00:28:37.890Z"
   },
   {
    "duration": 0,
    "start_time": "2022-09-04T00:28:37.891Z"
   },
   {
    "duration": 0,
    "start_time": "2022-09-04T00:28:37.892Z"
   },
   {
    "duration": 0,
    "start_time": "2022-09-04T00:28:37.893Z"
   },
   {
    "duration": 0,
    "start_time": "2022-09-04T00:28:37.894Z"
   },
   {
    "duration": 0,
    "start_time": "2022-09-04T00:28:37.895Z"
   },
   {
    "duration": 0,
    "start_time": "2022-09-04T00:28:37.896Z"
   },
   {
    "duration": 1,
    "start_time": "2022-09-04T00:28:37.897Z"
   },
   {
    "duration": 0,
    "start_time": "2022-09-04T00:28:37.898Z"
   },
   {
    "duration": 0,
    "start_time": "2022-09-04T00:28:37.899Z"
   },
   {
    "duration": 0,
    "start_time": "2022-09-04T00:28:37.900Z"
   },
   {
    "duration": 0,
    "start_time": "2022-09-04T00:28:37.902Z"
   },
   {
    "duration": 0,
    "start_time": "2022-09-04T00:28:37.903Z"
   },
   {
    "duration": 0,
    "start_time": "2022-09-04T00:28:37.904Z"
   },
   {
    "duration": 0,
    "start_time": "2022-09-04T00:28:37.905Z"
   },
   {
    "duration": 0,
    "start_time": "2022-09-04T00:28:37.906Z"
   },
   {
    "duration": 0,
    "start_time": "2022-09-04T00:28:37.907Z"
   },
   {
    "duration": 0,
    "start_time": "2022-09-04T00:28:37.908Z"
   },
   {
    "duration": 0,
    "start_time": "2022-09-04T00:28:37.909Z"
   },
   {
    "duration": 0,
    "start_time": "2022-09-04T00:28:37.910Z"
   },
   {
    "duration": 0,
    "start_time": "2022-09-04T00:28:37.911Z"
   },
   {
    "duration": 0,
    "start_time": "2022-09-04T00:28:37.912Z"
   },
   {
    "duration": 0,
    "start_time": "2022-09-04T00:28:37.914Z"
   },
   {
    "duration": 0,
    "start_time": "2022-09-04T00:28:37.915Z"
   },
   {
    "duration": 0,
    "start_time": "2022-09-04T00:28:37.916Z"
   },
   {
    "duration": 0,
    "start_time": "2022-09-04T00:28:37.917Z"
   },
   {
    "duration": 1,
    "start_time": "2022-09-04T00:28:37.917Z"
   },
   {
    "duration": 0,
    "start_time": "2022-09-04T00:28:37.919Z"
   },
   {
    "duration": 0,
    "start_time": "2022-09-04T00:28:37.920Z"
   },
   {
    "duration": 0,
    "start_time": "2022-09-04T00:28:37.920Z"
   },
   {
    "duration": 0,
    "start_time": "2022-09-04T00:28:37.921Z"
   },
   {
    "duration": 0,
    "start_time": "2022-09-04T00:28:37.922Z"
   },
   {
    "duration": 401,
    "start_time": "2022-09-04T00:33:44.819Z"
   },
   {
    "duration": 95,
    "start_time": "2022-09-04T00:34:18.615Z"
   },
   {
    "duration": 88,
    "start_time": "2022-09-04T00:34:24.910Z"
   },
   {
    "duration": 111,
    "start_time": "2022-09-04T00:34:26.281Z"
   },
   {
    "duration": 154,
    "start_time": "2022-09-04T00:34:28.528Z"
   },
   {
    "duration": 751,
    "start_time": "2022-09-04T00:34:36.597Z"
   },
   {
    "duration": 4,
    "start_time": "2022-09-04T00:34:37.350Z"
   },
   {
    "duration": 239,
    "start_time": "2022-09-04T00:34:37.355Z"
   },
   {
    "duration": 23,
    "start_time": "2022-09-04T00:34:37.595Z"
   },
   {
    "duration": 196,
    "start_time": "2022-09-04T00:34:37.620Z"
   },
   {
    "duration": 38,
    "start_time": "2022-09-04T00:34:37.817Z"
   },
   {
    "duration": 32,
    "start_time": "2022-09-04T00:34:37.856Z"
   },
   {
    "duration": 192,
    "start_time": "2022-09-04T00:34:37.890Z"
   },
   {
    "duration": 51,
    "start_time": "2022-09-04T00:34:38.084Z"
   },
   {
    "duration": 14,
    "start_time": "2022-09-04T00:34:38.137Z"
   },
   {
    "duration": 11,
    "start_time": "2022-09-04T00:34:38.153Z"
   },
   {
    "duration": 25,
    "start_time": "2022-09-04T00:34:38.166Z"
   },
   {
    "duration": 13,
    "start_time": "2022-09-04T00:34:38.193Z"
   },
   {
    "duration": 5,
    "start_time": "2022-09-04T00:34:38.208Z"
   },
   {
    "duration": 9,
    "start_time": "2022-09-04T00:34:38.215Z"
   },
   {
    "duration": 361,
    "start_time": "2022-09-04T00:34:38.225Z"
   },
   {
    "duration": 303,
    "start_time": "2022-09-04T00:34:38.588Z"
   },
   {
    "duration": 122,
    "start_time": "2022-09-04T00:34:38.892Z"
   },
   {
    "duration": 2,
    "start_time": "2022-09-04T00:34:39.016Z"
   },
   {
    "duration": 349,
    "start_time": "2022-09-04T00:34:39.019Z"
   },
   {
    "duration": 0,
    "start_time": "2022-09-04T00:34:39.371Z"
   },
   {
    "duration": 0,
    "start_time": "2022-09-04T00:34:39.372Z"
   },
   {
    "duration": 0,
    "start_time": "2022-09-04T00:34:39.373Z"
   },
   {
    "duration": 0,
    "start_time": "2022-09-04T00:34:39.374Z"
   },
   {
    "duration": 0,
    "start_time": "2022-09-04T00:34:39.375Z"
   },
   {
    "duration": 0,
    "start_time": "2022-09-04T00:34:39.376Z"
   },
   {
    "duration": 0,
    "start_time": "2022-09-04T00:34:39.377Z"
   },
   {
    "duration": 0,
    "start_time": "2022-09-04T00:34:39.378Z"
   },
   {
    "duration": 0,
    "start_time": "2022-09-04T00:34:39.379Z"
   },
   {
    "duration": 0,
    "start_time": "2022-09-04T00:34:39.380Z"
   },
   {
    "duration": 0,
    "start_time": "2022-09-04T00:34:39.381Z"
   },
   {
    "duration": 0,
    "start_time": "2022-09-04T00:34:39.382Z"
   },
   {
    "duration": 0,
    "start_time": "2022-09-04T00:34:39.383Z"
   },
   {
    "duration": 0,
    "start_time": "2022-09-04T00:34:39.384Z"
   },
   {
    "duration": 0,
    "start_time": "2022-09-04T00:34:39.384Z"
   },
   {
    "duration": 0,
    "start_time": "2022-09-04T00:34:39.385Z"
   },
   {
    "duration": 0,
    "start_time": "2022-09-04T00:34:39.386Z"
   },
   {
    "duration": 0,
    "start_time": "2022-09-04T00:34:39.387Z"
   },
   {
    "duration": 0,
    "start_time": "2022-09-04T00:34:39.388Z"
   },
   {
    "duration": 0,
    "start_time": "2022-09-04T00:34:39.389Z"
   },
   {
    "duration": 0,
    "start_time": "2022-09-04T00:34:39.390Z"
   },
   {
    "duration": 0,
    "start_time": "2022-09-04T00:34:39.390Z"
   },
   {
    "duration": 0,
    "start_time": "2022-09-04T00:34:39.391Z"
   },
   {
    "duration": 0,
    "start_time": "2022-09-04T00:34:39.392Z"
   },
   {
    "duration": 0,
    "start_time": "2022-09-04T00:34:39.393Z"
   },
   {
    "duration": 0,
    "start_time": "2022-09-04T00:34:39.394Z"
   },
   {
    "duration": 0,
    "start_time": "2022-09-04T00:34:39.395Z"
   },
   {
    "duration": 0,
    "start_time": "2022-09-04T00:34:39.396Z"
   },
   {
    "duration": 0,
    "start_time": "2022-09-04T00:34:39.397Z"
   },
   {
    "duration": 0,
    "start_time": "2022-09-04T00:34:39.397Z"
   },
   {
    "duration": 0,
    "start_time": "2022-09-04T00:34:39.398Z"
   },
   {
    "duration": 0,
    "start_time": "2022-09-04T00:34:39.399Z"
   },
   {
    "duration": 0,
    "start_time": "2022-09-04T00:34:39.400Z"
   },
   {
    "duration": 0,
    "start_time": "2022-09-04T00:34:39.401Z"
   },
   {
    "duration": 1106,
    "start_time": "2022-09-04T16:22:26.733Z"
   },
   {
    "duration": 4,
    "start_time": "2022-09-04T16:22:27.841Z"
   },
   {
    "duration": 269,
    "start_time": "2022-09-04T16:22:27.847Z"
   },
   {
    "duration": 18,
    "start_time": "2022-09-04T16:22:28.118Z"
   },
   {
    "duration": 204,
    "start_time": "2022-09-04T16:22:28.138Z"
   },
   {
    "duration": 58,
    "start_time": "2022-09-04T16:22:28.344Z"
   },
   {
    "duration": 20,
    "start_time": "2022-09-04T16:22:28.403Z"
   },
   {
    "duration": 206,
    "start_time": "2022-09-04T16:22:28.425Z"
   },
   {
    "duration": 63,
    "start_time": "2022-09-04T16:22:28.633Z"
   },
   {
    "duration": 13,
    "start_time": "2022-09-04T16:22:28.699Z"
   },
   {
    "duration": 10,
    "start_time": "2022-09-04T16:22:28.713Z"
   },
   {
    "duration": 7,
    "start_time": "2022-09-04T16:22:28.725Z"
   },
   {
    "duration": 7,
    "start_time": "2022-09-04T16:22:28.733Z"
   },
   {
    "duration": 33,
    "start_time": "2022-09-04T16:22:28.741Z"
   },
   {
    "duration": 23,
    "start_time": "2022-09-04T16:22:28.777Z"
   },
   {
    "duration": 353,
    "start_time": "2022-09-04T16:22:28.802Z"
   },
   {
    "duration": 334,
    "start_time": "2022-09-04T16:22:29.157Z"
   },
   {
    "duration": 123,
    "start_time": "2022-09-04T16:22:29.493Z"
   },
   {
    "duration": 2,
    "start_time": "2022-09-04T16:22:29.618Z"
   },
   {
    "duration": 544,
    "start_time": "2022-09-04T16:22:29.621Z"
   },
   {
    "duration": 0,
    "start_time": "2022-09-04T16:22:30.173Z"
   },
   {
    "duration": 0,
    "start_time": "2022-09-04T16:22:30.174Z"
   },
   {
    "duration": 0,
    "start_time": "2022-09-04T16:22:30.175Z"
   },
   {
    "duration": 0,
    "start_time": "2022-09-04T16:22:30.177Z"
   },
   {
    "duration": 0,
    "start_time": "2022-09-04T16:22:30.178Z"
   },
   {
    "duration": 0,
    "start_time": "2022-09-04T16:22:30.179Z"
   },
   {
    "duration": 0,
    "start_time": "2022-09-04T16:22:30.181Z"
   },
   {
    "duration": 0,
    "start_time": "2022-09-04T16:22:30.182Z"
   },
   {
    "duration": 0,
    "start_time": "2022-09-04T16:22:30.183Z"
   },
   {
    "duration": 0,
    "start_time": "2022-09-04T16:22:30.184Z"
   },
   {
    "duration": 0,
    "start_time": "2022-09-04T16:22:30.185Z"
   },
   {
    "duration": 0,
    "start_time": "2022-09-04T16:22:30.186Z"
   },
   {
    "duration": 0,
    "start_time": "2022-09-04T16:22:30.187Z"
   },
   {
    "duration": 0,
    "start_time": "2022-09-04T16:22:30.189Z"
   },
   {
    "duration": 0,
    "start_time": "2022-09-04T16:22:30.190Z"
   },
   {
    "duration": 0,
    "start_time": "2022-09-04T16:22:30.191Z"
   },
   {
    "duration": 0,
    "start_time": "2022-09-04T16:22:30.192Z"
   },
   {
    "duration": 0,
    "start_time": "2022-09-04T16:22:30.193Z"
   },
   {
    "duration": 0,
    "start_time": "2022-09-04T16:22:30.194Z"
   },
   {
    "duration": 0,
    "start_time": "2022-09-04T16:22:30.196Z"
   },
   {
    "duration": 0,
    "start_time": "2022-09-04T16:22:30.197Z"
   },
   {
    "duration": 0,
    "start_time": "2022-09-04T16:22:30.198Z"
   },
   {
    "duration": 0,
    "start_time": "2022-09-04T16:22:30.199Z"
   },
   {
    "duration": 0,
    "start_time": "2022-09-04T16:22:30.201Z"
   },
   {
    "duration": 0,
    "start_time": "2022-09-04T16:22:30.202Z"
   },
   {
    "duration": 0,
    "start_time": "2022-09-04T16:22:30.203Z"
   },
   {
    "duration": 0,
    "start_time": "2022-09-04T16:22:30.205Z"
   },
   {
    "duration": 0,
    "start_time": "2022-09-04T16:22:30.206Z"
   },
   {
    "duration": 0,
    "start_time": "2022-09-04T16:22:30.208Z"
   },
   {
    "duration": 0,
    "start_time": "2022-09-04T16:22:30.209Z"
   },
   {
    "duration": 0,
    "start_time": "2022-09-04T16:22:30.210Z"
   },
   {
    "duration": 0,
    "start_time": "2022-09-04T16:22:30.212Z"
   },
   {
    "duration": 1,
    "start_time": "2022-09-04T16:22:30.213Z"
   },
   {
    "duration": 0,
    "start_time": "2022-09-04T16:22:30.215Z"
   },
   {
    "duration": 257,
    "start_time": "2022-09-04T16:23:42.954Z"
   },
   {
    "duration": 10,
    "start_time": "2022-09-04T16:26:11.226Z"
   },
   {
    "duration": 875,
    "start_time": "2022-09-04T16:26:28.254Z"
   },
   {
    "duration": 4,
    "start_time": "2022-09-04T16:26:29.131Z"
   },
   {
    "duration": 263,
    "start_time": "2022-09-04T16:26:29.136Z"
   },
   {
    "duration": 21,
    "start_time": "2022-09-04T16:26:29.401Z"
   },
   {
    "duration": 292,
    "start_time": "2022-09-04T16:26:29.424Z"
   },
   {
    "duration": 38,
    "start_time": "2022-09-04T16:26:29.718Z"
   },
   {
    "duration": 28,
    "start_time": "2022-09-04T16:26:29.757Z"
   },
   {
    "duration": 203,
    "start_time": "2022-09-04T16:26:29.787Z"
   },
   {
    "duration": 55,
    "start_time": "2022-09-04T16:26:29.993Z"
   },
   {
    "duration": 33,
    "start_time": "2022-09-04T16:26:30.051Z"
   },
   {
    "duration": 23,
    "start_time": "2022-09-04T16:26:30.093Z"
   },
   {
    "duration": 11,
    "start_time": "2022-09-04T16:26:30.118Z"
   },
   {
    "duration": 8,
    "start_time": "2022-09-04T16:26:30.131Z"
   },
   {
    "duration": 5,
    "start_time": "2022-09-04T16:26:30.142Z"
   },
   {
    "duration": 8,
    "start_time": "2022-09-04T16:26:30.149Z"
   },
   {
    "duration": 385,
    "start_time": "2022-09-04T16:26:30.159Z"
   },
   {
    "duration": 350,
    "start_time": "2022-09-04T16:26:30.545Z"
   },
   {
    "duration": 14,
    "start_time": "2022-09-04T16:26:30.902Z"
   },
   {
    "duration": 17,
    "start_time": "2022-09-04T16:26:30.918Z"
   },
   {
    "duration": 755,
    "start_time": "2022-09-04T16:26:30.937Z"
   },
   {
    "duration": 0,
    "start_time": "2022-09-04T16:26:31.697Z"
   },
   {
    "duration": 0,
    "start_time": "2022-09-04T16:26:31.700Z"
   },
   {
    "duration": 0,
    "start_time": "2022-09-04T16:26:31.701Z"
   },
   {
    "duration": 0,
    "start_time": "2022-09-04T16:26:31.702Z"
   },
   {
    "duration": 0,
    "start_time": "2022-09-04T16:26:31.703Z"
   },
   {
    "duration": 0,
    "start_time": "2022-09-04T16:26:31.704Z"
   },
   {
    "duration": 0,
    "start_time": "2022-09-04T16:26:31.705Z"
   },
   {
    "duration": 0,
    "start_time": "2022-09-04T16:26:31.709Z"
   },
   {
    "duration": 0,
    "start_time": "2022-09-04T16:26:31.710Z"
   },
   {
    "duration": 0,
    "start_time": "2022-09-04T16:26:31.711Z"
   },
   {
    "duration": 0,
    "start_time": "2022-09-04T16:26:31.712Z"
   },
   {
    "duration": 0,
    "start_time": "2022-09-04T16:26:31.713Z"
   },
   {
    "duration": 0,
    "start_time": "2022-09-04T16:26:31.714Z"
   },
   {
    "duration": 0,
    "start_time": "2022-09-04T16:26:31.715Z"
   },
   {
    "duration": 0,
    "start_time": "2022-09-04T16:26:31.716Z"
   },
   {
    "duration": 0,
    "start_time": "2022-09-04T16:26:31.717Z"
   },
   {
    "duration": 0,
    "start_time": "2022-09-04T16:26:31.718Z"
   },
   {
    "duration": 0,
    "start_time": "2022-09-04T16:26:31.720Z"
   },
   {
    "duration": 0,
    "start_time": "2022-09-04T16:26:31.721Z"
   },
   {
    "duration": 0,
    "start_time": "2022-09-04T16:26:31.722Z"
   },
   {
    "duration": 0,
    "start_time": "2022-09-04T16:26:31.723Z"
   },
   {
    "duration": 0,
    "start_time": "2022-09-04T16:26:31.724Z"
   },
   {
    "duration": 0,
    "start_time": "2022-09-04T16:26:31.726Z"
   },
   {
    "duration": 0,
    "start_time": "2022-09-04T16:26:31.727Z"
   },
   {
    "duration": 0,
    "start_time": "2022-09-04T16:26:31.729Z"
   },
   {
    "duration": 0,
    "start_time": "2022-09-04T16:26:31.730Z"
   },
   {
    "duration": 0,
    "start_time": "2022-09-04T16:26:31.731Z"
   },
   {
    "duration": 0,
    "start_time": "2022-09-04T16:26:31.733Z"
   },
   {
    "duration": 0,
    "start_time": "2022-09-04T16:26:31.734Z"
   },
   {
    "duration": 0,
    "start_time": "2022-09-04T16:26:31.735Z"
   },
   {
    "duration": 0,
    "start_time": "2022-09-04T16:26:31.737Z"
   },
   {
    "duration": 0,
    "start_time": "2022-09-04T16:26:31.738Z"
   },
   {
    "duration": 0,
    "start_time": "2022-09-04T16:26:31.739Z"
   },
   {
    "duration": 0,
    "start_time": "2022-09-04T16:26:31.741Z"
   },
   {
    "duration": 36,
    "start_time": "2022-09-04T16:27:35.064Z"
   },
   {
    "duration": 28,
    "start_time": "2022-09-04T16:27:51.188Z"
   },
   {
    "duration": 22,
    "start_time": "2022-09-04T16:28:50.724Z"
   },
   {
    "duration": 15,
    "start_time": "2022-09-04T16:29:19.219Z"
   },
   {
    "duration": 1030,
    "start_time": "2022-09-04T16:29:31.557Z"
   },
   {
    "duration": 6,
    "start_time": "2022-09-04T16:29:32.589Z"
   },
   {
    "duration": 352,
    "start_time": "2022-09-04T16:29:32.596Z"
   },
   {
    "duration": 24,
    "start_time": "2022-09-04T16:29:32.949Z"
   },
   {
    "duration": 318,
    "start_time": "2022-09-04T16:29:32.975Z"
   },
   {
    "duration": 60,
    "start_time": "2022-09-04T16:29:33.295Z"
   },
   {
    "duration": 57,
    "start_time": "2022-09-04T16:29:33.357Z"
   },
   {
    "duration": 265,
    "start_time": "2022-09-04T16:29:33.418Z"
   },
   {
    "duration": 71,
    "start_time": "2022-09-04T16:29:33.685Z"
   },
   {
    "duration": 24,
    "start_time": "2022-09-04T16:29:33.758Z"
   },
   {
    "duration": 63,
    "start_time": "2022-09-04T16:29:33.785Z"
   },
   {
    "duration": 10,
    "start_time": "2022-09-04T16:29:33.849Z"
   },
   {
    "duration": 12,
    "start_time": "2022-09-04T16:29:33.862Z"
   },
   {
    "duration": 58,
    "start_time": "2022-09-04T16:29:33.879Z"
   },
   {
    "duration": 12,
    "start_time": "2022-09-04T16:29:33.940Z"
   },
   {
    "duration": 556,
    "start_time": "2022-09-04T16:29:33.954Z"
   },
   {
    "duration": 389,
    "start_time": "2022-09-04T16:29:34.512Z"
   },
   {
    "duration": 28,
    "start_time": "2022-09-04T16:29:34.905Z"
   },
   {
    "duration": 57,
    "start_time": "2022-09-04T16:29:34.937Z"
   },
   {
    "duration": 69,
    "start_time": "2022-09-04T16:29:34.996Z"
   },
   {
    "duration": 83,
    "start_time": "2022-09-04T16:29:35.067Z"
   },
   {
    "duration": 10,
    "start_time": "2022-09-04T16:29:35.152Z"
   },
   {
    "duration": 23,
    "start_time": "2022-09-04T16:29:35.164Z"
   },
   {
    "duration": 420,
    "start_time": "2022-09-04T16:29:35.189Z"
   },
   {
    "duration": 11,
    "start_time": "2022-09-04T16:29:35.612Z"
   },
   {
    "duration": 425,
    "start_time": "2022-09-04T16:29:35.625Z"
   },
   {
    "duration": 392,
    "start_time": "2022-09-04T16:29:36.052Z"
   },
   {
    "duration": 371,
    "start_time": "2022-09-04T16:29:36.446Z"
   },
   {
    "duration": 686,
    "start_time": "2022-09-04T16:29:36.819Z"
   },
   {
    "duration": 400,
    "start_time": "2022-09-04T16:29:37.507Z"
   },
   {
    "duration": 520,
    "start_time": "2022-09-04T16:29:37.909Z"
   },
   {
    "duration": 472,
    "start_time": "2022-09-04T16:29:38.430Z"
   },
   {
    "duration": 339,
    "start_time": "2022-09-04T16:29:38.905Z"
   },
   {
    "duration": 404,
    "start_time": "2022-09-04T16:29:39.246Z"
   },
   {
    "duration": 218,
    "start_time": "2022-09-04T16:29:39.652Z"
   },
   {
    "duration": 189,
    "start_time": "2022-09-04T16:29:39.875Z"
   },
   {
    "duration": 279,
    "start_time": "2022-09-04T16:29:40.083Z"
   },
   {
    "duration": 633,
    "start_time": "2022-09-04T16:29:40.370Z"
   },
   {
    "duration": 844,
    "start_time": "2022-09-04T16:29:41.004Z"
   },
   {
    "duration": 243,
    "start_time": "2022-09-04T16:29:41.850Z"
   },
   {
    "duration": 216,
    "start_time": "2022-09-04T16:29:42.101Z"
   },
   {
    "duration": 213,
    "start_time": "2022-09-04T16:29:42.320Z"
   },
   {
    "duration": 426,
    "start_time": "2022-09-04T16:29:42.535Z"
   },
   {
    "duration": 197,
    "start_time": "2022-09-04T16:29:42.963Z"
   },
   {
    "duration": 238,
    "start_time": "2022-09-04T16:29:43.162Z"
   },
   {
    "duration": 291,
    "start_time": "2022-09-04T16:29:43.402Z"
   },
   {
    "duration": 209,
    "start_time": "2022-09-04T16:29:43.695Z"
   },
   {
    "duration": 33,
    "start_time": "2022-09-04T16:29:43.908Z"
   },
   {
    "duration": 46,
    "start_time": "2022-09-04T16:29:43.943Z"
   },
   {
    "duration": 294,
    "start_time": "2022-09-04T16:29:43.992Z"
   },
   {
    "duration": 549,
    "start_time": "2022-09-04T16:29:44.288Z"
   },
   {
    "duration": 11517,
    "start_time": "2022-09-04T16:29:44.839Z"
   },
   {
    "duration": 674,
    "start_time": "2022-09-04T16:29:56.358Z"
   },
   {
    "duration": 35,
    "start_time": "2022-09-04T16:31:43.464Z"
   },
   {
    "duration": 19,
    "start_time": "2022-09-04T16:32:07.011Z"
   },
   {
    "duration": 24,
    "start_time": "2022-09-04T16:32:31.590Z"
   },
   {
    "duration": 18,
    "start_time": "2022-09-04T16:32:42.227Z"
   },
   {
    "duration": 20,
    "start_time": "2022-09-04T16:33:08.720Z"
   },
   {
    "duration": 142,
    "start_time": "2022-09-04T16:37:29.661Z"
   },
   {
    "duration": 22,
    "start_time": "2022-09-04T16:37:46.934Z"
   },
   {
    "duration": 18,
    "start_time": "2022-09-04T16:38:05.893Z"
   },
   {
    "duration": 807,
    "start_time": "2022-09-04T16:38:17.517Z"
   },
   {
    "duration": 5,
    "start_time": "2022-09-04T16:38:18.327Z"
   },
   {
    "duration": 277,
    "start_time": "2022-09-04T16:38:18.334Z"
   },
   {
    "duration": 18,
    "start_time": "2022-09-04T16:38:18.613Z"
   },
   {
    "duration": 217,
    "start_time": "2022-09-04T16:38:18.633Z"
   },
   {
    "duration": 58,
    "start_time": "2022-09-04T16:38:18.852Z"
   },
   {
    "duration": 27,
    "start_time": "2022-09-04T16:38:18.912Z"
   },
   {
    "duration": 219,
    "start_time": "2022-09-04T16:38:18.941Z"
   },
   {
    "duration": 60,
    "start_time": "2022-09-04T16:38:19.162Z"
   },
   {
    "duration": 17,
    "start_time": "2022-09-04T16:38:19.226Z"
   },
   {
    "duration": 44,
    "start_time": "2022-09-04T16:38:19.244Z"
   },
   {
    "duration": 28,
    "start_time": "2022-09-04T16:38:19.290Z"
   },
   {
    "duration": 7,
    "start_time": "2022-09-04T16:38:19.320Z"
   },
   {
    "duration": 5,
    "start_time": "2022-09-04T16:38:19.328Z"
   },
   {
    "duration": 10,
    "start_time": "2022-09-04T16:38:19.335Z"
   },
   {
    "duration": 380,
    "start_time": "2022-09-04T16:38:19.347Z"
   },
   {
    "duration": 344,
    "start_time": "2022-09-04T16:38:19.729Z"
   },
   {
    "duration": 115,
    "start_time": "2022-09-04T16:38:20.076Z"
   },
   {
    "duration": 0,
    "start_time": "2022-09-04T16:38:20.200Z"
   },
   {
    "duration": 0,
    "start_time": "2022-09-04T16:38:20.201Z"
   },
   {
    "duration": 0,
    "start_time": "2022-09-04T16:38:20.202Z"
   },
   {
    "duration": 0,
    "start_time": "2022-09-04T16:38:20.204Z"
   },
   {
    "duration": 0,
    "start_time": "2022-09-04T16:38:20.205Z"
   },
   {
    "duration": 0,
    "start_time": "2022-09-04T16:38:20.206Z"
   },
   {
    "duration": 0,
    "start_time": "2022-09-04T16:38:20.207Z"
   },
   {
    "duration": 0,
    "start_time": "2022-09-04T16:38:20.208Z"
   },
   {
    "duration": 0,
    "start_time": "2022-09-04T16:38:20.210Z"
   },
   {
    "duration": 0,
    "start_time": "2022-09-04T16:38:20.211Z"
   },
   {
    "duration": 0,
    "start_time": "2022-09-04T16:38:20.213Z"
   },
   {
    "duration": 0,
    "start_time": "2022-09-04T16:38:20.214Z"
   },
   {
    "duration": 0,
    "start_time": "2022-09-04T16:38:20.215Z"
   },
   {
    "duration": 0,
    "start_time": "2022-09-04T16:38:20.216Z"
   },
   {
    "duration": 0,
    "start_time": "2022-09-04T16:38:20.218Z"
   },
   {
    "duration": 0,
    "start_time": "2022-09-04T16:38:20.219Z"
   },
   {
    "duration": 0,
    "start_time": "2022-09-04T16:38:20.220Z"
   },
   {
    "duration": 0,
    "start_time": "2022-09-04T16:38:20.222Z"
   },
   {
    "duration": 0,
    "start_time": "2022-09-04T16:38:20.223Z"
   },
   {
    "duration": 0,
    "start_time": "2022-09-04T16:38:20.224Z"
   },
   {
    "duration": 0,
    "start_time": "2022-09-04T16:38:20.226Z"
   },
   {
    "duration": 0,
    "start_time": "2022-09-04T16:38:20.227Z"
   },
   {
    "duration": 0,
    "start_time": "2022-09-04T16:38:20.228Z"
   },
   {
    "duration": 0,
    "start_time": "2022-09-04T16:38:20.229Z"
   },
   {
    "duration": 0,
    "start_time": "2022-09-04T16:38:20.271Z"
   },
   {
    "duration": 0,
    "start_time": "2022-09-04T16:38:20.273Z"
   },
   {
    "duration": 0,
    "start_time": "2022-09-04T16:38:20.273Z"
   },
   {
    "duration": 0,
    "start_time": "2022-09-04T16:38:20.274Z"
   },
   {
    "duration": 0,
    "start_time": "2022-09-04T16:38:20.275Z"
   },
   {
    "duration": 0,
    "start_time": "2022-09-04T16:38:20.277Z"
   },
   {
    "duration": 0,
    "start_time": "2022-09-04T16:38:20.278Z"
   },
   {
    "duration": 0,
    "start_time": "2022-09-04T16:38:20.280Z"
   },
   {
    "duration": 0,
    "start_time": "2022-09-04T16:38:20.281Z"
   },
   {
    "duration": 0,
    "start_time": "2022-09-04T16:38:20.282Z"
   },
   {
    "duration": 0,
    "start_time": "2022-09-04T16:38:20.284Z"
   },
   {
    "duration": 19,
    "start_time": "2022-09-04T16:39:16.624Z"
   },
   {
    "duration": 812,
    "start_time": "2022-09-04T16:39:22.431Z"
   },
   {
    "duration": 5,
    "start_time": "2022-09-04T16:39:23.245Z"
   },
   {
    "duration": 283,
    "start_time": "2022-09-04T16:39:23.252Z"
   },
   {
    "duration": 38,
    "start_time": "2022-09-04T16:39:23.538Z"
   },
   {
    "duration": 213,
    "start_time": "2022-09-04T16:39:23.578Z"
   },
   {
    "duration": 39,
    "start_time": "2022-09-04T16:39:23.793Z"
   },
   {
    "duration": 20,
    "start_time": "2022-09-04T16:39:23.833Z"
   },
   {
    "duration": 219,
    "start_time": "2022-09-04T16:39:23.854Z"
   },
   {
    "duration": 54,
    "start_time": "2022-09-04T16:39:24.076Z"
   },
   {
    "duration": 14,
    "start_time": "2022-09-04T16:39:24.133Z"
   },
   {
    "duration": 26,
    "start_time": "2022-09-04T16:39:24.149Z"
   },
   {
    "duration": 32,
    "start_time": "2022-09-04T16:39:24.177Z"
   },
   {
    "duration": 8,
    "start_time": "2022-09-04T16:39:24.211Z"
   },
   {
    "duration": 5,
    "start_time": "2022-09-04T16:39:24.220Z"
   },
   {
    "duration": 9,
    "start_time": "2022-09-04T16:39:24.226Z"
   },
   {
    "duration": 414,
    "start_time": "2022-09-04T16:39:24.237Z"
   },
   {
    "duration": 372,
    "start_time": "2022-09-04T16:39:24.653Z"
   },
   {
    "duration": 21,
    "start_time": "2022-09-04T16:39:25.027Z"
   },
   {
    "duration": 34,
    "start_time": "2022-09-04T16:39:25.050Z"
   },
   {
    "duration": 54,
    "start_time": "2022-09-04T16:39:25.086Z"
   },
   {
    "duration": 29,
    "start_time": "2022-09-04T16:39:25.142Z"
   },
   {
    "duration": 38,
    "start_time": "2022-09-04T16:39:25.173Z"
   },
   {
    "duration": 20,
    "start_time": "2022-09-04T16:39:25.213Z"
   },
   {
    "duration": 336,
    "start_time": "2022-09-04T16:39:25.235Z"
   },
   {
    "duration": 11,
    "start_time": "2022-09-04T16:39:25.573Z"
   },
   {
    "duration": 414,
    "start_time": "2022-09-04T16:39:25.585Z"
   },
   {
    "duration": 893,
    "start_time": "2022-09-04T16:39:26.001Z"
   },
   {
    "duration": 693,
    "start_time": "2022-09-04T16:39:26.899Z"
   },
   {
    "duration": 674,
    "start_time": "2022-09-04T16:39:27.594Z"
   },
   {
    "duration": 180,
    "start_time": "2022-09-04T16:39:28.269Z"
   },
   {
    "duration": 216,
    "start_time": "2022-09-04T16:39:28.451Z"
   },
   {
    "duration": 234,
    "start_time": "2022-09-04T16:39:28.669Z"
   },
   {
    "duration": 140,
    "start_time": "2022-09-04T16:39:28.905Z"
   },
   {
    "duration": 181,
    "start_time": "2022-09-04T16:39:29.047Z"
   },
   {
    "duration": 193,
    "start_time": "2022-09-04T16:39:29.229Z"
   },
   {
    "duration": 171,
    "start_time": "2022-09-04T16:39:29.424Z"
   },
   {
    "duration": 233,
    "start_time": "2022-09-04T16:39:29.599Z"
   },
   {
    "duration": 515,
    "start_time": "2022-09-04T16:39:29.834Z"
   },
   {
    "duration": 656,
    "start_time": "2022-09-04T16:39:30.351Z"
   },
   {
    "duration": 170,
    "start_time": "2022-09-04T16:39:31.009Z"
   },
   {
    "duration": 175,
    "start_time": "2022-09-04T16:39:31.182Z"
   },
   {
    "duration": 188,
    "start_time": "2022-09-04T16:39:31.359Z"
   },
   {
    "duration": 332,
    "start_time": "2022-09-04T16:39:31.549Z"
   },
   {
    "duration": 156,
    "start_time": "2022-09-04T16:39:31.885Z"
   },
   {
    "duration": 183,
    "start_time": "2022-09-04T16:39:32.043Z"
   },
   {
    "duration": 283,
    "start_time": "2022-09-04T16:39:32.227Z"
   },
   {
    "duration": 198,
    "start_time": "2022-09-04T16:39:32.512Z"
   },
   {
    "duration": 24,
    "start_time": "2022-09-04T16:39:32.712Z"
   },
   {
    "duration": 12,
    "start_time": "2022-09-04T16:39:32.738Z"
   },
   {
    "duration": 204,
    "start_time": "2022-09-04T16:39:32.752Z"
   },
   {
    "duration": 470,
    "start_time": "2022-09-04T16:39:32.957Z"
   },
   {
    "duration": 10070,
    "start_time": "2022-09-04T16:39:33.429Z"
   },
   {
    "duration": 503,
    "start_time": "2022-09-04T16:39:43.503Z"
   },
   {
    "duration": 16,
    "start_time": "2022-09-04T16:40:24.810Z"
   },
   {
    "duration": 16,
    "start_time": "2022-09-04T16:40:34.616Z"
   },
   {
    "duration": 27,
    "start_time": "2022-09-04T16:40:53.419Z"
   },
   {
    "duration": 20,
    "start_time": "2022-09-04T16:41:18.841Z"
   },
   {
    "duration": 27,
    "start_time": "2022-09-04T16:41:27.098Z"
   },
   {
    "duration": 577,
    "start_time": "2022-09-04T16:41:49.367Z"
   },
   {
    "duration": 124,
    "start_time": "2022-09-04T16:42:14.939Z"
   },
   {
    "duration": 109,
    "start_time": "2022-09-04T16:42:28.314Z"
   },
   {
    "duration": 19,
    "start_time": "2022-09-04T16:50:28.304Z"
   },
   {
    "duration": 20,
    "start_time": "2022-09-04T16:50:36.818Z"
   },
   {
    "duration": 22,
    "start_time": "2022-09-04T16:50:55.397Z"
   },
   {
    "duration": 49,
    "start_time": "2022-09-04T16:56:11.702Z"
   },
   {
    "duration": 14,
    "start_time": "2022-09-04T16:57:24.214Z"
   },
   {
    "duration": 22,
    "start_time": "2022-09-04T16:57:40.618Z"
   },
   {
    "duration": 37,
    "start_time": "2022-09-04T16:57:54.063Z"
   },
   {
    "duration": 30,
    "start_time": "2022-09-04T16:57:59.053Z"
   },
   {
    "duration": 92,
    "start_time": "2022-09-04T16:58:56.566Z"
   },
   {
    "duration": 19,
    "start_time": "2022-09-04T16:59:02.715Z"
   },
   {
    "duration": 56,
    "start_time": "2022-09-04T17:00:27.761Z"
   },
   {
    "duration": 12,
    "start_time": "2022-09-04T17:00:35.746Z"
   },
   {
    "duration": 16,
    "start_time": "2022-09-04T17:04:48.846Z"
   },
   {
    "duration": 677,
    "start_time": "2022-09-04T17:05:24.840Z"
   },
   {
    "duration": 136,
    "start_time": "2022-09-04T17:05:37.565Z"
   },
   {
    "duration": 134,
    "start_time": "2022-09-04T17:06:01.968Z"
   },
   {
    "duration": 111,
    "start_time": "2022-09-04T17:06:12.846Z"
   },
   {
    "duration": 175,
    "start_time": "2022-09-04T17:06:36.212Z"
   },
   {
    "duration": 124,
    "start_time": "2022-09-04T17:06:38.540Z"
   },
   {
    "duration": 91,
    "start_time": "2022-09-04T17:06:48.772Z"
   },
   {
    "duration": 812,
    "start_time": "2022-09-04T17:06:59.380Z"
   },
   {
    "duration": 5,
    "start_time": "2022-09-04T17:07:00.194Z"
   },
   {
    "duration": 290,
    "start_time": "2022-09-04T17:07:00.200Z"
   },
   {
    "duration": 19,
    "start_time": "2022-09-04T17:07:00.492Z"
   },
   {
    "duration": 216,
    "start_time": "2022-09-04T17:07:00.513Z"
   },
   {
    "duration": 54,
    "start_time": "2022-09-04T17:07:00.731Z"
   },
   {
    "duration": 22,
    "start_time": "2022-09-04T17:07:00.787Z"
   },
   {
    "duration": 226,
    "start_time": "2022-09-04T17:07:00.811Z"
   },
   {
    "duration": 81,
    "start_time": "2022-09-04T17:07:01.039Z"
   },
   {
    "duration": 15,
    "start_time": "2022-09-04T17:07:01.122Z"
   },
   {
    "duration": 20,
    "start_time": "2022-09-04T17:07:01.138Z"
   },
   {
    "duration": 20,
    "start_time": "2022-09-04T17:07:01.160Z"
   },
   {
    "duration": 15,
    "start_time": "2022-09-04T17:07:01.185Z"
   },
   {
    "duration": 6,
    "start_time": "2022-09-04T17:07:01.204Z"
   },
   {
    "duration": 35,
    "start_time": "2022-09-04T17:07:01.212Z"
   },
   {
    "duration": 404,
    "start_time": "2022-09-04T17:07:01.249Z"
   },
   {
    "duration": 364,
    "start_time": "2022-09-04T17:07:01.655Z"
   },
   {
    "duration": 22,
    "start_time": "2022-09-04T17:07:02.021Z"
   },
   {
    "duration": 144,
    "start_time": "2022-09-04T17:07:02.045Z"
   },
   {
    "duration": 16,
    "start_time": "2022-09-04T17:07:02.191Z"
   },
   {
    "duration": 16,
    "start_time": "2022-09-04T17:07:02.208Z"
   },
   {
    "duration": 12,
    "start_time": "2022-09-04T17:07:02.226Z"
   },
   {
    "duration": 42,
    "start_time": "2022-09-04T17:07:02.241Z"
   },
   {
    "duration": 323,
    "start_time": "2022-09-04T17:07:02.285Z"
   },
   {
    "duration": 9,
    "start_time": "2022-09-04T17:07:02.610Z"
   },
   {
    "duration": 414,
    "start_time": "2022-09-04T17:07:02.621Z"
   },
   {
    "duration": 313,
    "start_time": "2022-09-04T17:07:03.036Z"
   },
   {
    "duration": 336,
    "start_time": "2022-09-04T17:07:03.351Z"
   },
   {
    "duration": 694,
    "start_time": "2022-09-04T17:07:03.689Z"
   },
   {
    "duration": 319,
    "start_time": "2022-09-04T17:07:04.386Z"
   },
   {
    "duration": 483,
    "start_time": "2022-09-04T17:07:04.707Z"
   },
   {
    "duration": 328,
    "start_time": "2022-09-04T17:07:05.191Z"
   },
   {
    "duration": 123,
    "start_time": "2022-09-04T17:07:05.520Z"
   },
   {
    "duration": 175,
    "start_time": "2022-09-04T17:07:05.645Z"
   },
   {
    "duration": 282,
    "start_time": "2022-09-04T17:07:05.822Z"
   },
   {
    "duration": 150,
    "start_time": "2022-09-04T17:07:06.105Z"
   },
   {
    "duration": 218,
    "start_time": "2022-09-04T17:07:06.257Z"
   },
   {
    "duration": 441,
    "start_time": "2022-09-04T17:07:06.477Z"
   },
   {
    "duration": 572,
    "start_time": "2022-09-04T17:07:06.919Z"
   },
   {
    "duration": 159,
    "start_time": "2022-09-04T17:07:07.493Z"
   },
   {
    "duration": 169,
    "start_time": "2022-09-04T17:07:07.656Z"
   },
   {
    "duration": 160,
    "start_time": "2022-09-04T17:07:07.826Z"
   },
   {
    "duration": 400,
    "start_time": "2022-09-04T17:07:07.988Z"
   },
   {
    "duration": 177,
    "start_time": "2022-09-04T17:07:08.390Z"
   },
   {
    "duration": 203,
    "start_time": "2022-09-04T17:07:08.572Z"
   },
   {
    "duration": 248,
    "start_time": "2022-09-04T17:07:08.779Z"
   },
   {
    "duration": 194,
    "start_time": "2022-09-04T17:07:09.030Z"
   },
   {
    "duration": 29,
    "start_time": "2022-09-04T17:07:09.226Z"
   },
   {
    "duration": 30,
    "start_time": "2022-09-04T17:07:09.257Z"
   },
   {
    "duration": 209,
    "start_time": "2022-09-04T17:07:09.289Z"
   },
   {
    "duration": 610,
    "start_time": "2022-09-04T17:07:09.500Z"
   },
   {
    "duration": 10049,
    "start_time": "2022-09-04T17:07:10.112Z"
   },
   {
    "duration": 460,
    "start_time": "2022-09-04T17:07:20.164Z"
   },
   {
    "duration": 133,
    "start_time": "2022-09-04T17:08:08.762Z"
   },
   {
    "duration": 817,
    "start_time": "2022-09-04T17:08:23.056Z"
   },
   {
    "duration": 9,
    "start_time": "2022-09-04T17:08:23.875Z"
   },
   {
    "duration": 255,
    "start_time": "2022-09-04T17:08:23.886Z"
   },
   {
    "duration": 39,
    "start_time": "2022-09-04T17:08:24.143Z"
   },
   {
    "duration": 216,
    "start_time": "2022-09-04T17:08:24.184Z"
   },
   {
    "duration": 43,
    "start_time": "2022-09-04T17:08:24.402Z"
   },
   {
    "duration": 50,
    "start_time": "2022-09-04T17:08:24.446Z"
   },
   {
    "duration": 205,
    "start_time": "2022-09-04T17:08:24.499Z"
   },
   {
    "duration": 52,
    "start_time": "2022-09-04T17:08:24.705Z"
   },
   {
    "duration": 17,
    "start_time": "2022-09-04T17:08:24.769Z"
   },
   {
    "duration": 17,
    "start_time": "2022-09-04T17:08:24.788Z"
   },
   {
    "duration": 12,
    "start_time": "2022-09-04T17:08:24.807Z"
   },
   {
    "duration": 11,
    "start_time": "2022-09-04T17:08:24.821Z"
   },
   {
    "duration": 4,
    "start_time": "2022-09-04T17:08:24.834Z"
   },
   {
    "duration": 37,
    "start_time": "2022-09-04T17:08:24.840Z"
   },
   {
    "duration": 408,
    "start_time": "2022-09-04T17:08:24.879Z"
   },
   {
    "duration": 322,
    "start_time": "2022-09-04T17:08:25.288Z"
   },
   {
    "duration": 123,
    "start_time": "2022-09-04T17:08:25.612Z"
   },
   {
    "duration": 125,
    "start_time": "2022-09-04T17:08:25.736Z"
   },
   {
    "duration": 25,
    "start_time": "2022-09-04T17:08:25.863Z"
   },
   {
    "duration": 17,
    "start_time": "2022-09-04T17:08:25.889Z"
   },
   {
    "duration": 104,
    "start_time": "2022-09-04T17:08:25.908Z"
   },
   {
    "duration": 0,
    "start_time": "2022-09-04T17:08:26.014Z"
   },
   {
    "duration": 0,
    "start_time": "2022-09-04T17:08:26.016Z"
   },
   {
    "duration": 0,
    "start_time": "2022-09-04T17:08:26.018Z"
   },
   {
    "duration": 0,
    "start_time": "2022-09-04T17:08:26.019Z"
   },
   {
    "duration": 0,
    "start_time": "2022-09-04T17:08:26.020Z"
   },
   {
    "duration": 0,
    "start_time": "2022-09-04T17:08:26.021Z"
   },
   {
    "duration": 0,
    "start_time": "2022-09-04T17:08:26.022Z"
   },
   {
    "duration": 0,
    "start_time": "2022-09-04T17:08:26.023Z"
   },
   {
    "duration": 0,
    "start_time": "2022-09-04T17:08:26.024Z"
   },
   {
    "duration": 0,
    "start_time": "2022-09-04T17:08:26.025Z"
   },
   {
    "duration": 0,
    "start_time": "2022-09-04T17:08:26.026Z"
   },
   {
    "duration": 0,
    "start_time": "2022-09-04T17:08:26.027Z"
   },
   {
    "duration": 0,
    "start_time": "2022-09-04T17:08:26.028Z"
   },
   {
    "duration": 0,
    "start_time": "2022-09-04T17:08:26.029Z"
   },
   {
    "duration": 0,
    "start_time": "2022-09-04T17:08:26.030Z"
   },
   {
    "duration": 0,
    "start_time": "2022-09-04T17:08:26.031Z"
   },
   {
    "duration": 0,
    "start_time": "2022-09-04T17:08:26.033Z"
   },
   {
    "duration": 0,
    "start_time": "2022-09-04T17:08:26.035Z"
   },
   {
    "duration": 0,
    "start_time": "2022-09-04T17:08:26.075Z"
   },
   {
    "duration": 0,
    "start_time": "2022-09-04T17:08:26.082Z"
   },
   {
    "duration": 0,
    "start_time": "2022-09-04T17:08:26.083Z"
   },
   {
    "duration": 0,
    "start_time": "2022-09-04T17:08:26.084Z"
   },
   {
    "duration": 0,
    "start_time": "2022-09-04T17:08:26.085Z"
   },
   {
    "duration": 0,
    "start_time": "2022-09-04T17:08:26.085Z"
   },
   {
    "duration": 0,
    "start_time": "2022-09-04T17:08:26.086Z"
   },
   {
    "duration": 0,
    "start_time": "2022-09-04T17:08:26.087Z"
   },
   {
    "duration": 0,
    "start_time": "2022-09-04T17:08:26.088Z"
   },
   {
    "duration": 0,
    "start_time": "2022-09-04T17:08:26.090Z"
   },
   {
    "duration": 0,
    "start_time": "2022-09-04T17:08:26.090Z"
   },
   {
    "duration": 0,
    "start_time": "2022-09-04T17:08:26.092Z"
   },
   {
    "duration": 0,
    "start_time": "2022-09-04T17:08:26.093Z"
   },
   {
    "duration": 176,
    "start_time": "2022-09-04T17:09:25.786Z"
   },
   {
    "duration": 139,
    "start_time": "2022-09-04T17:10:12.162Z"
   },
   {
    "duration": 14,
    "start_time": "2022-09-04T17:11:40.477Z"
   },
   {
    "duration": 127,
    "start_time": "2022-09-04T17:11:51.291Z"
   },
   {
    "duration": 119,
    "start_time": "2022-09-04T17:12:09.324Z"
   },
   {
    "duration": 14,
    "start_time": "2022-09-04T17:12:16.088Z"
   },
   {
    "duration": 30,
    "start_time": "2022-09-04T17:12:17.650Z"
   },
   {
    "duration": 847,
    "start_time": "2022-09-04T17:12:29.224Z"
   },
   {
    "duration": 8,
    "start_time": "2022-09-04T17:12:30.073Z"
   },
   {
    "duration": 294,
    "start_time": "2022-09-04T17:12:30.083Z"
   },
   {
    "duration": 33,
    "start_time": "2022-09-04T17:12:30.379Z"
   },
   {
    "duration": 207,
    "start_time": "2022-09-04T17:12:30.414Z"
   },
   {
    "duration": 57,
    "start_time": "2022-09-04T17:12:30.623Z"
   },
   {
    "duration": 25,
    "start_time": "2022-09-04T17:12:30.682Z"
   },
   {
    "duration": 249,
    "start_time": "2022-09-04T17:12:30.709Z"
   },
   {
    "duration": 65,
    "start_time": "2022-09-04T17:12:30.960Z"
   },
   {
    "duration": 15,
    "start_time": "2022-09-04T17:12:31.028Z"
   },
   {
    "duration": 55,
    "start_time": "2022-09-04T17:12:31.045Z"
   },
   {
    "duration": 39,
    "start_time": "2022-09-04T17:12:31.102Z"
   },
   {
    "duration": 31,
    "start_time": "2022-09-04T17:12:31.143Z"
   },
   {
    "duration": 33,
    "start_time": "2022-09-04T17:12:31.177Z"
   },
   {
    "duration": 32,
    "start_time": "2022-09-04T17:12:31.212Z"
   },
   {
    "duration": 423,
    "start_time": "2022-09-04T17:12:31.246Z"
   },
   {
    "duration": 335,
    "start_time": "2022-09-04T17:12:31.671Z"
   },
   {
    "duration": 137,
    "start_time": "2022-09-04T17:12:32.008Z"
   },
   {
    "duration": 135,
    "start_time": "2022-09-04T17:12:32.147Z"
   },
   {
    "duration": 20,
    "start_time": "2022-09-04T17:12:32.284Z"
   },
   {
    "duration": 32,
    "start_time": "2022-09-04T17:12:32.306Z"
   },
   {
    "duration": 121,
    "start_time": "2022-09-04T17:12:32.340Z"
   },
   {
    "duration": 0,
    "start_time": "2022-09-04T17:12:32.479Z"
   },
   {
    "duration": 0,
    "start_time": "2022-09-04T17:12:32.480Z"
   },
   {
    "duration": 0,
    "start_time": "2022-09-04T17:12:32.481Z"
   },
   {
    "duration": 1,
    "start_time": "2022-09-04T17:12:32.483Z"
   },
   {
    "duration": 0,
    "start_time": "2022-09-04T17:12:32.486Z"
   },
   {
    "duration": 0,
    "start_time": "2022-09-04T17:12:32.487Z"
   },
   {
    "duration": 0,
    "start_time": "2022-09-04T17:12:32.488Z"
   },
   {
    "duration": 0,
    "start_time": "2022-09-04T17:12:32.489Z"
   },
   {
    "duration": 0,
    "start_time": "2022-09-04T17:12:32.490Z"
   },
   {
    "duration": 0,
    "start_time": "2022-09-04T17:12:32.492Z"
   },
   {
    "duration": 0,
    "start_time": "2022-09-04T17:12:32.493Z"
   },
   {
    "duration": 0,
    "start_time": "2022-09-04T17:12:32.494Z"
   },
   {
    "duration": 0,
    "start_time": "2022-09-04T17:12:32.495Z"
   },
   {
    "duration": 0,
    "start_time": "2022-09-04T17:12:32.496Z"
   },
   {
    "duration": 0,
    "start_time": "2022-09-04T17:12:32.498Z"
   },
   {
    "duration": 0,
    "start_time": "2022-09-04T17:12:32.499Z"
   },
   {
    "duration": 0,
    "start_time": "2022-09-04T17:12:32.501Z"
   },
   {
    "duration": 0,
    "start_time": "2022-09-04T17:12:32.502Z"
   },
   {
    "duration": 0,
    "start_time": "2022-09-04T17:12:32.503Z"
   },
   {
    "duration": 1,
    "start_time": "2022-09-04T17:12:32.504Z"
   },
   {
    "duration": 0,
    "start_time": "2022-09-04T17:12:32.506Z"
   },
   {
    "duration": 0,
    "start_time": "2022-09-04T17:12:32.507Z"
   },
   {
    "duration": 0,
    "start_time": "2022-09-04T17:12:32.509Z"
   },
   {
    "duration": 0,
    "start_time": "2022-09-04T17:12:32.510Z"
   },
   {
    "duration": 0,
    "start_time": "2022-09-04T17:12:32.512Z"
   },
   {
    "duration": 0,
    "start_time": "2022-09-04T17:12:32.513Z"
   },
   {
    "duration": 0,
    "start_time": "2022-09-04T17:12:32.515Z"
   },
   {
    "duration": 0,
    "start_time": "2022-09-04T17:12:32.517Z"
   },
   {
    "duration": 0,
    "start_time": "2022-09-04T17:12:32.519Z"
   },
   {
    "duration": 0,
    "start_time": "2022-09-04T17:12:32.520Z"
   },
   {
    "duration": 0,
    "start_time": "2022-09-04T17:12:32.568Z"
   },
   {
    "duration": 184,
    "start_time": "2022-09-04T17:14:57.929Z"
   },
   {
    "duration": 880,
    "start_time": "2022-09-04T17:15:09.801Z"
   },
   {
    "duration": 5,
    "start_time": "2022-09-04T17:15:10.685Z"
   },
   {
    "duration": 281,
    "start_time": "2022-09-04T17:15:10.692Z"
   },
   {
    "duration": 29,
    "start_time": "2022-09-04T17:15:10.978Z"
   },
   {
    "duration": 212,
    "start_time": "2022-09-04T17:15:11.009Z"
   },
   {
    "duration": 51,
    "start_time": "2022-09-04T17:15:11.223Z"
   },
   {
    "duration": 23,
    "start_time": "2022-09-04T17:15:11.276Z"
   },
   {
    "duration": 235,
    "start_time": "2022-09-04T17:15:11.300Z"
   },
   {
    "duration": 74,
    "start_time": "2022-09-04T17:15:11.538Z"
   },
   {
    "duration": 14,
    "start_time": "2022-09-04T17:15:11.614Z"
   },
   {
    "duration": 11,
    "start_time": "2022-09-04T17:15:11.629Z"
   },
   {
    "duration": 8,
    "start_time": "2022-09-04T17:15:11.641Z"
   },
   {
    "duration": 17,
    "start_time": "2022-09-04T17:15:11.668Z"
   },
   {
    "duration": 5,
    "start_time": "2022-09-04T17:15:11.687Z"
   },
   {
    "duration": 11,
    "start_time": "2022-09-04T17:15:11.693Z"
   },
   {
    "duration": 388,
    "start_time": "2022-09-04T17:15:11.706Z"
   },
   {
    "duration": 339,
    "start_time": "2022-09-04T17:15:12.096Z"
   },
   {
    "duration": 151,
    "start_time": "2022-09-04T17:15:12.437Z"
   },
   {
    "duration": 111,
    "start_time": "2022-09-04T17:15:12.590Z"
   },
   {
    "duration": 14,
    "start_time": "2022-09-04T17:15:12.703Z"
   },
   {
    "duration": 14,
    "start_time": "2022-09-04T17:15:12.718Z"
   },
   {
    "duration": 105,
    "start_time": "2022-09-04T17:15:12.734Z"
   },
   {
    "duration": 0,
    "start_time": "2022-09-04T17:15:12.842Z"
   },
   {
    "duration": 0,
    "start_time": "2022-09-04T17:15:12.843Z"
   },
   {
    "duration": 0,
    "start_time": "2022-09-04T17:15:12.844Z"
   },
   {
    "duration": 0,
    "start_time": "2022-09-04T17:15:12.845Z"
   },
   {
    "duration": 0,
    "start_time": "2022-09-04T17:15:12.846Z"
   },
   {
    "duration": 0,
    "start_time": "2022-09-04T17:15:12.848Z"
   },
   {
    "duration": 0,
    "start_time": "2022-09-04T17:15:12.849Z"
   },
   {
    "duration": 0,
    "start_time": "2022-09-04T17:15:12.850Z"
   },
   {
    "duration": 0,
    "start_time": "2022-09-04T17:15:12.869Z"
   },
   {
    "duration": 0,
    "start_time": "2022-09-04T17:15:12.870Z"
   },
   {
    "duration": 0,
    "start_time": "2022-09-04T17:15:12.870Z"
   },
   {
    "duration": 0,
    "start_time": "2022-09-04T17:15:12.873Z"
   },
   {
    "duration": 0,
    "start_time": "2022-09-04T17:15:12.874Z"
   },
   {
    "duration": 0,
    "start_time": "2022-09-04T17:15:12.874Z"
   },
   {
    "duration": 0,
    "start_time": "2022-09-04T17:15:12.875Z"
   },
   {
    "duration": 0,
    "start_time": "2022-09-04T17:15:12.876Z"
   },
   {
    "duration": 0,
    "start_time": "2022-09-04T17:15:12.877Z"
   },
   {
    "duration": 0,
    "start_time": "2022-09-04T17:15:12.880Z"
   },
   {
    "duration": 0,
    "start_time": "2022-09-04T17:15:12.883Z"
   },
   {
    "duration": 0,
    "start_time": "2022-09-04T17:15:12.884Z"
   },
   {
    "duration": 0,
    "start_time": "2022-09-04T17:15:12.885Z"
   },
   {
    "duration": 0,
    "start_time": "2022-09-04T17:15:12.886Z"
   },
   {
    "duration": 0,
    "start_time": "2022-09-04T17:15:12.887Z"
   },
   {
    "duration": 0,
    "start_time": "2022-09-04T17:15:12.888Z"
   },
   {
    "duration": 0,
    "start_time": "2022-09-04T17:15:12.890Z"
   },
   {
    "duration": 0,
    "start_time": "2022-09-04T17:15:12.891Z"
   },
   {
    "duration": 0,
    "start_time": "2022-09-04T17:15:12.891Z"
   },
   {
    "duration": 0,
    "start_time": "2022-09-04T17:15:12.893Z"
   },
   {
    "duration": 0,
    "start_time": "2022-09-04T17:15:12.894Z"
   },
   {
    "duration": 0,
    "start_time": "2022-09-04T17:15:12.895Z"
   },
   {
    "duration": 0,
    "start_time": "2022-09-04T17:15:12.896Z"
   },
   {
    "duration": 188,
    "start_time": "2022-09-04T17:19:23.478Z"
   },
   {
    "duration": 1164,
    "start_time": "2022-09-05T03:23:41.164Z"
   },
   {
    "duration": 4,
    "start_time": "2022-09-05T03:23:42.330Z"
   },
   {
    "duration": 261,
    "start_time": "2022-09-05T03:23:42.335Z"
   },
   {
    "duration": 17,
    "start_time": "2022-09-05T03:23:42.598Z"
   },
   {
    "duration": 187,
    "start_time": "2022-09-05T03:23:42.616Z"
   },
   {
    "duration": 57,
    "start_time": "2022-09-05T03:23:42.805Z"
   },
   {
    "duration": 20,
    "start_time": "2022-09-05T03:23:42.864Z"
   },
   {
    "duration": 202,
    "start_time": "2022-09-05T03:23:42.886Z"
   },
   {
    "duration": 65,
    "start_time": "2022-09-05T03:23:43.090Z"
   },
   {
    "duration": 13,
    "start_time": "2022-09-05T03:23:43.158Z"
   },
   {
    "duration": 10,
    "start_time": "2022-09-05T03:23:43.173Z"
   },
   {
    "duration": 11,
    "start_time": "2022-09-05T03:23:43.184Z"
   },
   {
    "duration": 9,
    "start_time": "2022-09-05T03:23:43.197Z"
   },
   {
    "duration": 34,
    "start_time": "2022-09-05T03:23:43.208Z"
   },
   {
    "duration": 28,
    "start_time": "2022-09-05T03:23:43.243Z"
   },
   {
    "duration": 348,
    "start_time": "2022-09-05T03:23:43.272Z"
   },
   {
    "duration": 327,
    "start_time": "2022-09-05T03:23:43.622Z"
   },
   {
    "duration": 450,
    "start_time": "2022-09-05T03:23:43.952Z"
   },
   {
    "duration": 0,
    "start_time": "2022-09-05T03:23:44.405Z"
   },
   {
    "duration": 0,
    "start_time": "2022-09-05T03:23:44.406Z"
   },
   {
    "duration": 0,
    "start_time": "2022-09-05T03:23:44.407Z"
   },
   {
    "duration": 0,
    "start_time": "2022-09-05T03:23:44.408Z"
   },
   {
    "duration": 0,
    "start_time": "2022-09-05T03:23:44.409Z"
   },
   {
    "duration": 0,
    "start_time": "2022-09-05T03:23:44.410Z"
   },
   {
    "duration": 0,
    "start_time": "2022-09-05T03:23:44.411Z"
   },
   {
    "duration": 0,
    "start_time": "2022-09-05T03:23:44.412Z"
   },
   {
    "duration": 0,
    "start_time": "2022-09-05T03:23:44.413Z"
   },
   {
    "duration": 0,
    "start_time": "2022-09-05T03:23:44.414Z"
   },
   {
    "duration": 0,
    "start_time": "2022-09-05T03:23:44.415Z"
   },
   {
    "duration": 0,
    "start_time": "2022-09-05T03:23:44.416Z"
   },
   {
    "duration": 0,
    "start_time": "2022-09-05T03:23:44.417Z"
   },
   {
    "duration": 0,
    "start_time": "2022-09-05T03:23:44.418Z"
   },
   {
    "duration": 0,
    "start_time": "2022-09-05T03:23:44.419Z"
   },
   {
    "duration": 0,
    "start_time": "2022-09-05T03:23:44.420Z"
   },
   {
    "duration": 0,
    "start_time": "2022-09-05T03:23:44.422Z"
   },
   {
    "duration": 0,
    "start_time": "2022-09-05T03:23:44.423Z"
   },
   {
    "duration": 0,
    "start_time": "2022-09-05T03:23:44.424Z"
   },
   {
    "duration": 0,
    "start_time": "2022-09-05T03:23:44.425Z"
   },
   {
    "duration": 0,
    "start_time": "2022-09-05T03:23:44.426Z"
   },
   {
    "duration": 0,
    "start_time": "2022-09-05T03:23:44.427Z"
   },
   {
    "duration": 0,
    "start_time": "2022-09-05T03:23:44.428Z"
   },
   {
    "duration": 0,
    "start_time": "2022-09-05T03:23:44.429Z"
   },
   {
    "duration": 0,
    "start_time": "2022-09-05T03:23:44.430Z"
   },
   {
    "duration": 0,
    "start_time": "2022-09-05T03:23:44.431Z"
   },
   {
    "duration": 0,
    "start_time": "2022-09-05T03:23:44.432Z"
   },
   {
    "duration": 0,
    "start_time": "2022-09-05T03:23:44.432Z"
   },
   {
    "duration": 0,
    "start_time": "2022-09-05T03:23:44.433Z"
   },
   {
    "duration": 0,
    "start_time": "2022-09-05T03:23:44.434Z"
   },
   {
    "duration": 0,
    "start_time": "2022-09-05T03:23:44.435Z"
   },
   {
    "duration": 0,
    "start_time": "2022-09-05T03:23:44.436Z"
   },
   {
    "duration": 0,
    "start_time": "2022-09-05T03:23:44.437Z"
   },
   {
    "duration": 0,
    "start_time": "2022-09-05T03:23:44.439Z"
   },
   {
    "duration": 0,
    "start_time": "2022-09-05T03:23:44.440Z"
   },
   {
    "duration": 109,
    "start_time": "2022-09-05T03:25:10.262Z"
   },
   {
    "duration": 15,
    "start_time": "2022-09-05T03:27:53.010Z"
   },
   {
    "duration": 733,
    "start_time": "2022-09-05T03:28:06.909Z"
   },
   {
    "duration": 5,
    "start_time": "2022-09-05T03:28:07.645Z"
   },
   {
    "duration": 239,
    "start_time": "2022-09-05T03:28:07.652Z"
   },
   {
    "duration": 18,
    "start_time": "2022-09-05T03:28:07.894Z"
   },
   {
    "duration": 367,
    "start_time": "2022-09-05T03:28:07.913Z"
   },
   {
    "duration": 94,
    "start_time": "2022-09-05T03:28:08.282Z"
   },
   {
    "duration": 78,
    "start_time": "2022-09-05T03:28:08.377Z"
   },
   {
    "duration": 392,
    "start_time": "2022-09-05T03:28:08.456Z"
   },
   {
    "duration": 17,
    "start_time": "2022-09-05T03:28:08.851Z"
   },
   {
    "duration": 112,
    "start_time": "2022-09-05T03:28:08.870Z"
   },
   {
    "duration": 16,
    "start_time": "2022-09-05T03:28:09.038Z"
   },
   {
    "duration": 19,
    "start_time": "2022-09-05T03:28:09.057Z"
   },
   {
    "duration": 11,
    "start_time": "2022-09-05T03:28:09.078Z"
   },
   {
    "duration": 10,
    "start_time": "2022-09-05T03:28:09.140Z"
   },
   {
    "duration": 9,
    "start_time": "2022-09-05T03:28:09.152Z"
   },
   {
    "duration": 7,
    "start_time": "2022-09-05T03:28:09.163Z"
   },
   {
    "duration": 724,
    "start_time": "2022-09-05T03:28:09.171Z"
   },
   {
    "duration": 289,
    "start_time": "2022-09-05T03:28:09.938Z"
   },
   {
    "duration": 127,
    "start_time": "2022-09-05T03:28:10.228Z"
   },
   {
    "duration": 119,
    "start_time": "2022-09-05T03:28:10.357Z"
   },
   {
    "duration": 12,
    "start_time": "2022-09-05T03:28:10.478Z"
   },
   {
    "duration": 14,
    "start_time": "2022-09-05T03:28:10.491Z"
   },
   {
    "duration": 96,
    "start_time": "2022-09-05T03:28:10.507Z"
   },
   {
    "duration": 0,
    "start_time": "2022-09-05T03:28:10.605Z"
   },
   {
    "duration": 0,
    "start_time": "2022-09-05T03:28:10.607Z"
   },
   {
    "duration": 0,
    "start_time": "2022-09-05T03:28:10.608Z"
   },
   {
    "duration": 0,
    "start_time": "2022-09-05T03:28:10.609Z"
   },
   {
    "duration": 0,
    "start_time": "2022-09-05T03:28:10.611Z"
   },
   {
    "duration": 0,
    "start_time": "2022-09-05T03:28:10.611Z"
   },
   {
    "duration": 0,
    "start_time": "2022-09-05T03:28:10.612Z"
   },
   {
    "duration": 0,
    "start_time": "2022-09-05T03:28:10.613Z"
   },
   {
    "duration": 0,
    "start_time": "2022-09-05T03:28:10.614Z"
   },
   {
    "duration": 0,
    "start_time": "2022-09-05T03:28:10.615Z"
   },
   {
    "duration": 0,
    "start_time": "2022-09-05T03:28:10.616Z"
   },
   {
    "duration": 0,
    "start_time": "2022-09-05T03:28:10.617Z"
   },
   {
    "duration": 0,
    "start_time": "2022-09-05T03:28:10.618Z"
   },
   {
    "duration": 0,
    "start_time": "2022-09-05T03:28:10.619Z"
   },
   {
    "duration": 0,
    "start_time": "2022-09-05T03:28:10.639Z"
   },
   {
    "duration": 0,
    "start_time": "2022-09-05T03:28:10.639Z"
   },
   {
    "duration": 0,
    "start_time": "2022-09-05T03:28:10.641Z"
   },
   {
    "duration": 0,
    "start_time": "2022-09-05T03:28:10.642Z"
   },
   {
    "duration": 0,
    "start_time": "2022-09-05T03:28:10.644Z"
   },
   {
    "duration": 0,
    "start_time": "2022-09-05T03:28:10.645Z"
   },
   {
    "duration": 0,
    "start_time": "2022-09-05T03:28:10.646Z"
   },
   {
    "duration": 0,
    "start_time": "2022-09-05T03:28:10.647Z"
   },
   {
    "duration": 0,
    "start_time": "2022-09-05T03:28:10.649Z"
   },
   {
    "duration": 0,
    "start_time": "2022-09-05T03:28:10.650Z"
   },
   {
    "duration": 0,
    "start_time": "2022-09-05T03:28:10.652Z"
   },
   {
    "duration": 0,
    "start_time": "2022-09-05T03:28:10.653Z"
   },
   {
    "duration": 0,
    "start_time": "2022-09-05T03:28:10.654Z"
   },
   {
    "duration": 0,
    "start_time": "2022-09-05T03:28:10.656Z"
   },
   {
    "duration": 0,
    "start_time": "2022-09-05T03:28:10.659Z"
   },
   {
    "duration": 0,
    "start_time": "2022-09-05T03:28:10.660Z"
   },
   {
    "duration": 0,
    "start_time": "2022-09-05T03:28:10.660Z"
   },
   {
    "duration": 743,
    "start_time": "2022-09-05T03:29:08.776Z"
   },
   {
    "duration": 3,
    "start_time": "2022-09-05T03:29:09.521Z"
   },
   {
    "duration": 247,
    "start_time": "2022-09-05T03:29:09.525Z"
   },
   {
    "duration": 17,
    "start_time": "2022-09-05T03:29:09.774Z"
   },
   {
    "duration": 209,
    "start_time": "2022-09-05T03:29:09.792Z"
   },
   {
    "duration": 50,
    "start_time": "2022-09-05T03:29:10.003Z"
   },
   {
    "duration": 18,
    "start_time": "2022-09-05T03:29:10.055Z"
   },
   {
    "duration": 187,
    "start_time": "2022-09-05T03:29:10.075Z"
   },
   {
    "duration": 46,
    "start_time": "2022-09-05T03:29:10.264Z"
   },
   {
    "duration": 30,
    "start_time": "2022-09-05T03:29:10.313Z"
   },
   {
    "duration": 18,
    "start_time": "2022-09-05T03:29:10.345Z"
   },
   {
    "duration": 11,
    "start_time": "2022-09-05T03:29:10.364Z"
   },
   {
    "duration": 28,
    "start_time": "2022-09-05T03:29:10.376Z"
   },
   {
    "duration": 25,
    "start_time": "2022-09-05T03:29:10.406Z"
   },
   {
    "duration": 53,
    "start_time": "2022-09-05T03:29:10.432Z"
   },
   {
    "duration": 346,
    "start_time": "2022-09-05T03:29:10.487Z"
   },
   {
    "duration": 289,
    "start_time": "2022-09-05T03:29:10.834Z"
   },
   {
    "duration": 22,
    "start_time": "2022-09-05T03:29:11.125Z"
   },
   {
    "duration": 128,
    "start_time": "2022-09-05T03:29:11.148Z"
   },
   {
    "duration": 12,
    "start_time": "2022-09-05T03:29:11.277Z"
   },
   {
    "duration": 30,
    "start_time": "2022-09-05T03:29:11.291Z"
   },
   {
    "duration": 10,
    "start_time": "2022-09-05T03:29:11.323Z"
   },
   {
    "duration": 26,
    "start_time": "2022-09-05T03:29:11.335Z"
   },
   {
    "duration": 285,
    "start_time": "2022-09-05T03:29:11.362Z"
   },
   {
    "duration": 10,
    "start_time": "2022-09-05T03:29:11.649Z"
   },
   {
    "duration": 354,
    "start_time": "2022-09-05T03:29:11.660Z"
   },
   {
    "duration": 282,
    "start_time": "2022-09-05T03:29:12.016Z"
   },
   {
    "duration": 203,
    "start_time": "2022-09-05T03:29:12.302Z"
   },
   {
    "duration": 273,
    "start_time": "2022-09-05T03:29:12.507Z"
   },
   {
    "duration": 148,
    "start_time": "2022-09-05T03:29:12.782Z"
   },
   {
    "duration": 179,
    "start_time": "2022-09-05T03:29:12.938Z"
   },
   {
    "duration": 184,
    "start_time": "2022-09-05T03:29:13.119Z"
   },
   {
    "duration": 109,
    "start_time": "2022-09-05T03:29:13.304Z"
   },
   {
    "duration": 171,
    "start_time": "2022-09-05T03:29:13.415Z"
   },
   {
    "duration": 271,
    "start_time": "2022-09-05T03:29:13.589Z"
   },
   {
    "duration": 146,
    "start_time": "2022-09-05T03:29:13.862Z"
   },
   {
    "duration": 191,
    "start_time": "2022-09-05T03:29:14.009Z"
   },
   {
    "duration": 388,
    "start_time": "2022-09-05T03:29:14.202Z"
   },
   {
    "duration": 527,
    "start_time": "2022-09-05T03:29:14.591Z"
   },
   {
    "duration": 151,
    "start_time": "2022-09-05T03:29:15.120Z"
   },
   {
    "duration": 158,
    "start_time": "2022-09-05T03:29:15.273Z"
   },
   {
    "duration": 150,
    "start_time": "2022-09-05T03:29:15.432Z"
   },
   {
    "duration": 350,
    "start_time": "2022-09-05T03:29:15.583Z"
   },
   {
    "duration": 148,
    "start_time": "2022-09-05T03:29:15.935Z"
   },
   {
    "duration": 180,
    "start_time": "2022-09-05T03:29:16.085Z"
   },
   {
    "duration": 161,
    "start_time": "2022-09-05T03:29:16.266Z"
   },
   {
    "duration": 154,
    "start_time": "2022-09-05T03:29:16.429Z"
   },
   {
    "duration": 21,
    "start_time": "2022-09-05T03:29:16.585Z"
   },
   {
    "duration": 18,
    "start_time": "2022-09-05T03:29:16.607Z"
   },
   {
    "duration": 164,
    "start_time": "2022-09-05T03:29:16.627Z"
   },
   {
    "duration": 522,
    "start_time": "2022-09-05T03:29:16.793Z"
   },
   {
    "duration": 8296,
    "start_time": "2022-09-05T03:29:17.317Z"
   },
   {
    "duration": 373,
    "start_time": "2022-09-05T03:29:25.614Z"
   },
   {
    "duration": 109,
    "start_time": "2022-09-05T03:29:35.718Z"
   },
   {
    "duration": 747,
    "start_time": "2022-09-05T03:33:16.050Z"
   },
   {
    "duration": 3,
    "start_time": "2022-09-05T03:33:16.799Z"
   },
   {
    "duration": 238,
    "start_time": "2022-09-05T03:33:16.804Z"
   },
   {
    "duration": 22,
    "start_time": "2022-09-05T03:33:17.045Z"
   },
   {
    "duration": 178,
    "start_time": "2022-09-05T03:33:17.068Z"
   },
   {
    "duration": 39,
    "start_time": "2022-09-05T03:33:17.248Z"
   },
   {
    "duration": 18,
    "start_time": "2022-09-05T03:33:17.289Z"
   },
   {
    "duration": 201,
    "start_time": "2022-09-05T03:33:17.309Z"
   },
   {
    "duration": 58,
    "start_time": "2022-09-05T03:33:17.512Z"
   },
   {
    "duration": 12,
    "start_time": "2022-09-05T03:33:17.573Z"
   },
   {
    "duration": 11,
    "start_time": "2022-09-05T03:33:17.587Z"
   },
   {
    "duration": 8,
    "start_time": "2022-09-05T03:33:17.599Z"
   },
   {
    "duration": 36,
    "start_time": "2022-09-05T03:33:17.608Z"
   },
   {
    "duration": 5,
    "start_time": "2022-09-05T03:33:17.646Z"
   },
   {
    "duration": 12,
    "start_time": "2022-09-05T03:33:17.653Z"
   },
   {
    "duration": 340,
    "start_time": "2022-09-05T03:33:17.666Z"
   },
   {
    "duration": 290,
    "start_time": "2022-09-05T03:33:18.008Z"
   },
   {
    "duration": 39,
    "start_time": "2022-09-05T03:33:18.300Z"
   },
   {
    "duration": 121,
    "start_time": "2022-09-05T03:33:18.340Z"
   },
   {
    "duration": 12,
    "start_time": "2022-09-05T03:33:18.463Z"
   },
   {
    "duration": 13,
    "start_time": "2022-09-05T03:33:18.476Z"
   },
   {
    "duration": 9,
    "start_time": "2022-09-05T03:33:18.491Z"
   },
   {
    "duration": 38,
    "start_time": "2022-09-05T03:33:18.502Z"
   },
   {
    "duration": 263,
    "start_time": "2022-09-05T03:33:18.542Z"
   },
   {
    "duration": 7,
    "start_time": "2022-09-05T03:33:18.806Z"
   },
   {
    "duration": 407,
    "start_time": "2022-09-05T03:33:18.814Z"
   },
   {
    "duration": 294,
    "start_time": "2022-09-05T03:33:19.222Z"
   },
   {
    "duration": 207,
    "start_time": "2022-09-05T03:33:19.520Z"
   },
   {
    "duration": 278,
    "start_time": "2022-09-05T03:33:19.729Z"
   },
   {
    "duration": 182,
    "start_time": "2022-09-05T03:33:20.009Z"
   },
   {
    "duration": 171,
    "start_time": "2022-09-05T03:33:20.193Z"
   },
   {
    "duration": 189,
    "start_time": "2022-09-05T03:33:20.366Z"
   },
   {
    "duration": 116,
    "start_time": "2022-09-05T03:33:20.557Z"
   },
   {
    "duration": 148,
    "start_time": "2022-09-05T03:33:20.674Z"
   },
   {
    "duration": 250,
    "start_time": "2022-09-05T03:33:20.823Z"
   },
   {
    "duration": 139,
    "start_time": "2022-09-05T03:33:21.074Z"
   },
   {
    "duration": 189,
    "start_time": "2022-09-05T03:33:21.215Z"
   },
   {
    "duration": 368,
    "start_time": "2022-09-05T03:33:21.406Z"
   },
   {
    "duration": 505,
    "start_time": "2022-09-05T03:33:21.775Z"
   },
   {
    "duration": 142,
    "start_time": "2022-09-05T03:33:22.281Z"
   },
   {
    "duration": 158,
    "start_time": "2022-09-05T03:33:22.424Z"
   },
   {
    "duration": 143,
    "start_time": "2022-09-05T03:33:22.583Z"
   },
   {
    "duration": 348,
    "start_time": "2022-09-05T03:33:22.727Z"
   },
   {
    "duration": 140,
    "start_time": "2022-09-05T03:33:23.077Z"
   },
   {
    "duration": 175,
    "start_time": "2022-09-05T03:33:23.219Z"
   },
   {
    "duration": 166,
    "start_time": "2022-09-05T03:33:23.396Z"
   },
   {
    "duration": 163,
    "start_time": "2022-09-05T03:33:23.564Z"
   },
   {
    "duration": 37,
    "start_time": "2022-09-05T03:33:23.729Z"
   },
   {
    "duration": 11,
    "start_time": "2022-09-05T03:33:23.767Z"
   },
   {
    "duration": 146,
    "start_time": "2022-09-05T03:33:23.779Z"
   },
   {
    "duration": 557,
    "start_time": "2022-09-05T03:33:23.926Z"
   },
   {
    "duration": 3900,
    "start_time": "2022-09-05T03:33:24.485Z"
   },
   {
    "duration": 386,
    "start_time": "2022-09-05T03:33:28.387Z"
   },
   {
    "duration": 22,
    "start_time": "2022-09-05T03:34:31.637Z"
   },
   {
    "duration": 44,
    "start_time": "2022-09-05T04:16:02.793Z"
   },
   {
    "duration": 1105,
    "start_time": "2022-09-05T04:16:09.453Z"
   },
   {
    "duration": 4,
    "start_time": "2022-09-05T04:16:10.560Z"
   },
   {
    "duration": 231,
    "start_time": "2022-09-05T04:16:10.566Z"
   },
   {
    "duration": 17,
    "start_time": "2022-09-05T04:16:10.800Z"
   },
   {
    "duration": 186,
    "start_time": "2022-09-05T04:16:10.818Z"
   },
   {
    "duration": 37,
    "start_time": "2022-09-05T04:16:11.005Z"
   },
   {
    "duration": 31,
    "start_time": "2022-09-05T04:16:11.044Z"
   },
   {
    "duration": 191,
    "start_time": "2022-09-05T04:16:11.077Z"
   },
   {
    "duration": 46,
    "start_time": "2022-09-05T04:16:11.270Z"
   },
   {
    "duration": 12,
    "start_time": "2022-09-05T04:16:11.318Z"
   },
   {
    "duration": 26,
    "start_time": "2022-09-05T04:16:11.331Z"
   },
   {
    "duration": 7,
    "start_time": "2022-09-05T04:16:11.359Z"
   },
   {
    "duration": 11,
    "start_time": "2022-09-05T04:16:11.367Z"
   },
   {
    "duration": 5,
    "start_time": "2022-09-05T04:16:11.380Z"
   },
   {
    "duration": 9,
    "start_time": "2022-09-05T04:16:11.386Z"
   },
   {
    "duration": 362,
    "start_time": "2022-09-05T04:16:11.396Z"
   },
   {
    "duration": 306,
    "start_time": "2022-09-05T04:16:11.760Z"
   },
   {
    "duration": 29,
    "start_time": "2022-09-05T04:16:12.068Z"
   },
   {
    "duration": 205,
    "start_time": "2022-09-05T04:16:12.098Z"
   },
   {
    "duration": 14,
    "start_time": "2022-09-05T04:16:12.358Z"
   },
   {
    "duration": 16,
    "start_time": "2022-09-05T04:16:12.374Z"
   },
   {
    "duration": 68,
    "start_time": "2022-09-05T04:16:12.392Z"
   },
   {
    "duration": 12,
    "start_time": "2022-09-05T04:16:12.462Z"
   },
   {
    "duration": 524,
    "start_time": "2022-09-05T04:16:12.475Z"
   },
   {
    "duration": 61,
    "start_time": "2022-09-05T04:16:13.000Z"
   },
   {
    "duration": 794,
    "start_time": "2022-09-05T04:16:13.063Z"
   },
   {
    "duration": 309,
    "start_time": "2022-09-05T04:16:13.859Z"
   },
   {
    "duration": 207,
    "start_time": "2022-09-05T04:16:14.172Z"
   },
   {
    "duration": 293,
    "start_time": "2022-09-05T04:16:14.381Z"
   },
   {
    "duration": 178,
    "start_time": "2022-09-05T04:16:14.676Z"
   },
   {
    "duration": 194,
    "start_time": "2022-09-05T04:16:14.857Z"
   },
   {
    "duration": 237,
    "start_time": "2022-09-05T04:16:15.053Z"
   },
   {
    "duration": 169,
    "start_time": "2022-09-05T04:16:15.292Z"
   },
   {
    "duration": 182,
    "start_time": "2022-09-05T04:16:15.463Z"
   },
   {
    "duration": 289,
    "start_time": "2022-09-05T04:16:15.647Z"
   },
   {
    "duration": 158,
    "start_time": "2022-09-05T04:16:15.938Z"
   },
   {
    "duration": 199,
    "start_time": "2022-09-05T04:16:16.098Z"
   },
   {
    "duration": 402,
    "start_time": "2022-09-05T04:16:16.299Z"
   },
   {
    "duration": 502,
    "start_time": "2022-09-05T04:16:16.702Z"
   },
   {
    "duration": 145,
    "start_time": "2022-09-05T04:16:17.207Z"
   },
   {
    "duration": 159,
    "start_time": "2022-09-05T04:16:17.358Z"
   },
   {
    "duration": 140,
    "start_time": "2022-09-05T04:16:17.519Z"
   },
   {
    "duration": 345,
    "start_time": "2022-09-05T04:16:17.660Z"
   },
   {
    "duration": 142,
    "start_time": "2022-09-05T04:16:18.007Z"
   },
   {
    "duration": 172,
    "start_time": "2022-09-05T04:16:18.150Z"
   },
   {
    "duration": 163,
    "start_time": "2022-09-05T04:16:18.324Z"
   },
   {
    "duration": 154,
    "start_time": "2022-09-05T04:16:18.489Z"
   },
   {
    "duration": 32,
    "start_time": "2022-09-05T04:16:18.644Z"
   },
   {
    "duration": 12,
    "start_time": "2022-09-05T04:16:18.677Z"
   },
   {
    "duration": 170,
    "start_time": "2022-09-05T04:16:18.691Z"
   },
   {
    "duration": 494,
    "start_time": "2022-09-05T04:16:18.863Z"
   },
   {
    "duration": 3917,
    "start_time": "2022-09-05T04:16:19.359Z"
   },
   {
    "duration": 358,
    "start_time": "2022-09-05T04:16:23.278Z"
   },
   {
    "duration": 26,
    "start_time": "2022-09-05T04:17:02.227Z"
   },
   {
    "duration": 924,
    "start_time": "2023-04-02T05:07:19.483Z"
   },
   {
    "duration": 397,
    "start_time": "2023-04-02T05:07:20.410Z"
   },
   {
    "duration": 4,
    "start_time": "2023-04-02T05:07:20.810Z"
   },
   {
    "duration": 322,
    "start_time": "2023-04-02T05:07:20.817Z"
   },
   {
    "duration": 33,
    "start_time": "2023-04-02T05:07:21.143Z"
   },
   {
    "duration": 254,
    "start_time": "2023-04-02T05:07:21.178Z"
   },
   {
    "duration": 80,
    "start_time": "2023-04-02T05:07:21.435Z"
   },
   {
    "duration": 48,
    "start_time": "2023-04-02T05:07:21.518Z"
   },
   {
    "duration": 252,
    "start_time": "2023-04-02T05:07:21.568Z"
   },
   {
    "duration": 97,
    "start_time": "2023-04-02T05:07:21.822Z"
   },
   {
    "duration": 26,
    "start_time": "2023-04-02T05:07:21.922Z"
   },
   {
    "duration": 22,
    "start_time": "2023-04-02T05:07:21.950Z"
   },
   {
    "duration": 11,
    "start_time": "2023-04-02T05:07:21.975Z"
   },
   {
    "duration": 23,
    "start_time": "2023-04-02T05:07:21.989Z"
   },
   {
    "duration": 39,
    "start_time": "2023-04-02T05:07:22.014Z"
   },
   {
    "duration": 30,
    "start_time": "2023-04-02T05:07:22.055Z"
   },
   {
    "duration": 417,
    "start_time": "2023-04-02T05:07:22.087Z"
   },
   {
    "duration": 386,
    "start_time": "2023-04-02T05:07:22.507Z"
   },
   {
    "duration": 59,
    "start_time": "2023-04-02T05:07:22.896Z"
   },
   {
    "duration": 126,
    "start_time": "2023-04-02T05:07:22.957Z"
   },
   {
    "duration": 15,
    "start_time": "2023-04-02T05:07:23.085Z"
   },
   {
    "duration": 21,
    "start_time": "2023-04-02T05:07:23.102Z"
   },
   {
    "duration": 16,
    "start_time": "2023-04-02T05:07:23.141Z"
   },
   {
    "duration": 38,
    "start_time": "2023-04-02T05:07:23.158Z"
   },
   {
    "duration": 344,
    "start_time": "2023-04-02T05:07:23.199Z"
   },
   {
    "duration": 10,
    "start_time": "2023-04-02T05:07:23.545Z"
   },
   {
    "duration": 425,
    "start_time": "2023-04-02T05:07:23.556Z"
   },
   {
    "duration": 353,
    "start_time": "2023-04-02T05:07:23.983Z"
   },
   {
    "duration": 224,
    "start_time": "2023-04-02T05:07:24.341Z"
   },
   {
    "duration": 407,
    "start_time": "2023-04-02T05:07:24.566Z"
   },
   {
    "duration": 579,
    "start_time": "2023-04-02T05:07:24.976Z"
   },
   {
    "duration": 507,
    "start_time": "2023-04-02T05:07:25.557Z"
   },
   {
    "duration": 614,
    "start_time": "2023-04-02T05:07:26.066Z"
   },
   {
    "duration": 300,
    "start_time": "2023-04-02T05:07:26.682Z"
   },
   {
    "duration": 497,
    "start_time": "2023-04-02T05:07:26.985Z"
   },
   {
    "duration": 675,
    "start_time": "2023-04-02T05:07:27.484Z"
   },
   {
    "duration": 415,
    "start_time": "2023-04-02T05:07:28.161Z"
   },
   {
    "duration": 674,
    "start_time": "2023-04-02T05:07:28.578Z"
   },
   {
    "duration": 1031,
    "start_time": "2023-04-02T05:07:29.255Z"
   },
   {
    "duration": 1357,
    "start_time": "2023-04-02T05:07:30.287Z"
   },
   {
    "duration": 503,
    "start_time": "2023-04-02T05:07:31.650Z"
   },
   {
    "duration": 198,
    "start_time": "2023-04-02T05:07:32.156Z"
   },
   {
    "duration": 176,
    "start_time": "2023-04-02T05:07:32.357Z"
   },
   {
    "duration": 470,
    "start_time": "2023-04-02T05:07:32.535Z"
   },
   {
    "duration": 193,
    "start_time": "2023-04-02T05:07:33.007Z"
   },
   {
    "duration": 218,
    "start_time": "2023-04-02T05:07:33.203Z"
   },
   {
    "duration": 189,
    "start_time": "2023-04-02T05:07:33.423Z"
   },
   {
    "duration": 218,
    "start_time": "2023-04-02T05:07:33.614Z"
   },
   {
    "duration": 46,
    "start_time": "2023-04-02T05:07:33.835Z"
   },
   {
    "duration": 21,
    "start_time": "2023-04-02T05:07:33.884Z"
   },
   {
    "duration": 203,
    "start_time": "2023-04-02T05:07:33.907Z"
   },
   {
    "duration": 607,
    "start_time": "2023-04-02T05:07:34.112Z"
   },
   {
    "duration": 4899,
    "start_time": "2023-04-02T05:07:34.721Z"
   },
   {
    "duration": 506,
    "start_time": "2023-04-02T05:07:39.623Z"
   },
   {
    "duration": 1618,
    "start_time": "2023-04-02T05:09:19.124Z"
   },
   {
    "duration": 398,
    "start_time": "2023-04-02T05:09:20.745Z"
   },
   {
    "duration": 100,
    "start_time": "2023-04-02T05:09:21.146Z"
   },
   {
    "duration": 0,
    "start_time": "2023-04-02T05:09:21.251Z"
   },
   {
    "duration": 0,
    "start_time": "2023-04-02T05:09:21.252Z"
   },
   {
    "duration": 0,
    "start_time": "2023-04-02T05:09:21.254Z"
   },
   {
    "duration": 0,
    "start_time": "2023-04-02T05:09:21.256Z"
   },
   {
    "duration": 0,
    "start_time": "2023-04-02T05:09:21.257Z"
   },
   {
    "duration": 0,
    "start_time": "2023-04-02T05:09:21.259Z"
   },
   {
    "duration": 0,
    "start_time": "2023-04-02T05:09:21.260Z"
   },
   {
    "duration": 0,
    "start_time": "2023-04-02T05:09:21.261Z"
   },
   {
    "duration": 0,
    "start_time": "2023-04-02T05:09:21.263Z"
   },
   {
    "duration": 0,
    "start_time": "2023-04-02T05:09:21.264Z"
   },
   {
    "duration": 1,
    "start_time": "2023-04-02T05:09:21.265Z"
   },
   {
    "duration": 0,
    "start_time": "2023-04-02T05:09:21.267Z"
   },
   {
    "duration": 0,
    "start_time": "2023-04-02T05:09:21.268Z"
   },
   {
    "duration": 0,
    "start_time": "2023-04-02T05:09:21.270Z"
   },
   {
    "duration": 0,
    "start_time": "2023-04-02T05:09:21.271Z"
   },
   {
    "duration": 0,
    "start_time": "2023-04-02T05:09:21.273Z"
   },
   {
    "duration": 0,
    "start_time": "2023-04-02T05:09:21.275Z"
   },
   {
    "duration": 0,
    "start_time": "2023-04-02T05:09:21.276Z"
   },
   {
    "duration": 0,
    "start_time": "2023-04-02T05:09:21.278Z"
   },
   {
    "duration": 0,
    "start_time": "2023-04-02T05:09:21.280Z"
   },
   {
    "duration": 0,
    "start_time": "2023-04-02T05:09:21.282Z"
   },
   {
    "duration": 0,
    "start_time": "2023-04-02T05:09:21.283Z"
   },
   {
    "duration": 0,
    "start_time": "2023-04-02T05:09:21.284Z"
   },
   {
    "duration": 0,
    "start_time": "2023-04-02T05:09:21.341Z"
   },
   {
    "duration": 0,
    "start_time": "2023-04-02T05:09:21.343Z"
   },
   {
    "duration": 0,
    "start_time": "2023-04-02T05:09:21.344Z"
   },
   {
    "duration": 0,
    "start_time": "2023-04-02T05:09:21.346Z"
   },
   {
    "duration": 0,
    "start_time": "2023-04-02T05:09:21.348Z"
   },
   {
    "duration": 0,
    "start_time": "2023-04-02T05:09:21.350Z"
   },
   {
    "duration": 0,
    "start_time": "2023-04-02T05:09:21.351Z"
   },
   {
    "duration": 0,
    "start_time": "2023-04-02T05:09:21.353Z"
   },
   {
    "duration": 1,
    "start_time": "2023-04-02T05:09:21.355Z"
   },
   {
    "duration": 0,
    "start_time": "2023-04-02T05:09:21.357Z"
   },
   {
    "duration": 0,
    "start_time": "2023-04-02T05:09:21.358Z"
   },
   {
    "duration": 0,
    "start_time": "2023-04-02T05:09:21.360Z"
   },
   {
    "duration": 0,
    "start_time": "2023-04-02T05:09:21.361Z"
   },
   {
    "duration": 0,
    "start_time": "2023-04-02T05:09:21.363Z"
   },
   {
    "duration": 0,
    "start_time": "2023-04-02T05:09:21.364Z"
   },
   {
    "duration": 0,
    "start_time": "2023-04-02T05:09:21.366Z"
   },
   {
    "duration": 0,
    "start_time": "2023-04-02T05:09:21.368Z"
   },
   {
    "duration": 0,
    "start_time": "2023-04-02T05:09:21.369Z"
   },
   {
    "duration": 0,
    "start_time": "2023-04-02T05:09:21.371Z"
   },
   {
    "duration": 0,
    "start_time": "2023-04-02T05:09:21.372Z"
   },
   {
    "duration": 0,
    "start_time": "2023-04-02T05:09:21.374Z"
   },
   {
    "duration": 0,
    "start_time": "2023-04-02T05:09:21.376Z"
   },
   {
    "duration": 0,
    "start_time": "2023-04-02T05:09:21.378Z"
   },
   {
    "duration": 0,
    "start_time": "2023-04-02T05:09:21.378Z"
   },
   {
    "duration": 0,
    "start_time": "2023-04-02T05:09:21.380Z"
   },
   {
    "duration": 0,
    "start_time": "2023-04-02T05:09:21.443Z"
   },
   {
    "duration": 0,
    "start_time": "2023-04-02T05:09:21.445Z"
   },
   {
    "duration": 0,
    "start_time": "2023-04-02T05:09:21.447Z"
   },
   {
    "duration": 6,
    "start_time": "2023-04-02T05:09:36.342Z"
   },
   {
    "duration": 253,
    "start_time": "2023-04-02T05:09:38.284Z"
   },
   {
    "duration": 776,
    "start_time": "2023-04-02T05:10:00.035Z"
   },
   {
    "duration": 255,
    "start_time": "2023-04-02T05:10:00.813Z"
   },
   {
    "duration": 7,
    "start_time": "2023-04-02T05:10:01.071Z"
   },
   {
    "duration": 879,
    "start_time": "2023-04-02T05:10:01.082Z"
   },
   {
    "duration": 82,
    "start_time": "2023-04-02T05:10:01.964Z"
   },
   {
    "duration": 495,
    "start_time": "2023-04-02T05:10:02.049Z"
   },
   {
    "duration": 122,
    "start_time": "2023-04-02T05:10:02.546Z"
   },
   {
    "duration": 86,
    "start_time": "2023-04-02T05:10:02.671Z"
   },
   {
    "duration": 481,
    "start_time": "2023-04-02T05:10:02.760Z"
   },
   {
    "duration": 57,
    "start_time": "2023-04-02T05:10:03.245Z"
   },
   {
    "duration": 39,
    "start_time": "2023-04-02T05:10:03.304Z"
   },
   {
    "duration": 17,
    "start_time": "2023-04-02T05:10:03.345Z"
   },
   {
    "duration": 12,
    "start_time": "2023-04-02T05:10:03.364Z"
   },
   {
    "duration": 15,
    "start_time": "2023-04-02T05:10:03.378Z"
   },
   {
    "duration": 6,
    "start_time": "2023-04-02T05:10:03.395Z"
   },
   {
    "duration": 47,
    "start_time": "2023-04-02T05:10:03.403Z"
   },
   {
    "duration": 406,
    "start_time": "2023-04-02T05:10:03.453Z"
   },
   {
    "duration": 347,
    "start_time": "2023-04-02T05:10:03.861Z"
   },
   {
    "duration": 47,
    "start_time": "2023-04-02T05:10:04.209Z"
   },
   {
    "duration": 170,
    "start_time": "2023-04-02T05:10:04.258Z"
   },
   {
    "duration": 25,
    "start_time": "2023-04-02T05:10:04.430Z"
   },
   {
    "duration": 27,
    "start_time": "2023-04-02T05:10:04.458Z"
   },
   {
    "duration": 20,
    "start_time": "2023-04-02T05:10:04.488Z"
   },
   {
    "duration": 43,
    "start_time": "2023-04-02T05:10:04.511Z"
   },
   {
    "duration": 309,
    "start_time": "2023-04-02T05:10:04.556Z"
   },
   {
    "duration": 11,
    "start_time": "2023-04-02T05:10:04.867Z"
   },
   {
    "duration": 496,
    "start_time": "2023-04-02T05:10:04.880Z"
   },
   {
    "duration": 398,
    "start_time": "2023-04-02T05:10:05.380Z"
   },
   {
    "duration": 334,
    "start_time": "2023-04-02T05:10:05.780Z"
   },
   {
    "duration": 334,
    "start_time": "2023-04-02T05:10:06.116Z"
   },
   {
    "duration": 231,
    "start_time": "2023-04-02T05:10:06.453Z"
   },
   {
    "duration": 279,
    "start_time": "2023-04-02T05:10:06.687Z"
   },
   {
    "duration": 221,
    "start_time": "2023-04-02T05:10:06.969Z"
   },
   {
    "duration": 167,
    "start_time": "2023-04-02T05:10:07.201Z"
   },
   {
    "duration": 178,
    "start_time": "2023-04-02T05:10:07.370Z"
   },
   {
    "duration": 334,
    "start_time": "2023-04-02T05:10:07.551Z"
   },
   {
    "duration": 179,
    "start_time": "2023-04-02T05:10:07.888Z"
   },
   {
    "duration": 246,
    "start_time": "2023-04-02T05:10:08.069Z"
   },
   {
    "duration": 474,
    "start_time": "2023-04-02T05:10:08.317Z"
   },
   {
    "duration": 661,
    "start_time": "2023-04-02T05:10:08.793Z"
   },
   {
    "duration": 178,
    "start_time": "2023-04-02T05:10:09.456Z"
   },
   {
    "duration": 195,
    "start_time": "2023-04-02T05:10:09.637Z"
   },
   {
    "duration": 182,
    "start_time": "2023-04-02T05:10:09.835Z"
   },
   {
    "duration": 493,
    "start_time": "2023-04-02T05:10:10.019Z"
   },
   {
    "duration": 189,
    "start_time": "2023-04-02T05:10:10.514Z"
   },
   {
    "duration": 217,
    "start_time": "2023-04-02T05:10:10.705Z"
   },
   {
    "duration": 202,
    "start_time": "2023-04-02T05:10:10.924Z"
   },
   {
    "duration": 208,
    "start_time": "2023-04-02T05:10:11.128Z"
   },
   {
    "duration": 27,
    "start_time": "2023-04-02T05:10:11.342Z"
   },
   {
    "duration": 16,
    "start_time": "2023-04-02T05:10:11.371Z"
   },
   {
    "duration": 205,
    "start_time": "2023-04-02T05:10:11.389Z"
   },
   {
    "duration": 661,
    "start_time": "2023-04-02T05:10:11.596Z"
   },
   {
    "duration": 4686,
    "start_time": "2023-04-02T05:10:12.260Z"
   },
   {
    "duration": 519,
    "start_time": "2023-04-02T05:10:16.950Z"
   },
   {
    "duration": 333,
    "start_time": "2023-04-02T05:22:23.677Z"
   },
   {
    "duration": 269,
    "start_time": "2023-04-02T05:22:29.812Z"
   },
   {
    "duration": 524,
    "start_time": "2023-04-02T05:22:54.350Z"
   },
   {
    "duration": 391,
    "start_time": "2023-04-02T05:23:41.852Z"
   },
   {
    "duration": 225,
    "start_time": "2023-04-02T05:24:14.298Z"
   },
   {
    "duration": 251,
    "start_time": "2023-04-02T05:25:30.471Z"
   },
   {
    "duration": 214,
    "start_time": "2023-04-02T05:25:38.181Z"
   },
   {
    "duration": 237,
    "start_time": "2023-04-02T05:25:44.823Z"
   },
   {
    "duration": 201,
    "start_time": "2023-04-02T05:30:21.892Z"
   },
   {
    "duration": 909,
    "start_time": "2023-04-02T05:33:10.637Z"
   },
   {
    "duration": 242,
    "start_time": "2023-04-02T05:33:11.548Z"
   },
   {
    "duration": 6,
    "start_time": "2023-04-02T05:33:11.792Z"
   },
   {
    "duration": 322,
    "start_time": "2023-04-02T05:33:11.801Z"
   },
   {
    "duration": 42,
    "start_time": "2023-04-02T05:33:12.127Z"
   },
   {
    "duration": 360,
    "start_time": "2023-04-02T05:33:12.173Z"
   },
   {
    "duration": 75,
    "start_time": "2023-04-02T05:33:12.543Z"
   },
   {
    "duration": 50,
    "start_time": "2023-04-02T05:33:12.620Z"
   },
   {
    "duration": 309,
    "start_time": "2023-04-02T05:33:12.674Z"
   },
   {
    "duration": 62,
    "start_time": "2023-04-02T05:33:12.985Z"
   },
   {
    "duration": 15,
    "start_time": "2023-04-02T05:33:13.048Z"
   },
   {
    "duration": 13,
    "start_time": "2023-04-02T05:33:13.066Z"
   },
   {
    "duration": 16,
    "start_time": "2023-04-02T05:33:13.081Z"
   },
   {
    "duration": 48,
    "start_time": "2023-04-02T05:33:13.101Z"
   },
   {
    "duration": 7,
    "start_time": "2023-04-02T05:33:13.152Z"
   },
   {
    "duration": 30,
    "start_time": "2023-04-02T05:33:13.162Z"
   },
   {
    "duration": 471,
    "start_time": "2023-04-02T05:33:13.196Z"
   },
   {
    "duration": 391,
    "start_time": "2023-04-02T05:33:13.669Z"
   },
   {
    "duration": 39,
    "start_time": "2023-04-02T05:33:14.063Z"
   },
   {
    "duration": 188,
    "start_time": "2023-04-02T05:33:14.105Z"
   },
   {
    "duration": 18,
    "start_time": "2023-04-02T05:33:14.295Z"
   },
   {
    "duration": 68,
    "start_time": "2023-04-02T05:33:14.316Z"
   },
   {
    "duration": 16,
    "start_time": "2023-04-02T05:33:14.386Z"
   },
   {
    "duration": 39,
    "start_time": "2023-04-02T05:33:14.405Z"
   },
   {
    "duration": 363,
    "start_time": "2023-04-02T05:33:14.447Z"
   },
   {
    "duration": 28,
    "start_time": "2023-04-02T05:33:14.813Z"
   },
   {
    "duration": 556,
    "start_time": "2023-04-02T05:33:14.843Z"
   },
   {
    "duration": 414,
    "start_time": "2023-04-02T05:33:15.401Z"
   },
   {
    "duration": 243,
    "start_time": "2023-04-02T05:33:15.818Z"
   },
   {
    "duration": 475,
    "start_time": "2023-04-02T05:33:16.064Z"
   },
   {
    "duration": 289,
    "start_time": "2023-04-02T05:33:16.542Z"
   },
   {
    "duration": 217,
    "start_time": "2023-04-02T05:33:16.833Z"
   },
   {
    "duration": 289,
    "start_time": "2023-04-02T05:33:17.052Z"
   },
   {
    "duration": 162,
    "start_time": "2023-04-02T05:33:17.343Z"
   },
   {
    "duration": 222,
    "start_time": "2023-04-02T05:33:17.507Z"
   },
   {
    "duration": 365,
    "start_time": "2023-04-02T05:33:17.732Z"
   },
   {
    "duration": 191,
    "start_time": "2023-04-02T05:33:18.099Z"
   },
   {
    "duration": 283,
    "start_time": "2023-04-02T05:33:18.293Z"
   },
   {
    "duration": 508,
    "start_time": "2023-04-02T05:33:18.579Z"
   },
   {
    "duration": 780,
    "start_time": "2023-04-02T05:33:19.090Z"
   },
   {
    "duration": 182,
    "start_time": "2023-04-02T05:33:19.875Z"
   },
   {
    "duration": 188,
    "start_time": "2023-04-02T05:33:20.060Z"
   },
   {
    "duration": 182,
    "start_time": "2023-04-02T05:33:20.250Z"
   },
   {
    "duration": 588,
    "start_time": "2023-04-02T05:33:20.440Z"
   },
   {
    "duration": 203,
    "start_time": "2023-04-02T05:33:21.030Z"
   },
   {
    "duration": 233,
    "start_time": "2023-04-02T05:33:21.247Z"
   },
   {
    "duration": 317,
    "start_time": "2023-04-02T05:33:21.482Z"
   },
   {
    "duration": 240,
    "start_time": "2023-04-02T05:33:21.803Z"
   },
   {
    "duration": 44,
    "start_time": "2023-04-02T05:33:22.045Z"
   },
   {
    "duration": 227,
    "start_time": "2023-04-02T05:33:22.092Z"
   }
  ],
  "kernelspec": {
   "display_name": "Python 3 (ipykernel)",
   "language": "python",
   "name": "python3"
  },
  "language_info": {
   "codemirror_mode": {
    "name": "ipython",
    "version": 3
   },
   "file_extension": ".py",
   "mimetype": "text/x-python",
   "name": "python",
   "nbconvert_exporter": "python",
   "pygments_lexer": "ipython3",
   "version": "3.9.5"
  },
  "toc": {
   "base_numbering": 1,
   "nav_menu": {},
   "number_sections": true,
   "sideBar": true,
   "skip_h1_title": true,
   "title_cell": "Table of Contents",
   "title_sidebar": "Contents",
   "toc_cell": false,
   "toc_position": {
    "height": "519px",
    "left": "193px",
    "top": "111.125px",
    "width": "165px"
   },
   "toc_section_display": true,
   "toc_window_display": true
  }
 },
 "nbformat": 4,
 "nbformat_minor": 2
}
