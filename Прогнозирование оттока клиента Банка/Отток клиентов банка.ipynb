{
 "cells": [
  {
   "cell_type": "markdown",
   "metadata": {},
   "source": [
    "# Отток клиентов"
   ]
  },
  {
   "cell_type": "markdown",
   "metadata": {},
   "source": [
    "Из «Бета-Банка» стали уходить клиенты. Каждый месяц. Немного, но заметно. Банковские маркетологи посчитали: сохранять текущих клиентов дешевле, чем привлекать новых.\n",
    "\n",
    "Нужно спрогнозировать, уйдёт клиент из банка в ближайшее время или нет. Вам предоставлены исторические данные о поведении клиентов и расторжении договоров с банком. \n",
    "\n",
    "Постройте модель с предельно большим значением *F1*-меры. Чтобы сдать проект успешно, нужно довести метрику до 0.59. Проверьте *F1*-меру на тестовой выборке самостоятельно.\n",
    "\n",
    "Дополнительно измеряйте *AUC-ROC*, сравнивайте её значение с *F1*-мерой.\n",
    "\n",
    "Источник данных: [https://www.kaggle.com/barelydedicated/bank-customer-churn-modeling](https://www.kaggle.com/barelydedicated/bank-customer-churn-modeling)"
   ]
  },
  {
   "cell_type": "markdown",
   "metadata": {},
   "source": [
    "# Признаки\n",
    "\n",
    "- RowNumber — индекс строки в данных\n",
    "- CustomerId — уникальный идентификатор клиента\n",
    "- Surname — фамилия\n",
    "- CreditScore — кредитный рейтинг\n",
    "- Geography — страна проживания\n",
    "- Gender — пол\n",
    "- Age — возраст\n",
    "- Tenure — количество недвижимости у клиента\n",
    "- Balance — баланс на счёте\n",
    "- NumOfProducts — количество продуктов банка, используемых клиентом\n",
    "- HasCrCard — наличие кредитной карты\n",
    "- IsActiveMember — активность клиента\n",
    "- EstimatedSalary — предполагаемая зарплата\n",
    "# Целевой признак\n",
    "\n",
    "- Exited — факт ухода клиента"
   ]
  },
  {
   "cell_type": "code",
   "execution_count": 1,
   "metadata": {},
   "outputs": [],
   "source": [
    "import pandas as pd\n",
    "import numpy as np\n",
    "\n",
    "import matplotlib.pyplot as plt\n",
    "\n",
    "from sklearn.preprocessing import StandardScaler\n",
    "from sklearn.model_selection import train_test_split\n",
    "from sklearn.tree import DecisionTreeClassifier\n",
    "from sklearn.linear_model import LogisticRegression\n",
    "from sklearn.ensemble import RandomForestClassifier, RandomForestRegressor\n",
    "from sklearn.linear_model import LinearRegression\n",
    "\n",
    "from sklearn.utils import shuffle\n",
    "\n",
    "\n",
    "#Импортируем необходимые метики\n",
    "#метика accuracy\n",
    "from sklearn.metrics import accuracy_score\n",
    "\n",
    "#матрица ошибок\n",
    "from sklearn.metrics import confusion_matrix\n",
    "\n",
    "#полнота\n",
    "from sklearn.metrics import recall_score\n",
    "\n",
    "#точность\n",
    "from sklearn.metrics import precision_score\n",
    "\n",
    "#F-1 мера\n",
    "from sklearn.metrics import f1_score\n",
    "\n",
    "#AUC-ROC\n",
    "from sklearn.metrics import roc_auc_score\n",
    "\n",
    "#ROC-кривая\n",
    "from sklearn.metrics import roc_curve"
   ]
  },
  {
   "cell_type": "code",
   "execution_count": 2,
   "metadata": {},
   "outputs": [
    {
     "name": "stdout",
     "output_type": "stream",
     "text": [
      "<class 'pandas.core.frame.DataFrame'>\n",
      "RangeIndex: 10000 entries, 0 to 9999\n",
      "Data columns (total 14 columns):\n",
      " #   Column           Non-Null Count  Dtype  \n",
      "---  ------           --------------  -----  \n",
      " 0   RowNumber        10000 non-null  int64  \n",
      " 1   CustomerId       10000 non-null  int64  \n",
      " 2   Surname          10000 non-null  object \n",
      " 3   CreditScore      10000 non-null  int64  \n",
      " 4   Geography        10000 non-null  object \n",
      " 5   Gender           10000 non-null  object \n",
      " 6   Age              10000 non-null  int64  \n",
      " 7   Tenure           9091 non-null   float64\n",
      " 8   Balance          10000 non-null  float64\n",
      " 9   NumOfProducts    10000 non-null  int64  \n",
      " 10  HasCrCard        10000 non-null  int64  \n",
      " 11  IsActiveMember   10000 non-null  int64  \n",
      " 12  EstimatedSalary  10000 non-null  float64\n",
      " 13  Exited           10000 non-null  int64  \n",
      "dtypes: float64(3), int64(8), object(3)\n",
      "memory usage: 1.1+ MB\n"
     ]
    }
   ],
   "source": [
    "data = pd.read_csv('/datasets/Churn.csv')\n",
    "data.head()\n",
    "data.info()"
   ]
  },
  {
   "cell_type": "code",
   "execution_count": 3,
   "metadata": {},
   "outputs": [
    {
     "data": {
      "text/html": [
       "<div>\n",
       "<style scoped>\n",
       "    .dataframe tbody tr th:only-of-type {\n",
       "        vertical-align: middle;\n",
       "    }\n",
       "\n",
       "    .dataframe tbody tr th {\n",
       "        vertical-align: top;\n",
       "    }\n",
       "\n",
       "    .dataframe thead th {\n",
       "        text-align: right;\n",
       "    }\n",
       "</style>\n",
       "<table border=\"1\" class=\"dataframe\">\n",
       "  <thead>\n",
       "    <tr style=\"text-align: right;\">\n",
       "      <th></th>\n",
       "      <th>CreditScore</th>\n",
       "      <th>Geography</th>\n",
       "      <th>Gender</th>\n",
       "      <th>Age</th>\n",
       "      <th>Tenure</th>\n",
       "      <th>Balance</th>\n",
       "      <th>NumOfProducts</th>\n",
       "      <th>HasCrCard</th>\n",
       "      <th>IsActiveMember</th>\n",
       "      <th>EstimatedSalary</th>\n",
       "      <th>Exited</th>\n",
       "    </tr>\n",
       "  </thead>\n",
       "  <tbody>\n",
       "    <tr>\n",
       "      <th>0</th>\n",
       "      <td>619</td>\n",
       "      <td>France</td>\n",
       "      <td>Female</td>\n",
       "      <td>42</td>\n",
       "      <td>2.0</td>\n",
       "      <td>0.00</td>\n",
       "      <td>1</td>\n",
       "      <td>1</td>\n",
       "      <td>1</td>\n",
       "      <td>101348.88</td>\n",
       "      <td>1</td>\n",
       "    </tr>\n",
       "    <tr>\n",
       "      <th>1</th>\n",
       "      <td>608</td>\n",
       "      <td>Spain</td>\n",
       "      <td>Female</td>\n",
       "      <td>41</td>\n",
       "      <td>1.0</td>\n",
       "      <td>83807.86</td>\n",
       "      <td>1</td>\n",
       "      <td>0</td>\n",
       "      <td>1</td>\n",
       "      <td>112542.58</td>\n",
       "      <td>0</td>\n",
       "    </tr>\n",
       "    <tr>\n",
       "      <th>2</th>\n",
       "      <td>502</td>\n",
       "      <td>France</td>\n",
       "      <td>Female</td>\n",
       "      <td>42</td>\n",
       "      <td>8.0</td>\n",
       "      <td>159660.80</td>\n",
       "      <td>3</td>\n",
       "      <td>1</td>\n",
       "      <td>0</td>\n",
       "      <td>113931.57</td>\n",
       "      <td>1</td>\n",
       "    </tr>\n",
       "    <tr>\n",
       "      <th>3</th>\n",
       "      <td>699</td>\n",
       "      <td>France</td>\n",
       "      <td>Female</td>\n",
       "      <td>39</td>\n",
       "      <td>1.0</td>\n",
       "      <td>0.00</td>\n",
       "      <td>2</td>\n",
       "      <td>0</td>\n",
       "      <td>0</td>\n",
       "      <td>93826.63</td>\n",
       "      <td>0</td>\n",
       "    </tr>\n",
       "    <tr>\n",
       "      <th>4</th>\n",
       "      <td>850</td>\n",
       "      <td>Spain</td>\n",
       "      <td>Female</td>\n",
       "      <td>43</td>\n",
       "      <td>2.0</td>\n",
       "      <td>125510.82</td>\n",
       "      <td>1</td>\n",
       "      <td>1</td>\n",
       "      <td>1</td>\n",
       "      <td>79084.10</td>\n",
       "      <td>0</td>\n",
       "    </tr>\n",
       "  </tbody>\n",
       "</table>\n",
       "</div>"
      ],
      "text/plain": [
       "   CreditScore Geography  Gender  Age  Tenure    Balance  NumOfProducts  \\\n",
       "0          619    France  Female   42     2.0       0.00              1   \n",
       "1          608     Spain  Female   41     1.0   83807.86              1   \n",
       "2          502    France  Female   42     8.0  159660.80              3   \n",
       "3          699    France  Female   39     1.0       0.00              2   \n",
       "4          850     Spain  Female   43     2.0  125510.82              1   \n",
       "\n",
       "   HasCrCard  IsActiveMember  EstimatedSalary  Exited  \n",
       "0          1               1        101348.88       1  \n",
       "1          0               1        112542.58       0  \n",
       "2          1               0        113931.57       1  \n",
       "3          0               0         93826.63       0  \n",
       "4          1               1         79084.10       0  "
      ]
     },
     "execution_count": 3,
     "metadata": {},
     "output_type": "execute_result"
    }
   ],
   "source": [
    "data = data.drop(['RowNumber', 'CustomerId', 'Surname'], axis=1)\n",
    "data.head()"
   ]
  },
  {
   "cell_type": "code",
   "execution_count": 4,
   "metadata": {},
   "outputs": [
    {
     "data": {
      "text/plain": [
       "array(['France', 'Spain', 'Germany'], dtype=object)"
      ]
     },
     "execution_count": 4,
     "metadata": {},
     "output_type": "execute_result"
    }
   ],
   "source": [
    "data['Geography'].unique()\n"
   ]
  },
  {
   "cell_type": "code",
   "execution_count": 5,
   "metadata": {},
   "outputs": [],
   "source": [
    "data['Tenure'] = data['Tenure'].fillna(-1)"
   ]
  },
  {
   "cell_type": "code",
   "execution_count": 6,
   "metadata": {},
   "outputs": [
    {
     "data": {
      "text/plain": [
       "0"
      ]
     },
     "execution_count": 6,
     "metadata": {},
     "output_type": "execute_result"
    }
   ],
   "source": [
    "data.duplicated().sum()"
   ]
  },
  {
   "cell_type": "markdown",
   "metadata": {},
   "source": [
    "- Признаки RowNumber, CustomerId и Surname не несут в себе информации, необходимой для дальнейшей классификации (RowNumber — столбец дублирует информацию стандартного датафрейма, CustomerId — является идентификатором пользователя, Surname — является идентифицирующей пользователя информацией.) Уберем их.\n",
    "- CreditScore — проверим распределение и оставим его.\n",
    "- Geography — всего 3 значения France', 'Spain', 'Germany' — сделаем преобразование OHE / ordinal encoding\n",
    "- Gender — так же в — OHE / ordinal encoding.\n",
    "- Age — Exited — тип данных верны, требуется проработка OHE."
   ]
  },
  {
   "cell_type": "markdown",
   "metadata": {},
   "source": [
    "# Подготавяливаем данные для машинного обучения"
   ]
  },
  {
   "cell_type": "code",
   "execution_count": 7,
   "metadata": {},
   "outputs": [
    {
     "data": {
      "text/html": [
       "<div>\n",
       "<style scoped>\n",
       "    .dataframe tbody tr th:only-of-type {\n",
       "        vertical-align: middle;\n",
       "    }\n",
       "\n",
       "    .dataframe tbody tr th {\n",
       "        vertical-align: top;\n",
       "    }\n",
       "\n",
       "    .dataframe thead th {\n",
       "        text-align: right;\n",
       "    }\n",
       "</style>\n",
       "<table border=\"1\" class=\"dataframe\">\n",
       "  <thead>\n",
       "    <tr style=\"text-align: right;\">\n",
       "      <th></th>\n",
       "      <th>CreditScore</th>\n",
       "      <th>Geography</th>\n",
       "      <th>Gender</th>\n",
       "      <th>Age</th>\n",
       "      <th>Tenure</th>\n",
       "      <th>Balance</th>\n",
       "      <th>NumOfProducts</th>\n",
       "      <th>HasCrCard</th>\n",
       "      <th>IsActiveMember</th>\n",
       "      <th>EstimatedSalary</th>\n",
       "      <th>Exited</th>\n",
       "    </tr>\n",
       "  </thead>\n",
       "  <tbody>\n",
       "    <tr>\n",
       "      <th>0</th>\n",
       "      <td>619</td>\n",
       "      <td>France</td>\n",
       "      <td>Female</td>\n",
       "      <td>42</td>\n",
       "      <td>2.0</td>\n",
       "      <td>0.00</td>\n",
       "      <td>1</td>\n",
       "      <td>1</td>\n",
       "      <td>1</td>\n",
       "      <td>101348.88</td>\n",
       "      <td>1</td>\n",
       "    </tr>\n",
       "    <tr>\n",
       "      <th>1</th>\n",
       "      <td>608</td>\n",
       "      <td>Spain</td>\n",
       "      <td>Female</td>\n",
       "      <td>41</td>\n",
       "      <td>1.0</td>\n",
       "      <td>83807.86</td>\n",
       "      <td>1</td>\n",
       "      <td>0</td>\n",
       "      <td>1</td>\n",
       "      <td>112542.58</td>\n",
       "      <td>0</td>\n",
       "    </tr>\n",
       "    <tr>\n",
       "      <th>2</th>\n",
       "      <td>502</td>\n",
       "      <td>France</td>\n",
       "      <td>Female</td>\n",
       "      <td>42</td>\n",
       "      <td>8.0</td>\n",
       "      <td>159660.80</td>\n",
       "      <td>3</td>\n",
       "      <td>1</td>\n",
       "      <td>0</td>\n",
       "      <td>113931.57</td>\n",
       "      <td>1</td>\n",
       "    </tr>\n",
       "    <tr>\n",
       "      <th>3</th>\n",
       "      <td>699</td>\n",
       "      <td>France</td>\n",
       "      <td>Female</td>\n",
       "      <td>39</td>\n",
       "      <td>1.0</td>\n",
       "      <td>0.00</td>\n",
       "      <td>2</td>\n",
       "      <td>0</td>\n",
       "      <td>0</td>\n",
       "      <td>93826.63</td>\n",
       "      <td>0</td>\n",
       "    </tr>\n",
       "    <tr>\n",
       "      <th>4</th>\n",
       "      <td>850</td>\n",
       "      <td>Spain</td>\n",
       "      <td>Female</td>\n",
       "      <td>43</td>\n",
       "      <td>2.0</td>\n",
       "      <td>125510.82</td>\n",
       "      <td>1</td>\n",
       "      <td>1</td>\n",
       "      <td>1</td>\n",
       "      <td>79084.10</td>\n",
       "      <td>0</td>\n",
       "    </tr>\n",
       "  </tbody>\n",
       "</table>\n",
       "</div>"
      ],
      "text/plain": [
       "   CreditScore Geography  Gender  Age  Tenure    Balance  NumOfProducts  \\\n",
       "0          619    France  Female   42     2.0       0.00              1   \n",
       "1          608     Spain  Female   41     1.0   83807.86              1   \n",
       "2          502    France  Female   42     8.0  159660.80              3   \n",
       "3          699    France  Female   39     1.0       0.00              2   \n",
       "4          850     Spain  Female   43     2.0  125510.82              1   \n",
       "\n",
       "   HasCrCard  IsActiveMember  EstimatedSalary  Exited  \n",
       "0          1               1        101348.88       1  \n",
       "1          0               1        112542.58       0  \n",
       "2          1               0        113931.57       1  \n",
       "3          0               0         93826.63       0  \n",
       "4          1               1         79084.10       0  "
      ]
     },
     "execution_count": 7,
     "metadata": {},
     "output_type": "execute_result"
    }
   ],
   "source": [
    "data.head()"
   ]
  },
  {
   "cell_type": "markdown",
   "metadata": {},
   "source": [
    "Подготовим данные методом ОНЕ для дальнейшего использования моделей (случайный лес, дерево решений, логистическая регрессия)"
   ]
  },
  {
   "cell_type": "code",
   "execution_count": 8,
   "metadata": {},
   "outputs": [
    {
     "data": {
      "text/html": [
       "<div>\n",
       "<style scoped>\n",
       "    .dataframe tbody tr th:only-of-type {\n",
       "        vertical-align: middle;\n",
       "    }\n",
       "\n",
       "    .dataframe tbody tr th {\n",
       "        vertical-align: top;\n",
       "    }\n",
       "\n",
       "    .dataframe thead th {\n",
       "        text-align: right;\n",
       "    }\n",
       "</style>\n",
       "<table border=\"1\" class=\"dataframe\">\n",
       "  <thead>\n",
       "    <tr style=\"text-align: right;\">\n",
       "      <th></th>\n",
       "      <th>CreditScore</th>\n",
       "      <th>Age</th>\n",
       "      <th>Tenure</th>\n",
       "      <th>Balance</th>\n",
       "      <th>NumOfProducts</th>\n",
       "      <th>HasCrCard</th>\n",
       "      <th>IsActiveMember</th>\n",
       "      <th>EstimatedSalary</th>\n",
       "      <th>Exited</th>\n",
       "      <th>Geography_Germany</th>\n",
       "      <th>Geography_Spain</th>\n",
       "      <th>Gender_Male</th>\n",
       "    </tr>\n",
       "  </thead>\n",
       "  <tbody>\n",
       "    <tr>\n",
       "      <th>0</th>\n",
       "      <td>619</td>\n",
       "      <td>42</td>\n",
       "      <td>2.0</td>\n",
       "      <td>0.00</td>\n",
       "      <td>1</td>\n",
       "      <td>1</td>\n",
       "      <td>1</td>\n",
       "      <td>101348.88</td>\n",
       "      <td>1</td>\n",
       "      <td>0</td>\n",
       "      <td>0</td>\n",
       "      <td>0</td>\n",
       "    </tr>\n",
       "    <tr>\n",
       "      <th>1</th>\n",
       "      <td>608</td>\n",
       "      <td>41</td>\n",
       "      <td>1.0</td>\n",
       "      <td>83807.86</td>\n",
       "      <td>1</td>\n",
       "      <td>0</td>\n",
       "      <td>1</td>\n",
       "      <td>112542.58</td>\n",
       "      <td>0</td>\n",
       "      <td>0</td>\n",
       "      <td>1</td>\n",
       "      <td>0</td>\n",
       "    </tr>\n",
       "    <tr>\n",
       "      <th>2</th>\n",
       "      <td>502</td>\n",
       "      <td>42</td>\n",
       "      <td>8.0</td>\n",
       "      <td>159660.80</td>\n",
       "      <td>3</td>\n",
       "      <td>1</td>\n",
       "      <td>0</td>\n",
       "      <td>113931.57</td>\n",
       "      <td>1</td>\n",
       "      <td>0</td>\n",
       "      <td>0</td>\n",
       "      <td>0</td>\n",
       "    </tr>\n",
       "    <tr>\n",
       "      <th>3</th>\n",
       "      <td>699</td>\n",
       "      <td>39</td>\n",
       "      <td>1.0</td>\n",
       "      <td>0.00</td>\n",
       "      <td>2</td>\n",
       "      <td>0</td>\n",
       "      <td>0</td>\n",
       "      <td>93826.63</td>\n",
       "      <td>0</td>\n",
       "      <td>0</td>\n",
       "      <td>0</td>\n",
       "      <td>0</td>\n",
       "    </tr>\n",
       "    <tr>\n",
       "      <th>4</th>\n",
       "      <td>850</td>\n",
       "      <td>43</td>\n",
       "      <td>2.0</td>\n",
       "      <td>125510.82</td>\n",
       "      <td>1</td>\n",
       "      <td>1</td>\n",
       "      <td>1</td>\n",
       "      <td>79084.10</td>\n",
       "      <td>0</td>\n",
       "      <td>0</td>\n",
       "      <td>1</td>\n",
       "      <td>0</td>\n",
       "    </tr>\n",
       "  </tbody>\n",
       "</table>\n",
       "</div>"
      ],
      "text/plain": [
       "   CreditScore  Age  Tenure    Balance  NumOfProducts  HasCrCard  \\\n",
       "0          619   42     2.0       0.00              1          1   \n",
       "1          608   41     1.0   83807.86              1          0   \n",
       "2          502   42     8.0  159660.80              3          1   \n",
       "3          699   39     1.0       0.00              2          0   \n",
       "4          850   43     2.0  125510.82              1          1   \n",
       "\n",
       "   IsActiveMember  EstimatedSalary  Exited  Geography_Germany  \\\n",
       "0               1        101348.88       1                  0   \n",
       "1               1        112542.58       0                  0   \n",
       "2               0        113931.57       1                  0   \n",
       "3               0         93826.63       0                  0   \n",
       "4               1         79084.10       0                  0   \n",
       "\n",
       "   Geography_Spain  Gender_Male  \n",
       "0                0            0  \n",
       "1                1            0  \n",
       "2                0            0  \n",
       "3                0            0  \n",
       "4                1            0  "
      ]
     },
     "execution_count": 8,
     "metadata": {},
     "output_type": "execute_result"
    }
   ],
   "source": [
    "data = pd.get_dummies(data, drop_first=True)\n",
    "data.head()"
   ]
  },
  {
   "cell_type": "markdown",
   "metadata": {},
   "source": [
    "<div class=\"alert alert-block alert-success\">\n",
    "<b>Успех:</b> OHE – наиболее подходящий метод для кодировки категориальных колонок в данном случае.\n",
    "</div>"
   ]
  },
  {
   "cell_type": "code",
   "execution_count": 9,
   "metadata": {},
   "outputs": [
    {
     "data": {
      "text/plain": [
       "(10000, 12)"
      ]
     },
     "execution_count": 9,
     "metadata": {},
     "output_type": "execute_result"
    }
   ],
   "source": [
    "data.shape"
   ]
  },
  {
   "cell_type": "markdown",
   "metadata": {},
   "source": [
    "В полученном датафрейме у нас 12 столбцов.\n",
    "- Столбец Geography содержал 3 класса \n",
    "- Gender_Male 2 класса — в результате мы получили только 2 и 1 столбцов соответственно, тем самым избегаем дамми-ловушки"
   ]
  },
  {
   "cell_type": "markdown",
   "metadata": {},
   "source": [
    "Разделим данные на обучающую, валидационную и тестовую выборки в пропорции 3:1:1 соответственно (60% на обучающию и по 20% данных на валидационную и тестовую выборки)."
   ]
  },
  {
   "cell_type": "code",
   "execution_count": 10,
   "metadata": {},
   "outputs": [],
   "source": [
    "features = data.drop('Exited', axis=1)\n",
    "target = data['Exited']"
   ]
  },
  {
   "cell_type": "code",
   "execution_count": 11,
   "metadata": {},
   "outputs": [],
   "source": [
    "X, X_test, y, y_test = train_test_split(features, target, test_size=0.2, random_state=123)\n",
    "\n",
    "X_train, X_valid, y_train, y_valid = train_test_split(X, y, test_size=0.25, random_state=123)\n"
   ]
  },
  {
   "cell_type": "code",
   "execution_count": 12,
   "metadata": {},
   "outputs": [
    {
     "name": "stdout",
     "output_type": "stream",
     "text": [
      "Размеры наборов данных:\n",
      "X_train:  (6000, 11)\n",
      "X_valid:  (2000, 11)\n",
      "X_test:   (2000, 11)\n"
     ]
    }
   ],
   "source": [
    "# выведем размеры получившихся выборок\n",
    "print('Размеры наборов данных:')\n",
    "print('X_train: ', X_train.shape)\n",
    "print('X_valid: ', X_valid.shape)\n",
    "print('X_test:  ', X_test.shape)"
   ]
  },
  {
   "cell_type": "markdown",
   "metadata": {},
   "source": [
    "Полученые выбрки:\n",
    "- Обучающая\n",
    "X_train,\n",
    "y_train\n",
    "\n",
    "- Валидационная\n",
    "X_valid,\n",
    "y_valid\n",
    "\n",
    "- Тестовая\n",
    "X_test,\n",
    "y_test"
   ]
  },
  {
   "cell_type": "markdown",
   "metadata": {},
   "source": [
    "# Масштабирование признаков"
   ]
  },
  {
   "cell_type": "code",
   "execution_count": 13,
   "metadata": {},
   "outputs": [
    {
     "data": {
      "text/html": [
       "<div>\n",
       "<style scoped>\n",
       "    .dataframe tbody tr th:only-of-type {\n",
       "        vertical-align: middle;\n",
       "    }\n",
       "\n",
       "    .dataframe tbody tr th {\n",
       "        vertical-align: top;\n",
       "    }\n",
       "\n",
       "    .dataframe thead th {\n",
       "        text-align: right;\n",
       "    }\n",
       "</style>\n",
       "<table border=\"1\" class=\"dataframe\">\n",
       "  <thead>\n",
       "    <tr style=\"text-align: right;\">\n",
       "      <th></th>\n",
       "      <th>CreditScore</th>\n",
       "      <th>Age</th>\n",
       "      <th>Tenure</th>\n",
       "      <th>Balance</th>\n",
       "      <th>NumOfProducts</th>\n",
       "      <th>HasCrCard</th>\n",
       "      <th>IsActiveMember</th>\n",
       "      <th>EstimatedSalary</th>\n",
       "      <th>Geography_Germany</th>\n",
       "      <th>Geography_Spain</th>\n",
       "      <th>Gender_Male</th>\n",
       "    </tr>\n",
       "  </thead>\n",
       "  <tbody>\n",
       "    <tr>\n",
       "      <th>8189</th>\n",
       "      <td>715</td>\n",
       "      <td>21</td>\n",
       "      <td>8.0</td>\n",
       "      <td>0.00</td>\n",
       "      <td>2</td>\n",
       "      <td>1</td>\n",
       "      <td>0</td>\n",
       "      <td>68666.63</td>\n",
       "      <td>0</td>\n",
       "      <td>0</td>\n",
       "      <td>1</td>\n",
       "    </tr>\n",
       "    <tr>\n",
       "      <th>8845</th>\n",
       "      <td>729</td>\n",
       "      <td>39</td>\n",
       "      <td>1.0</td>\n",
       "      <td>131513.26</td>\n",
       "      <td>1</td>\n",
       "      <td>1</td>\n",
       "      <td>1</td>\n",
       "      <td>193715.00</td>\n",
       "      <td>1</td>\n",
       "      <td>0</td>\n",
       "      <td>0</td>\n",
       "    </tr>\n",
       "    <tr>\n",
       "      <th>1165</th>\n",
       "      <td>712</td>\n",
       "      <td>49</td>\n",
       "      <td>5.0</td>\n",
       "      <td>154776.42</td>\n",
       "      <td>2</td>\n",
       "      <td>0</td>\n",
       "      <td>0</td>\n",
       "      <td>196257.68</td>\n",
       "      <td>1</td>\n",
       "      <td>0</td>\n",
       "      <td>0</td>\n",
       "    </tr>\n",
       "    <tr>\n",
       "      <th>1742</th>\n",
       "      <td>584</td>\n",
       "      <td>54</td>\n",
       "      <td>1.0</td>\n",
       "      <td>77354.37</td>\n",
       "      <td>1</td>\n",
       "      <td>0</td>\n",
       "      <td>0</td>\n",
       "      <td>138192.98</td>\n",
       "      <td>1</td>\n",
       "      <td>0</td>\n",
       "      <td>0</td>\n",
       "    </tr>\n",
       "    <tr>\n",
       "      <th>1139</th>\n",
       "      <td>727</td>\n",
       "      <td>57</td>\n",
       "      <td>1.0</td>\n",
       "      <td>109679.72</td>\n",
       "      <td>1</td>\n",
       "      <td>0</td>\n",
       "      <td>1</td>\n",
       "      <td>753.37</td>\n",
       "      <td>0</td>\n",
       "      <td>1</td>\n",
       "      <td>0</td>\n",
       "    </tr>\n",
       "  </tbody>\n",
       "</table>\n",
       "</div>"
      ],
      "text/plain": [
       "      CreditScore  Age  Tenure    Balance  NumOfProducts  HasCrCard  \\\n",
       "8189          715   21     8.0       0.00              2          1   \n",
       "8845          729   39     1.0  131513.26              1          1   \n",
       "1165          712   49     5.0  154776.42              2          0   \n",
       "1742          584   54     1.0   77354.37              1          0   \n",
       "1139          727   57     1.0  109679.72              1          0   \n",
       "\n",
       "      IsActiveMember  EstimatedSalary  Geography_Germany  Geography_Spain  \\\n",
       "8189               0         68666.63                  0                0   \n",
       "8845               1        193715.00                  1                0   \n",
       "1165               0        196257.68                  1                0   \n",
       "1742               0        138192.98                  1                0   \n",
       "1139               1           753.37                  0                1   \n",
       "\n",
       "      Gender_Male  \n",
       "8189            1  \n",
       "8845            0  \n",
       "1165            0  \n",
       "1742            0  \n",
       "1139            0  "
      ]
     },
     "execution_count": 13,
     "metadata": {},
     "output_type": "execute_result"
    }
   ],
   "source": [
    "X_train.head()"
   ]
  },
  {
   "cell_type": "code",
   "execution_count": 14,
   "metadata": {},
   "outputs": [],
   "source": [
    "#Для масштабирования зафиксируем численные признаки\n",
    "numeric = ['CreditScore', 'Age', 'Balance', 'NumOfProducts', 'EstimatedSalary']"
   ]
  },
  {
   "cell_type": "code",
   "execution_count": 15,
   "metadata": {},
   "outputs": [
    {
     "data": {
      "text/plain": [
       "StandardScaler()"
      ]
     },
     "execution_count": 15,
     "metadata": {},
     "output_type": "execute_result"
    }
   ],
   "source": [
    "scaler = StandardScaler()\n",
    "scaler.fit(X_train[numeric])"
   ]
  },
  {
   "cell_type": "code",
   "execution_count": 16,
   "metadata": {},
   "outputs": [
    {
     "name": "stderr",
     "output_type": "stream",
     "text": [
      "/tmp/ipykernel_563/1068312076.py:2: SettingWithCopyWarning: \n",
      "A value is trying to be set on a copy of a slice from a DataFrame.\n",
      "Try using .loc[row_indexer,col_indexer] = value instead\n",
      "\n",
      "See the caveats in the documentation: https://pandas.pydata.org/pandas-docs/stable/user_guide/indexing.html#returning-a-view-versus-a-copy\n",
      "  X_train[numeric] = scaler.transform(X_train[numeric])\n",
      "/opt/conda/lib/python3.9/site-packages/pandas/core/indexing.py:1738: SettingWithCopyWarning: \n",
      "A value is trying to be set on a copy of a slice from a DataFrame.\n",
      "Try using .loc[row_indexer,col_indexer] = value instead\n",
      "\n",
      "See the caveats in the documentation: https://pandas.pydata.org/pandas-docs/stable/user_guide/indexing.html#returning-a-view-versus-a-copy\n",
      "  self._setitem_single_column(loc, value[:, i].tolist(), pi)\n"
     ]
    },
    {
     "data": {
      "text/html": [
       "<div>\n",
       "<style scoped>\n",
       "    .dataframe tbody tr th:only-of-type {\n",
       "        vertical-align: middle;\n",
       "    }\n",
       "\n",
       "    .dataframe tbody tr th {\n",
       "        vertical-align: top;\n",
       "    }\n",
       "\n",
       "    .dataframe thead th {\n",
       "        text-align: right;\n",
       "    }\n",
       "</style>\n",
       "<table border=\"1\" class=\"dataframe\">\n",
       "  <thead>\n",
       "    <tr style=\"text-align: right;\">\n",
       "      <th></th>\n",
       "      <th>CreditScore</th>\n",
       "      <th>Age</th>\n",
       "      <th>Tenure</th>\n",
       "      <th>Balance</th>\n",
       "      <th>NumOfProducts</th>\n",
       "      <th>HasCrCard</th>\n",
       "      <th>IsActiveMember</th>\n",
       "      <th>EstimatedSalary</th>\n",
       "      <th>Geography_Germany</th>\n",
       "      <th>Geography_Spain</th>\n",
       "      <th>Gender_Male</th>\n",
       "    </tr>\n",
       "  </thead>\n",
       "  <tbody>\n",
       "    <tr>\n",
       "      <th>8189</th>\n",
       "      <td>0.652468</td>\n",
       "      <td>-1.698690</td>\n",
       "      <td>8.0</td>\n",
       "      <td>-1.213083</td>\n",
       "      <td>0.781092</td>\n",
       "      <td>1</td>\n",
       "      <td>0</td>\n",
       "      <td>-0.535390</td>\n",
       "      <td>0</td>\n",
       "      <td>0</td>\n",
       "      <td>1</td>\n",
       "    </tr>\n",
       "    <tr>\n",
       "      <th>8845</th>\n",
       "      <td>0.796864</td>\n",
       "      <td>0.002583</td>\n",
       "      <td>1.0</td>\n",
       "      <td>0.886952</td>\n",
       "      <td>-0.920634</td>\n",
       "      <td>1</td>\n",
       "      <td>1</td>\n",
       "      <td>1.637287</td>\n",
       "      <td>1</td>\n",
       "      <td>0</td>\n",
       "      <td>0</td>\n",
       "    </tr>\n",
       "    <tr>\n",
       "      <th>1165</th>\n",
       "      <td>0.621526</td>\n",
       "      <td>0.947735</td>\n",
       "      <td>5.0</td>\n",
       "      <td>1.258423</td>\n",
       "      <td>0.781092</td>\n",
       "      <td>0</td>\n",
       "      <td>0</td>\n",
       "      <td>1.681465</td>\n",
       "      <td>1</td>\n",
       "      <td>0</td>\n",
       "      <td>0</td>\n",
       "    </tr>\n",
       "    <tr>\n",
       "      <th>1742</th>\n",
       "      <td>-0.698668</td>\n",
       "      <td>1.420312</td>\n",
       "      <td>1.0</td>\n",
       "      <td>0.022130</td>\n",
       "      <td>-0.920634</td>\n",
       "      <td>0</td>\n",
       "      <td>0</td>\n",
       "      <td>0.672609</td>\n",
       "      <td>1</td>\n",
       "      <td>0</td>\n",
       "      <td>0</td>\n",
       "    </tr>\n",
       "    <tr>\n",
       "      <th>1139</th>\n",
       "      <td>0.776236</td>\n",
       "      <td>1.703857</td>\n",
       "      <td>1.0</td>\n",
       "      <td>0.538309</td>\n",
       "      <td>-0.920634</td>\n",
       "      <td>0</td>\n",
       "      <td>1</td>\n",
       "      <td>-1.715362</td>\n",
       "      <td>0</td>\n",
       "      <td>1</td>\n",
       "      <td>0</td>\n",
       "    </tr>\n",
       "  </tbody>\n",
       "</table>\n",
       "</div>"
      ],
      "text/plain": [
       "      CreditScore       Age  Tenure   Balance  NumOfProducts  HasCrCard  \\\n",
       "8189     0.652468 -1.698690     8.0 -1.213083       0.781092          1   \n",
       "8845     0.796864  0.002583     1.0  0.886952      -0.920634          1   \n",
       "1165     0.621526  0.947735     5.0  1.258423       0.781092          0   \n",
       "1742    -0.698668  1.420312     1.0  0.022130      -0.920634          0   \n",
       "1139     0.776236  1.703857     1.0  0.538309      -0.920634          0   \n",
       "\n",
       "      IsActiveMember  EstimatedSalary  Geography_Germany  Geography_Spain  \\\n",
       "8189               0        -0.535390                  0                0   \n",
       "8845               1         1.637287                  1                0   \n",
       "1165               0         1.681465                  1                0   \n",
       "1742               0         0.672609                  1                0   \n",
       "1139               1        -1.715362                  0                1   \n",
       "\n",
       "      Gender_Male  \n",
       "8189            1  \n",
       "8845            0  \n",
       "1165            0  \n",
       "1742            0  \n",
       "1139            0  "
      ]
     },
     "execution_count": 16,
     "metadata": {},
     "output_type": "execute_result"
    }
   ],
   "source": [
    "#Масштабируем численные признаки обучающей выборки \n",
    "X_train[numeric] = scaler.transform(X_train[numeric])\n",
    "X_train.head()"
   ]
  },
  {
   "cell_type": "code",
   "execution_count": 17,
   "metadata": {},
   "outputs": [
    {
     "name": "stderr",
     "output_type": "stream",
     "text": [
      "/tmp/ipykernel_563/1427102451.py:2: SettingWithCopyWarning: \n",
      "A value is trying to be set on a copy of a slice from a DataFrame.\n",
      "Try using .loc[row_indexer,col_indexer] = value instead\n",
      "\n",
      "See the caveats in the documentation: https://pandas.pydata.org/pandas-docs/stable/user_guide/indexing.html#returning-a-view-versus-a-copy\n",
      "  X_valid[numeric] = scaler.transform(X_valid[numeric])\n",
      "/opt/conda/lib/python3.9/site-packages/pandas/core/indexing.py:1738: SettingWithCopyWarning: \n",
      "A value is trying to be set on a copy of a slice from a DataFrame.\n",
      "Try using .loc[row_indexer,col_indexer] = value instead\n",
      "\n",
      "See the caveats in the documentation: https://pandas.pydata.org/pandas-docs/stable/user_guide/indexing.html#returning-a-view-versus-a-copy\n",
      "  self._setitem_single_column(loc, value[:, i].tolist(), pi)\n"
     ]
    },
    {
     "data": {
      "text/html": [
       "<div>\n",
       "<style scoped>\n",
       "    .dataframe tbody tr th:only-of-type {\n",
       "        vertical-align: middle;\n",
       "    }\n",
       "\n",
       "    .dataframe tbody tr th {\n",
       "        vertical-align: top;\n",
       "    }\n",
       "\n",
       "    .dataframe thead th {\n",
       "        text-align: right;\n",
       "    }\n",
       "</style>\n",
       "<table border=\"1\" class=\"dataframe\">\n",
       "  <thead>\n",
       "    <tr style=\"text-align: right;\">\n",
       "      <th></th>\n",
       "      <th>CreditScore</th>\n",
       "      <th>Age</th>\n",
       "      <th>Tenure</th>\n",
       "      <th>Balance</th>\n",
       "      <th>NumOfProducts</th>\n",
       "      <th>HasCrCard</th>\n",
       "      <th>IsActiveMember</th>\n",
       "      <th>EstimatedSalary</th>\n",
       "      <th>Geography_Germany</th>\n",
       "      <th>Geography_Spain</th>\n",
       "      <th>Gender_Male</th>\n",
       "    </tr>\n",
       "  </thead>\n",
       "  <tbody>\n",
       "    <tr>\n",
       "      <th>1361</th>\n",
       "      <td>-0.760552</td>\n",
       "      <td>-0.659023</td>\n",
       "      <td>4.0</td>\n",
       "      <td>-1.213083</td>\n",
       "      <td>0.781092</td>\n",
       "      <td>1</td>\n",
       "      <td>1</td>\n",
       "      <td>0.735676</td>\n",
       "      <td>0</td>\n",
       "      <td>0</td>\n",
       "      <td>1</td>\n",
       "    </tr>\n",
       "    <tr>\n",
       "      <th>2739</th>\n",
       "      <td>-0.275793</td>\n",
       "      <td>0.569675</td>\n",
       "      <td>7.0</td>\n",
       "      <td>0.983435</td>\n",
       "      <td>-0.920634</td>\n",
       "      <td>0</td>\n",
       "      <td>0</td>\n",
       "      <td>0.436569</td>\n",
       "      <td>0</td>\n",
       "      <td>0</td>\n",
       "      <td>1</td>\n",
       "    </tr>\n",
       "    <tr>\n",
       "      <th>1963</th>\n",
       "      <td>-0.760552</td>\n",
       "      <td>-0.469993</td>\n",
       "      <td>-1.0</td>\n",
       "      <td>1.142028</td>\n",
       "      <td>0.781092</td>\n",
       "      <td>1</td>\n",
       "      <td>0</td>\n",
       "      <td>-0.569894</td>\n",
       "      <td>1</td>\n",
       "      <td>0</td>\n",
       "      <td>1</td>\n",
       "    </tr>\n",
       "    <tr>\n",
       "      <th>9799</th>\n",
       "      <td>0.012999</td>\n",
       "      <td>0.664190</td>\n",
       "      <td>0.0</td>\n",
       "      <td>0.696017</td>\n",
       "      <td>-0.920634</td>\n",
       "      <td>1</td>\n",
       "      <td>0</td>\n",
       "      <td>-0.368880</td>\n",
       "      <td>0</td>\n",
       "      <td>0</td>\n",
       "      <td>1</td>\n",
       "    </tr>\n",
       "    <tr>\n",
       "      <th>1023</th>\n",
       "      <td>-0.100455</td>\n",
       "      <td>-0.659023</td>\n",
       "      <td>3.0</td>\n",
       "      <td>-1.213083</td>\n",
       "      <td>0.781092</td>\n",
       "      <td>1</td>\n",
       "      <td>1</td>\n",
       "      <td>-0.187337</td>\n",
       "      <td>0</td>\n",
       "      <td>0</td>\n",
       "      <td>1</td>\n",
       "    </tr>\n",
       "  </tbody>\n",
       "</table>\n",
       "</div>"
      ],
      "text/plain": [
       "      CreditScore       Age  Tenure   Balance  NumOfProducts  HasCrCard  \\\n",
       "1361    -0.760552 -0.659023     4.0 -1.213083       0.781092          1   \n",
       "2739    -0.275793  0.569675     7.0  0.983435      -0.920634          0   \n",
       "1963    -0.760552 -0.469993    -1.0  1.142028       0.781092          1   \n",
       "9799     0.012999  0.664190     0.0  0.696017      -0.920634          1   \n",
       "1023    -0.100455 -0.659023     3.0 -1.213083       0.781092          1   \n",
       "\n",
       "      IsActiveMember  EstimatedSalary  Geography_Germany  Geography_Spain  \\\n",
       "1361               1         0.735676                  0                0   \n",
       "2739               0         0.436569                  0                0   \n",
       "1963               0        -0.569894                  1                0   \n",
       "9799               0        -0.368880                  0                0   \n",
       "1023               1        -0.187337                  0                0   \n",
       "\n",
       "      Gender_Male  \n",
       "1361            1  \n",
       "2739            1  \n",
       "1963            1  \n",
       "9799            1  \n",
       "1023            1  "
      ]
     },
     "execution_count": 17,
     "metadata": {},
     "output_type": "execute_result"
    }
   ],
   "source": [
    "#Масштабируем численные признаки валидационной выборки \n",
    "X_valid[numeric] = scaler.transform(X_valid[numeric])\n",
    "X_valid.head()"
   ]
  },
  {
   "cell_type": "code",
   "execution_count": 18,
   "metadata": {},
   "outputs": [
    {
     "name": "stderr",
     "output_type": "stream",
     "text": [
      "/tmp/ipykernel_563/1567446198.py:2: SettingWithCopyWarning: \n",
      "A value is trying to be set on a copy of a slice from a DataFrame.\n",
      "Try using .loc[row_indexer,col_indexer] = value instead\n",
      "\n",
      "See the caveats in the documentation: https://pandas.pydata.org/pandas-docs/stable/user_guide/indexing.html#returning-a-view-versus-a-copy\n",
      "  X_test[numeric] = scaler.transform(X_test[numeric])\n",
      "/opt/conda/lib/python3.9/site-packages/pandas/core/indexing.py:1738: SettingWithCopyWarning: \n",
      "A value is trying to be set on a copy of a slice from a DataFrame.\n",
      "Try using .loc[row_indexer,col_indexer] = value instead\n",
      "\n",
      "See the caveats in the documentation: https://pandas.pydata.org/pandas-docs/stable/user_guide/indexing.html#returning-a-view-versus-a-copy\n",
      "  self._setitem_single_column(loc, value[:, i].tolist(), pi)\n"
     ]
    },
    {
     "data": {
      "text/html": [
       "<div>\n",
       "<style scoped>\n",
       "    .dataframe tbody tr th:only-of-type {\n",
       "        vertical-align: middle;\n",
       "    }\n",
       "\n",
       "    .dataframe tbody tr th {\n",
       "        vertical-align: top;\n",
       "    }\n",
       "\n",
       "    .dataframe thead th {\n",
       "        text-align: right;\n",
       "    }\n",
       "</style>\n",
       "<table border=\"1\" class=\"dataframe\">\n",
       "  <thead>\n",
       "    <tr style=\"text-align: right;\">\n",
       "      <th></th>\n",
       "      <th>CreditScore</th>\n",
       "      <th>Age</th>\n",
       "      <th>Tenure</th>\n",
       "      <th>Balance</th>\n",
       "      <th>NumOfProducts</th>\n",
       "      <th>HasCrCard</th>\n",
       "      <th>IsActiveMember</th>\n",
       "      <th>EstimatedSalary</th>\n",
       "      <th>Geography_Germany</th>\n",
       "      <th>Geography_Spain</th>\n",
       "      <th>Gender_Male</th>\n",
       "    </tr>\n",
       "  </thead>\n",
       "  <tbody>\n",
       "    <tr>\n",
       "      <th>2656</th>\n",
       "      <td>1.312565</td>\n",
       "      <td>-0.469993</td>\n",
       "      <td>5.0</td>\n",
       "      <td>-1.213083</td>\n",
       "      <td>0.781092</td>\n",
       "      <td>0</td>\n",
       "      <td>1</td>\n",
       "      <td>0.211895</td>\n",
       "      <td>0</td>\n",
       "      <td>1</td>\n",
       "      <td>0</td>\n",
       "    </tr>\n",
       "    <tr>\n",
       "      <th>445</th>\n",
       "      <td>0.992830</td>\n",
       "      <td>-1.226114</td>\n",
       "      <td>1.0</td>\n",
       "      <td>0.028931</td>\n",
       "      <td>-0.920634</td>\n",
       "      <td>0</td>\n",
       "      <td>1</td>\n",
       "      <td>1.451976</td>\n",
       "      <td>0</td>\n",
       "      <td>0</td>\n",
       "      <td>0</td>\n",
       "    </tr>\n",
       "    <tr>\n",
       "      <th>9505</th>\n",
       "      <td>-0.007629</td>\n",
       "      <td>-1.037084</td>\n",
       "      <td>10.0</td>\n",
       "      <td>0.057397</td>\n",
       "      <td>-0.920634</td>\n",
       "      <td>1</td>\n",
       "      <td>1</td>\n",
       "      <td>-0.430782</td>\n",
       "      <td>0</td>\n",
       "      <td>0</td>\n",
       "      <td>1</td>\n",
       "    </tr>\n",
       "    <tr>\n",
       "      <th>332</th>\n",
       "      <td>0.116139</td>\n",
       "      <td>0.475159</td>\n",
       "      <td>2.0</td>\n",
       "      <td>0.655657</td>\n",
       "      <td>0.781092</td>\n",
       "      <td>0</td>\n",
       "      <td>1</td>\n",
       "      <td>0.785322</td>\n",
       "      <td>1</td>\n",
       "      <td>0</td>\n",
       "      <td>1</td>\n",
       "    </tr>\n",
       "    <tr>\n",
       "      <th>4168</th>\n",
       "      <td>-1.400021</td>\n",
       "      <td>-0.186447</td>\n",
       "      <td>8.0</td>\n",
       "      <td>-1.213083</td>\n",
       "      <td>-0.920634</td>\n",
       "      <td>1</td>\n",
       "      <td>0</td>\n",
       "      <td>0.040893</td>\n",
       "      <td>0</td>\n",
       "      <td>0</td>\n",
       "      <td>1</td>\n",
       "    </tr>\n",
       "  </tbody>\n",
       "</table>\n",
       "</div>"
      ],
      "text/plain": [
       "      CreditScore       Age  Tenure   Balance  NumOfProducts  HasCrCard  \\\n",
       "2656     1.312565 -0.469993     5.0 -1.213083       0.781092          0   \n",
       "445      0.992830 -1.226114     1.0  0.028931      -0.920634          0   \n",
       "9505    -0.007629 -1.037084    10.0  0.057397      -0.920634          1   \n",
       "332      0.116139  0.475159     2.0  0.655657       0.781092          0   \n",
       "4168    -1.400021 -0.186447     8.0 -1.213083      -0.920634          1   \n",
       "\n",
       "      IsActiveMember  EstimatedSalary  Geography_Germany  Geography_Spain  \\\n",
       "2656               1         0.211895                  0                1   \n",
       "445                1         1.451976                  0                0   \n",
       "9505               1        -0.430782                  0                0   \n",
       "332                1         0.785322                  1                0   \n",
       "4168               0         0.040893                  0                0   \n",
       "\n",
       "      Gender_Male  \n",
       "2656            0  \n",
       "445             0  \n",
       "9505            1  \n",
       "332             1  \n",
       "4168            1  "
      ]
     },
     "execution_count": 18,
     "metadata": {},
     "output_type": "execute_result"
    }
   ],
   "source": [
    "#Масштабируем численные признаки тестовой выборки \n",
    "X_test[numeric] = scaler.transform(X_test[numeric])\n",
    "X_test.head()"
   ]
  },
  {
   "cell_type": "markdown",
   "metadata": {},
   "source": [
    "Получили масштабированные признаки для трех выборок. Теперь перейдем к исследованию задач"
   ]
  },
  {
   "cell_type": "markdown",
   "metadata": {},
   "source": [
    "## Исследование задачи"
   ]
  },
  {
   "cell_type": "markdown",
   "metadata": {},
   "source": [
    "Точность разных моделей\n"
   ]
  },
  {
   "cell_type": "code",
   "execution_count": 19,
   "metadata": {},
   "outputs": [],
   "source": [
    "def all_models_accuracy(X_train, y_train, X_valid, y_valid):\n",
    "    model_DTC = DecisionTreeClassifier(random_state=123)\n",
    "    DTC_score = model_DTC.fit(X_train, y_train).score(X_valid, y_valid)\n",
    "    \n",
    "    model_RFC = RandomForestClassifier(random_state=12345, n_estimators = 100)\n",
    "    RFC_score = model_RFC.fit(X_train, y_train).score(X_valid, y_valid)\n",
    "    \n",
    "    model_LgR = LogisticRegression(solver = 'liblinear')\n",
    "    LgR_score = model_LgR.fit(X_train, y_train).score(X_valid, y_valid)\n",
    "    print(\"Точность:\" \"дерево решений\", DTC_score, \"случайный лес \", RFC_score, \"логистическая регрессия\", LgR_score)"
   ]
  },
  {
   "cell_type": "code",
   "execution_count": 20,
   "metadata": {},
   "outputs": [
    {
     "name": "stdout",
     "output_type": "stream",
     "text": [
      "Точность:дерево решений 0.772 случайный лес  0.857 логистическая регрессия 0.801\n"
     ]
    }
   ],
   "source": [
    "all_models_accuracy(X_train, y_train, X_valid, y_valid)"
   ]
  },
  {
   "cell_type": "markdown",
   "metadata": {},
   "source": [
    "Проверим баланс классов"
   ]
  },
  {
   "cell_type": "code",
   "execution_count": 21,
   "metadata": {},
   "outputs": [
    {
     "data": {
      "text/plain": [
       "0    0.7995\n",
       "1    0.2005\n",
       "Name: Exited, dtype: float64"
      ]
     },
     "execution_count": 21,
     "metadata": {},
     "output_type": "execute_result"
    }
   ],
   "source": [
    "y_train.value_counts(normalize = 1)"
   ]
  },
  {
   "cell_type": "code",
   "execution_count": 22,
   "metadata": {},
   "outputs": [
    {
     "data": {
      "text/plain": [
       "0    0.79\n",
       "1    0.21\n",
       "Name: Exited, dtype: float64"
      ]
     },
     "execution_count": 22,
     "metadata": {},
     "output_type": "execute_result"
    }
   ],
   "source": [
    "y_valid.value_counts(normalize = 1)"
   ]
  },
  {
   "cell_type": "markdown",
   "metadata": {},
   "source": [
    "У обучающией и валидационной выборок наблюдается выраженный дисбаланс класов. Ответы 0 ≈80% , 1 ≈ 20%\n",
    "Результаты предсказаний моделей будут сильно склоняться к одному варианту ответов."
   ]
  },
  {
   "cell_type": "markdown",
   "metadata": {},
   "source": [
    "Какое соотношение ответов дает модель"
   ]
  },
  {
   "cell_type": "code",
   "execution_count": 23,
   "metadata": {},
   "outputs": [
    {
     "name": "stdout",
     "output_type": "stream",
     "text": [
      "Доли ответов:дерево решений 0    0.782\n",
      "1    0.218\n",
      "dtype: float64 случайный лес  0    0.879\n",
      "1    0.121\n",
      "dtype: float64 логистическая регрессия 0    0.937\n",
      "1    0.063\n",
      "dtype: float64"
     ]
    }
   ],
   "source": [
    "def all_models_share(X_train, y_train, X_valid, y_valid):\n",
    "    model_DTC = DecisionTreeClassifier(random_state=123)\n",
    "    model_DTC.fit(X_train, y_train)\n",
    "    DTC_share = pd.Series(model_DTC.predict(X_valid)).value_counts(normalize = 1)\n",
    "    \n",
    "    \n",
    "    \n",
    "    model_RFC = RandomForestClassifier(random_state=12345, n_estimators = 100)\n",
    "    model_RFC.fit(X_train, y_train)\n",
    "    RFC_share = pd.Series(model_RFC.predict(X_valid)).value_counts(normalize = 1)\n",
    "    \n",
    "    model_LgR = LogisticRegression(solver = 'liblinear')\n",
    "    model_LgR.fit(X_train, y_train)\n",
    "    LgR_share = pd.Series(model_LgR.predict(X_valid)).value_counts(normalize = 1)\n",
    "    \n",
    "\n",
    "    \n",
    "    print(\"Доли ответов:\" \"дерево решений\", DTC_share, \"случайный лес \", RFC_share, \"логистическая регрессия\", LgR_share , end='')\n",
    "    \n",
    "all_models_share(X_train, y_train, X_valid, y_valid)"
   ]
  },
  {
   "cell_type": "markdown",
   "metadata": {},
   "source": [
    "Логистическая регрессия выдает 100% негативных предсказаний — высокая точность модели объясняется высокой долей негативных ответов в валидационной выборке."
   ]
  },
  {
   "cell_type": "markdown",
   "metadata": {},
   "source": [
    "### Обучим модели без учета дисбаланса классов"
   ]
  },
  {
   "cell_type": "markdown",
   "metadata": {},
   "source": [
    "#### Решающее дерево"
   ]
  },
  {
   "cell_type": "code",
   "execution_count": 24,
   "metadata": {},
   "outputs": [],
   "source": [
    "def decision_tree(X_train, X_valid, y_train, y_valid, cw=None):\n",
    "    best_params_f1 = []\n",
    "    best_f1 = 0\n",
    "    best_params_roc_auc = []\n",
    "    best_roc_auc = 0.5\n",
    "    for max_depth in range(1,10):\n",
    "        for min_samples_split in range(2,6):\n",
    "            for min_samples_leaf in range(2,10):\n",
    "                for criterion in ['gini', 'entropy']:\n",
    "                    model_DTC = DecisionTreeClassifier(random_state=123,\n",
    "                                                          max_depth=max_depth,\n",
    "                                                          min_samples_split=min_samples_split,\n",
    "                                                          min_samples_leaf=min_samples_leaf,\n",
    "                                                          criterion=criterion,\n",
    "                                                          class_weight=cw)\n",
    "                    model_DTC.fit(X_train, y_train)\n",
    "                    predictions = model_DTC.predict(X_valid)\n",
    "                    f1 = f1_score(y_valid, predictions)\n",
    "                    if f1 > best_f1:\n",
    "                        best_params_f1 = [max_depth, min_samples_split, min_samples_leaf, criterion]\n",
    "                        best_f1 = f1\n",
    "                    roc_auc = roc_auc_score(y_valid, predictions)\n",
    "                    if roc_auc > best_roc_auc:\n",
    "                        best_params_roc_auc = [max_depth, min_samples_split, min_samples_leaf, criterion]\n",
    "                        best_roc_auc = roc_auc\n",
    "    \n",
    "    print('''Наилучшая метрика f1: {}\n",
    "    Параметры модели:\n",
    "       max_depth = {}\n",
    "       min_samples_split = {}\n",
    "       min_samples_leaf = {}\n",
    "       criterion = {} \\n'''.format(round(best_f1, 3),\n",
    "                                 best_params_f1[0],\n",
    "                                 best_params_f1[1],\n",
    "                                 best_params_f1[2],\n",
    "                                 best_params_f1[3]\n",
    "                                ))\n",
    "    \n",
    "    print('''Наилучшая метрика roc_auc: {}\n",
    "    Параметры модели:\n",
    "       max_depth = {}\n",
    "       min_samples_split = {}\n",
    "       min_samples_leaf = {}\n",
    "       criterion = {} '''.format(round(best_roc_auc, 3),\n",
    "                                 best_params_roc_auc[0],\n",
    "                                 best_params_roc_auc[1],\n",
    "                                 best_params_roc_auc[2],\n",
    "                                 best_params_roc_auc[3]\n",
    "                                ))"
   ]
  },
  {
   "cell_type": "code",
   "execution_count": 25,
   "metadata": {},
   "outputs": [
    {
     "name": "stdout",
     "output_type": "stream",
     "text": [
      "Наилучшая метрика f1: 0.569\n",
      "    Параметры модели:\n",
      "       max_depth = 5\n",
      "       min_samples_split = 2\n",
      "       min_samples_leaf = 4\n",
      "       criterion = gini \n",
      "\n",
      "Наилучшая метрика roc_auc: 0.711\n",
      "    Параметры модели:\n",
      "       max_depth = 5\n",
      "       min_samples_split = 2\n",
      "       min_samples_leaf = 4\n",
      "       criterion = gini \n"
     ]
    }
   ],
   "source": [
    "decision_tree(X_train, X_valid, y_train, y_valid)"
   ]
  },
  {
   "cell_type": "code",
   "execution_count": 26,
   "metadata": {},
   "outputs": [
    {
     "data": {
      "text/plain": [
       "array([[1505,   75],\n",
       "       [ 223,  197]])"
      ]
     },
     "execution_count": 26,
     "metadata": {},
     "output_type": "execute_result"
    }
   ],
   "source": [
    "#матрица ошибок для дерево решений\n",
    "model_DTC_matrix = DecisionTreeClassifier(random_state=123,\n",
    "                                          max_depth = 5,\n",
    "                                         min_samples_split = 2,\n",
    "                                         min_samples_leaf = 4,\n",
    "                                         )\n",
    "model_DTC_matrix.fit(X_train, y_train)\n",
    "DTC_prediction_matrix = model_DTC_matrix.predict(X_valid)\n",
    "confusion_matrix(y_valid, DTC_prediction_matrix)"
   ]
  },
  {
   "cell_type": "markdown",
   "metadata": {},
   "source": [
    "- Наилучшая метрика f1 для решающего дерева 0.56 - маловато согласно тех.заданию.\n",
    "- При одинаковой настройке параметров наилучшие метрики F1 и roc_auc\n",
    "- Дерево решений склонно выдавать позитивные предсказания, очень высокое количество ложных позитивных предсказания (FP)"
   ]
  },
  {
   "cell_type": "markdown",
   "metadata": {},
   "source": [
    "#### Случайный лес"
   ]
  },
  {
   "cell_type": "code",
   "execution_count": 27,
   "metadata": {},
   "outputs": [],
   "source": [
    "def random_forest(X_train, X_valid, y_train, y_valid, cw=None):\n",
    "    best_params_f1 = []\n",
    "    best_f1 = 0\n",
    "    best_params_roc_auc = []\n",
    "    best_roc_auc = 0.5\n",
    "    for n_estimators in range(5,50,5):\n",
    "        for max_depth in range(2,15,2):\n",
    "            for min_samples_split in range(2,5):\n",
    "                for min_samples_leaf in range(1,4):\n",
    "                    model_RFC = RandomForestClassifier(random_state=123,\n",
    "                                                          n_estimators=n_estimators,\n",
    "                                                          max_depth=max_depth,\n",
    "                                                          min_samples_split=min_samples_split,\n",
    "                                                          min_samples_leaf=min_samples_leaf)\n",
    "                    model_RFC.fit(X_train, y_train)\n",
    "                    rfc_predictions = model_RFC.predict(X_valid)\n",
    "\n",
    "                    f1 = f1_score(y_valid, rfc_predictions)\n",
    "                    if f1 > best_f1:\n",
    "                        best_params_f1 = [n_estimators, max_depth, min_samples_split, min_samples_leaf]\n",
    "                        best_f1 = f1\n",
    "                    roc_auc = roc_auc_score(y_valid, rfc_predictions)\n",
    "                    if roc_auc > best_roc_auc:\n",
    "                        best_params_roc_auc = [n_estimators, max_depth, min_samples_split, min_samples_leaf]\n",
    "                        best_roc_auc = roc_auc\n",
    "\n",
    "  \n",
    "    print('''Наилучшая метрика f1: {}\n",
    "    Параметры модели:\n",
    "       n_estimators = {}\n",
    "       max_depth = {}\n",
    "       min_samples_split = {}\n",
    "       min_samples_leaf = {} \\n'''.format(round(best_f1, 3),\n",
    "                                 best_params_f1[0],\n",
    "                                 best_params_f1[1],\n",
    "                                 best_params_f1[2],\n",
    "                                 best_params_f1[3]\n",
    "                                ))\n",
    "\n",
    "   \n",
    "    print('''Наилучшая метрика roc_auc: {}\n",
    "    Параметры модели:\n",
    "       n_estimators = {}\n",
    "       max_depth = {}\n",
    "       min_samples_split = {}\n",
    "       min_samples_leaf = {} '''.format(round(best_roc_auc, 3),\n",
    "                                 best_params_roc_auc[0],\n",
    "                                 best_params_roc_auc[1],\n",
    "                                 best_params_roc_auc[2],\n",
    "                                 best_params_roc_auc[3]\n",
    "                                ))"
   ]
  },
  {
   "cell_type": "code",
   "execution_count": 28,
   "metadata": {},
   "outputs": [
    {
     "name": "stdout",
     "output_type": "stream",
     "text": [
      "Наилучшая метрика f1: 0.571\n",
      "    Параметры модели:\n",
      "       n_estimators = 25\n",
      "       max_depth = 12\n",
      "       min_samples_split = 2\n",
      "       min_samples_leaf = 1 \n",
      "\n",
      "Наилучшая метрика roc_auc: 0.708\n",
      "    Параметры модели:\n",
      "       n_estimators = 25\n",
      "       max_depth = 12\n",
      "       min_samples_split = 2\n",
      "       min_samples_leaf = 1 \n"
     ]
    }
   ],
   "source": [
    "random_forest(X_train, X_valid, y_train, y_valid)"
   ]
  },
  {
   "cell_type": "code",
   "execution_count": 29,
   "metadata": {},
   "outputs": [
    {
     "data": {
      "text/plain": [
       "array([[1527,   53],\n",
       "       [ 234,  186]])"
      ]
     },
     "execution_count": 29,
     "metadata": {},
     "output_type": "execute_result"
    }
   ],
   "source": [
    "model_DTC_matrix = DecisionTreeClassifier(random_state=123,\n",
    "                                          max_depth = 5,\n",
    "                                         min_samples_split = 2,\n",
    "                                         min_samples_leaf = 4,\n",
    "                                         )\n",
    "model_DTC_matrix.fit(X_train, y_train)\n",
    "DTC_prediction_matrix = model_DTC_matrix.predict(X_valid)\n",
    "confusion_matrix(y_valid, DTC_prediction_matrix)\n",
    "\n",
    "#матрица ошибок для случайного леса\n",
    "model_RFC_matrix = RandomForestClassifier(random_state=12345,\n",
    "                                          n_estimators = 30,\n",
    "                                          max_depth = 14,\n",
    "                                          min_samples_split = 4,\n",
    "                                          min_samples_leaf = 1)\n",
    "model_RFC_matrix.fit(X_train, y_train)\n",
    "RFC_prediction_matrix = model_RFC_matrix.predict(X_valid)\n",
    "confusion_matrix(y_valid, RFC_prediction_matrix)"
   ]
  },
  {
   "cell_type": "markdown",
   "metadata": {},
   "source": [
    "- Наилучшая метрика f1 для случайного леса 0.57 (не достаточно по техническому заданию).\n",
    "- Наилучший результат по метрикам f1 и roc_auc достигается при одинаковой настройке гиперпараметров.\n",
    "- Случайный лес примерно равную пропорцию позитивных и негативных предсказаний, выдает заметно больше качественных предсказаний, но также сильно склоняется к ложно позитивным предсказаниям (FP)\n"
   ]
  },
  {
   "cell_type": "markdown",
   "metadata": {},
   "source": [
    "#### Логистическая регрессия"
   ]
  },
  {
   "cell_type": "code",
   "execution_count": 30,
   "metadata": {},
   "outputs": [
    {
     "data": {
      "text/plain": [
       "array([[1528,   52],\n",
       "       [ 346,   74]])"
      ]
     },
     "execution_count": 30,
     "metadata": {},
     "output_type": "execute_result"
    }
   ],
   "source": [
    "#матрица ошибок для логистической регрессии\n",
    "model_LgR_matrix = LogisticRegression(solver = 'liblinear')\n",
    "model_LgR_matrix.fit(X_train, y_train)\n",
    "LgR_prediction_matrix = model_LgR_matrix.predict(X_valid)\n",
    "confusion_matrix(y_valid, LgR_prediction_matrix)"
   ]
  },
  {
   "cell_type": "code",
   "execution_count": 31,
   "metadata": {},
   "outputs": [
    {
     "data": {
      "text/plain": [
       "0.7602712477396022"
      ]
     },
     "execution_count": 31,
     "metadata": {},
     "output_type": "execute_result"
    }
   ],
   "source": [
    "LgR_probabilities_one_valid = model_LgR_matrix.predict_proba(X_valid)[:, 1]\n",
    "\n",
    "auc_roc_LgR = roc_auc_score(y_valid, LgR_probabilities_one_valid)\n",
    "\n",
    "auc_roc_LgR"
   ]
  },
  {
   "cell_type": "code",
   "execution_count": 32,
   "metadata": {},
   "outputs": [
    {
     "data": {
      "image/png": "[encoded data removed]",
      "text/plain": [
       "<Figure size 432x288 with 1 Axes>"
      ]
     },
     "metadata": {
      "needs_background": "light"
     },
     "output_type": "display_data"
    }
   ],
   "source": [
    "fpr, tpr, thresholds = roc_curve(y_valid, LgR_probabilities_one_valid) \n",
    "\n",
    "plt.figure()\n",
    "plt.plot(fpr, tpr)\n",
    "plt.plot([0, 1], [0, 1], linestyle='--')\n",
    "plt.xlim([0.0, 1.0])\n",
    "plt.ylim([0.0, 1.0])\n",
    "plt.xlabel('False Positive Rate')\n",
    "plt.ylabel('True Positive Rate')\n",
    "plt.title('ROC-кривая')\n",
    "plt.show()"
   ]
  },
  {
   "cell_type": "markdown",
   "metadata": {},
   "source": [
    "Логистическая регрессия показала себя хуже остальных скорей всего потому что высокая точность модели объясняется высокой долей негативных ответов в валидационной выборке."
   ]
  },
  {
   "cell_type": "markdown",
   "metadata": {},
   "source": [
    "- Вывод\n",
    "-Данные были разделены на обучающую, валидационную и тестовую выборки в соотношении 3:1:1 соответственно\n",
    "-Обучены модели \"Решающее Дерево\", \"Случайный лес\", \"Логистическая Регрессия\" без учёта дисбаланса классов. Максимальное -значение метрики f1 = 0.57 получено при обучении модели случайного леса. Качество модели не удовлетворяет условию технического задания.\n",
    "-Качество моделей также оценено по метрике roc_auc. Максимальное значение метрики roc_auc = 0.71 достигнуто при обучении модели дерево решений.\n",
    "-Метрики f1 и roc_auc достигли максимальных значений при одинаковых настройках гиперпараметров."
   ]
  },
  {
   "cell_type": "markdown",
   "metadata": {},
   "source": [
    "## Борьба с дисбалансом"
   ]
  },
  {
   "cell_type": "markdown",
   "metadata": {},
   "source": [
    "Для борьбы с дисбалансом классов используем:\n",
    "- взвешивание классов (class_weight='balanced')\n",
    "- увеличение выборки положительного класса (копирование объектов)\n",
    "- уменьшение выборки отрицательного класса (sampling)\n",
    "- перемешивание объектов методом shuffle"
   ]
  },
  {
   "cell_type": "markdown",
   "metadata": {},
   "source": [
    "### Взвешивание классов"
   ]
  },
  {
   "cell_type": "code",
   "execution_count": 33,
   "metadata": {},
   "outputs": [
    {
     "name": "stdout",
     "output_type": "stream",
     "text": [
      "Наилучшая метрика f1: 0.567\n",
      "    Параметры модели:\n",
      "       max_depth = 8\n",
      "       min_samples_split = 2\n",
      "       min_samples_leaf = 9\n",
      "       criterion = gini \n",
      "\n",
      "Наилучшая метрика roc_auc: 0.75\n",
      "    Параметры модели:\n",
      "       max_depth = 6\n",
      "       min_samples_split = 2\n",
      "       min_samples_leaf = 6\n",
      "       criterion = gini \n"
     ]
    }
   ],
   "source": [
    "decision_tree(X_train, X_valid, y_train, y_valid, cw='balanced')"
   ]
  },
  {
   "cell_type": "markdown",
   "metadata": {},
   "source": [
    "Взвешивание классов почти не дало прироста в метрике f1 на решающем дереве. Но увилечелась метрика roc_auc до 0,75\n",
    "Отметим, что в данном случае наилучшие значения метрик f1 и roc_auc достигаются при различных настройках гиперпараметров.\n",
    "Применим upsampling и downsampling. Проверим результаты на модели случайного леса (она дала наилучший результат при начальном исследовании)"
   ]
  },
  {
   "cell_type": "code",
   "execution_count": 34,
   "metadata": {},
   "outputs": [],
   "source": [
    "def upsample(features, target, repeat):\n",
    "    features_zeros = features[target == 0]\n",
    "    features_ones = features[target == 1]\n",
    "    target_zeros = target[target == 0]\n",
    "    target_ones = target[target == 1]\n",
    "    \n",
    "    features_upsampled = pd.concat([features_zeros] + [features_ones] * repeat)\n",
    "    target_upsampled = pd.concat([target_zeros] + [target_ones] * repeat)\n",
    "    \n",
    "    features_upsampled, target_upsampled = shuffle(\n",
    "        features_upsampled, target_upsampled, random_state=12345)\n",
    "    return features_upsampled, target_upsampled"
   ]
  },
  {
   "cell_type": "code",
   "execution_count": 35,
   "metadata": {},
   "outputs": [],
   "source": [
    "def downsample(features, target, fraction):\n",
    "    features_zeros = features[target == 0]\n",
    "    features_ones = features[target == 1]\n",
    "    target_zeros = target[target == 0]\n",
    "    target_ones = target[target == 1]\n",
    "    \n",
    "    features_downsampled = pd.concat(\n",
    "        [features_zeros.sample(frac=fraction, random_state=12345)] + [features_ones])\n",
    "    target_downsampled = pd.concat(\n",
    "        [target_zeros.sample(frac=fraction, random_state=12345)] + [target_ones])\n",
    "    \n",
    "    features_downsampled, target_downsampled = shuffle(\n",
    "        features_downsampled, target_downsampled, random_state=12345)\n",
    "    return features_downsampled, target_downsampled"
   ]
  },
  {
   "cell_type": "code",
   "execution_count": 36,
   "metadata": {},
   "outputs": [],
   "source": [
    "X_train_upsampled, y_train_upsampled = upsample(X_train, y_train, 2)\n",
    "X_train_balanced, y_train_balanced = downsample(X_train_upsampled, y_train_upsampled, 0.75)"
   ]
  },
  {
   "cell_type": "code",
   "execution_count": 37,
   "metadata": {},
   "outputs": [
    {
     "name": "stdout",
     "output_type": "stream",
     "text": [
      "Наилучшая метрика f1: 0.616\n",
      "    Параметры модели:\n",
      "       n_estimators = 20\n",
      "       max_depth = 12\n",
      "       min_samples_split = 2\n",
      "       min_samples_leaf = 2 \n",
      "\n",
      "Наилучшая метрика roc_auc: 0.752\n",
      "    Параметры модели:\n",
      "       n_estimators = 20\n",
      "       max_depth = 12\n",
      "       min_samples_split = 2\n",
      "       min_samples_leaf = 2 \n"
     ]
    }
   ],
   "source": [
    "random_forest(X_train_balanced, X_valid, y_train_balanced, y_valid)"
   ]
  },
  {
   "cell_type": "code",
   "execution_count": 38,
   "metadata": {},
   "outputs": [
    {
     "name": "stdout",
     "output_type": "stream",
     "text": [
      "Наилучшая метрика f1: 0.576\n",
      "    Параметры модели:\n",
      "       max_depth = 7\n",
      "       min_samples_split = 2\n",
      "       min_samples_leaf = 2\n",
      "       criterion = entropy \n",
      "\n",
      "Наилучшая метрика roc_auc: 0.746\n",
      "    Параметры модели:\n",
      "       max_depth = 6\n",
      "       min_samples_split = 2\n",
      "       min_samples_leaf = 3\n",
      "       criterion = gini \n"
     ]
    }
   ],
   "source": [
    "decision_tree(X_train_balanced, X_valid, y_train_balanced, y_valid)"
   ]
  },
  {
   "cell_type": "markdown",
   "metadata": {},
   "source": [
    "- Метрика f1 для модели \"Случайный лес\" достигла значения 0.61 на сбалансированной выборке, что удовлетворяет условию технического задания.\n",
    "- Для модели \"Решающее дерево\" метрика f1 не достигла минимально допустимого значения 0.59.\n",
    "- Наилучшие значения метрик f1 и roc_auc достигли на случайном лесе при одинаковых значениях гиперпараметров. Для решающего дерева оптимальные значения гиперпараметров различаются.\n",
    "\n",
    "- Как вариант можно попробовать для модели случайного леса подобрать различные варианты upsampling и downsampling (изменять параметры repeat и fraction).\n"
   ]
  },
  {
   "cell_type": "code",
   "execution_count": 39,
   "metadata": {},
   "outputs": [
    {
     "name": "stdout",
     "output_type": "stream",
     "text": [
      "=====================================\n",
      "repeat = 2;   fraction = 0.5\n",
      "Наилучшая метрика f1: 0.571\n",
      "    Параметры модели:\n",
      "       max_depth = 9\n",
      "       min_samples_split = 2\n",
      "       min_samples_leaf = 8\n",
      "       criterion = entropy \n",
      "\n",
      "Наилучшая метрика roc_auc: 0.756\n",
      "    Параметры модели:\n",
      "       max_depth = 8\n",
      "       min_samples_split = 2\n",
      "       min_samples_leaf = 8\n",
      "       criterion = entropy \n",
      "=====================================\n",
      "repeat = 2;   fraction = 0.55\n",
      "Наилучшая метрика f1: 0.591\n",
      "    Параметры модели:\n",
      "       max_depth = 8\n",
      "       min_samples_split = 2\n",
      "       min_samples_leaf = 4\n",
      "       criterion = gini \n",
      "\n",
      "Наилучшая метрика roc_auc: 0.76\n",
      "    Параметры модели:\n",
      "       max_depth = 8\n",
      "       min_samples_split = 2\n",
      "       min_samples_leaf = 4\n",
      "       criterion = gini \n",
      "=====================================\n",
      "repeat = 2;   fraction = 0.6\n",
      "Наилучшая метрика f1: 0.584\n",
      "    Параметры модели:\n",
      "       max_depth = 8\n",
      "       min_samples_split = 2\n",
      "       min_samples_leaf = 7\n",
      "       criterion = gini \n",
      "\n",
      "Наилучшая метрика roc_auc: 0.76\n",
      "    Параметры модели:\n",
      "       max_depth = 7\n",
      "       min_samples_split = 2\n",
      "       min_samples_leaf = 3\n",
      "       criterion = gini \n",
      "=====================================\n",
      "repeat = 2;   fraction = 0.65\n",
      "Наилучшая метрика f1: 0.586\n",
      "    Параметры модели:\n",
      "       max_depth = 8\n",
      "       min_samples_split = 2\n",
      "       min_samples_leaf = 8\n",
      "       criterion = gini \n",
      "\n",
      "Наилучшая метрика roc_auc: 0.757\n",
      "    Параметры модели:\n",
      "       max_depth = 6\n",
      "       min_samples_split = 2\n",
      "       min_samples_leaf = 7\n",
      "       criterion = gini \n",
      "=====================================\n",
      "repeat = 2;   fraction = 0.7\n",
      "Наилучшая метрика f1: 0.584\n",
      "    Параметры модели:\n",
      "       max_depth = 6\n",
      "       min_samples_split = 2\n",
      "       min_samples_leaf = 7\n",
      "       criterion = entropy \n",
      "\n",
      "Наилучшая метрика roc_auc: 0.746\n",
      "    Параметры модели:\n",
      "       max_depth = 6\n",
      "       min_samples_split = 2\n",
      "       min_samples_leaf = 7\n",
      "       criterion = entropy \n",
      "=====================================\n",
      "repeat = 2;   fraction = 0.75\n",
      "Наилучшая метрика f1: 0.576\n",
      "    Параметры модели:\n",
      "       max_depth = 7\n",
      "       min_samples_split = 2\n",
      "       min_samples_leaf = 2\n",
      "       criterion = entropy \n",
      "\n",
      "Наилучшая метрика roc_auc: 0.746\n",
      "    Параметры модели:\n",
      "       max_depth = 6\n",
      "       min_samples_split = 2\n",
      "       min_samples_leaf = 3\n",
      "       criterion = gini \n",
      "=====================================\n",
      "repeat = 2;   fraction = 0.8\n",
      "Наилучшая метрика f1: 0.574\n",
      "    Параметры модели:\n",
      "       max_depth = 7\n",
      "       min_samples_split = 2\n",
      "       min_samples_leaf = 8\n",
      "       criterion = gini \n",
      "\n",
      "Наилучшая метрика roc_auc: 0.744\n",
      "    Параметры модели:\n",
      "       max_depth = 8\n",
      "       min_samples_split = 2\n",
      "       min_samples_leaf = 8\n",
      "       criterion = entropy \n",
      "=====================================\n",
      "repeat = 3;   fraction = 0.5\n",
      "Наилучшая метрика f1: 0.552\n",
      "    Параметры модели:\n",
      "       max_depth = 5\n",
      "       min_samples_split = 2\n",
      "       min_samples_leaf = 9\n",
      "       criterion = gini \n",
      "\n",
      "Наилучшая метрика roc_auc: 0.748\n",
      "    Параметры модели:\n",
      "       max_depth = 5\n",
      "       min_samples_split = 2\n",
      "       min_samples_leaf = 8\n",
      "       criterion = gini \n",
      "=====================================\n",
      "repeat = 3;   fraction = 0.55\n",
      "Наилучшая метрика f1: 0.553\n",
      "    Параметры модели:\n",
      "       max_depth = 5\n",
      "       min_samples_split = 2\n",
      "       min_samples_leaf = 7\n",
      "       criterion = gini \n",
      "\n",
      "Наилучшая метрика roc_auc: 0.749\n",
      "    Параметры модели:\n",
      "       max_depth = 5\n",
      "       min_samples_split = 2\n",
      "       min_samples_leaf = 7\n",
      "       criterion = gini \n",
      "=====================================\n",
      "repeat = 3;   fraction = 0.6\n",
      "Наилучшая метрика f1: 0.553\n",
      "    Параметры модели:\n",
      "       max_depth = 5\n",
      "       min_samples_split = 2\n",
      "       min_samples_leaf = 2\n",
      "       criterion = gini \n",
      "\n",
      "Наилучшая метрика roc_auc: 0.749\n",
      "    Параметры модели:\n",
      "       max_depth = 5\n",
      "       min_samples_split = 2\n",
      "       min_samples_leaf = 2\n",
      "       criterion = gini \n",
      "=====================================\n",
      "repeat = 3;   fraction = 0.65\n",
      "Наилучшая метрика f1: 0.546\n",
      "    Параметры модели:\n",
      "       max_depth = 9\n",
      "       min_samples_split = 2\n",
      "       min_samples_leaf = 9\n",
      "       criterion = entropy \n",
      "\n",
      "Наилучшая метрика roc_auc: 0.747\n",
      "    Параметры модели:\n",
      "       max_depth = 5\n",
      "       min_samples_split = 2\n",
      "       min_samples_leaf = 2\n",
      "       criterion = entropy \n",
      "=====================================\n",
      "repeat = 3;   fraction = 0.7\n",
      "Наилучшая метрика f1: 0.575\n",
      "    Параметры модели:\n",
      "       max_depth = 9\n",
      "       min_samples_split = 2\n",
      "       min_samples_leaf = 6\n",
      "       criterion = gini \n",
      "\n",
      "Наилучшая метрика roc_auc: 0.757\n",
      "    Параметры модели:\n",
      "       max_depth = 7\n",
      "       min_samples_split = 2\n",
      "       min_samples_leaf = 6\n",
      "       criterion = gini \n",
      "=====================================\n",
      "repeat = 3;   fraction = 0.75\n",
      "Наилучшая метрика f1: 0.567\n",
      "    Параметры модели:\n",
      "       max_depth = 7\n",
      "       min_samples_split = 2\n",
      "       min_samples_leaf = 3\n",
      "       criterion = gini \n",
      "\n",
      "Наилучшая метрика roc_auc: 0.754\n",
      "    Параметры модели:\n",
      "       max_depth = 6\n",
      "       min_samples_split = 2\n",
      "       min_samples_leaf = 6\n",
      "       criterion = gini \n",
      "=====================================\n",
      "repeat = 3;   fraction = 0.8\n",
      "Наилучшая метрика f1: 0.567\n",
      "    Параметры модели:\n",
      "       max_depth = 9\n",
      "       min_samples_split = 2\n",
      "       min_samples_leaf = 5\n",
      "       criterion = gini \n",
      "\n",
      "Наилучшая метрика roc_auc: 0.754\n",
      "    Параметры модели:\n",
      "       max_depth = 6\n",
      "       min_samples_split = 2\n",
      "       min_samples_leaf = 4\n",
      "       criterion = gini \n"
     ]
    }
   ],
   "source": [
    "for rep in range(2,4):\n",
    "    for frac in np.arange(0.5, 0.8, 0.05):\n",
    "        print('=====================================')\n",
    "        print('repeat = {};   fraction = {}'.format(rep, round(frac,2)))\n",
    "        X_train_upsampled, y_train_upsampled = upsample(X_train, y_train, rep)\n",
    "        X_train_balanced, y_train_balanced = downsample(X_train_upsampled, y_train_upsampled, frac)\n",
    "        decision_tree(X_train_balanced, X_valid, y_train_balanced, y_valid)"
   ]
  },
  {
   "cell_type": "markdown",
   "metadata": {},
   "source": [
    "- В итоге получилось достичь наилучшего результата для решающего дерева при увеличении + класса в 2 раза и сэплировании - класса 0,55. \n",
    "- f1 0.59 а roc_auc: 0.76, по тех заданию проходит."
   ]
  },
  {
   "cell_type": "markdown",
   "metadata": {},
   "source": [
    "### Вывод"
   ]
  },
  {
   "cell_type": "markdown",
   "metadata": {},
   "source": [
    "- Взвешивание классов с помощью параметра class_weight не дало значительного увеличения метрики f1.\n",
    "- Upsampling положительного класса и downsampling отрицательного класса дали необходимый прирост точности моделей.\n",
    "- Необходимое качество на валидационной выборке получили модели:\n",
    "- Случайный лес:\n",
    "- f1 = 0.616\n",
    "- roc_auc = 0.752\n",
    "- repeat = 2 - повторение объектов класса 1\n",
    "- fraction = 0.75 - коэффициент сэмплирования объектов класса 0\n",
    "- Решающее дерево:\n",
    "- f1 = 0.591\n",
    "- roc_auc = 0.76\n",
    "- repeat = 2\n",
    "- fraction = 0.55"
   ]
  },
  {
   "cell_type": "markdown",
   "metadata": {},
   "source": [
    "## Тестирование модели"
   ]
  },
  {
   "cell_type": "markdown",
   "metadata": {},
   "source": [
    "### Решающее дерево"
   ]
  },
  {
   "cell_type": "code",
   "execution_count": 40,
   "metadata": {},
   "outputs": [
    {
     "name": "stdout",
     "output_type": "stream",
     "text": [
      " f1 = 0.61, \n",
      " roc_auc = 0.84\n"
     ]
    }
   ],
   "source": [
    "X_upsampled, y_upsampled = upsample(X_train, y_train, 2)\n",
    "X_balanced, y_balanced = downsample(X_upsampled, y_upsampled, 0.55)\n",
    "model_dtc_final = DecisionTreeClassifier(random_state=123,\n",
    "                                         max_depth=8,\n",
    "                                         min_samples_split=2,\n",
    "                                         min_samples_leaf=4)\n",
    "model_dtc_final.fit(X_balanced, y_balanced)\n",
    "predictions_dtc = model_dtc_final.predict(X_test)\n",
    "f1 = f1_score(y_test, predictions_dtc)\n",
    "\n",
    "final_model_DTC_one = model_dtc_final.predict_proba(X_test)[:, 1]\n",
    "roc_auc = roc_auc_score(y_test, final_model_DTC_one)\n",
    "\n",
    "print(' f1 = {}, \\n roc_auc = {}'.format(round(f1,2), round(roc_auc,2)))"
   ]
  },
  {
   "cell_type": "markdown",
   "metadata": {},
   "source": [
    "### Случайный лес"
   ]
  },
  {
   "cell_type": "code",
   "execution_count": 41,
   "metadata": {},
   "outputs": [
    {
     "name": "stdout",
     "output_type": "stream",
     "text": [
      " f1 = 0.6, \n",
      " roc_auc = 0.84\n"
     ]
    }
   ],
   "source": [
    "X_upsampled, y_upsampled = upsample(X_train, y_train, 2)\n",
    "X_balanced, y_balanced = downsample(X_upsampled, y_upsampled, 0.75)\n",
    "model_rfc_final = RandomForestClassifier(random_state=123,\n",
    "                                         n_estimators=15,\n",
    "                                         max_depth=14,\n",
    "                                         min_samples_split=4,\n",
    "                                         min_samples_leaf=1)\n",
    "model_rfc_final.fit(X_balanced, y_balanced)\n",
    "predictions_rfc = model_rfc_final.predict(X_test)\n",
    "f1 = f1_score(y_test, predictions_rfc)\n",
    "\n",
    "final_model_RFC_one = model_rfc_final.predict_proba(X_test)[:, 1]\n",
    "roc_auc = roc_auc_score(y_test, final_model_RFC_one)\n",
    "\n",
    "print(' f1 = {}, \\n roc_auc = {}'.format(round(f1,2), round(roc_auc,2)))"
   ]
  },
  {
   "cell_type": "markdown",
   "metadata": {},
   "source": [
    "- На моделях Решающее дерево и Случайный лес получилось получить значение метрики f1 согласно тех заданию\n",
    "- Решающее дерево  f1 = 0.62, roc_auc = 0.84\n",
    "- Случайный лес f1 = 0.61, roc_auc = 0.84\n"
   ]
  },
  {
   "cell_type": "code",
   "execution_count": 42,
   "metadata": {},
   "outputs": [
    {
     "data": {
      "image/png": "[encoded data removed]",
      "text/plain": [
       "<Figure size 432x288 with 1 Axes>"
      ]
     },
     "metadata": {
      "needs_background": "light"
     },
     "output_type": "display_data"
    }
   ],
   "source": [
    "fpr, tpr, thresholds = roc_curve(y_test, final_model_DTC_one) \n",
    "\n",
    "plt.figure()\n",
    "plt.plot(fpr, tpr)\n",
    "plt.plot([0, 1], [0, 1], linestyle='--')\n",
    "plt.xlim([0.0, 1.0])\n",
    "plt.ylim([0.0, 1.0])\n",
    "plt.xlabel('False Positive Rate')\n",
    "plt.ylabel('True Positive Rate')\n",
    "plt.title('ROC-кривая')\n",
    "plt.show()"
   ]
  },
  {
   "cell_type": "code",
   "execution_count": 43,
   "metadata": {},
   "outputs": [
    {
     "data": {
      "image/png": "[encoded data removed]",
      "text/plain": [
       "<Figure size 432x288 with 1 Axes>"
      ]
     },
     "metadata": {
      "needs_background": "light"
     },
     "output_type": "display_data"
    }
   ],
   "source": [
    "fpr, tpr, thresholds = roc_curve(y_test, final_model_RFC_one) \n",
    "\n",
    "plt.figure()\n",
    "plt.plot(fpr, tpr)\n",
    "plt.plot([0, 1], [0, 1], linestyle='--')\n",
    "plt.xlim([0.0, 1.0])\n",
    "plt.ylim([0.0, 1.0])\n",
    "plt.xlabel('False Positive Rate')\n",
    "plt.ylabel('True Positive Rate')\n",
    "plt.title('ROC-кривая')\n",
    "plt.show()"
   ]
  },
  {
   "cell_type": "markdown",
   "metadata": {},
   "source": [
    "## Вывод по работе"
   ]
  },
  {
   "cell_type": "markdown",
   "metadata": {},
   "source": [
    "- Произведена предобработка данных.\n",
    "- Категориальные признаки преобразованы методом One-Hot Encoder.\n",
    "- Проведён анализ моделей без учёта дисбаланса классов.\n",
    "- Исходные данные разделены на обучающую, валидационную и тестовую выборки в соотношении 3:1:1 соответственно\n",
    "- Обучены модели \"Решающее Дерево\", \"Случайный лес\", \"Логистическая Регрессия\" без учёта дисбаланса классов. Максимальное значение метрики f1 = 0.56 получено при обучении моделей случайного леса и дерево решений.\n",
    "- Качество моделей также оценено по метрике roc_auc. Максимальное значение метрики roc_auc = 0.71 достигнуто при обучении модели Решающее дерево.\n",
    "- Метрики f1 и roc_auc достигли максимальных значений при одинаковых настройках гиперпараметров.\n",
    "- Проведён анализ дисбаланса классов\n",
    "- Взвешивание классов с помощью параметра class_weight не дало значительного увеличения метрики f1.\n",
    "- Upsampling положительного класса и downsampling отрицательного класса дали необходимый прирост точности моделей.\n",
    "- Необходимое значение f1 на валидационной выборке получили модели:\n",
    "- Случайный лес:\n",
    "- f1 = 0.61\n",
    "- roc_auc = 0.74\n",
    "- Решающее дерево:\n",
    "- f1 = 0.604\n",
    "- roc_auc = 0.769\n",
    "- Проведено тестирование полученных моделей на тестовой выборке:\n",
    "- Значение метрики f1 на тестовой выборке:\n",
    "- Случайный лес:\n",
    "- f1 = 0.61\n",
    "- roc_auc = 0.84\n",
    "- Решающее дерево:\n",
    "- f1 = 0.62\n",
    "- roc_auc = 0.84\n",
    "- Метрика f1 выше у модели Решающее дерево, roc_auc выше у Решающего дерева."
   ]
  }
 ],
 "metadata": {
  "ExecuteTimeLog": [
   {
    "duration": 1417,
    "start_time": "2022-10-23T04:28:54.316Z"
   },
   {
    "duration": 57,
    "start_time": "2022-10-23T04:29:55.004Z"
   },
   {
    "duration": 56,
    "start_time": "2022-10-23T04:30:05.676Z"
   },
   {
    "duration": 44,
    "start_time": "2022-10-23T04:34:45.780Z"
   },
   {
    "duration": 40,
    "start_time": "2022-10-23T04:35:03.323Z"
   },
   {
    "duration": 5,
    "start_time": "2022-10-23T04:39:53.040Z"
   },
   {
    "duration": 57,
    "start_time": "2022-10-23T04:43:00.820Z"
   },
   {
    "duration": 4,
    "start_time": "2022-10-23T04:43:03.192Z"
   },
   {
    "duration": 13,
    "start_time": "2022-10-23T04:45:54.361Z"
   },
   {
    "duration": 4,
    "start_time": "2022-10-23T04:47:57.410Z"
   },
   {
    "duration": 107,
    "start_time": "2022-10-23T04:48:47.269Z"
   },
   {
    "duration": 13,
    "start_time": "2022-10-23T04:48:57.836Z"
   },
   {
    "duration": 14,
    "start_time": "2022-10-23T04:49:41.301Z"
   },
   {
    "duration": 13,
    "start_time": "2022-10-23T04:51:05.880Z"
   },
   {
    "duration": 1271,
    "start_time": "2022-10-23T04:51:24.325Z"
   },
   {
    "duration": 36,
    "start_time": "2022-10-23T04:51:25.598Z"
   },
   {
    "duration": 5,
    "start_time": "2022-10-23T04:51:25.636Z"
   },
   {
    "duration": 19,
    "start_time": "2022-10-23T04:51:25.643Z"
   },
   {
    "duration": 13,
    "start_time": "2022-10-23T04:51:25.664Z"
   },
   {
    "duration": 4,
    "start_time": "2022-10-23T04:51:25.678Z"
   },
   {
    "duration": 14,
    "start_time": "2022-10-23T04:51:59.008Z"
   },
   {
    "duration": 18,
    "start_time": "2022-10-23T04:53:43.634Z"
   },
   {
    "duration": 4,
    "start_time": "2022-10-23T04:54:24.396Z"
   },
   {
    "duration": 5,
    "start_time": "2022-10-23T05:02:30.782Z"
   },
   {
    "duration": 9,
    "start_time": "2022-10-23T05:08:42.926Z"
   },
   {
    "duration": 4,
    "start_time": "2022-10-23T05:08:58.958Z"
   },
   {
    "duration": 11,
    "start_time": "2022-10-23T05:15:35.214Z"
   },
   {
    "duration": 3,
    "start_time": "2022-10-23T05:25:14.707Z"
   },
   {
    "duration": 123,
    "start_time": "2022-10-23T05:26:22.925Z"
   },
   {
    "duration": 11,
    "start_time": "2022-10-23T05:26:36.012Z"
   },
   {
    "duration": 24,
    "start_time": "2022-10-23T05:27:29.662Z"
   },
   {
    "duration": 18,
    "start_time": "2022-10-23T05:32:04.668Z"
   },
   {
    "duration": 19,
    "start_time": "2022-10-23T05:33:03.958Z"
   },
   {
    "duration": 5,
    "start_time": "2022-10-23T05:36:52.256Z"
   },
   {
    "duration": 35,
    "start_time": "2022-10-23T05:36:54.714Z"
   },
   {
    "duration": 4,
    "start_time": "2022-10-23T05:36:56.626Z"
   },
   {
    "duration": 1341,
    "start_time": "2022-10-23T05:37:01.540Z"
   },
   {
    "duration": 38,
    "start_time": "2022-10-23T05:37:02.884Z"
   },
   {
    "duration": 10,
    "start_time": "2022-10-23T05:37:02.924Z"
   },
   {
    "duration": 7,
    "start_time": "2022-10-23T05:37:02.935Z"
   },
   {
    "duration": 13,
    "start_time": "2022-10-23T05:37:02.945Z"
   },
   {
    "duration": 5,
    "start_time": "2022-10-23T05:37:02.959Z"
   },
   {
    "duration": 15,
    "start_time": "2022-10-23T05:37:02.966Z"
   },
   {
    "duration": 17,
    "start_time": "2022-10-23T05:37:02.982Z"
   },
   {
    "duration": 4,
    "start_time": "2022-10-23T05:37:03.000Z"
   },
   {
    "duration": 5,
    "start_time": "2022-10-23T05:37:03.034Z"
   },
   {
    "duration": 16,
    "start_time": "2022-10-23T05:37:03.041Z"
   },
   {
    "duration": 4,
    "start_time": "2022-10-23T05:37:03.059Z"
   },
   {
    "duration": 14,
    "start_time": "2022-10-23T05:37:03.064Z"
   },
   {
    "duration": 7,
    "start_time": "2022-10-23T05:37:03.080Z"
   },
   {
    "duration": 30,
    "start_time": "2022-10-23T05:37:03.088Z"
   },
   {
    "duration": 28,
    "start_time": "2022-10-23T05:37:03.120Z"
   },
   {
    "duration": 24,
    "start_time": "2022-10-23T05:37:03.150Z"
   },
   {
    "duration": 18,
    "start_time": "2022-10-23T05:37:03.176Z"
   },
   {
    "duration": 5,
    "start_time": "2022-10-23T05:43:36.157Z"
   },
   {
    "duration": 49,
    "start_time": "2022-10-23T05:44:45.686Z"
   },
   {
    "duration": 57,
    "start_time": "2022-10-23T05:44:53.302Z"
   },
   {
    "duration": 118,
    "start_time": "2022-10-23T05:45:16.150Z"
   },
   {
    "duration": 752,
    "start_time": "2022-10-23T05:45:35.535Z"
   },
   {
    "duration": 81,
    "start_time": "2022-10-23T05:46:01.904Z"
   },
   {
    "duration": 50,
    "start_time": "2022-10-23T05:46:04.263Z"
   },
   {
    "duration": 51,
    "start_time": "2022-10-23T05:46:17.695Z"
   },
   {
    "duration": 52,
    "start_time": "2022-10-23T05:46:30.945Z"
   },
   {
    "duration": 46,
    "start_time": "2022-10-23T05:46:47.341Z"
   },
   {
    "duration": 50,
    "start_time": "2022-10-23T05:47:00.264Z"
   },
   {
    "duration": 55,
    "start_time": "2022-10-23T05:47:13.456Z"
   },
   {
    "duration": 46,
    "start_time": "2022-10-23T05:47:31.450Z"
   },
   {
    "duration": 44,
    "start_time": "2022-10-23T05:47:47.154Z"
   },
   {
    "duration": 3,
    "start_time": "2022-10-23T06:20:48.170Z"
   },
   {
    "duration": 3,
    "start_time": "2022-10-23T06:22:04.565Z"
   },
   {
    "duration": 3,
    "start_time": "2022-10-23T06:22:40.634Z"
   },
   {
    "duration": 11,
    "start_time": "2022-10-23T06:23:39.328Z"
   },
   {
    "duration": 1320,
    "start_time": "2022-10-23T06:25:33.010Z"
   },
   {
    "duration": 41,
    "start_time": "2022-10-23T06:25:34.332Z"
   },
   {
    "duration": 8,
    "start_time": "2022-10-23T06:25:34.375Z"
   },
   {
    "duration": 6,
    "start_time": "2022-10-23T06:25:34.385Z"
   },
   {
    "duration": 12,
    "start_time": "2022-10-23T06:25:34.393Z"
   },
   {
    "duration": 5,
    "start_time": "2022-10-23T06:25:34.407Z"
   },
   {
    "duration": 30,
    "start_time": "2022-10-23T06:25:34.413Z"
   },
   {
    "duration": 17,
    "start_time": "2022-10-23T06:25:34.445Z"
   },
   {
    "duration": 6,
    "start_time": "2022-10-23T06:25:34.464Z"
   },
   {
    "duration": 6,
    "start_time": "2022-10-23T06:25:34.473Z"
   },
   {
    "duration": 9,
    "start_time": "2022-10-23T06:25:34.481Z"
   },
   {
    "duration": 4,
    "start_time": "2022-10-23T06:25:34.491Z"
   },
   {
    "duration": 42,
    "start_time": "2022-10-23T06:25:34.497Z"
   },
   {
    "duration": 5,
    "start_time": "2022-10-23T06:25:34.540Z"
   },
   {
    "duration": 10,
    "start_time": "2022-10-23T06:25:34.546Z"
   },
   {
    "duration": 20,
    "start_time": "2022-10-23T06:25:34.558Z"
   },
   {
    "duration": 20,
    "start_time": "2022-10-23T06:25:34.579Z"
   },
   {
    "duration": 49,
    "start_time": "2022-10-23T06:25:34.600Z"
   },
   {
    "duration": 3,
    "start_time": "2022-10-23T06:25:34.651Z"
   },
   {
    "duration": 442095,
    "start_time": "2022-10-23T06:25:34.655Z"
   },
   {
    "duration": 108,
    "start_time": "2022-10-23T06:32:56.751Z"
   },
   {
    "duration": 11536,
    "start_time": "2022-10-23T06:33:20.420Z"
   },
   {
    "duration": 4,
    "start_time": "2022-10-23T06:33:31.958Z"
   },
   {
    "duration": 3,
    "start_time": "2022-10-23T06:35:43.326Z"
   },
   {
    "duration": 3,
    "start_time": "2022-10-23T06:35:45.197Z"
   },
   {
    "duration": 11406,
    "start_time": "2022-10-23T06:35:46.263Z"
   },
   {
    "duration": 3,
    "start_time": "2022-10-23T06:35:57.671Z"
   },
   {
    "duration": 11,
    "start_time": "2022-10-23T06:35:57.675Z"
   },
   {
    "duration": 9,
    "start_time": "2022-10-23T06:36:17.111Z"
   },
   {
    "duration": 17,
    "start_time": "2022-10-23T06:36:22.318Z"
   },
   {
    "duration": 10,
    "start_time": "2022-10-23T07:00:59.650Z"
   },
   {
    "duration": 24,
    "start_time": "2022-10-23T07:01:07.094Z"
   },
   {
    "duration": 6,
    "start_time": "2022-10-23T07:01:24.639Z"
   },
   {
    "duration": 15,
    "start_time": "2022-10-23T07:01:25.758Z"
   },
   {
    "duration": 6,
    "start_time": "2022-10-23T07:01:42.015Z"
   },
   {
    "duration": 10238,
    "start_time": "2022-10-23T07:01:42.935Z"
   },
   {
    "duration": 7,
    "start_time": "2022-10-23T07:03:00.787Z"
   },
   {
    "duration": 10533,
    "start_time": "2022-10-23T07:03:01.473Z"
   },
   {
    "duration": 7,
    "start_time": "2022-10-23T07:07:48.256Z"
   },
   {
    "duration": 18516,
    "start_time": "2022-10-23T07:07:52.335Z"
   },
   {
    "duration": 6,
    "start_time": "2022-10-23T07:12:37.223Z"
   },
   {
    "duration": 74485,
    "start_time": "2022-10-23T07:12:38.953Z"
   },
   {
    "duration": 10,
    "start_time": "2022-10-23T07:13:53.440Z"
   },
   {
    "duration": 41452,
    "start_time": "2022-10-23T07:14:09.382Z"
   },
   {
    "duration": 6,
    "start_time": "2022-10-23T07:14:50.836Z"
   },
   {
    "duration": 4,
    "start_time": "2022-10-23T07:15:18.408Z"
   },
   {
    "duration": 3,
    "start_time": "2022-10-23T07:16:59.304Z"
   },
   {
    "duration": 3,
    "start_time": "2022-10-23T07:17:03.251Z"
   },
   {
    "duration": 51,
    "start_time": "2022-10-23T07:17:12.669Z"
   },
   {
    "duration": 72,
    "start_time": "2022-10-23T07:17:15.394Z"
   },
   {
    "duration": 72,
    "start_time": "2022-10-23T07:17:23.003Z"
   },
   {
    "duration": 49,
    "start_time": "2022-10-23T07:17:32.707Z"
   },
   {
    "duration": 77,
    "start_time": "2022-10-23T07:17:36.216Z"
   },
   {
    "duration": 4,
    "start_time": "2022-10-23T07:17:57.556Z"
   },
   {
    "duration": 4,
    "start_time": "2022-10-23T07:18:00.988Z"
   },
   {
    "duration": 5,
    "start_time": "2022-10-23T07:20:13.456Z"
   },
   {
    "duration": 4,
    "start_time": "2022-10-23T07:20:14.255Z"
   },
   {
    "duration": 22,
    "start_time": "2022-10-23T07:24:34.300Z"
   },
   {
    "duration": 6,
    "start_time": "2022-10-23T07:25:05.005Z"
   },
   {
    "duration": 9,
    "start_time": "2022-10-23T07:25:17.061Z"
   },
   {
    "duration": 6,
    "start_time": "2022-10-23T07:25:23.341Z"
   },
   {
    "duration": 9,
    "start_time": "2022-10-23T07:27:39.344Z"
   },
   {
    "duration": 10,
    "start_time": "2022-10-23T07:27:59.848Z"
   },
   {
    "duration": 7,
    "start_time": "2022-10-23T07:28:18.401Z"
   },
   {
    "duration": 7,
    "start_time": "2022-10-23T07:29:25.131Z"
   },
   {
    "duration": 7,
    "start_time": "2022-10-23T07:30:01.369Z"
   },
   {
    "duration": 70816,
    "start_time": "2022-10-23T07:30:02.035Z"
   },
   {
    "duration": 8,
    "start_time": "2022-10-23T07:31:49.981Z"
   },
   {
    "duration": 9,
    "start_time": "2022-10-23T07:32:03.622Z"
   },
   {
    "duration": 9,
    "start_time": "2022-10-23T07:34:16.480Z"
   },
   {
    "duration": 10194,
    "start_time": "2022-10-23T07:39:34.759Z"
   },
   {
    "duration": 4,
    "start_time": "2022-10-23T07:42:30.508Z"
   },
   {
    "duration": 4,
    "start_time": "2022-10-23T07:42:55.068Z"
   },
   {
    "duration": 14,
    "start_time": "2022-10-23T07:44:10.702Z"
   },
   {
    "duration": 68261,
    "start_time": "2022-10-23T07:44:22.694Z"
   },
   {
    "duration": 9178,
    "start_time": "2022-10-23T07:46:31.160Z"
   },
   {
    "duration": 129080,
    "start_time": "2022-10-23T07:52:00.967Z"
   },
   {
    "duration": 10292,
    "start_time": "2022-10-23T07:56:27.628Z"
   },
   {
    "duration": 18,
    "start_time": "2022-10-23T07:56:37.922Z"
   },
   {
    "duration": 16,
    "start_time": "2022-10-23T07:56:42.175Z"
   },
   {
    "duration": 8151,
    "start_time": "2022-10-23T07:56:43.188Z"
   },
   {
    "duration": 3,
    "start_time": "2022-10-23T07:57:14.957Z"
   },
   {
    "duration": 8227,
    "start_time": "2022-10-23T07:57:38.879Z"
   },
   {
    "duration": 41,
    "start_time": "2022-10-23T08:04:40.167Z"
   },
   {
    "duration": 262,
    "start_time": "2022-10-23T08:05:33.249Z"
   },
   {
    "duration": 45,
    "start_time": "2022-10-23T08:09:32.903Z"
   },
   {
    "duration": 4,
    "start_time": "2022-10-23T08:09:39.614Z"
   },
   {
    "duration": 15,
    "start_time": "2022-10-23T08:09:40.214Z"
   },
   {
    "duration": 68269,
    "start_time": "2022-10-23T08:09:43.781Z"
   },
   {
    "duration": 38,
    "start_time": "2022-10-23T08:10:52.052Z"
   },
   {
    "duration": 1243,
    "start_time": "2022-10-23T08:11:12.881Z"
   },
   {
    "duration": 40,
    "start_time": "2022-10-23T08:11:14.126Z"
   },
   {
    "duration": 8,
    "start_time": "2022-10-23T08:11:14.168Z"
   },
   {
    "duration": 7,
    "start_time": "2022-10-23T08:11:14.177Z"
   },
   {
    "duration": 15,
    "start_time": "2022-10-23T08:11:14.185Z"
   },
   {
    "duration": 5,
    "start_time": "2022-10-23T08:11:14.201Z"
   },
   {
    "duration": 30,
    "start_time": "2022-10-23T08:11:14.208Z"
   },
   {
    "duration": 20,
    "start_time": "2022-10-23T08:11:14.240Z"
   },
   {
    "duration": 4,
    "start_time": "2022-10-23T08:11:14.261Z"
   },
   {
    "duration": 7,
    "start_time": "2022-10-23T08:11:14.266Z"
   },
   {
    "duration": 9,
    "start_time": "2022-10-23T08:11:14.274Z"
   },
   {
    "duration": 4,
    "start_time": "2022-10-23T08:11:14.285Z"
   },
   {
    "duration": 11,
    "start_time": "2022-10-23T08:11:14.290Z"
   },
   {
    "duration": 30,
    "start_time": "2022-10-23T08:11:14.303Z"
   },
   {
    "duration": 8,
    "start_time": "2022-10-23T08:11:14.336Z"
   },
   {
    "duration": 28,
    "start_time": "2022-10-23T08:11:14.346Z"
   },
   {
    "duration": 19,
    "start_time": "2022-10-23T08:11:14.375Z"
   },
   {
    "duration": 43,
    "start_time": "2022-10-23T08:11:14.396Z"
   },
   {
    "duration": 8,
    "start_time": "2022-10-23T08:11:14.440Z"
   },
   {
    "duration": 8,
    "start_time": "2022-10-23T08:11:14.450Z"
   },
   {
    "duration": 7,
    "start_time": "2022-10-23T08:11:14.459Z"
   },
   {
    "duration": 9591,
    "start_time": "2022-10-23T08:11:14.468Z"
   },
   {
    "duration": 6,
    "start_time": "2022-10-23T08:11:24.061Z"
   },
   {
    "duration": 68292,
    "start_time": "2022-10-23T08:11:24.068Z"
   },
   {
    "duration": 273,
    "start_time": "2022-10-23T08:12:32.361Z"
   },
   {
    "duration": 201,
    "start_time": "2022-10-23T08:12:32.636Z"
   },
   {
    "duration": 0,
    "start_time": "2022-10-23T08:12:32.839Z"
   },
   {
    "duration": 0,
    "start_time": "2022-10-23T08:12:32.840Z"
   },
   {
    "duration": 0,
    "start_time": "2022-10-23T08:12:32.841Z"
   },
   {
    "duration": 0,
    "start_time": "2022-10-23T08:12:32.842Z"
   },
   {
    "duration": 0,
    "start_time": "2022-10-23T08:12:32.844Z"
   },
   {
    "duration": 0,
    "start_time": "2022-10-23T08:12:32.845Z"
   },
   {
    "duration": 0,
    "start_time": "2022-10-23T08:12:32.846Z"
   },
   {
    "duration": 0,
    "start_time": "2022-10-23T08:12:32.847Z"
   },
   {
    "duration": 0,
    "start_time": "2022-10-23T08:12:32.848Z"
   },
   {
    "duration": 0,
    "start_time": "2022-10-23T08:12:32.849Z"
   },
   {
    "duration": 9,
    "start_time": "2022-10-23T08:13:25.960Z"
   },
   {
    "duration": 9,
    "start_time": "2022-10-23T08:13:34.449Z"
   },
   {
    "duration": 10,
    "start_time": "2022-10-23T08:13:59.145Z"
   },
   {
    "duration": 28532,
    "start_time": "2022-10-23T08:14:40.706Z"
   },
   {
    "duration": 94,
    "start_time": "2022-10-23T08:15:09.241Z"
   },
   {
    "duration": 13,
    "start_time": "2022-10-23T08:15:09.337Z"
   },
   {
    "duration": 10262,
    "start_time": "2022-10-23T08:15:23.019Z"
   },
   {
    "duration": 4,
    "start_time": "2022-10-23T08:15:33.283Z"
   },
   {
    "duration": 7,
    "start_time": "2022-10-23T08:15:33.289Z"
   },
   {
    "duration": 16,
    "start_time": "2022-10-23T08:15:33.297Z"
   },
   {
    "duration": 68407,
    "start_time": "2022-10-23T08:15:33.315Z"
   },
   {
    "duration": 9267,
    "start_time": "2022-10-23T08:16:41.724Z"
   },
   {
    "duration": 129555,
    "start_time": "2022-10-23T08:16:50.993Z"
   },
   {
    "duration": 59,
    "start_time": "2022-10-23T08:19:00.983Z"
   },
   {
    "duration": 175,
    "start_time": "2022-10-23T08:19:01.043Z"
   },
   {
    "duration": 13,
    "start_time": "2022-10-23T08:25:56.259Z"
   },
   {
    "duration": 11,
    "start_time": "2022-10-23T08:25:57.393Z"
   },
   {
    "duration": 17,
    "start_time": "2022-10-23T08:26:10.186Z"
   },
   {
    "duration": 12,
    "start_time": "2022-10-23T08:26:17.331Z"
   },
   {
    "duration": 13,
    "start_time": "2022-10-23T08:27:24.236Z"
   },
   {
    "duration": 13,
    "start_time": "2022-10-23T08:27:25.388Z"
   },
   {
    "duration": 1342,
    "start_time": "2022-10-23T08:27:31.597Z"
   },
   {
    "duration": 38,
    "start_time": "2022-10-23T08:27:32.940Z"
   },
   {
    "duration": 6,
    "start_time": "2022-10-23T08:27:32.980Z"
   },
   {
    "duration": 202,
    "start_time": "2022-10-23T08:27:32.989Z"
   },
   {
    "duration": 1079,
    "start_time": "2022-10-23T08:27:33.192Z"
   },
   {
    "duration": 263,
    "start_time": "2022-10-23T08:27:34.272Z"
   },
   {
    "duration": 0,
    "start_time": "2022-10-23T08:27:34.537Z"
   },
   {
    "duration": 0,
    "start_time": "2022-10-23T08:27:34.538Z"
   },
   {
    "duration": 0,
    "start_time": "2022-10-23T08:27:34.540Z"
   },
   {
    "duration": 0,
    "start_time": "2022-10-23T08:27:34.541Z"
   },
   {
    "duration": 0,
    "start_time": "2022-10-23T08:27:34.542Z"
   },
   {
    "duration": 0,
    "start_time": "2022-10-23T08:27:34.543Z"
   },
   {
    "duration": 0,
    "start_time": "2022-10-23T08:27:34.544Z"
   },
   {
    "duration": 0,
    "start_time": "2022-10-23T08:27:34.545Z"
   },
   {
    "duration": 0,
    "start_time": "2022-10-23T08:27:34.545Z"
   },
   {
    "duration": 0,
    "start_time": "2022-10-23T08:27:34.546Z"
   },
   {
    "duration": 0,
    "start_time": "2022-10-23T08:27:34.547Z"
   },
   {
    "duration": 0,
    "start_time": "2022-10-23T08:27:34.548Z"
   },
   {
    "duration": 0,
    "start_time": "2022-10-23T08:27:34.549Z"
   },
   {
    "duration": 0,
    "start_time": "2022-10-23T08:27:34.550Z"
   },
   {
    "duration": 0,
    "start_time": "2022-10-23T08:27:34.551Z"
   },
   {
    "duration": 0,
    "start_time": "2022-10-23T08:27:34.553Z"
   },
   {
    "duration": 0,
    "start_time": "2022-10-23T08:27:34.554Z"
   },
   {
    "duration": 0,
    "start_time": "2022-10-23T08:27:34.555Z"
   },
   {
    "duration": 0,
    "start_time": "2022-10-23T08:27:34.556Z"
   },
   {
    "duration": 0,
    "start_time": "2022-10-23T08:27:34.557Z"
   },
   {
    "duration": 0,
    "start_time": "2022-10-23T08:27:34.558Z"
   },
   {
    "duration": 0,
    "start_time": "2022-10-23T08:27:34.559Z"
   },
   {
    "duration": 0,
    "start_time": "2022-10-23T08:27:34.560Z"
   },
   {
    "duration": 0,
    "start_time": "2022-10-23T08:27:34.561Z"
   },
   {
    "duration": 0,
    "start_time": "2022-10-23T08:27:34.562Z"
   },
   {
    "duration": 0,
    "start_time": "2022-10-23T08:27:34.563Z"
   },
   {
    "duration": 0,
    "start_time": "2022-10-23T08:27:34.564Z"
   },
   {
    "duration": 0,
    "start_time": "2022-10-23T08:27:34.565Z"
   },
   {
    "duration": 0,
    "start_time": "2022-10-23T08:27:34.566Z"
   },
   {
    "duration": 0,
    "start_time": "2022-10-23T08:27:34.566Z"
   },
   {
    "duration": 12,
    "start_time": "2022-10-23T08:28:10.661Z"
   },
   {
    "duration": 12,
    "start_time": "2022-10-23T08:29:33.863Z"
   },
   {
    "duration": 18,
    "start_time": "2022-10-23T08:31:34.186Z"
   },
   {
    "duration": 461,
    "start_time": "2022-10-23T08:31:54.962Z"
   },
   {
    "duration": 17,
    "start_time": "2022-10-23T08:31:59.499Z"
   },
   {
    "duration": 1330,
    "start_time": "2022-10-23T08:32:07.314Z"
   },
   {
    "duration": 38,
    "start_time": "2022-10-23T08:32:08.646Z"
   },
   {
    "duration": 6,
    "start_time": "2022-10-23T08:32:08.686Z"
   },
   {
    "duration": 14,
    "start_time": "2022-10-23T08:32:08.693Z"
   },
   {
    "duration": 4,
    "start_time": "2022-10-23T08:32:08.709Z"
   },
   {
    "duration": 27,
    "start_time": "2022-10-23T08:32:08.715Z"
   },
   {
    "duration": 19,
    "start_time": "2022-10-23T08:32:08.744Z"
   },
   {
    "duration": 3,
    "start_time": "2022-10-23T08:32:08.765Z"
   },
   {
    "duration": 8,
    "start_time": "2022-10-23T08:32:08.770Z"
   },
   {
    "duration": 14,
    "start_time": "2022-10-23T08:32:08.780Z"
   },
   {
    "duration": 7,
    "start_time": "2022-10-23T08:32:08.796Z"
   },
   {
    "duration": 33,
    "start_time": "2022-10-23T08:32:08.804Z"
   },
   {
    "duration": 5,
    "start_time": "2022-10-23T08:32:08.839Z"
   },
   {
    "duration": 11,
    "start_time": "2022-10-23T08:32:08.846Z"
   },
   {
    "duration": 23,
    "start_time": "2022-10-23T08:32:08.858Z"
   },
   {
    "duration": 18,
    "start_time": "2022-10-23T08:32:08.882Z"
   },
   {
    "duration": 44,
    "start_time": "2022-10-23T08:32:08.901Z"
   },
   {
    "duration": 6,
    "start_time": "2022-10-23T08:32:08.947Z"
   },
   {
    "duration": 5,
    "start_time": "2022-10-23T08:32:08.955Z"
   },
   {
    "duration": 8,
    "start_time": "2022-10-23T08:32:08.961Z"
   },
   {
    "duration": 139,
    "start_time": "2022-10-23T08:32:08.970Z"
   },
   {
    "duration": 0,
    "start_time": "2022-10-23T08:32:09.111Z"
   },
   {
    "duration": 0,
    "start_time": "2022-10-23T08:32:09.112Z"
   },
   {
    "duration": 0,
    "start_time": "2022-10-23T08:32:09.113Z"
   },
   {
    "duration": 0,
    "start_time": "2022-10-23T08:32:09.114Z"
   },
   {
    "duration": 0,
    "start_time": "2022-10-23T08:32:09.116Z"
   },
   {
    "duration": 1,
    "start_time": "2022-10-23T08:32:09.116Z"
   },
   {
    "duration": 0,
    "start_time": "2022-10-23T08:32:09.133Z"
   },
   {
    "duration": 0,
    "start_time": "2022-10-23T08:32:09.134Z"
   },
   {
    "duration": 0,
    "start_time": "2022-10-23T08:32:09.135Z"
   },
   {
    "duration": 0,
    "start_time": "2022-10-23T08:32:09.136Z"
   },
   {
    "duration": 0,
    "start_time": "2022-10-23T08:32:09.137Z"
   },
   {
    "duration": 0,
    "start_time": "2022-10-23T08:32:09.138Z"
   },
   {
    "duration": 0,
    "start_time": "2022-10-23T08:32:09.139Z"
   },
   {
    "duration": 0,
    "start_time": "2022-10-23T08:32:09.140Z"
   },
   {
    "duration": 10,
    "start_time": "2022-10-23T08:34:43.674Z"
   },
   {
    "duration": 12,
    "start_time": "2022-10-23T08:35:00.275Z"
   },
   {
    "duration": 11,
    "start_time": "2022-10-23T08:35:01.662Z"
   },
   {
    "duration": 17,
    "start_time": "2022-10-23T08:35:04.282Z"
   },
   {
    "duration": 12,
    "start_time": "2022-10-23T08:35:51.748Z"
   },
   {
    "duration": 1330,
    "start_time": "2022-10-23T08:36:03.501Z"
   },
   {
    "duration": 37,
    "start_time": "2022-10-23T08:36:04.833Z"
   },
   {
    "duration": 3,
    "start_time": "2022-10-23T08:36:04.872Z"
   },
   {
    "duration": 13,
    "start_time": "2022-10-23T08:36:04.878Z"
   },
   {
    "duration": 19,
    "start_time": "2022-10-23T08:36:04.893Z"
   },
   {
    "duration": 9,
    "start_time": "2022-10-23T08:36:04.913Z"
   },
   {
    "duration": 113,
    "start_time": "2022-10-23T08:36:04.924Z"
   },
   {
    "duration": 0,
    "start_time": "2022-10-23T08:36:05.039Z"
   },
   {
    "duration": 0,
    "start_time": "2022-10-23T08:36:05.041Z"
   },
   {
    "duration": 0,
    "start_time": "2022-10-23T08:36:05.042Z"
   },
   {
    "duration": 0,
    "start_time": "2022-10-23T08:36:05.043Z"
   },
   {
    "duration": 0,
    "start_time": "2022-10-23T08:36:05.044Z"
   },
   {
    "duration": 0,
    "start_time": "2022-10-23T08:36:05.045Z"
   },
   {
    "duration": 0,
    "start_time": "2022-10-23T08:36:05.046Z"
   },
   {
    "duration": 0,
    "start_time": "2022-10-23T08:36:05.047Z"
   },
   {
    "duration": 0,
    "start_time": "2022-10-23T08:36:05.048Z"
   },
   {
    "duration": 0,
    "start_time": "2022-10-23T08:36:05.049Z"
   },
   {
    "duration": 0,
    "start_time": "2022-10-23T08:36:05.050Z"
   },
   {
    "duration": 0,
    "start_time": "2022-10-23T08:36:05.051Z"
   },
   {
    "duration": 0,
    "start_time": "2022-10-23T08:36:05.052Z"
   },
   {
    "duration": 0,
    "start_time": "2022-10-23T08:36:05.053Z"
   },
   {
    "duration": 0,
    "start_time": "2022-10-23T08:36:05.054Z"
   },
   {
    "duration": 0,
    "start_time": "2022-10-23T08:36:05.055Z"
   },
   {
    "duration": 1,
    "start_time": "2022-10-23T08:36:05.056Z"
   },
   {
    "duration": 0,
    "start_time": "2022-10-23T08:36:05.057Z"
   },
   {
    "duration": 0,
    "start_time": "2022-10-23T08:36:05.058Z"
   },
   {
    "duration": 0,
    "start_time": "2022-10-23T08:36:05.059Z"
   },
   {
    "duration": 0,
    "start_time": "2022-10-23T08:36:05.060Z"
   },
   {
    "duration": 0,
    "start_time": "2022-10-23T08:36:05.061Z"
   },
   {
    "duration": 0,
    "start_time": "2022-10-23T08:36:05.062Z"
   },
   {
    "duration": 0,
    "start_time": "2022-10-23T08:36:05.063Z"
   },
   {
    "duration": 0,
    "start_time": "2022-10-23T08:36:05.064Z"
   },
   {
    "duration": 0,
    "start_time": "2022-10-23T08:36:05.067Z"
   },
   {
    "duration": 0,
    "start_time": "2022-10-23T08:36:05.068Z"
   },
   {
    "duration": 0,
    "start_time": "2022-10-23T08:36:05.069Z"
   },
   {
    "duration": 0,
    "start_time": "2022-10-23T08:36:05.070Z"
   },
   {
    "duration": 0,
    "start_time": "2022-10-23T08:36:05.070Z"
   },
   {
    "duration": 1290,
    "start_time": "2022-10-23T08:37:01.523Z"
   },
   {
    "duration": 38,
    "start_time": "2022-10-23T08:37:02.815Z"
   },
   {
    "duration": 4,
    "start_time": "2022-10-23T08:37:02.855Z"
   },
   {
    "duration": 13,
    "start_time": "2022-10-23T08:37:02.861Z"
   },
   {
    "duration": 22,
    "start_time": "2022-10-23T08:37:02.876Z"
   },
   {
    "duration": 10,
    "start_time": "2022-10-23T08:37:02.899Z"
   },
   {
    "duration": 25,
    "start_time": "2022-10-23T08:37:02.911Z"
   },
   {
    "duration": 19,
    "start_time": "2022-10-23T08:37:02.938Z"
   },
   {
    "duration": 3,
    "start_time": "2022-10-23T08:37:02.959Z"
   },
   {
    "duration": 14,
    "start_time": "2022-10-23T08:37:02.964Z"
   },
   {
    "duration": 17,
    "start_time": "2022-10-23T08:37:02.979Z"
   },
   {
    "duration": 8,
    "start_time": "2022-10-23T08:37:02.998Z"
   },
   {
    "duration": 32,
    "start_time": "2022-10-23T08:37:03.033Z"
   },
   {
    "duration": 11,
    "start_time": "2022-10-23T08:37:03.067Z"
   },
   {
    "duration": 289,
    "start_time": "2022-10-23T08:37:03.081Z"
   },
   {
    "duration": 0,
    "start_time": "2022-10-23T08:37:03.372Z"
   },
   {
    "duration": 0,
    "start_time": "2022-10-23T08:37:03.373Z"
   },
   {
    "duration": 0,
    "start_time": "2022-10-23T08:37:03.374Z"
   },
   {
    "duration": 0,
    "start_time": "2022-10-23T08:37:03.376Z"
   },
   {
    "duration": 0,
    "start_time": "2022-10-23T08:37:03.434Z"
   },
   {
    "duration": 0,
    "start_time": "2022-10-23T08:37:03.435Z"
   },
   {
    "duration": 0,
    "start_time": "2022-10-23T08:37:03.437Z"
   },
   {
    "duration": 0,
    "start_time": "2022-10-23T08:37:03.438Z"
   },
   {
    "duration": 0,
    "start_time": "2022-10-23T08:37:03.439Z"
   },
   {
    "duration": 0,
    "start_time": "2022-10-23T08:37:03.441Z"
   },
   {
    "duration": 0,
    "start_time": "2022-10-23T08:37:03.442Z"
   },
   {
    "duration": 0,
    "start_time": "2022-10-23T08:37:03.444Z"
   },
   {
    "duration": 0,
    "start_time": "2022-10-23T08:37:03.445Z"
   },
   {
    "duration": 0,
    "start_time": "2022-10-23T08:37:03.446Z"
   },
   {
    "duration": 0,
    "start_time": "2022-10-23T08:37:03.448Z"
   },
   {
    "duration": 0,
    "start_time": "2022-10-23T08:37:03.449Z"
   },
   {
    "duration": 0,
    "start_time": "2022-10-23T08:37:03.450Z"
   },
   {
    "duration": 0,
    "start_time": "2022-10-23T08:37:03.451Z"
   },
   {
    "duration": 0,
    "start_time": "2022-10-23T08:37:03.451Z"
   },
   {
    "duration": 0,
    "start_time": "2022-10-23T08:37:03.452Z"
   },
   {
    "duration": 0,
    "start_time": "2022-10-23T08:37:03.453Z"
   },
   {
    "duration": 3,
    "start_time": "2022-10-23T08:40:45.217Z"
   },
   {
    "duration": 9,
    "start_time": "2022-10-23T08:40:46.080Z"
   },
   {
    "duration": 26,
    "start_time": "2022-10-23T08:40:47.691Z"
   },
   {
    "duration": 23,
    "start_time": "2022-10-23T08:40:54.588Z"
   },
   {
    "duration": 23,
    "start_time": "2022-10-23T08:40:57.556Z"
   },
   {
    "duration": 1281,
    "start_time": "2022-10-23T08:41:04.533Z"
   },
   {
    "duration": 40,
    "start_time": "2022-10-23T08:41:05.816Z"
   },
   {
    "duration": 4,
    "start_time": "2022-10-23T08:41:05.857Z"
   },
   {
    "duration": 16,
    "start_time": "2022-10-23T08:41:05.863Z"
   },
   {
    "duration": 18,
    "start_time": "2022-10-23T08:41:05.881Z"
   },
   {
    "duration": 10,
    "start_time": "2022-10-23T08:41:05.900Z"
   },
   {
    "duration": 27,
    "start_time": "2022-10-23T08:41:05.912Z"
   },
   {
    "duration": 20,
    "start_time": "2022-10-23T08:41:05.940Z"
   },
   {
    "duration": 4,
    "start_time": "2022-10-23T08:41:05.961Z"
   },
   {
    "duration": 7,
    "start_time": "2022-10-23T08:41:05.966Z"
   },
   {
    "duration": 12,
    "start_time": "2022-10-23T08:41:05.974Z"
   },
   {
    "duration": 7,
    "start_time": "2022-10-23T08:41:05.988Z"
   },
   {
    "duration": 20,
    "start_time": "2022-10-23T08:41:05.997Z"
   },
   {
    "duration": 2,
    "start_time": "2022-10-23T08:41:06.036Z"
   },
   {
    "duration": 12,
    "start_time": "2022-10-23T08:41:06.039Z"
   },
   {
    "duration": 26,
    "start_time": "2022-10-23T08:41:06.052Z"
   },
   {
    "duration": 24,
    "start_time": "2022-10-23T08:41:06.079Z"
   },
   {
    "duration": 47,
    "start_time": "2022-10-23T08:41:06.105Z"
   },
   {
    "duration": 7,
    "start_time": "2022-10-23T08:41:06.153Z"
   },
   {
    "duration": 6,
    "start_time": "2022-10-23T08:41:06.161Z"
   },
   {
    "duration": 6,
    "start_time": "2022-10-23T08:41:06.168Z"
   },
   {
    "duration": 10985,
    "start_time": "2022-10-23T08:41:06.176Z"
   },
   {
    "duration": 6,
    "start_time": "2022-10-23T08:41:17.163Z"
   },
   {
    "duration": 58917,
    "start_time": "2022-10-23T08:41:17.171Z"
   },
   {
    "duration": 54444,
    "start_time": "2022-10-23T08:42:16.090Z"
   },
   {
    "duration": 5,
    "start_time": "2022-10-23T08:43:10.536Z"
   },
   {
    "duration": 100,
    "start_time": "2022-10-23T08:43:10.542Z"
   },
   {
    "duration": 11790,
    "start_time": "2022-10-23T08:43:10.643Z"
   },
   {
    "duration": 4,
    "start_time": "2022-10-23T08:43:22.435Z"
   },
   {
    "duration": 10,
    "start_time": "2022-10-23T08:43:22.441Z"
   },
   {
    "duration": 24,
    "start_time": "2022-10-23T08:43:22.453Z"
   },
   {
    "duration": 60523,
    "start_time": "2022-10-23T08:43:22.478Z"
   },
   {
    "duration": 10655,
    "start_time": "2022-10-23T08:44:23.002Z"
   },
   {
    "duration": 134662,
    "start_time": "2022-10-23T08:44:33.658Z"
   },
   {
    "duration": 49,
    "start_time": "2022-10-23T08:46:48.322Z"
   },
   {
    "duration": 160,
    "start_time": "2022-10-23T08:46:48.373Z"
   },
   {
    "duration": 36,
    "start_time": "2022-10-23T08:52:50.412Z"
   },
   {
    "duration": 127,
    "start_time": "2022-10-23T08:53:05.332Z"
   },
   {
    "duration": 1430,
    "start_time": "2022-10-23T09:00:59.638Z"
   },
   {
    "duration": 40,
    "start_time": "2022-10-23T09:01:01.070Z"
   },
   {
    "duration": 4,
    "start_time": "2022-10-23T09:01:01.112Z"
   },
   {
    "duration": 9,
    "start_time": "2022-10-23T09:01:01.119Z"
   },
   {
    "duration": 21,
    "start_time": "2022-10-23T09:01:01.134Z"
   },
   {
    "duration": 10,
    "start_time": "2022-10-23T09:01:01.157Z"
   },
   {
    "duration": 24,
    "start_time": "2022-10-23T09:01:01.168Z"
   },
   {
    "duration": 19,
    "start_time": "2022-10-23T09:01:01.194Z"
   },
   {
    "duration": 3,
    "start_time": "2022-10-23T09:01:01.215Z"
   },
   {
    "duration": 7,
    "start_time": "2022-10-23T09:01:01.235Z"
   },
   {
    "duration": 17,
    "start_time": "2022-10-23T09:01:01.243Z"
   },
   {
    "duration": 14,
    "start_time": "2022-10-23T09:01:01.261Z"
   },
   {
    "duration": 23,
    "start_time": "2022-10-23T09:01:01.277Z"
   },
   {
    "duration": 16,
    "start_time": "2022-10-23T09:01:01.302Z"
   },
   {
    "duration": 31,
    "start_time": "2022-10-23T09:01:01.320Z"
   },
   {
    "duration": 33,
    "start_time": "2022-10-23T09:01:01.353Z"
   },
   {
    "duration": 24,
    "start_time": "2022-10-23T09:01:01.387Z"
   },
   {
    "duration": 33,
    "start_time": "2022-10-23T09:01:01.413Z"
   },
   {
    "duration": 6,
    "start_time": "2022-10-23T09:01:01.448Z"
   },
   {
    "duration": 9,
    "start_time": "2022-10-23T09:01:01.455Z"
   },
   {
    "duration": 9,
    "start_time": "2022-10-23T09:01:01.466Z"
   },
   {
    "duration": 10161,
    "start_time": "2022-10-23T09:01:01.476Z"
   },
   {
    "duration": 6,
    "start_time": "2022-10-23T09:01:11.639Z"
   },
   {
    "duration": 58725,
    "start_time": "2022-10-23T09:01:11.647Z"
   },
   {
    "duration": 44965,
    "start_time": "2022-10-23T09:02:10.374Z"
   },
   {
    "duration": 94,
    "start_time": "2022-10-23T09:02:55.341Z"
   },
   {
    "duration": 6,
    "start_time": "2022-10-23T09:02:55.438Z"
   },
   {
    "duration": 10957,
    "start_time": "2022-10-23T09:02:55.448Z"
   },
   {
    "duration": 4,
    "start_time": "2022-10-23T09:03:06.407Z"
   },
   {
    "duration": 14,
    "start_time": "2022-10-23T09:03:06.413Z"
   },
   {
    "duration": 19,
    "start_time": "2022-10-23T09:03:06.433Z"
   },
   {
    "duration": 61175,
    "start_time": "2022-10-23T09:03:06.454Z"
   },
   {
    "duration": 9724,
    "start_time": "2022-10-23T09:04:07.630Z"
   },
   {
    "duration": 136730,
    "start_time": "2022-10-23T09:04:17.356Z"
   },
   {
    "duration": 36,
    "start_time": "2022-10-23T09:06:34.087Z"
   },
   {
    "duration": 137,
    "start_time": "2022-10-23T09:06:34.134Z"
   },
   {
    "duration": 110,
    "start_time": "2022-10-23T09:06:54.778Z"
   },
   {
    "duration": 102,
    "start_time": "2022-10-23T09:17:59.559Z"
   },
   {
    "duration": 23,
    "start_time": "2022-10-23T09:18:10.190Z"
   },
   {
    "duration": 193,
    "start_time": "2022-10-23T09:21:17.591Z"
   },
   {
    "duration": 60,
    "start_time": "2022-10-23T09:23:25.374Z"
   },
   {
    "duration": 99,
    "start_time": "2022-10-23T09:24:36.136Z"
   },
   {
    "duration": 118,
    "start_time": "2022-10-23T09:25:40.569Z"
   },
   {
    "duration": 733,
    "start_time": "2022-10-23T09:31:21.304Z"
   },
   {
    "duration": 676,
    "start_time": "2022-10-23T09:32:08.578Z"
   },
   {
    "duration": 7,
    "start_time": "2022-10-23T09:32:10.888Z"
   },
   {
    "duration": 10158,
    "start_time": "2022-10-23T09:32:13.640Z"
   },
   {
    "duration": 21,
    "start_time": "2022-10-23T09:32:34.530Z"
   },
   {
    "duration": 4,
    "start_time": "2022-10-23T09:34:55.364Z"
   },
   {
    "duration": 4,
    "start_time": "2022-10-23T09:35:17.780Z"
   },
   {
    "duration": 672,
    "start_time": "2022-10-23T09:35:22.100Z"
   },
   {
    "duration": 46,
    "start_time": "2022-10-23T09:38:44.577Z"
   },
   {
    "duration": 651,
    "start_time": "2022-10-23T09:38:49.897Z"
   },
   {
    "duration": 1386,
    "start_time": "2022-10-23T09:40:50.303Z"
   },
   {
    "duration": 40,
    "start_time": "2022-10-23T09:40:51.691Z"
   },
   {
    "duration": 5,
    "start_time": "2022-10-23T09:40:51.733Z"
   },
   {
    "duration": 9,
    "start_time": "2022-10-23T09:40:51.740Z"
   },
   {
    "duration": 15,
    "start_time": "2022-10-23T09:40:51.752Z"
   },
   {
    "duration": 12,
    "start_time": "2022-10-23T09:40:51.768Z"
   },
   {
    "duration": 18,
    "start_time": "2022-10-23T09:40:51.781Z"
   },
   {
    "duration": 51,
    "start_time": "2022-10-23T09:40:51.801Z"
   },
   {
    "duration": 4,
    "start_time": "2022-10-23T09:40:51.853Z"
   },
   {
    "duration": 11,
    "start_time": "2022-10-23T09:40:51.859Z"
   },
   {
    "duration": 10,
    "start_time": "2022-10-23T09:40:51.872Z"
   },
   {
    "duration": 4,
    "start_time": "2022-10-23T09:40:51.884Z"
   },
   {
    "duration": 16,
    "start_time": "2022-10-23T09:40:51.890Z"
   },
   {
    "duration": 3,
    "start_time": "2022-10-23T09:40:51.937Z"
   },
   {
    "duration": 11,
    "start_time": "2022-10-23T09:40:51.941Z"
   },
   {
    "duration": 27,
    "start_time": "2022-10-23T09:40:51.954Z"
   },
   {
    "duration": 23,
    "start_time": "2022-10-23T09:40:51.983Z"
   },
   {
    "duration": 27,
    "start_time": "2022-10-23T09:40:52.034Z"
   },
   {
    "duration": 4,
    "start_time": "2022-10-23T09:40:52.062Z"
   },
   {
    "duration": 694,
    "start_time": "2022-10-23T09:40:52.068Z"
   },
   {
    "duration": 78,
    "start_time": "2022-10-23T09:40:52.764Z"
   },
   {
    "duration": 6,
    "start_time": "2022-10-23T09:40:52.935Z"
   },
   {
    "duration": 693,
    "start_time": "2022-10-23T09:40:52.942Z"
   },
   {
    "duration": 102,
    "start_time": "2022-10-23T09:40:53.638Z"
   },
   {
    "duration": 10073,
    "start_time": "2022-10-23T09:40:53.742Z"
   },
   {
    "duration": 32,
    "start_time": "2022-10-23T09:41:03.817Z"
   },
   {
    "duration": 6,
    "start_time": "2022-10-23T09:41:03.850Z"
   },
   {
    "duration": 58676,
    "start_time": "2022-10-23T09:41:03.858Z"
   },
   {
    "duration": 194,
    "start_time": "2022-10-23T09:42:02.536Z"
   },
   {
    "duration": 101,
    "start_time": "2022-10-23T09:42:02.734Z"
   },
   {
    "duration": 102,
    "start_time": "2022-10-23T09:42:02.837Z"
   },
   {
    "duration": 379,
    "start_time": "2022-10-23T09:42:02.941Z"
   },
   {
    "duration": 10798,
    "start_time": "2022-10-23T09:42:03.322Z"
   },
   {
    "duration": 4,
    "start_time": "2022-10-23T09:42:14.122Z"
   },
   {
    "duration": 11,
    "start_time": "2022-10-23T09:42:14.127Z"
   },
   {
    "duration": 17,
    "start_time": "2022-10-23T09:42:14.139Z"
   },
   {
    "duration": 60069,
    "start_time": "2022-10-23T09:42:14.157Z"
   },
   {
    "duration": 9783,
    "start_time": "2022-10-23T09:43:14.228Z"
   },
   {
    "duration": 134686,
    "start_time": "2022-10-23T09:43:24.013Z"
   },
   {
    "duration": 44,
    "start_time": "2022-10-23T09:45:38.701Z"
   },
   {
    "duration": 124,
    "start_time": "2022-10-23T09:45:38.749Z"
   },
   {
    "duration": 43,
    "start_time": "2022-10-23T09:47:03.922Z"
   },
   {
    "duration": 40,
    "start_time": "2022-10-23T09:47:06.467Z"
   },
   {
    "duration": 105,
    "start_time": "2022-10-23T09:47:08.979Z"
   },
   {
    "duration": 111,
    "start_time": "2022-10-23T09:47:32.851Z"
   },
   {
    "duration": 9,
    "start_time": "2022-10-23T09:47:42.423Z"
   },
   {
    "duration": 6,
    "start_time": "2022-10-23T09:47:48.164Z"
   },
   {
    "duration": 24,
    "start_time": "2022-10-23T09:47:49.732Z"
   },
   {
    "duration": 16,
    "start_time": "2022-10-23T09:51:33.506Z"
   },
   {
    "duration": 5,
    "start_time": "2022-10-23T09:53:38.924Z"
   },
   {
    "duration": 16,
    "start_time": "2022-10-23T09:55:10.508Z"
   },
   {
    "duration": 1500,
    "start_time": "2022-10-23T09:55:24.440Z"
   },
   {
    "duration": 40,
    "start_time": "2022-10-23T09:55:25.942Z"
   },
   {
    "duration": 16,
    "start_time": "2022-10-23T09:55:25.983Z"
   },
   {
    "duration": 5,
    "start_time": "2022-10-23T09:55:26.000Z"
   },
   {
    "duration": 15,
    "start_time": "2022-10-23T09:55:26.007Z"
   },
   {
    "duration": 19,
    "start_time": "2022-10-23T09:55:26.023Z"
   },
   {
    "duration": 17,
    "start_time": "2022-10-23T09:55:26.043Z"
   },
   {
    "duration": 22,
    "start_time": "2022-10-23T09:55:26.061Z"
   },
   {
    "duration": 3,
    "start_time": "2022-10-23T09:55:26.085Z"
   },
   {
    "duration": 11,
    "start_time": "2022-10-23T09:55:26.090Z"
   },
   {
    "duration": 31,
    "start_time": "2022-10-23T09:55:26.102Z"
   },
   {
    "duration": 4,
    "start_time": "2022-10-23T09:55:26.135Z"
   },
   {
    "duration": 24,
    "start_time": "2022-10-23T09:55:26.141Z"
   },
   {
    "duration": 2,
    "start_time": "2022-10-23T09:55:26.169Z"
   },
   {
    "duration": 18,
    "start_time": "2022-10-23T09:55:26.173Z"
   },
   {
    "duration": 47,
    "start_time": "2022-10-23T09:55:26.197Z"
   },
   {
    "duration": 29,
    "start_time": "2022-10-23T09:55:26.246Z"
   },
   {
    "duration": 27,
    "start_time": "2022-10-23T09:55:26.277Z"
   },
   {
    "duration": 28,
    "start_time": "2022-10-23T09:55:26.306Z"
   },
   {
    "duration": 721,
    "start_time": "2022-10-23T09:55:26.337Z"
   },
   {
    "duration": 83,
    "start_time": "2022-10-23T09:55:27.060Z"
   },
   {
    "duration": 12,
    "start_time": "2022-10-23T09:55:27.234Z"
   },
   {
    "duration": 696,
    "start_time": "2022-10-23T09:55:27.248Z"
   },
   {
    "duration": 99,
    "start_time": "2022-10-23T09:55:28.035Z"
   },
   {
    "duration": 10377,
    "start_time": "2022-10-23T09:55:28.137Z"
   },
   {
    "duration": 28,
    "start_time": "2022-10-23T09:55:38.516Z"
   },
   {
    "duration": 7,
    "start_time": "2022-10-23T09:55:38.546Z"
   },
   {
    "duration": 59209,
    "start_time": "2022-10-23T09:55:38.555Z"
   },
   {
    "duration": 188,
    "start_time": "2022-10-23T09:56:37.765Z"
   },
   {
    "duration": 82,
    "start_time": "2022-10-23T09:56:37.954Z"
   },
   {
    "duration": 101,
    "start_time": "2022-10-23T09:56:38.039Z"
   },
   {
    "duration": 345,
    "start_time": "2022-10-23T09:56:38.142Z"
   },
   {
    "duration": 10828,
    "start_time": "2022-10-23T09:56:38.489Z"
   },
   {
    "duration": 5,
    "start_time": "2022-10-23T09:56:49.319Z"
   },
   {
    "duration": 11,
    "start_time": "2022-10-23T09:56:49.326Z"
   },
   {
    "duration": 20,
    "start_time": "2022-10-23T09:56:49.338Z"
   },
   {
    "duration": 60797,
    "start_time": "2022-10-23T09:56:49.360Z"
   },
   {
    "duration": 10013,
    "start_time": "2022-10-23T09:57:50.158Z"
   },
   {
    "duration": 35145,
    "start_time": "2022-10-23T09:58:00.173Z"
   },
   {
    "duration": 0,
    "start_time": "2022-10-23T09:58:35.320Z"
   },
   {
    "duration": 0,
    "start_time": "2022-10-23T09:58:35.321Z"
   },
   {
    "duration": 1364,
    "start_time": "2022-10-23T09:58:55.225Z"
   },
   {
    "duration": 39,
    "start_time": "2022-10-23T09:58:56.591Z"
   },
   {
    "duration": 16,
    "start_time": "2022-10-23T09:58:56.631Z"
   },
   {
    "duration": 5,
    "start_time": "2022-10-23T09:58:56.648Z"
   },
   {
    "duration": 6,
    "start_time": "2022-10-23T09:58:56.655Z"
   },
   {
    "duration": 11,
    "start_time": "2022-10-23T09:58:56.662Z"
   },
   {
    "duration": 11,
    "start_time": "2022-10-23T09:58:56.674Z"
   },
   {
    "duration": 47,
    "start_time": "2022-10-23T09:58:56.686Z"
   },
   {
    "duration": 4,
    "start_time": "2022-10-23T09:58:56.735Z"
   },
   {
    "duration": 9,
    "start_time": "2022-10-23T09:58:56.740Z"
   },
   {
    "duration": 10,
    "start_time": "2022-10-23T09:58:56.751Z"
   },
   {
    "duration": 4,
    "start_time": "2022-10-23T09:58:56.763Z"
   },
   {
    "duration": 15,
    "start_time": "2022-10-23T09:58:56.768Z"
   },
   {
    "duration": 4,
    "start_time": "2022-10-23T09:58:56.786Z"
   },
   {
    "duration": 12,
    "start_time": "2022-10-23T09:58:56.792Z"
   },
   {
    "duration": 49,
    "start_time": "2022-10-23T09:58:56.805Z"
   },
   {
    "duration": 17,
    "start_time": "2022-10-23T09:58:56.856Z"
   },
   {
    "duration": 17,
    "start_time": "2022-10-23T09:58:56.875Z"
   },
   {
    "duration": 4,
    "start_time": "2022-10-23T09:58:56.893Z"
   },
   {
    "duration": 1139,
    "start_time": "2022-10-23T09:58:56.898Z"
   },
   {
    "duration": 100,
    "start_time": "2022-10-23T09:58:58.040Z"
   },
   {
    "duration": 9,
    "start_time": "2022-10-23T09:58:58.141Z"
   },
   {
    "duration": 1308,
    "start_time": "2022-10-23T09:58:58.151Z"
   },
   {
    "duration": 73,
    "start_time": "2022-10-23T09:58:59.462Z"
   },
   {
    "duration": 9770,
    "start_time": "2022-10-23T09:58:59.537Z"
   },
   {
    "duration": 26,
    "start_time": "2022-10-23T09:59:09.309Z"
   },
   {
    "duration": 6,
    "start_time": "2022-10-23T09:59:09.337Z"
   },
   {
    "duration": 68415,
    "start_time": "2022-10-23T09:59:09.345Z"
   },
   {
    "duration": 225,
    "start_time": "2022-10-23T10:00:17.762Z"
   },
   {
    "duration": 147,
    "start_time": "2022-10-23T10:00:17.989Z"
   },
   {
    "duration": 11,
    "start_time": "2022-10-23T10:00:18.138Z"
   },
   {
    "duration": 365,
    "start_time": "2022-10-23T10:00:18.151Z"
   },
   {
    "duration": 10338,
    "start_time": "2022-10-23T10:00:18.518Z"
   },
   {
    "duration": 3,
    "start_time": "2022-10-23T10:00:28.858Z"
   },
   {
    "duration": 7,
    "start_time": "2022-10-23T10:00:28.863Z"
   },
   {
    "duration": 16,
    "start_time": "2022-10-23T10:00:28.872Z"
   },
   {
    "duration": 68180,
    "start_time": "2022-10-23T10:00:28.889Z"
   },
   {
    "duration": 9270,
    "start_time": "2022-10-23T10:01:37.071Z"
   },
   {
    "duration": 129197,
    "start_time": "2022-10-23T10:01:46.343Z"
   },
   {
    "duration": 134,
    "start_time": "2022-10-23T10:03:55.542Z"
   },
   {
    "duration": 0,
    "start_time": "2022-10-23T10:03:55.678Z"
   },
   {
    "duration": 47,
    "start_time": "2022-10-24T02:25:40.240Z"
   },
   {
    "duration": 1873,
    "start_time": "2022-10-24T09:28:52.870Z"
   },
   {
    "duration": 170,
    "start_time": "2022-10-24T09:28:54.745Z"
   },
   {
    "duration": 18,
    "start_time": "2022-10-24T09:28:54.917Z"
   },
   {
    "duration": 6,
    "start_time": "2022-10-24T09:28:54.937Z"
   },
   {
    "duration": 5,
    "start_time": "2022-10-24T09:28:54.944Z"
   },
   {
    "duration": 14,
    "start_time": "2022-10-24T09:28:54.950Z"
   },
   {
    "duration": 11,
    "start_time": "2022-10-24T09:28:54.966Z"
   },
   {
    "duration": 53,
    "start_time": "2022-10-24T09:28:54.979Z"
   },
   {
    "duration": 4,
    "start_time": "2022-10-24T09:28:55.034Z"
   },
   {
    "duration": 10,
    "start_time": "2022-10-24T09:28:55.041Z"
   },
   {
    "duration": 10,
    "start_time": "2022-10-24T09:28:55.052Z"
   },
   {
    "duration": 5,
    "start_time": "2022-10-24T09:28:55.064Z"
   },
   {
    "duration": 13,
    "start_time": "2022-10-24T09:28:55.072Z"
   },
   {
    "duration": 109,
    "start_time": "2022-10-24T09:28:55.087Z"
   },
   {
    "duration": 0,
    "start_time": "2022-10-24T09:28:55.199Z"
   },
   {
    "duration": 0,
    "start_time": "2022-10-24T09:28:55.201Z"
   },
   {
    "duration": 0,
    "start_time": "2022-10-24T09:28:55.202Z"
   },
   {
    "duration": 0,
    "start_time": "2022-10-24T09:28:55.204Z"
   },
   {
    "duration": 0,
    "start_time": "2022-10-24T09:28:55.206Z"
   },
   {
    "duration": 0,
    "start_time": "2022-10-24T09:28:55.207Z"
   },
   {
    "duration": 0,
    "start_time": "2022-10-24T09:28:55.209Z"
   },
   {
    "duration": 0,
    "start_time": "2022-10-24T09:28:55.210Z"
   },
   {
    "duration": 0,
    "start_time": "2022-10-24T09:28:55.211Z"
   },
   {
    "duration": 0,
    "start_time": "2022-10-24T09:28:55.213Z"
   },
   {
    "duration": 0,
    "start_time": "2022-10-24T09:28:55.214Z"
   },
   {
    "duration": 0,
    "start_time": "2022-10-24T09:28:55.215Z"
   },
   {
    "duration": 0,
    "start_time": "2022-10-24T09:28:55.217Z"
   },
   {
    "duration": 1,
    "start_time": "2022-10-24T09:28:55.217Z"
   },
   {
    "duration": 0,
    "start_time": "2022-10-24T09:28:55.219Z"
   },
   {
    "duration": 0,
    "start_time": "2022-10-24T09:28:55.220Z"
   },
   {
    "duration": 0,
    "start_time": "2022-10-24T09:28:55.221Z"
   },
   {
    "duration": 0,
    "start_time": "2022-10-24T09:28:55.222Z"
   },
   {
    "duration": 0,
    "start_time": "2022-10-24T09:28:55.223Z"
   },
   {
    "duration": 0,
    "start_time": "2022-10-24T09:28:55.225Z"
   },
   {
    "duration": 0,
    "start_time": "2022-10-24T09:28:55.225Z"
   },
   {
    "duration": 0,
    "start_time": "2022-10-24T09:28:55.227Z"
   },
   {
    "duration": 0,
    "start_time": "2022-10-24T09:28:55.228Z"
   },
   {
    "duration": 0,
    "start_time": "2022-10-24T09:28:55.229Z"
   },
   {
    "duration": 0,
    "start_time": "2022-10-24T09:28:55.230Z"
   },
   {
    "duration": 0,
    "start_time": "2022-10-24T09:28:55.232Z"
   },
   {
    "duration": 0,
    "start_time": "2022-10-24T09:28:55.233Z"
   },
   {
    "duration": 1363,
    "start_time": "2022-10-24T09:33:15.210Z"
   },
   {
    "duration": 49,
    "start_time": "2022-10-24T09:33:16.575Z"
   },
   {
    "duration": 17,
    "start_time": "2022-10-24T09:33:16.626Z"
   },
   {
    "duration": 4,
    "start_time": "2022-10-24T09:33:16.645Z"
   },
   {
    "duration": 6,
    "start_time": "2022-10-24T09:33:16.651Z"
   },
   {
    "duration": 11,
    "start_time": "2022-10-24T09:33:16.658Z"
   },
   {
    "duration": 12,
    "start_time": "2022-10-24T09:33:16.671Z"
   },
   {
    "duration": 47,
    "start_time": "2022-10-24T09:33:16.685Z"
   },
   {
    "duration": 4,
    "start_time": "2022-10-24T09:33:16.734Z"
   },
   {
    "duration": 6,
    "start_time": "2022-10-24T09:33:16.742Z"
   },
   {
    "duration": 9,
    "start_time": "2022-10-24T09:33:16.750Z"
   },
   {
    "duration": 4,
    "start_time": "2022-10-24T09:33:16.761Z"
   },
   {
    "duration": 11,
    "start_time": "2022-10-24T09:33:16.767Z"
   },
   {
    "duration": 12,
    "start_time": "2022-10-24T09:33:16.780Z"
   },
   {
    "duration": 39,
    "start_time": "2022-10-24T09:33:16.794Z"
   },
   {
    "duration": 23,
    "start_time": "2022-10-24T09:33:16.835Z"
   },
   {
    "duration": 17,
    "start_time": "2022-10-24T09:33:16.860Z"
   },
   {
    "duration": 16,
    "start_time": "2022-10-24T09:33:16.879Z"
   },
   {
    "duration": 36,
    "start_time": "2022-10-24T09:33:16.896Z"
   },
   {
    "duration": 794,
    "start_time": "2022-10-24T09:33:16.934Z"
   },
   {
    "duration": 97,
    "start_time": "2022-10-24T09:33:17.736Z"
   },
   {
    "duration": 25,
    "start_time": "2022-10-24T09:33:17.835Z"
   },
   {
    "duration": 805,
    "start_time": "2022-10-24T09:33:17.861Z"
   },
   {
    "duration": 69,
    "start_time": "2022-10-24T09:33:18.668Z"
   },
   {
    "duration": 11024,
    "start_time": "2022-10-24T09:33:18.739Z"
   },
   {
    "duration": 23,
    "start_time": "2022-10-24T09:33:29.765Z"
   },
   {
    "duration": 7,
    "start_time": "2022-10-24T09:33:29.790Z"
   },
   {
    "duration": 72193,
    "start_time": "2022-10-24T09:33:29.801Z"
   },
   {
    "duration": 228,
    "start_time": "2022-10-24T09:34:41.996Z"
   },
   {
    "duration": 25,
    "start_time": "2022-10-24T09:34:42.228Z"
   },
   {
    "duration": 85,
    "start_time": "2022-10-24T09:34:42.256Z"
   },
   {
    "duration": 223,
    "start_time": "2022-10-24T09:34:42.431Z"
   },
   {
    "duration": 10984,
    "start_time": "2022-10-24T09:34:42.655Z"
   },
   {
    "duration": 75,
    "start_time": "2022-10-24T09:34:53.641Z"
   },
   {
    "duration": 15,
    "start_time": "2022-10-24T09:34:53.718Z"
   },
   {
    "duration": 18,
    "start_time": "2022-10-24T09:34:53.735Z"
   },
   {
    "duration": 73863,
    "start_time": "2022-10-24T09:34:53.755Z"
   },
   {
    "duration": 10353,
    "start_time": "2022-10-24T09:36:07.620Z"
   },
   {
    "duration": 139346,
    "start_time": "2022-10-24T09:36:17.975Z"
   },
   {
    "duration": 39,
    "start_time": "2022-10-24T09:38:37.322Z"
   },
   {
    "duration": 229,
    "start_time": "2022-10-24T09:38:37.362Z"
   },
   {
    "duration": 129,
    "start_time": "2022-10-24T09:39:31.261Z"
   },
   {
    "duration": 123,
    "start_time": "2022-10-24T09:39:44.034Z"
   },
   {
    "duration": 177,
    "start_time": "2022-10-24T09:39:49.338Z"
   },
   {
    "duration": 135,
    "start_time": "2022-10-24T09:39:52.162Z"
   },
   {
    "duration": 132,
    "start_time": "2022-10-24T09:40:04.210Z"
   },
   {
    "duration": 46,
    "start_time": "2022-10-24T09:44:45.492Z"
   },
   {
    "duration": 142,
    "start_time": "2022-10-24T09:45:20.653Z"
   },
   {
    "duration": 183,
    "start_time": "2022-10-24T09:49:58.606Z"
   },
   {
    "duration": 143,
    "start_time": "2022-10-24T09:50:17.495Z"
   },
   {
    "duration": 178,
    "start_time": "2022-10-24T09:50:56.016Z"
   },
   {
    "duration": 176,
    "start_time": "2022-10-24T09:51:04.791Z"
   },
   {
    "duration": 64,
    "start_time": "2022-10-24T09:52:40.735Z"
   },
   {
    "duration": 151,
    "start_time": "2022-10-24T09:52:42.344Z"
   },
   {
    "duration": 161,
    "start_time": "2022-10-24T09:52:46.839Z"
   },
   {
    "duration": 1529,
    "start_time": "2023-04-02T07:22:25.808Z"
   },
   {
    "duration": 211,
    "start_time": "2023-04-02T07:22:27.339Z"
   },
   {
    "duration": 18,
    "start_time": "2023-04-02T07:22:27.554Z"
   },
   {
    "duration": 9,
    "start_time": "2023-04-02T07:22:27.574Z"
   },
   {
    "duration": 17,
    "start_time": "2023-04-02T07:22:27.586Z"
   },
   {
    "duration": 17,
    "start_time": "2023-04-02T07:22:27.605Z"
   },
   {
    "duration": 12,
    "start_time": "2023-04-02T07:22:27.624Z"
   },
   {
    "duration": 39,
    "start_time": "2023-04-02T07:22:27.638Z"
   },
   {
    "duration": 10,
    "start_time": "2023-04-02T07:22:27.679Z"
   },
   {
    "duration": 12,
    "start_time": "2023-04-02T07:22:27.691Z"
   },
   {
    "duration": 25,
    "start_time": "2023-04-02T07:22:27.705Z"
   },
   {
    "duration": 26,
    "start_time": "2023-04-02T07:22:27.731Z"
   },
   {
    "duration": 28,
    "start_time": "2023-04-02T07:22:27.759Z"
   },
   {
    "duration": 8,
    "start_time": "2023-04-02T07:22:27.790Z"
   },
   {
    "duration": 16,
    "start_time": "2023-04-02T07:22:27.799Z"
   },
   {
    "duration": 21,
    "start_time": "2023-04-02T07:22:27.817Z"
   },
   {
    "duration": 26,
    "start_time": "2023-04-02T07:22:27.840Z"
   },
   {
    "duration": 33,
    "start_time": "2023-04-02T07:22:27.868Z"
   },
   {
    "duration": 3,
    "start_time": "2023-04-02T07:22:27.903Z"
   },
   {
    "duration": 775,
    "start_time": "2023-04-02T07:22:27.908Z"
   },
   {
    "duration": 65,
    "start_time": "2023-04-02T07:22:28.685Z"
   },
   {
    "duration": 121,
    "start_time": "2023-04-02T07:22:28.752Z"
   },
   {
    "duration": 867,
    "start_time": "2023-04-02T07:22:28.875Z"
   },
   {
    "duration": 8,
    "start_time": "2023-04-02T07:22:29.744Z"
   },
   {
    "duration": 11349,
    "start_time": "2023-04-02T07:22:29.755Z"
   },
   {
    "duration": 22,
    "start_time": "2023-04-02T07:22:41.106Z"
   },
   {
    "duration": 9,
    "start_time": "2023-04-02T07:22:41.146Z"
   },
   {
    "duration": 1490,
    "start_time": "2023-04-02T07:23:42.563Z"
   },
   {
    "duration": 55,
    "start_time": "2023-04-02T07:23:44.056Z"
   },
   {
    "duration": 20,
    "start_time": "2023-04-02T07:23:44.113Z"
   },
   {
    "duration": 19,
    "start_time": "2023-04-02T07:23:44.135Z"
   },
   {
    "duration": 8,
    "start_time": "2023-04-02T07:23:44.158Z"
   },
   {
    "duration": 17,
    "start_time": "2023-04-02T07:23:44.168Z"
   },
   {
    "duration": 12,
    "start_time": "2023-04-02T07:23:44.187Z"
   },
   {
    "duration": 27,
    "start_time": "2023-04-02T07:23:44.201Z"
   },
   {
    "duration": 15,
    "start_time": "2023-04-02T07:23:44.230Z"
   },
   {
    "duration": 8,
    "start_time": "2023-04-02T07:23:44.251Z"
   },
   {
    "duration": 25,
    "start_time": "2023-04-02T07:23:44.260Z"
   },
   {
    "duration": 5,
    "start_time": "2023-04-02T07:23:44.287Z"
   },
   {
    "duration": 23,
    "start_time": "2023-04-02T07:23:44.293Z"
   },
   {
    "duration": 12,
    "start_time": "2023-04-02T07:23:44.320Z"
   },
   {
    "duration": 16,
    "start_time": "2023-04-02T07:23:44.334Z"
   },
   {
    "duration": 53,
    "start_time": "2023-04-02T07:23:44.356Z"
   },
   {
    "duration": 21,
    "start_time": "2023-04-02T07:23:44.411Z"
   },
   {
    "duration": 26,
    "start_time": "2023-04-02T07:23:44.434Z"
   },
   {
    "duration": 5,
    "start_time": "2023-04-02T07:23:44.462Z"
   },
   {
    "duration": 893,
    "start_time": "2023-04-02T07:23:44.468Z"
   },
   {
    "duration": 12,
    "start_time": "2023-04-02T07:23:45.448Z"
   },
   {
    "duration": 19,
    "start_time": "2023-04-02T07:23:45.462Z"
   },
   {
    "duration": 885,
    "start_time": "2023-04-02T07:23:45.483Z"
   },
   {
    "duration": 11,
    "start_time": "2023-04-02T07:23:46.442Z"
   },
   {
    "duration": 12503,
    "start_time": "2023-04-02T07:23:46.455Z"
   },
   {
    "duration": 20,
    "start_time": "2023-04-02T07:23:58.960Z"
   },
   {
    "duration": 7,
    "start_time": "2023-04-02T07:23:58.982Z"
   },
   {
    "duration": 80900,
    "start_time": "2023-04-02T07:23:58.990Z"
   },
   {
    "duration": 278,
    "start_time": "2023-04-02T07:25:19.892Z"
   },
   {
    "duration": 75,
    "start_time": "2023-04-02T07:25:20.172Z"
   },
   {
    "duration": 105,
    "start_time": "2023-04-02T07:25:20.249Z"
   },
   {
    "duration": 320,
    "start_time": "2023-04-02T07:25:20.361Z"
   },
   {
    "duration": 12086,
    "start_time": "2023-04-02T07:25:20.683Z"
   },
   {
    "duration": 5,
    "start_time": "2023-04-02T07:25:32.771Z"
   },
   {
    "duration": 11,
    "start_time": "2023-04-02T07:25:32.778Z"
   },
   {
    "duration": 30,
    "start_time": "2023-04-02T07:25:32.791Z"
   },
   {
    "duration": 79451,
    "start_time": "2023-04-02T07:25:32.823Z"
   },
   {
    "duration": 10824,
    "start_time": "2023-04-02T07:26:52.276Z"
   },
   {
    "duration": 157807,
    "start_time": "2023-04-02T07:27:03.102Z"
   },
   {
    "duration": 65,
    "start_time": "2023-04-02T07:29:40.911Z"
   },
   {
    "duration": 170,
    "start_time": "2023-04-02T07:29:40.980Z"
   },
   {
    "duration": 177,
    "start_time": "2023-04-02T07:29:41.156Z"
   },
   {
    "duration": 202,
    "start_time": "2023-04-02T07:29:41.344Z"
   }
  ],
  "kernelspec": {
   "display_name": "Python 3 (ipykernel)",
   "language": "python",
   "name": "python3"
  },
  "language_info": {
   "codemirror_mode": {
    "name": "ipython",
    "version": 3
   },
   "file_extension": ".py",
   "mimetype": "text/x-python",
   "name": "python",
   "nbconvert_exporter": "python",
   "pygments_lexer": "ipython3",
   "version": "3.9.5"
  },
  "toc": {
   "base_numbering": 1,
   "nav_menu": {},
   "number_sections": true,
   "sideBar": true,
   "skip_h1_title": true,
   "title_cell": "Содержание",
   "title_sidebar": "Contents",
   "toc_cell": true,
   "toc_position": {
    "height": "calc(100% - 180px)",
    "left": "10px",
    "top": "150px",
    "width": "366.188px"
   },
   "toc_section_display": true,
   "toc_window_display": true
  }
 },
 "nbformat": 4,
 "nbformat_minor": 2
}
